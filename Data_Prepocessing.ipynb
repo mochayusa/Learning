{
  "nbformat": 4,
  "nbformat_minor": 0,
  "metadata": {
    "colab": {
      "provenance": [],
      "authorship_tag": "ABX9TyPFiSx6NEuBIIQ/KTHI24n6",
      "include_colab_link": true
    },
    "kernelspec": {
      "name": "python3",
      "display_name": "Python 3"
    },
    "language_info": {
      "name": "python"
    }
  },
  "cells": [
    {
      "cell_type": "markdown",
      "metadata": {
        "id": "view-in-github",
        "colab_type": "text"
      },
      "source": [
        "<a href=\"https://colab.research.google.com/github/mochayusa/Learning/blob/main/Data_Prepocessing.ipynb\" target=\"_parent\"><img src=\"https://colab.research.google.com/assets/colab-badge.svg\" alt=\"Open In Colab\"/></a>"
      ]
    },
    {
      "cell_type": "markdown",
      "source": [
        "# Data Preprocessing"
      ],
      "metadata": {
        "id": "uXhUCp8jKa5v"
      }
    },
    {
      "cell_type": "markdown",
      "source": [
        "So far, we have been working with synthetic data that arrived in ready-made tensors. However, to apply deep learning in the wild we must extract messy data stored in arbitrary formats, and preprocess it to suit our needs. Fortunately, the pandas library can do much of the heavy lifting. This section, while no substitute for a proper pandas tutorial, will give you a crash course on some of the most common routines."
      ],
      "metadata": {
        "id": "k0B-9fWTKh9u"
      }
    },
    {
      "cell_type": "markdown",
      "source": [
        "# Reading the Dataset"
      ],
      "metadata": {
        "id": "kRV5p99JKoNq"
      }
    },
    {
      "cell_type": "markdown",
      "source": [
        "Comma-separated values (CSV) files are ubiquitous for the storing of tabular (spreadsheet-like) data. In them, each line corresponds to one record and consists of several (comma-separated) fields, e.g., “Albert Einstein,March 14 1879,Ulm,Federal polytechnic school,field of gravitational physics”. To demonstrate how to load CSV files with pandas, we create a CSV file below ../data/house_tiny.csv. This file represents a dataset of homes, where each row corresponds to a distinct home and the columns correspond to the number of rooms (NumRooms), the roof type (RoofType), and the price (Price)."
      ],
      "metadata": {
        "id": "AyoJbG0EKqqH"
      }
    },
    {
      "cell_type": "code",
      "execution_count": 1,
      "metadata": {
        "id": "bwwXy12YKX9j"
      },
      "outputs": [],
      "source": [
        "import os\n",
        "\n",
        "os.makedirs(os.path.join('..', 'data'), exist_ok=True)\n",
        "data_file = os.path.join('..', 'data', 'house_tiny.csv')\n",
        "with open(data_file, 'w') as f:\n",
        "    f.write('''NumRooms,RoofType,Price\n",
        "NA,NA,127500\n",
        "2,NA,106000\n",
        "4,Slate,178100\n",
        "NA,NA,140000''')"
      ]
    },
    {
      "cell_type": "code",
      "source": [
        "data_file"
      ],
      "metadata": {
        "colab": {
          "base_uri": "https://localhost:8080/",
          "height": 35
        },
        "id": "fLy4wJ81K15m",
        "outputId": "c7f01bdd-2af9-4e28-ec4b-6a1fbfd2cef1"
      },
      "execution_count": 2,
      "outputs": [
        {
          "output_type": "execute_result",
          "data": {
            "text/plain": [
              "'../data/house_tiny.csv'"
            ],
            "application/vnd.google.colaboratory.intrinsic+json": {
              "type": "string"
            }
          },
          "metadata": {},
          "execution_count": 2
        }
      ]
    },
    {
      "cell_type": "markdown",
      "source": [
        "import pandas and load the dataset with read_csv."
      ],
      "metadata": {
        "id": "X5IRWrYNK7o2"
      }
    },
    {
      "cell_type": "code",
      "source": [
        "import pandas as pd\n",
        "\n",
        "data = pd.read_csv(data_file)\n",
        "print(data)"
      ],
      "metadata": {
        "colab": {
          "base_uri": "https://localhost:8080/"
        },
        "id": "EdacQPIJK6y8",
        "outputId": "183bb1cb-9a45-48cf-d550-956ce369b977"
      },
      "execution_count": 3,
      "outputs": [
        {
          "output_type": "stream",
          "name": "stdout",
          "text": [
            "   NumRooms RoofType   Price\n",
            "0       NaN      NaN  127500\n",
            "1       2.0      NaN  106000\n",
            "2       4.0    Slate  178100\n",
            "3       NaN      NaN  140000\n"
          ]
        }
      ]
    },
    {
      "cell_type": "markdown",
      "source": [
        "# Data Preparation"
      ],
      "metadata": {
        "id": "mkPuru-fLHxz"
      }
    },
    {
      "cell_type": "markdown",
      "source": [
        "In supervised learning, we train models to predict a designated target value, given some set of input values. Our first step in processing the dataset is to separate out columns corresponding to input versus target values. We can select columns either by name or via integer-location based indexing (iloc).\n",
        "\n",
        "You might have noticed that pandas replaced all CSV entries with value NA with a special NaN (not a number) value. This can also happen whenever an entry is empty, e.g., “3,,,270000”. These are called missing values and they are the “bed bugs” of data science, a persistent menace that you will confront throughout your career. Depending upon the context, missing values might be handled either via imputation or deletion. Imputation replaces missing values with estimates of their values while deletion simply discards either those rows or those columns that contain missing values.\n",
        "\n",
        "Here are some common imputation heuristics. For categorical input fields, we can treat NaN as a category. Since the RoofType column takes values Slate and NaN, pandas can convert this column into two columns RoofType_Slate and RoofType_nan. A row whose roof type is Slate will set values of RoofType_Slate and RoofType_nan to 1 and 0, respectively. The converse holds for a row with a missing RoofType value."
      ],
      "metadata": {
        "id": "H0Q5kEu1LJUE"
      }
    },
    {
      "cell_type": "code",
      "source": [
        "inputs, targets = data.iloc[:, 0:2], data.iloc[:, 2]\n",
        "inputs = pd.get_dummies(inputs, dummy_na=True)\n",
        "print(inputs)"
      ],
      "metadata": {
        "colab": {
          "base_uri": "https://localhost:8080/"
        },
        "id": "NKI9nhJjLQDE",
        "outputId": "a2bf21f6-9122-4f65-fd0f-795fed3b083e"
      },
      "execution_count": 4,
      "outputs": [
        {
          "output_type": "stream",
          "name": "stdout",
          "text": [
            "   NumRooms  RoofType_Slate  RoofType_nan\n",
            "0       NaN               0             1\n",
            "1       2.0               0             1\n",
            "2       4.0               1             0\n",
            "3       NaN               0             1\n"
          ]
        }
      ]
    },
    {
      "cell_type": "markdown",
      "source": [
        "For missing numerical values, one common heuristic is to replace the NaN entries with the mean value of the corresponding column."
      ],
      "metadata": {
        "id": "RDE4K7bILdBm"
      }
    },
    {
      "cell_type": "code",
      "source": [
        "inputs = inputs.fillna(inputs.mean())\n",
        "print(inputs)"
      ],
      "metadata": {
        "colab": {
          "base_uri": "https://localhost:8080/"
        },
        "id": "YFFQWHkTLd3o",
        "outputId": "2d441f19-e63a-4ffe-9af7-7a884ea945f3"
      },
      "execution_count": 5,
      "outputs": [
        {
          "output_type": "stream",
          "name": "stdout",
          "text": [
            "   NumRooms  RoofType_Slate  RoofType_nan\n",
            "0       3.0               0             1\n",
            "1       2.0               0             1\n",
            "2       4.0               1             0\n",
            "3       3.0               0             1\n"
          ]
        }
      ]
    },
    {
      "cell_type": "markdown",
      "source": [
        "# Conversion to the Tensor Format"
      ],
      "metadata": {
        "id": "11ji8eSOLjN_"
      }
    },
    {
      "cell_type": "markdown",
      "source": [
        "Now that all the entries in inputs and targets are numerical, we can load them into a tensor."
      ],
      "metadata": {
        "id": "lrYgooV1Lk99"
      }
    },
    {
      "cell_type": "code",
      "source": [
        "import torch\n",
        "\n",
        "X = torch.tensor(inputs.to_numpy(dtype=float))\n",
        "y = torch.tensor(targets.to_numpy(dtype=float))\n",
        "X, y"
      ],
      "metadata": {
        "colab": {
          "base_uri": "https://localhost:8080/"
        },
        "id": "v3Q7CFd7Ln4h",
        "outputId": "e69c7cf3-0612-45c9-9ed3-62e504be027c"
      },
      "execution_count": 6,
      "outputs": [
        {
          "output_type": "execute_result",
          "data": {
            "text/plain": [
              "(tensor([[3., 0., 1.],\n",
              "         [2., 0., 1.],\n",
              "         [4., 1., 0.],\n",
              "         [3., 0., 1.]], dtype=torch.float64),\n",
              " tensor([127500., 106000., 178100., 140000.], dtype=torch.float64))"
            ]
          },
          "metadata": {},
          "execution_count": 6
        }
      ]
    },
    {
      "cell_type": "markdown",
      "source": [
        "There are many materials should be explored"
      ],
      "metadata": {
        "id": "IR3QTqAoMKgR"
      }
    },
    {
      "cell_type": "code",
      "source": [
        "import pandas as pd\n",
        "import urllib\n",
        "\n",
        "# Get the URL of the Iris dataset\n",
        "url = \"https://archive.ics.uci.edu/ml/machine-learning-databases/iris/iris.data\"\n",
        "\n",
        "# Download the data file to your Google Colab notebook\n",
        "urllib.request.urlretrieve(url, \"iris.data\")\n",
        "\n",
        "# Read the data file into a Pandas DataFrame\n",
        "data = pd.read_csv(\"iris.data\")\n",
        "df = pd.DataFrame(data)\n",
        "column_names = [\"sepal length in cm\", \"sepal width in cm\", \"petal length in cm\", \"petal width in cm\", \"class\"]\n",
        "\n",
        "df.set_axis(column_names, axis=1)\n",
        "\n",
        "df\n"
      ],
      "metadata": {
        "colab": {
          "base_uri": "https://localhost:8080/",
          "height": 424
        },
        "id": "SgLwfwpmM1sr",
        "outputId": "012d208f-dbb3-4e6a-fdb5-309eb1d1ec21"
      },
      "execution_count": 22,
      "outputs": [
        {
          "output_type": "execute_result",
          "data": {
            "text/plain": [
              "     5.1  3.5  1.4  0.2     Iris-setosa\n",
              "0    4.9  3.0  1.4  0.2     Iris-setosa\n",
              "1    4.7  3.2  1.3  0.2     Iris-setosa\n",
              "2    4.6  3.1  1.5  0.2     Iris-setosa\n",
              "3    5.0  3.6  1.4  0.2     Iris-setosa\n",
              "4    5.4  3.9  1.7  0.4     Iris-setosa\n",
              "..   ...  ...  ...  ...             ...\n",
              "144  6.7  3.0  5.2  2.3  Iris-virginica\n",
              "145  6.3  2.5  5.0  1.9  Iris-virginica\n",
              "146  6.5  3.0  5.2  2.0  Iris-virginica\n",
              "147  6.2  3.4  5.4  2.3  Iris-virginica\n",
              "148  5.9  3.0  5.1  1.8  Iris-virginica\n",
              "\n",
              "[149 rows x 5 columns]"
            ],
            "text/html": [
              "\n",
              "  <div id=\"df-f42b2d4a-c0ff-47de-b3fb-88c997070679\" class=\"colab-df-container\">\n",
              "    <div>\n",
              "<style scoped>\n",
              "    .dataframe tbody tr th:only-of-type {\n",
              "        vertical-align: middle;\n",
              "    }\n",
              "\n",
              "    .dataframe tbody tr th {\n",
              "        vertical-align: top;\n",
              "    }\n",
              "\n",
              "    .dataframe thead th {\n",
              "        text-align: right;\n",
              "    }\n",
              "</style>\n",
              "<table border=\"1\" class=\"dataframe\">\n",
              "  <thead>\n",
              "    <tr style=\"text-align: right;\">\n",
              "      <th></th>\n",
              "      <th>5.1</th>\n",
              "      <th>3.5</th>\n",
              "      <th>1.4</th>\n",
              "      <th>0.2</th>\n",
              "      <th>Iris-setosa</th>\n",
              "    </tr>\n",
              "  </thead>\n",
              "  <tbody>\n",
              "    <tr>\n",
              "      <th>0</th>\n",
              "      <td>4.9</td>\n",
              "      <td>3.0</td>\n",
              "      <td>1.4</td>\n",
              "      <td>0.2</td>\n",
              "      <td>Iris-setosa</td>\n",
              "    </tr>\n",
              "    <tr>\n",
              "      <th>1</th>\n",
              "      <td>4.7</td>\n",
              "      <td>3.2</td>\n",
              "      <td>1.3</td>\n",
              "      <td>0.2</td>\n",
              "      <td>Iris-setosa</td>\n",
              "    </tr>\n",
              "    <tr>\n",
              "      <th>2</th>\n",
              "      <td>4.6</td>\n",
              "      <td>3.1</td>\n",
              "      <td>1.5</td>\n",
              "      <td>0.2</td>\n",
              "      <td>Iris-setosa</td>\n",
              "    </tr>\n",
              "    <tr>\n",
              "      <th>3</th>\n",
              "      <td>5.0</td>\n",
              "      <td>3.6</td>\n",
              "      <td>1.4</td>\n",
              "      <td>0.2</td>\n",
              "      <td>Iris-setosa</td>\n",
              "    </tr>\n",
              "    <tr>\n",
              "      <th>4</th>\n",
              "      <td>5.4</td>\n",
              "      <td>3.9</td>\n",
              "      <td>1.7</td>\n",
              "      <td>0.4</td>\n",
              "      <td>Iris-setosa</td>\n",
              "    </tr>\n",
              "    <tr>\n",
              "      <th>...</th>\n",
              "      <td>...</td>\n",
              "      <td>...</td>\n",
              "      <td>...</td>\n",
              "      <td>...</td>\n",
              "      <td>...</td>\n",
              "    </tr>\n",
              "    <tr>\n",
              "      <th>144</th>\n",
              "      <td>6.7</td>\n",
              "      <td>3.0</td>\n",
              "      <td>5.2</td>\n",
              "      <td>2.3</td>\n",
              "      <td>Iris-virginica</td>\n",
              "    </tr>\n",
              "    <tr>\n",
              "      <th>145</th>\n",
              "      <td>6.3</td>\n",
              "      <td>2.5</td>\n",
              "      <td>5.0</td>\n",
              "      <td>1.9</td>\n",
              "      <td>Iris-virginica</td>\n",
              "    </tr>\n",
              "    <tr>\n",
              "      <th>146</th>\n",
              "      <td>6.5</td>\n",
              "      <td>3.0</td>\n",
              "      <td>5.2</td>\n",
              "      <td>2.0</td>\n",
              "      <td>Iris-virginica</td>\n",
              "    </tr>\n",
              "    <tr>\n",
              "      <th>147</th>\n",
              "      <td>6.2</td>\n",
              "      <td>3.4</td>\n",
              "      <td>5.4</td>\n",
              "      <td>2.3</td>\n",
              "      <td>Iris-virginica</td>\n",
              "    </tr>\n",
              "    <tr>\n",
              "      <th>148</th>\n",
              "      <td>5.9</td>\n",
              "      <td>3.0</td>\n",
              "      <td>5.1</td>\n",
              "      <td>1.8</td>\n",
              "      <td>Iris-virginica</td>\n",
              "    </tr>\n",
              "  </tbody>\n",
              "</table>\n",
              "<p>149 rows × 5 columns</p>\n",
              "</div>\n",
              "    <div class=\"colab-df-buttons\">\n",
              "\n",
              "  <div class=\"colab-df-container\">\n",
              "    <button class=\"colab-df-convert\" onclick=\"convertToInteractive('df-f42b2d4a-c0ff-47de-b3fb-88c997070679')\"\n",
              "            title=\"Convert this dataframe to an interactive table.\"\n",
              "            style=\"display:none;\">\n",
              "\n",
              "  <svg xmlns=\"http://www.w3.org/2000/svg\" height=\"24px\" viewBox=\"0 -960 960 960\">\n",
              "    <path d=\"M120-120v-720h720v720H120Zm60-500h600v-160H180v160Zm220 220h160v-160H400v160Zm0 220h160v-160H400v160ZM180-400h160v-160H180v160Zm440 0h160v-160H620v160ZM180-180h160v-160H180v160Zm440 0h160v-160H620v160Z\"/>\n",
              "  </svg>\n",
              "    </button>\n",
              "\n",
              "  <style>\n",
              "    .colab-df-container {\n",
              "      display:flex;\n",
              "      gap: 12px;\n",
              "    }\n",
              "\n",
              "    .colab-df-convert {\n",
              "      background-color: #E8F0FE;\n",
              "      border: none;\n",
              "      border-radius: 50%;\n",
              "      cursor: pointer;\n",
              "      display: none;\n",
              "      fill: #1967D2;\n",
              "      height: 32px;\n",
              "      padding: 0 0 0 0;\n",
              "      width: 32px;\n",
              "    }\n",
              "\n",
              "    .colab-df-convert:hover {\n",
              "      background-color: #E2EBFA;\n",
              "      box-shadow: 0px 1px 2px rgba(60, 64, 67, 0.3), 0px 1px 3px 1px rgba(60, 64, 67, 0.15);\n",
              "      fill: #174EA6;\n",
              "    }\n",
              "\n",
              "    .colab-df-buttons div {\n",
              "      margin-bottom: 4px;\n",
              "    }\n",
              "\n",
              "    [theme=dark] .colab-df-convert {\n",
              "      background-color: #3B4455;\n",
              "      fill: #D2E3FC;\n",
              "    }\n",
              "\n",
              "    [theme=dark] .colab-df-convert:hover {\n",
              "      background-color: #434B5C;\n",
              "      box-shadow: 0px 1px 3px 1px rgba(0, 0, 0, 0.15);\n",
              "      filter: drop-shadow(0px 1px 2px rgba(0, 0, 0, 0.3));\n",
              "      fill: #FFFFFF;\n",
              "    }\n",
              "  </style>\n",
              "\n",
              "    <script>\n",
              "      const buttonEl =\n",
              "        document.querySelector('#df-f42b2d4a-c0ff-47de-b3fb-88c997070679 button.colab-df-convert');\n",
              "      buttonEl.style.display =\n",
              "        google.colab.kernel.accessAllowed ? 'block' : 'none';\n",
              "\n",
              "      async function convertToInteractive(key) {\n",
              "        const element = document.querySelector('#df-f42b2d4a-c0ff-47de-b3fb-88c997070679');\n",
              "        const dataTable =\n",
              "          await google.colab.kernel.invokeFunction('convertToInteractive',\n",
              "                                                    [key], {});\n",
              "        if (!dataTable) return;\n",
              "\n",
              "        const docLinkHtml = 'Like what you see? Visit the ' +\n",
              "          '<a target=\"_blank\" href=https://colab.research.google.com/notebooks/data_table.ipynb>data table notebook</a>'\n",
              "          + ' to learn more about interactive tables.';\n",
              "        element.innerHTML = '';\n",
              "        dataTable['output_type'] = 'display_data';\n",
              "        await google.colab.output.renderOutput(dataTable, element);\n",
              "        const docLink = document.createElement('div');\n",
              "        docLink.innerHTML = docLinkHtml;\n",
              "        element.appendChild(docLink);\n",
              "      }\n",
              "    </script>\n",
              "  </div>\n",
              "\n",
              "\n",
              "<div id=\"df-8f23d96d-8071-4948-953e-afa991818607\">\n",
              "  <button class=\"colab-df-quickchart\" onclick=\"quickchart('df-8f23d96d-8071-4948-953e-afa991818607')\"\n",
              "            title=\"Suggest charts.\"\n",
              "            style=\"display:none;\">\n",
              "\n",
              "<svg xmlns=\"http://www.w3.org/2000/svg\" height=\"24px\"viewBox=\"0 0 24 24\"\n",
              "     width=\"24px\">\n",
              "    <g>\n",
              "        <path d=\"M19 3H5c-1.1 0-2 .9-2 2v14c0 1.1.9 2 2 2h14c1.1 0 2-.9 2-2V5c0-1.1-.9-2-2-2zM9 17H7v-7h2v7zm4 0h-2V7h2v10zm4 0h-2v-4h2v4z\"/>\n",
              "    </g>\n",
              "</svg>\n",
              "  </button>\n",
              "\n",
              "<style>\n",
              "  .colab-df-quickchart {\n",
              "      --bg-color: #E8F0FE;\n",
              "      --fill-color: #1967D2;\n",
              "      --hover-bg-color: #E2EBFA;\n",
              "      --hover-fill-color: #174EA6;\n",
              "      --disabled-fill-color: #AAA;\n",
              "      --disabled-bg-color: #DDD;\n",
              "  }\n",
              "\n",
              "  [theme=dark] .colab-df-quickchart {\n",
              "      --bg-color: #3B4455;\n",
              "      --fill-color: #D2E3FC;\n",
              "      --hover-bg-color: #434B5C;\n",
              "      --hover-fill-color: #FFFFFF;\n",
              "      --disabled-bg-color: #3B4455;\n",
              "      --disabled-fill-color: #666;\n",
              "  }\n",
              "\n",
              "  .colab-df-quickchart {\n",
              "    background-color: var(--bg-color);\n",
              "    border: none;\n",
              "    border-radius: 50%;\n",
              "    cursor: pointer;\n",
              "    display: none;\n",
              "    fill: var(--fill-color);\n",
              "    height: 32px;\n",
              "    padding: 0;\n",
              "    width: 32px;\n",
              "  }\n",
              "\n",
              "  .colab-df-quickchart:hover {\n",
              "    background-color: var(--hover-bg-color);\n",
              "    box-shadow: 0 1px 2px rgba(60, 64, 67, 0.3), 0 1px 3px 1px rgba(60, 64, 67, 0.15);\n",
              "    fill: var(--button-hover-fill-color);\n",
              "  }\n",
              "\n",
              "  .colab-df-quickchart-complete:disabled,\n",
              "  .colab-df-quickchart-complete:disabled:hover {\n",
              "    background-color: var(--disabled-bg-color);\n",
              "    fill: var(--disabled-fill-color);\n",
              "    box-shadow: none;\n",
              "  }\n",
              "\n",
              "  .colab-df-spinner {\n",
              "    border: 2px solid var(--fill-color);\n",
              "    border-color: transparent;\n",
              "    border-bottom-color: var(--fill-color);\n",
              "    animation:\n",
              "      spin 1s steps(1) infinite;\n",
              "  }\n",
              "\n",
              "  @keyframes spin {\n",
              "    0% {\n",
              "      border-color: transparent;\n",
              "      border-bottom-color: var(--fill-color);\n",
              "      border-left-color: var(--fill-color);\n",
              "    }\n",
              "    20% {\n",
              "      border-color: transparent;\n",
              "      border-left-color: var(--fill-color);\n",
              "      border-top-color: var(--fill-color);\n",
              "    }\n",
              "    30% {\n",
              "      border-color: transparent;\n",
              "      border-left-color: var(--fill-color);\n",
              "      border-top-color: var(--fill-color);\n",
              "      border-right-color: var(--fill-color);\n",
              "    }\n",
              "    40% {\n",
              "      border-color: transparent;\n",
              "      border-right-color: var(--fill-color);\n",
              "      border-top-color: var(--fill-color);\n",
              "    }\n",
              "    60% {\n",
              "      border-color: transparent;\n",
              "      border-right-color: var(--fill-color);\n",
              "    }\n",
              "    80% {\n",
              "      border-color: transparent;\n",
              "      border-right-color: var(--fill-color);\n",
              "      border-bottom-color: var(--fill-color);\n",
              "    }\n",
              "    90% {\n",
              "      border-color: transparent;\n",
              "      border-bottom-color: var(--fill-color);\n",
              "    }\n",
              "  }\n",
              "</style>\n",
              "\n",
              "  <script>\n",
              "    async function quickchart(key) {\n",
              "      const quickchartButtonEl =\n",
              "        document.querySelector('#' + key + ' button');\n",
              "      quickchartButtonEl.disabled = true;  // To prevent multiple clicks.\n",
              "      quickchartButtonEl.classList.add('colab-df-spinner');\n",
              "      try {\n",
              "        const charts = await google.colab.kernel.invokeFunction(\n",
              "            'suggestCharts', [key], {});\n",
              "      } catch (error) {\n",
              "        console.error('Error during call to suggestCharts:', error);\n",
              "      }\n",
              "      quickchartButtonEl.classList.remove('colab-df-spinner');\n",
              "      quickchartButtonEl.classList.add('colab-df-quickchart-complete');\n",
              "    }\n",
              "    (() => {\n",
              "      let quickchartButtonEl =\n",
              "        document.querySelector('#df-8f23d96d-8071-4948-953e-afa991818607 button');\n",
              "      quickchartButtonEl.style.display =\n",
              "        google.colab.kernel.accessAllowed ? 'block' : 'none';\n",
              "    })();\n",
              "  </script>\n",
              "</div>\n",
              "    </div>\n",
              "  </div>\n"
            ]
          },
          "metadata": {},
          "execution_count": 22
        }
      ]
    },
    {
      "cell_type": "code",
      "source": [
        "inputs, targets = df.iloc[:, 0:3], df.iloc[:, 4]"
      ],
      "metadata": {
        "id": "LcJ8NJ-qM_Bv"
      },
      "execution_count": 9,
      "outputs": []
    },
    {
      "cell_type": "code",
      "source": [
        "inputs = pd.get_dummies(inputs, dummy_na=True)\n",
        "print(inputs)"
      ],
      "metadata": {
        "colab": {
          "base_uri": "https://localhost:8080/"
        },
        "id": "k_zKCh7RNGfb",
        "outputId": "ba049eb9-8634-4a64-d0fe-ad839be380fe"
      },
      "execution_count": 10,
      "outputs": [
        {
          "output_type": "stream",
          "name": "stdout",
          "text": [
            "     5.1  3.5  1.4\n",
            "0    4.9  3.0  1.4\n",
            "1    4.7  3.2  1.3\n",
            "2    4.6  3.1  1.5\n",
            "3    5.0  3.6  1.4\n",
            "4    5.4  3.9  1.7\n",
            "..   ...  ...  ...\n",
            "144  6.7  3.0  5.2\n",
            "145  6.3  2.5  5.0\n",
            "146  6.5  3.0  5.2\n",
            "147  6.2  3.4  5.4\n",
            "148  5.9  3.0  5.1\n",
            "\n",
            "[149 rows x 3 columns]\n"
          ]
        }
      ]
    },
    {
      "cell_type": "code",
      "source": [
        "print(targets)"
      ],
      "metadata": {
        "colab": {
          "base_uri": "https://localhost:8080/"
        },
        "id": "-CiXSUvtN0MZ",
        "outputId": "e147dfa6-d498-4c03-a463-eca1a4a577d4"
      },
      "execution_count": 11,
      "outputs": [
        {
          "output_type": "stream",
          "name": "stdout",
          "text": [
            "0         Iris-setosa\n",
            "1         Iris-setosa\n",
            "2         Iris-setosa\n",
            "3         Iris-setosa\n",
            "4         Iris-setosa\n",
            "            ...      \n",
            "144    Iris-virginica\n",
            "145    Iris-virginica\n",
            "146    Iris-virginica\n",
            "147    Iris-virginica\n",
            "148    Iris-virginica\n",
            "Name: Iris-setosa, Length: 149, dtype: object\n"
          ]
        }
      ]
    },
    {
      "cell_type": "code",
      "source": [
        "targets.unique()"
      ],
      "metadata": {
        "colab": {
          "base_uri": "https://localhost:8080/"
        },
        "id": "b2Bvz2jVOFzr",
        "outputId": "7d5e1f98-9c7c-4a43-c686-370e7f2175d3"
      },
      "execution_count": 12,
      "outputs": [
        {
          "output_type": "execute_result",
          "data": {
            "text/plain": [
              "array(['Iris-setosa', 'Iris-versicolor', 'Iris-virginica'], dtype=object)"
            ]
          },
          "metadata": {},
          "execution_count": 12
        }
      ]
    },
    {
      "cell_type": "code",
      "source": [
        "# Ganti data bertipe string menjadi float dalam kolom \"kolom1\"\n",
        "for i in range(len(targets)):\n",
        "    if targets[i] == \"Iris-setosa\":\n",
        "        targets[i] = 0.0\n",
        "    elif targets[i] == \"Iris-versicolor\":\n",
        "        targets[i] = 1.0\n",
        "    elif targets[i] == \"Iris-virginica\":\n",
        "        targets[i] = 2.0\n",
        "\n",
        "\n",
        "# Cetak DataFrame\n",
        "print(df.iloc[:, 4])"
      ],
      "metadata": {
        "colab": {
          "base_uri": "https://localhost:8080/"
        },
        "id": "qAgbORlnOK8B",
        "outputId": "83162e27-1684-4d57-c9ba-2b01d5fc8bf9"
      },
      "execution_count": 15,
      "outputs": [
        {
          "output_type": "stream",
          "name": "stdout",
          "text": [
            "0      0.0\n",
            "1      0.0\n",
            "2      0.0\n",
            "3      0.0\n",
            "4      0.0\n",
            "      ... \n",
            "144    2.0\n",
            "145    2.0\n",
            "146    2.0\n",
            "147    2.0\n",
            "148    2.0\n",
            "Name: Iris-setosa, Length: 149, dtype: object\n"
          ]
        },
        {
          "output_type": "stream",
          "name": "stderr",
          "text": [
            "<ipython-input-15-9989d4300de2>:8: SettingWithCopyWarning: \n",
            "A value is trying to be set on a copy of a slice from a DataFrame\n",
            "\n",
            "See the caveats in the documentation: https://pandas.pydata.org/pandas-docs/stable/user_guide/indexing.html#returning-a-view-versus-a-copy\n",
            "  targets[i] = 2.0\n"
          ]
        }
      ]
    },
    {
      "cell_type": "code",
      "source": [
        "print(df)"
      ],
      "metadata": {
        "colab": {
          "base_uri": "https://localhost:8080/"
        },
        "id": "E774NIHXP-E7",
        "outputId": "040d72de-5b75-473a-ec3d-ea399dc592ae"
      },
      "execution_count": 17,
      "outputs": [
        {
          "output_type": "stream",
          "name": "stdout",
          "text": [
            "     5.1  3.5  1.4  0.2 Iris-setosa\n",
            "0    4.9  3.0  1.4  0.2         0.0\n",
            "1    4.7  3.2  1.3  0.2         0.0\n",
            "2    4.6  3.1  1.5  0.2         0.0\n",
            "3    5.0  3.6  1.4  0.2         0.0\n",
            "4    5.4  3.9  1.7  0.4         0.0\n",
            "..   ...  ...  ...  ...         ...\n",
            "144  6.7  3.0  5.2  2.3         2.0\n",
            "145  6.3  2.5  5.0  1.9         2.0\n",
            "146  6.5  3.0  5.2  2.0         2.0\n",
            "147  6.2  3.4  5.4  2.3         2.0\n",
            "148  5.9  3.0  5.1  1.8         2.0\n",
            "\n",
            "[149 rows x 5 columns]\n"
          ]
        }
      ]
    },
    {
      "cell_type": "code",
      "source": [
        "Inputs = torch.tensor(inputs.to_numpy(dtype=float))\n",
        "Label = torch.tensor(targets.to_numpy(dtype=float))\n",
        "Inputs, Label"
      ],
      "metadata": {
        "colab": {
          "base_uri": "https://localhost:8080/"
        },
        "id": "pKai8-iPQB9c",
        "outputId": "30aa3301-26b3-45ac-aee3-966b8c76e783"
      },
      "execution_count": 18,
      "outputs": [
        {
          "output_type": "execute_result",
          "data": {
            "text/plain": [
              "(tensor([[4.9000, 3.0000, 1.4000],\n",
              "         [4.7000, 3.2000, 1.3000],\n",
              "         [4.6000, 3.1000, 1.5000],\n",
              "         [5.0000, 3.6000, 1.4000],\n",
              "         [5.4000, 3.9000, 1.7000],\n",
              "         [4.6000, 3.4000, 1.4000],\n",
              "         [5.0000, 3.4000, 1.5000],\n",
              "         [4.4000, 2.9000, 1.4000],\n",
              "         [4.9000, 3.1000, 1.5000],\n",
              "         [5.4000, 3.7000, 1.5000],\n",
              "         [4.8000, 3.4000, 1.6000],\n",
              "         [4.8000, 3.0000, 1.4000],\n",
              "         [4.3000, 3.0000, 1.1000],\n",
              "         [5.8000, 4.0000, 1.2000],\n",
              "         [5.7000, 4.4000, 1.5000],\n",
              "         [5.4000, 3.9000, 1.3000],\n",
              "         [5.1000, 3.5000, 1.4000],\n",
              "         [5.7000, 3.8000, 1.7000],\n",
              "         [5.1000, 3.8000, 1.5000],\n",
              "         [5.4000, 3.4000, 1.7000],\n",
              "         [5.1000, 3.7000, 1.5000],\n",
              "         [4.6000, 3.6000, 1.0000],\n",
              "         [5.1000, 3.3000, 1.7000],\n",
              "         [4.8000, 3.4000, 1.9000],\n",
              "         [5.0000, 3.0000, 1.6000],\n",
              "         [5.0000, 3.4000, 1.6000],\n",
              "         [5.2000, 3.5000, 1.5000],\n",
              "         [5.2000, 3.4000, 1.4000],\n",
              "         [4.7000, 3.2000, 1.6000],\n",
              "         [4.8000, 3.1000, 1.6000],\n",
              "         [5.4000, 3.4000, 1.5000],\n",
              "         [5.2000, 4.1000, 1.5000],\n",
              "         [5.5000, 4.2000, 1.4000],\n",
              "         [4.9000, 3.1000, 1.5000],\n",
              "         [5.0000, 3.2000, 1.2000],\n",
              "         [5.5000, 3.5000, 1.3000],\n",
              "         [4.9000, 3.1000, 1.5000],\n",
              "         [4.4000, 3.0000, 1.3000],\n",
              "         [5.1000, 3.4000, 1.5000],\n",
              "         [5.0000, 3.5000, 1.3000],\n",
              "         [4.5000, 2.3000, 1.3000],\n",
              "         [4.4000, 3.2000, 1.3000],\n",
              "         [5.0000, 3.5000, 1.6000],\n",
              "         [5.1000, 3.8000, 1.9000],\n",
              "         [4.8000, 3.0000, 1.4000],\n",
              "         [5.1000, 3.8000, 1.6000],\n",
              "         [4.6000, 3.2000, 1.4000],\n",
              "         [5.3000, 3.7000, 1.5000],\n",
              "         [5.0000, 3.3000, 1.4000],\n",
              "         [7.0000, 3.2000, 4.7000],\n",
              "         [6.4000, 3.2000, 4.5000],\n",
              "         [6.9000, 3.1000, 4.9000],\n",
              "         [5.5000, 2.3000, 4.0000],\n",
              "         [6.5000, 2.8000, 4.6000],\n",
              "         [5.7000, 2.8000, 4.5000],\n",
              "         [6.3000, 3.3000, 4.7000],\n",
              "         [4.9000, 2.4000, 3.3000],\n",
              "         [6.6000, 2.9000, 4.6000],\n",
              "         [5.2000, 2.7000, 3.9000],\n",
              "         [5.0000, 2.0000, 3.5000],\n",
              "         [5.9000, 3.0000, 4.2000],\n",
              "         [6.0000, 2.2000, 4.0000],\n",
              "         [6.1000, 2.9000, 4.7000],\n",
              "         [5.6000, 2.9000, 3.6000],\n",
              "         [6.7000, 3.1000, 4.4000],\n",
              "         [5.6000, 3.0000, 4.5000],\n",
              "         [5.8000, 2.7000, 4.1000],\n",
              "         [6.2000, 2.2000, 4.5000],\n",
              "         [5.6000, 2.5000, 3.9000],\n",
              "         [5.9000, 3.2000, 4.8000],\n",
              "         [6.1000, 2.8000, 4.0000],\n",
              "         [6.3000, 2.5000, 4.9000],\n",
              "         [6.1000, 2.8000, 4.7000],\n",
              "         [6.4000, 2.9000, 4.3000],\n",
              "         [6.6000, 3.0000, 4.4000],\n",
              "         [6.8000, 2.8000, 4.8000],\n",
              "         [6.7000, 3.0000, 5.0000],\n",
              "         [6.0000, 2.9000, 4.5000],\n",
              "         [5.7000, 2.6000, 3.5000],\n",
              "         [5.5000, 2.4000, 3.8000],\n",
              "         [5.5000, 2.4000, 3.7000],\n",
              "         [5.8000, 2.7000, 3.9000],\n",
              "         [6.0000, 2.7000, 5.1000],\n",
              "         [5.4000, 3.0000, 4.5000],\n",
              "         [6.0000, 3.4000, 4.5000],\n",
              "         [6.7000, 3.1000, 4.7000],\n",
              "         [6.3000, 2.3000, 4.4000],\n",
              "         [5.6000, 3.0000, 4.1000],\n",
              "         [5.5000, 2.5000, 4.0000],\n",
              "         [5.5000, 2.6000, 4.4000],\n",
              "         [6.1000, 3.0000, 4.6000],\n",
              "         [5.8000, 2.6000, 4.0000],\n",
              "         [5.0000, 2.3000, 3.3000],\n",
              "         [5.6000, 2.7000, 4.2000],\n",
              "         [5.7000, 3.0000, 4.2000],\n",
              "         [5.7000, 2.9000, 4.2000],\n",
              "         [6.2000, 2.9000, 4.3000],\n",
              "         [5.1000, 2.5000, 3.0000],\n",
              "         [5.7000, 2.8000, 4.1000],\n",
              "         [6.3000, 3.3000, 6.0000],\n",
              "         [5.8000, 2.7000, 5.1000],\n",
              "         [7.1000, 3.0000, 5.9000],\n",
              "         [6.3000, 2.9000, 5.6000],\n",
              "         [6.5000, 3.0000, 5.8000],\n",
              "         [7.6000, 3.0000, 6.6000],\n",
              "         [4.9000, 2.5000, 4.5000],\n",
              "         [7.3000, 2.9000, 6.3000],\n",
              "         [6.7000, 2.5000, 5.8000],\n",
              "         [7.2000, 3.6000, 6.1000],\n",
              "         [6.5000, 3.2000, 5.1000],\n",
              "         [6.4000, 2.7000, 5.3000],\n",
              "         [6.8000, 3.0000, 5.5000],\n",
              "         [5.7000, 2.5000, 5.0000],\n",
              "         [5.8000, 2.8000, 5.1000],\n",
              "         [6.4000, 3.2000, 5.3000],\n",
              "         [6.5000, 3.0000, 5.5000],\n",
              "         [7.7000, 3.8000, 6.7000],\n",
              "         [7.7000, 2.6000, 6.9000],\n",
              "         [6.0000, 2.2000, 5.0000],\n",
              "         [6.9000, 3.2000, 5.7000],\n",
              "         [5.6000, 2.8000, 4.9000],\n",
              "         [7.7000, 2.8000, 6.7000],\n",
              "         [6.3000, 2.7000, 4.9000],\n",
              "         [6.7000, 3.3000, 5.7000],\n",
              "         [7.2000, 3.2000, 6.0000],\n",
              "         [6.2000, 2.8000, 4.8000],\n",
              "         [6.1000, 3.0000, 4.9000],\n",
              "         [6.4000, 2.8000, 5.6000],\n",
              "         [7.2000, 3.0000, 5.8000],\n",
              "         [7.4000, 2.8000, 6.1000],\n",
              "         [7.9000, 3.8000, 6.4000],\n",
              "         [6.4000, 2.8000, 5.6000],\n",
              "         [6.3000, 2.8000, 5.1000],\n",
              "         [6.1000, 2.6000, 5.6000],\n",
              "         [7.7000, 3.0000, 6.1000],\n",
              "         [6.3000, 3.4000, 5.6000],\n",
              "         [6.4000, 3.1000, 5.5000],\n",
              "         [6.0000, 3.0000, 4.8000],\n",
              "         [6.9000, 3.1000, 5.4000],\n",
              "         [6.7000, 3.1000, 5.6000],\n",
              "         [6.9000, 3.1000, 5.1000],\n",
              "         [5.8000, 2.7000, 5.1000],\n",
              "         [6.8000, 3.2000, 5.9000],\n",
              "         [6.7000, 3.3000, 5.7000],\n",
              "         [6.7000, 3.0000, 5.2000],\n",
              "         [6.3000, 2.5000, 5.0000],\n",
              "         [6.5000, 3.0000, 5.2000],\n",
              "         [6.2000, 3.4000, 5.4000],\n",
              "         [5.9000, 3.0000, 5.1000]], dtype=torch.float64),\n",
              " tensor([0., 0., 0., 0., 0., 0., 0., 0., 0., 0., 0., 0., 0., 0., 0., 0., 0., 0.,\n",
              "         0., 0., 0., 0., 0., 0., 0., 0., 0., 0., 0., 0., 0., 0., 0., 0., 0., 0.,\n",
              "         0., 0., 0., 0., 0., 0., 0., 0., 0., 0., 0., 0., 0., 1., 1., 1., 1., 1.,\n",
              "         1., 1., 1., 1., 1., 1., 1., 1., 1., 1., 1., 1., 1., 1., 1., 1., 1., 1.,\n",
              "         1., 1., 1., 1., 1., 1., 1., 1., 1., 1., 1., 1., 1., 1., 1., 1., 1., 1.,\n",
              "         1., 1., 1., 1., 1., 1., 1., 1., 1., 2., 2., 2., 2., 2., 2., 2., 2., 2.,\n",
              "         2., 2., 2., 2., 2., 2., 2., 2., 2., 2., 2., 2., 2., 2., 2., 2., 2., 2.,\n",
              "         2., 2., 2., 2., 2., 2., 2., 2., 2., 2., 2., 2., 2., 2., 2., 2., 2., 2.,\n",
              "         2., 2., 2., 2., 2.], dtype=torch.float64))"
            ]
          },
          "metadata": {},
          "execution_count": 18
        }
      ]
    }
  ]
}