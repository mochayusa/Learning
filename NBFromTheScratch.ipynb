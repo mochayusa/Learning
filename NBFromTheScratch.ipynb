{
  "nbformat": 4,
  "nbformat_minor": 0,
  "metadata": {
    "colab": {
      "provenance": [],
      "authorship_tag": "ABX9TyPlnTigBxwC9gVsjLJzqL/B"
    },
    "kernelspec": {
      "name": "python3",
      "display_name": "Python 3"
    },
    "language_info": {
      "name": "python"
    }
  },
  "cells": [
    {
      "cell_type": "code",
      "source": [
        "# summarize probability distributions of the dataset\n",
        "from sklearn.datasets import make_blobs\n",
        "from scipy.stats import norm\n",
        "from numpy import mean\n",
        "from numpy import std"
      ],
      "metadata": {
        "id": "TlxNQ_qeexlM"
      },
      "execution_count": null,
      "outputs": []
    },
    {
      "cell_type": "code",
      "execution_count": null,
      "metadata": {
        "colab": {
          "base_uri": "https://localhost:8080/"
        },
        "id": "g0y4kgUVdGue",
        "outputId": "d62b17ac-f320-4768-d634-efee4872d894"
      },
      "outputs": [
        {
          "output_type": "stream",
          "name": "stdout",
          "text": [
            "(100, 2) (100,)\n",
            "[[-0.79415228  2.10495117]\n",
            " [-9.15155186 -4.81286449]\n",
            " [-3.10367371  3.90202401]\n",
            " [-1.42946517  5.16850105]\n",
            " [-7.4693868  -4.20198333]]\n",
            "[0 1 0 0 1]\n"
          ]
        }
      ],
      "source": [
        "# example of generating a small classification dataset\n",
        "from sklearn.datasets import make_blobs\n",
        "# generate 2d classification dataset\n",
        "X, y = make_blobs(n_samples=100, centers=2, n_features=2, random_state=1)\n",
        "# summarize\n",
        "print(X.shape, y.shape)\n",
        "print(X[:5])\n",
        "print(y[:5])"
      ]
    },
    {
      "cell_type": "markdown",
      "source": [
        "Fit Distribution"
      ],
      "metadata": {
        "id": "dRJssBYSditj"
      }
    },
    {
      "cell_type": "code",
      "source": [
        "# fit a probability distribution to a univariate data sample\n",
        "def fit_distribution(data):\n",
        "\t# estimate parameters\n",
        "\tmu = mean(data)\n",
        "\tsigma = std(data)\n",
        "\tprint(mu, sigma)\n",
        "\t# fit distribution\n",
        "\tdist = norm(mu, sigma)\n",
        "\treturn dist"
      ],
      "metadata": {
        "id": "drwR_HcAdf7T"
      },
      "execution_count": null,
      "outputs": []
    },
    {
      "cell_type": "markdown",
      "source": [
        "split the data into groups of samples for each of the class labels"
      ],
      "metadata": {
        "id": "Ir1sxGibdq-I"
      }
    },
    {
      "cell_type": "code",
      "source": [
        "...\n",
        "# sort data into classes\n",
        "Xy0 = X[y == 0]\n",
        "Xy1 = X[y == 1]\n",
        "print(Xy0.shape, Xy1.shape)"
      ],
      "metadata": {
        "colab": {
          "base_uri": "https://localhost:8080/"
        },
        "id": "It03tDqRdruF",
        "outputId": "7860cdb9-c4b3-4ffb-b03a-a3b6df5d843b"
      },
      "execution_count": null,
      "outputs": [
        {
          "output_type": "stream",
          "name": "stdout",
          "text": [
            "(50, 2) (50, 2)\n"
          ]
        }
      ]
    },
    {
      "cell_type": "markdown",
      "source": [
        "Calculate Prior"
      ],
      "metadata": {
        "id": "Yb1QmK_gd08I"
      }
    },
    {
      "cell_type": "code",
      "source": [
        "\n",
        "...\n",
        "# calculate priors\n",
        "priory0 = len(Xy0) / len(X)\n",
        "priory1 = len(Xy1) / len(X)\n",
        "print(priory0, priory1)"
      ],
      "metadata": {
        "colab": {
          "base_uri": "https://localhost:8080/"
        },
        "id": "Qw-EknbBd3Sb",
        "outputId": "6e82c4f6-9aeb-400f-8fa6-ceb5c754b8ea"
      },
      "execution_count": null,
      "outputs": [
        {
          "output_type": "stream",
          "name": "stdout",
          "text": [
            "0.5 0.5\n"
          ]
        }
      ]
    },
    {
      "cell_type": "markdown",
      "source": [
        "call the fit_distribution() function that we defined to prepare a probability distribution for each variable, for each class label."
      ],
      "metadata": {
        "id": "Q8Z-nE0YeDBb"
      }
    },
    {
      "cell_type": "code",
      "source": [
        "# create PDFs for y==0\n",
        "X1y0 = fit_distribution(Xy0[:, 0])\n",
        "X2y0 = fit_distribution(Xy0[:, 1])\n",
        "# create PDFs for y==1\n",
        "X1y1 = fit_distribution(Xy1[:, 0])\n",
        "X2y1 = fit_distribution(Xy1[:, 1])"
      ],
      "metadata": {
        "colab": {
          "base_uri": "https://localhost:8080/"
        },
        "id": "q5e_rl2OeDxZ",
        "outputId": "6fc33206-08e4-49c2-80d9-368a8c995126"
      },
      "execution_count": null,
      "outputs": [
        {
          "output_type": "stream",
          "name": "stdout",
          "text": [
            "-1.5632888906409914 0.787444265443213\n",
            "4.426680361487157 0.958296071258367\n",
            "-9.681177100524485 0.8943078901048118\n",
            "-3.9713794295185845 0.9308177595208521\n"
          ]
        }
      ]
    },
    {
      "cell_type": "code",
      "source": [
        "# calculate the independent conditional probability\n",
        "def probability(X, prior, dist1, dist2):\n",
        "\treturn prior * dist1.pdf(X[0]) * dist2.pdf(X[1])\n"
      ],
      "metadata": {
        "id": "Q7tYpvsuel6H"
      },
      "execution_count": null,
      "outputs": []
    },
    {
      "cell_type": "code",
      "source": [
        "# classify one example\n",
        "Xsample, ysample = X[0,1], y[0]"
      ],
      "metadata": {
        "id": "ii4D-uVxe9Wy"
      },
      "execution_count": null,
      "outputs": []
    },
    {
      "cell_type": "code",
      "source": [
        "# calculate priors\n",
        "priory0 = len(Xy0) / len(X)\n",
        "priory1 = len(Xy1) / len(X)\n",
        "# create PDFs for y==0\n",
        "distX1y0 = fit_distribution(Xy0[:, 0])\n",
        "distX2y0 = fit_distribution(Xy0[:, 1])\n",
        "# create PDFs for y==1\n",
        "distX1y1 = fit_distribution(Xy1[:, 0])\n",
        "distX2y1 = fit_distribution(Xy1[:, 1])\n",
        "# classify one example"
      ],
      "metadata": {
        "colab": {
          "base_uri": "https://localhost:8080/"
        },
        "id": "QZMK86bLfzKH",
        "outputId": "9e1a36ff-1028-4613-e5b7-ef0fcda71bac"
      },
      "execution_count": null,
      "outputs": [
        {
          "output_type": "stream",
          "name": "stdout",
          "text": [
            "-1.5632888906409914 0.787444265443213\n",
            "4.426680361487157 0.958296071258367\n",
            "-9.681177100524485 0.8943078901048118\n",
            "-3.9713794295185845 0.9308177595208521\n"
          ]
        }
      ]
    },
    {
      "cell_type": "code",
      "source": [
        "# classify one example\n",
        "Xsample, ysample = X[0], y[0]\n",
        "py0 = probability(Xsample, priory0, distX1y0, distX2y0)\n",
        "py1 = probability(Xsample, priory1, distX1y1, distX2y1)\n",
        "print('P(y=0 | %s) = %.3f' % (Xsample, py0*100))\n",
        "print('P(y=1 | %s) = %.3f' % (Xsample, py1*100))\n",
        "print('Truth: y=%d' % ysample)"
      ],
      "metadata": {
        "colab": {
          "base_uri": "https://localhost:8080/"
        },
        "id": "pLIXY6vAfXQQ",
        "outputId": "adeaea0a-230c-42b8-fa77-d61600333f35"
      },
      "execution_count": null,
      "outputs": [
        {
          "output_type": "stream",
          "name": "stdout",
          "text": [
            "P(y=0 | [-0.79415228  2.10495117]) = 0.348\n",
            "P(y=1 | [-0.79415228  2.10495117]) = 0.000\n",
            "Truth: y=0\n"
          ]
        }
      ]
    },
    {
      "cell_type": "markdown",
      "source": [
        "Gaussian Naive Bayes model (GaussianNB) to the same test dataset"
      ],
      "metadata": {
        "id": "LC-ooh6Bf7rV"
      }
    },
    {
      "cell_type": "code",
      "source": [
        "# example of gaussian naive bayes\n",
        "from sklearn.datasets import make_blobs\n",
        "from sklearn.naive_bayes import GaussianNB\n",
        "# generate 2d classification dataset\n",
        "X, y = make_blobs(n_samples=100, centers=2, n_features=2, random_state=1)\n",
        "# define the model\n",
        "model = GaussianNB()\n",
        "# fit the model\n",
        "model.fit(X, y)\n",
        "# select a single sample\n",
        "Xsample, ysample = [X[0]], y[0]\n",
        "# make a probabilistic prediction\n",
        "yhat_prob = model.predict_proba(Xsample)\n",
        "print('Predicted Probabilities: ', yhat_prob)\n",
        "# make a classification prediction\n",
        "yhat_class = model.predict(Xsample)\n",
        "print('Predicted Class: ', yhat_class)\n",
        "print('Truth: y=%d' % ysample)"
      ],
      "metadata": {
        "colab": {
          "base_uri": "https://localhost:8080/"
        },
        "id": "GnhFgG6ff9n3",
        "outputId": "06d57412-38fe-47fb-d7d1-8a37c523b53b"
      },
      "execution_count": null,
      "outputs": [
        {
          "output_type": "stream",
          "name": "stdout",
          "text": [
            "Predicted Probabilities:  [[1.00000000e+00 5.52387327e-30]]\n",
            "Predicted Class:  [0]\n",
            "Truth: y=0\n"
          ]
        }
      ]
    }
  ]
}