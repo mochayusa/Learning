{
  "nbformat": 4,
  "nbformat_minor": 0,
  "metadata": {
    "colab": {
      "provenance": [],
      "authorship_tag": "ABX9TyOFa50LoHchWno2DHZiZ/Ty"
    },
    "kernelspec": {
      "name": "python3",
      "display_name": "Python 3"
    },
    "language_info": {
      "name": "python"
    },
    "widgets": {
      "application/vnd.jupyter.widget-state+json": {
        "e9e9c8976e7b496289db369a7495d9b2": {
          "model_module": "@jupyter-widgets/controls",
          "model_name": "HBoxModel",
          "model_module_version": "1.5.0",
          "state": {
            "_dom_classes": [],
            "_model_module": "@jupyter-widgets/controls",
            "_model_module_version": "1.5.0",
            "_model_name": "HBoxModel",
            "_view_count": null,
            "_view_module": "@jupyter-widgets/controls",
            "_view_module_version": "1.5.0",
            "_view_name": "HBoxView",
            "box_style": "",
            "children": [
              "IPY_MODEL_6bb9fd791133411bae692c6f866da423",
              "IPY_MODEL_ec3297817afa42878aae339be222f23e",
              "IPY_MODEL_48db45a6a37d438aa797f7ec2839090f"
            ],
            "layout": "IPY_MODEL_f093e68e184248c68ae12f4cf2e3818e"
          }
        },
        "6bb9fd791133411bae692c6f866da423": {
          "model_module": "@jupyter-widgets/controls",
          "model_name": "HTMLModel",
          "model_module_version": "1.5.0",
          "state": {
            "_dom_classes": [],
            "_model_module": "@jupyter-widgets/controls",
            "_model_module_version": "1.5.0",
            "_model_name": "HTMLModel",
            "_view_count": null,
            "_view_module": "@jupyter-widgets/controls",
            "_view_module_version": "1.5.0",
            "_view_name": "HTMLView",
            "description": "",
            "description_tooltip": null,
            "layout": "IPY_MODEL_807a7cd00cf54f75b78e7454d4bac626",
            "placeholder": "​",
            "style": "IPY_MODEL_89e4fe21580244409bd123ab095c9f09",
            "value": "Testing DataLoader 0: 100%"
          }
        },
        "ec3297817afa42878aae339be222f23e": {
          "model_module": "@jupyter-widgets/controls",
          "model_name": "FloatProgressModel",
          "model_module_version": "1.5.0",
          "state": {
            "_dom_classes": [],
            "_model_module": "@jupyter-widgets/controls",
            "_model_module_version": "1.5.0",
            "_model_name": "FloatProgressModel",
            "_view_count": null,
            "_view_module": "@jupyter-widgets/controls",
            "_view_module_version": "1.5.0",
            "_view_name": "ProgressView",
            "bar_style": "success",
            "description": "",
            "description_tooltip": null,
            "layout": "IPY_MODEL_beb863f26bd84bfd85b4fb4aacd4449b",
            "max": 8,
            "min": 0,
            "orientation": "horizontal",
            "style": "IPY_MODEL_5ab9e8527ab64914ab954f3d5008dba7",
            "value": 8
          }
        },
        "48db45a6a37d438aa797f7ec2839090f": {
          "model_module": "@jupyter-widgets/controls",
          "model_name": "HTMLModel",
          "model_module_version": "1.5.0",
          "state": {
            "_dom_classes": [],
            "_model_module": "@jupyter-widgets/controls",
            "_model_module_version": "1.5.0",
            "_model_name": "HTMLModel",
            "_view_count": null,
            "_view_module": "@jupyter-widgets/controls",
            "_view_module_version": "1.5.0",
            "_view_name": "HTMLView",
            "description": "",
            "description_tooltip": null,
            "layout": "IPY_MODEL_6768a66c05e94fe882165d5adb6525a5",
            "placeholder": "​",
            "style": "IPY_MODEL_4ff8258e69ec483d9f088edc33331c82",
            "value": " 8/8 [00:00&lt;00:00, 57.64it/s]"
          }
        },
        "f093e68e184248c68ae12f4cf2e3818e": {
          "model_module": "@jupyter-widgets/base",
          "model_name": "LayoutModel",
          "model_module_version": "1.2.0",
          "state": {
            "_model_module": "@jupyter-widgets/base",
            "_model_module_version": "1.2.0",
            "_model_name": "LayoutModel",
            "_view_count": null,
            "_view_module": "@jupyter-widgets/base",
            "_view_module_version": "1.2.0",
            "_view_name": "LayoutView",
            "align_content": null,
            "align_items": null,
            "align_self": null,
            "border": null,
            "bottom": null,
            "display": "inline-flex",
            "flex": null,
            "flex_flow": "row wrap",
            "grid_area": null,
            "grid_auto_columns": null,
            "grid_auto_flow": null,
            "grid_auto_rows": null,
            "grid_column": null,
            "grid_gap": null,
            "grid_row": null,
            "grid_template_areas": null,
            "grid_template_columns": null,
            "grid_template_rows": null,
            "height": null,
            "justify_content": null,
            "justify_items": null,
            "left": null,
            "margin": null,
            "max_height": null,
            "max_width": null,
            "min_height": null,
            "min_width": null,
            "object_fit": null,
            "object_position": null,
            "order": null,
            "overflow": null,
            "overflow_x": null,
            "overflow_y": null,
            "padding": null,
            "right": null,
            "top": null,
            "visibility": null,
            "width": "100%"
          }
        },
        "807a7cd00cf54f75b78e7454d4bac626": {
          "model_module": "@jupyter-widgets/base",
          "model_name": "LayoutModel",
          "model_module_version": "1.2.0",
          "state": {
            "_model_module": "@jupyter-widgets/base",
            "_model_module_version": "1.2.0",
            "_model_name": "LayoutModel",
            "_view_count": null,
            "_view_module": "@jupyter-widgets/base",
            "_view_module_version": "1.2.0",
            "_view_name": "LayoutView",
            "align_content": null,
            "align_items": null,
            "align_self": null,
            "border": null,
            "bottom": null,
            "display": null,
            "flex": null,
            "flex_flow": null,
            "grid_area": null,
            "grid_auto_columns": null,
            "grid_auto_flow": null,
            "grid_auto_rows": null,
            "grid_column": null,
            "grid_gap": null,
            "grid_row": null,
            "grid_template_areas": null,
            "grid_template_columns": null,
            "grid_template_rows": null,
            "height": null,
            "justify_content": null,
            "justify_items": null,
            "left": null,
            "margin": null,
            "max_height": null,
            "max_width": null,
            "min_height": null,
            "min_width": null,
            "object_fit": null,
            "object_position": null,
            "order": null,
            "overflow": null,
            "overflow_x": null,
            "overflow_y": null,
            "padding": null,
            "right": null,
            "top": null,
            "visibility": null,
            "width": null
          }
        },
        "89e4fe21580244409bd123ab095c9f09": {
          "model_module": "@jupyter-widgets/controls",
          "model_name": "DescriptionStyleModel",
          "model_module_version": "1.5.0",
          "state": {
            "_model_module": "@jupyter-widgets/controls",
            "_model_module_version": "1.5.0",
            "_model_name": "DescriptionStyleModel",
            "_view_count": null,
            "_view_module": "@jupyter-widgets/base",
            "_view_module_version": "1.2.0",
            "_view_name": "StyleView",
            "description_width": ""
          }
        },
        "beb863f26bd84bfd85b4fb4aacd4449b": {
          "model_module": "@jupyter-widgets/base",
          "model_name": "LayoutModel",
          "model_module_version": "1.2.0",
          "state": {
            "_model_module": "@jupyter-widgets/base",
            "_model_module_version": "1.2.0",
            "_model_name": "LayoutModel",
            "_view_count": null,
            "_view_module": "@jupyter-widgets/base",
            "_view_module_version": "1.2.0",
            "_view_name": "LayoutView",
            "align_content": null,
            "align_items": null,
            "align_self": null,
            "border": null,
            "bottom": null,
            "display": null,
            "flex": "2",
            "flex_flow": null,
            "grid_area": null,
            "grid_auto_columns": null,
            "grid_auto_flow": null,
            "grid_auto_rows": null,
            "grid_column": null,
            "grid_gap": null,
            "grid_row": null,
            "grid_template_areas": null,
            "grid_template_columns": null,
            "grid_template_rows": null,
            "height": null,
            "justify_content": null,
            "justify_items": null,
            "left": null,
            "margin": null,
            "max_height": null,
            "max_width": null,
            "min_height": null,
            "min_width": null,
            "object_fit": null,
            "object_position": null,
            "order": null,
            "overflow": null,
            "overflow_x": null,
            "overflow_y": null,
            "padding": null,
            "right": null,
            "top": null,
            "visibility": null,
            "width": null
          }
        },
        "5ab9e8527ab64914ab954f3d5008dba7": {
          "model_module": "@jupyter-widgets/controls",
          "model_name": "ProgressStyleModel",
          "model_module_version": "1.5.0",
          "state": {
            "_model_module": "@jupyter-widgets/controls",
            "_model_module_version": "1.5.0",
            "_model_name": "ProgressStyleModel",
            "_view_count": null,
            "_view_module": "@jupyter-widgets/base",
            "_view_module_version": "1.2.0",
            "_view_name": "StyleView",
            "bar_color": null,
            "description_width": ""
          }
        },
        "6768a66c05e94fe882165d5adb6525a5": {
          "model_module": "@jupyter-widgets/base",
          "model_name": "LayoutModel",
          "model_module_version": "1.2.0",
          "state": {
            "_model_module": "@jupyter-widgets/base",
            "_model_module_version": "1.2.0",
            "_model_name": "LayoutModel",
            "_view_count": null,
            "_view_module": "@jupyter-widgets/base",
            "_view_module_version": "1.2.0",
            "_view_name": "LayoutView",
            "align_content": null,
            "align_items": null,
            "align_self": null,
            "border": null,
            "bottom": null,
            "display": null,
            "flex": null,
            "flex_flow": null,
            "grid_area": null,
            "grid_auto_columns": null,
            "grid_auto_flow": null,
            "grid_auto_rows": null,
            "grid_column": null,
            "grid_gap": null,
            "grid_row": null,
            "grid_template_areas": null,
            "grid_template_columns": null,
            "grid_template_rows": null,
            "height": null,
            "justify_content": null,
            "justify_items": null,
            "left": null,
            "margin": null,
            "max_height": null,
            "max_width": null,
            "min_height": null,
            "min_width": null,
            "object_fit": null,
            "object_position": null,
            "order": null,
            "overflow": null,
            "overflow_x": null,
            "overflow_y": null,
            "padding": null,
            "right": null,
            "top": null,
            "visibility": null,
            "width": null
          }
        },
        "4ff8258e69ec483d9f088edc33331c82": {
          "model_module": "@jupyter-widgets/controls",
          "model_name": "DescriptionStyleModel",
          "model_module_version": "1.5.0",
          "state": {
            "_model_module": "@jupyter-widgets/controls",
            "_model_module_version": "1.5.0",
            "_model_name": "DescriptionStyleModel",
            "_view_count": null,
            "_view_module": "@jupyter-widgets/base",
            "_view_module_version": "1.2.0",
            "_view_name": "StyleView",
            "description_width": ""
          }
        },
        "a216664fd1fd4805bf00e51f43eda7d6": {
          "model_module": "@jupyter-widgets/controls",
          "model_name": "HBoxModel",
          "model_module_version": "1.5.0",
          "state": {
            "_dom_classes": [],
            "_model_module": "@jupyter-widgets/controls",
            "_model_module_version": "1.5.0",
            "_model_name": "HBoxModel",
            "_view_count": null,
            "_view_module": "@jupyter-widgets/controls",
            "_view_module_version": "1.5.0",
            "_view_name": "HBoxView",
            "box_style": "",
            "children": [
              "IPY_MODEL_db4431615e184832b32f9ae847bb4c23",
              "IPY_MODEL_0f32544fede747d0bcdd3438acf42e20",
              "IPY_MODEL_3444751c5309449395b40893b29d7810"
            ],
            "layout": "IPY_MODEL_2ab44126044a41f38867b5d357a60983"
          }
        },
        "db4431615e184832b32f9ae847bb4c23": {
          "model_module": "@jupyter-widgets/controls",
          "model_name": "HTMLModel",
          "model_module_version": "1.5.0",
          "state": {
            "_dom_classes": [],
            "_model_module": "@jupyter-widgets/controls",
            "_model_module_version": "1.5.0",
            "_model_name": "HTMLModel",
            "_view_count": null,
            "_view_module": "@jupyter-widgets/controls",
            "_view_module_version": "1.5.0",
            "_view_name": "HTMLView",
            "description": "",
            "description_tooltip": null,
            "layout": "IPY_MODEL_7b4d63fbe4064b77a7fce3cbc461215d",
            "placeholder": "​",
            "style": "IPY_MODEL_c86327a36ac24914aaf794d49eb818e9",
            "value": "Testing DataLoader 0: 100%"
          }
        },
        "0f32544fede747d0bcdd3438acf42e20": {
          "model_module": "@jupyter-widgets/controls",
          "model_name": "FloatProgressModel",
          "model_module_version": "1.5.0",
          "state": {
            "_dom_classes": [],
            "_model_module": "@jupyter-widgets/controls",
            "_model_module_version": "1.5.0",
            "_model_name": "FloatProgressModel",
            "_view_count": null,
            "_view_module": "@jupyter-widgets/controls",
            "_view_module_version": "1.5.0",
            "_view_name": "ProgressView",
            "bar_style": "success",
            "description": "",
            "description_tooltip": null,
            "layout": "IPY_MODEL_782a01b3a264417b9bf4858ecdee9ff9",
            "max": 79,
            "min": 0,
            "orientation": "horizontal",
            "style": "IPY_MODEL_779cbf6609684d519ea7a1c0d9fd54a9",
            "value": 79
          }
        },
        "3444751c5309449395b40893b29d7810": {
          "model_module": "@jupyter-widgets/controls",
          "model_name": "HTMLModel",
          "model_module_version": "1.5.0",
          "state": {
            "_dom_classes": [],
            "_model_module": "@jupyter-widgets/controls",
            "_model_module_version": "1.5.0",
            "_model_name": "HTMLModel",
            "_view_count": null,
            "_view_module": "@jupyter-widgets/controls",
            "_view_module_version": "1.5.0",
            "_view_name": "HTMLView",
            "description": "",
            "description_tooltip": null,
            "layout": "IPY_MODEL_01b856c2c85a406fb74086945f8d2a09",
            "placeholder": "​",
            "style": "IPY_MODEL_58193a0fea9645a7a931417d01b4ca6d",
            "value": " 79/79 [00:00&lt;00:00, 85.04it/s]"
          }
        },
        "2ab44126044a41f38867b5d357a60983": {
          "model_module": "@jupyter-widgets/base",
          "model_name": "LayoutModel",
          "model_module_version": "1.2.0",
          "state": {
            "_model_module": "@jupyter-widgets/base",
            "_model_module_version": "1.2.0",
            "_model_name": "LayoutModel",
            "_view_count": null,
            "_view_module": "@jupyter-widgets/base",
            "_view_module_version": "1.2.0",
            "_view_name": "LayoutView",
            "align_content": null,
            "align_items": null,
            "align_self": null,
            "border": null,
            "bottom": null,
            "display": "inline-flex",
            "flex": null,
            "flex_flow": "row wrap",
            "grid_area": null,
            "grid_auto_columns": null,
            "grid_auto_flow": null,
            "grid_auto_rows": null,
            "grid_column": null,
            "grid_gap": null,
            "grid_row": null,
            "grid_template_areas": null,
            "grid_template_columns": null,
            "grid_template_rows": null,
            "height": null,
            "justify_content": null,
            "justify_items": null,
            "left": null,
            "margin": null,
            "max_height": null,
            "max_width": null,
            "min_height": null,
            "min_width": null,
            "object_fit": null,
            "object_position": null,
            "order": null,
            "overflow": null,
            "overflow_x": null,
            "overflow_y": null,
            "padding": null,
            "right": null,
            "top": null,
            "visibility": null,
            "width": "100%"
          }
        },
        "7b4d63fbe4064b77a7fce3cbc461215d": {
          "model_module": "@jupyter-widgets/base",
          "model_name": "LayoutModel",
          "model_module_version": "1.2.0",
          "state": {
            "_model_module": "@jupyter-widgets/base",
            "_model_module_version": "1.2.0",
            "_model_name": "LayoutModel",
            "_view_count": null,
            "_view_module": "@jupyter-widgets/base",
            "_view_module_version": "1.2.0",
            "_view_name": "LayoutView",
            "align_content": null,
            "align_items": null,
            "align_self": null,
            "border": null,
            "bottom": null,
            "display": null,
            "flex": null,
            "flex_flow": null,
            "grid_area": null,
            "grid_auto_columns": null,
            "grid_auto_flow": null,
            "grid_auto_rows": null,
            "grid_column": null,
            "grid_gap": null,
            "grid_row": null,
            "grid_template_areas": null,
            "grid_template_columns": null,
            "grid_template_rows": null,
            "height": null,
            "justify_content": null,
            "justify_items": null,
            "left": null,
            "margin": null,
            "max_height": null,
            "max_width": null,
            "min_height": null,
            "min_width": null,
            "object_fit": null,
            "object_position": null,
            "order": null,
            "overflow": null,
            "overflow_x": null,
            "overflow_y": null,
            "padding": null,
            "right": null,
            "top": null,
            "visibility": null,
            "width": null
          }
        },
        "c86327a36ac24914aaf794d49eb818e9": {
          "model_module": "@jupyter-widgets/controls",
          "model_name": "DescriptionStyleModel",
          "model_module_version": "1.5.0",
          "state": {
            "_model_module": "@jupyter-widgets/controls",
            "_model_module_version": "1.5.0",
            "_model_name": "DescriptionStyleModel",
            "_view_count": null,
            "_view_module": "@jupyter-widgets/base",
            "_view_module_version": "1.2.0",
            "_view_name": "StyleView",
            "description_width": ""
          }
        },
        "782a01b3a264417b9bf4858ecdee9ff9": {
          "model_module": "@jupyter-widgets/base",
          "model_name": "LayoutModel",
          "model_module_version": "1.2.0",
          "state": {
            "_model_module": "@jupyter-widgets/base",
            "_model_module_version": "1.2.0",
            "_model_name": "LayoutModel",
            "_view_count": null,
            "_view_module": "@jupyter-widgets/base",
            "_view_module_version": "1.2.0",
            "_view_name": "LayoutView",
            "align_content": null,
            "align_items": null,
            "align_self": null,
            "border": null,
            "bottom": null,
            "display": null,
            "flex": "2",
            "flex_flow": null,
            "grid_area": null,
            "grid_auto_columns": null,
            "grid_auto_flow": null,
            "grid_auto_rows": null,
            "grid_column": null,
            "grid_gap": null,
            "grid_row": null,
            "grid_template_areas": null,
            "grid_template_columns": null,
            "grid_template_rows": null,
            "height": null,
            "justify_content": null,
            "justify_items": null,
            "left": null,
            "margin": null,
            "max_height": null,
            "max_width": null,
            "min_height": null,
            "min_width": null,
            "object_fit": null,
            "object_position": null,
            "order": null,
            "overflow": null,
            "overflow_x": null,
            "overflow_y": null,
            "padding": null,
            "right": null,
            "top": null,
            "visibility": null,
            "width": null
          }
        },
        "779cbf6609684d519ea7a1c0d9fd54a9": {
          "model_module": "@jupyter-widgets/controls",
          "model_name": "ProgressStyleModel",
          "model_module_version": "1.5.0",
          "state": {
            "_model_module": "@jupyter-widgets/controls",
            "_model_module_version": "1.5.0",
            "_model_name": "ProgressStyleModel",
            "_view_count": null,
            "_view_module": "@jupyter-widgets/base",
            "_view_module_version": "1.2.0",
            "_view_name": "StyleView",
            "bar_color": null,
            "description_width": ""
          }
        },
        "01b856c2c85a406fb74086945f8d2a09": {
          "model_module": "@jupyter-widgets/base",
          "model_name": "LayoutModel",
          "model_module_version": "1.2.0",
          "state": {
            "_model_module": "@jupyter-widgets/base",
            "_model_module_version": "1.2.0",
            "_model_name": "LayoutModel",
            "_view_count": null,
            "_view_module": "@jupyter-widgets/base",
            "_view_module_version": "1.2.0",
            "_view_name": "LayoutView",
            "align_content": null,
            "align_items": null,
            "align_self": null,
            "border": null,
            "bottom": null,
            "display": null,
            "flex": null,
            "flex_flow": null,
            "grid_area": null,
            "grid_auto_columns": null,
            "grid_auto_flow": null,
            "grid_auto_rows": null,
            "grid_column": null,
            "grid_gap": null,
            "grid_row": null,
            "grid_template_areas": null,
            "grid_template_columns": null,
            "grid_template_rows": null,
            "height": null,
            "justify_content": null,
            "justify_items": null,
            "left": null,
            "margin": null,
            "max_height": null,
            "max_width": null,
            "min_height": null,
            "min_width": null,
            "object_fit": null,
            "object_position": null,
            "order": null,
            "overflow": null,
            "overflow_x": null,
            "overflow_y": null,
            "padding": null,
            "right": null,
            "top": null,
            "visibility": null,
            "width": null
          }
        },
        "58193a0fea9645a7a931417d01b4ca6d": {
          "model_module": "@jupyter-widgets/controls",
          "model_name": "DescriptionStyleModel",
          "model_module_version": "1.5.0",
          "state": {
            "_model_module": "@jupyter-widgets/controls",
            "_model_module_version": "1.5.0",
            "_model_name": "DescriptionStyleModel",
            "_view_count": null,
            "_view_module": "@jupyter-widgets/base",
            "_view_module_version": "1.2.0",
            "_view_name": "StyleView",
            "description_width": ""
          }
        },
        "3056f1a58ef9444c8d49e586ed3727ee": {
          "model_module": "@jupyter-widgets/controls",
          "model_name": "HBoxModel",
          "model_module_version": "1.5.0",
          "state": {
            "_dom_classes": [],
            "_model_module": "@jupyter-widgets/controls",
            "_model_module_version": "1.5.0",
            "_model_name": "HBoxModel",
            "_view_count": null,
            "_view_module": "@jupyter-widgets/controls",
            "_view_module_version": "1.5.0",
            "_view_name": "HBoxView",
            "box_style": "",
            "children": [
              "IPY_MODEL_6ccfdc67404449d582d9be697b0e680c",
              "IPY_MODEL_a795ac020f0e457a9211a98f23cb74b7",
              "IPY_MODEL_8987fdf8afdd44a48092b6b4b66e199d"
            ],
            "layout": "IPY_MODEL_f527bca2987344719b057030d29226c4"
          }
        },
        "6ccfdc67404449d582d9be697b0e680c": {
          "model_module": "@jupyter-widgets/controls",
          "model_name": "HTMLModel",
          "model_module_version": "1.5.0",
          "state": {
            "_dom_classes": [],
            "_model_module": "@jupyter-widgets/controls",
            "_model_module_version": "1.5.0",
            "_model_name": "HTMLModel",
            "_view_count": null,
            "_view_module": "@jupyter-widgets/controls",
            "_view_module_version": "1.5.0",
            "_view_name": "HTMLView",
            "description": "",
            "description_tooltip": null,
            "layout": "IPY_MODEL_c2db4462a35742f78bbae1c1018e83af",
            "placeholder": "​",
            "style": "IPY_MODEL_de7fe7faf2d946e99c3d94ac2a4a0c5d",
            "value": "100%"
          }
        },
        "a795ac020f0e457a9211a98f23cb74b7": {
          "model_module": "@jupyter-widgets/controls",
          "model_name": "FloatProgressModel",
          "model_module_version": "1.5.0",
          "state": {
            "_dom_classes": [],
            "_model_module": "@jupyter-widgets/controls",
            "_model_module_version": "1.5.0",
            "_model_name": "FloatProgressModel",
            "_view_count": null,
            "_view_module": "@jupyter-widgets/controls",
            "_view_module_version": "1.5.0",
            "_view_name": "ProgressView",
            "bar_style": "success",
            "description": "",
            "description_tooltip": null,
            "layout": "IPY_MODEL_c53b588a8a304909840adcae09aa6452",
            "max": 169001437,
            "min": 0,
            "orientation": "horizontal",
            "style": "IPY_MODEL_49e24494778747cf9db899f18d0a11f1",
            "value": 169001437
          }
        },
        "8987fdf8afdd44a48092b6b4b66e199d": {
          "model_module": "@jupyter-widgets/controls",
          "model_name": "HTMLModel",
          "model_module_version": "1.5.0",
          "state": {
            "_dom_classes": [],
            "_model_module": "@jupyter-widgets/controls",
            "_model_module_version": "1.5.0",
            "_model_name": "HTMLModel",
            "_view_count": null,
            "_view_module": "@jupyter-widgets/controls",
            "_view_module_version": "1.5.0",
            "_view_name": "HTMLView",
            "description": "",
            "description_tooltip": null,
            "layout": "IPY_MODEL_1f30492e9b7f4507bf5e2b3cd5c1377b",
            "placeholder": "​",
            "style": "IPY_MODEL_4a6ac1f8182f48b0883347378bcad726",
            "value": " 169001437/169001437 [00:03&lt;00:00, 47791111.80it/s]"
          }
        },
        "f527bca2987344719b057030d29226c4": {
          "model_module": "@jupyter-widgets/base",
          "model_name": "LayoutModel",
          "model_module_version": "1.2.0",
          "state": {
            "_model_module": "@jupyter-widgets/base",
            "_model_module_version": "1.2.0",
            "_model_name": "LayoutModel",
            "_view_count": null,
            "_view_module": "@jupyter-widgets/base",
            "_view_module_version": "1.2.0",
            "_view_name": "LayoutView",
            "align_content": null,
            "align_items": null,
            "align_self": null,
            "border": null,
            "bottom": null,
            "display": null,
            "flex": null,
            "flex_flow": null,
            "grid_area": null,
            "grid_auto_columns": null,
            "grid_auto_flow": null,
            "grid_auto_rows": null,
            "grid_column": null,
            "grid_gap": null,
            "grid_row": null,
            "grid_template_areas": null,
            "grid_template_columns": null,
            "grid_template_rows": null,
            "height": null,
            "justify_content": null,
            "justify_items": null,
            "left": null,
            "margin": null,
            "max_height": null,
            "max_width": null,
            "min_height": null,
            "min_width": null,
            "object_fit": null,
            "object_position": null,
            "order": null,
            "overflow": null,
            "overflow_x": null,
            "overflow_y": null,
            "padding": null,
            "right": null,
            "top": null,
            "visibility": null,
            "width": null
          }
        },
        "c2db4462a35742f78bbae1c1018e83af": {
          "model_module": "@jupyter-widgets/base",
          "model_name": "LayoutModel",
          "model_module_version": "1.2.0",
          "state": {
            "_model_module": "@jupyter-widgets/base",
            "_model_module_version": "1.2.0",
            "_model_name": "LayoutModel",
            "_view_count": null,
            "_view_module": "@jupyter-widgets/base",
            "_view_module_version": "1.2.0",
            "_view_name": "LayoutView",
            "align_content": null,
            "align_items": null,
            "align_self": null,
            "border": null,
            "bottom": null,
            "display": null,
            "flex": null,
            "flex_flow": null,
            "grid_area": null,
            "grid_auto_columns": null,
            "grid_auto_flow": null,
            "grid_auto_rows": null,
            "grid_column": null,
            "grid_gap": null,
            "grid_row": null,
            "grid_template_areas": null,
            "grid_template_columns": null,
            "grid_template_rows": null,
            "height": null,
            "justify_content": null,
            "justify_items": null,
            "left": null,
            "margin": null,
            "max_height": null,
            "max_width": null,
            "min_height": null,
            "min_width": null,
            "object_fit": null,
            "object_position": null,
            "order": null,
            "overflow": null,
            "overflow_x": null,
            "overflow_y": null,
            "padding": null,
            "right": null,
            "top": null,
            "visibility": null,
            "width": null
          }
        },
        "de7fe7faf2d946e99c3d94ac2a4a0c5d": {
          "model_module": "@jupyter-widgets/controls",
          "model_name": "DescriptionStyleModel",
          "model_module_version": "1.5.0",
          "state": {
            "_model_module": "@jupyter-widgets/controls",
            "_model_module_version": "1.5.0",
            "_model_name": "DescriptionStyleModel",
            "_view_count": null,
            "_view_module": "@jupyter-widgets/base",
            "_view_module_version": "1.2.0",
            "_view_name": "StyleView",
            "description_width": ""
          }
        },
        "c53b588a8a304909840adcae09aa6452": {
          "model_module": "@jupyter-widgets/base",
          "model_name": "LayoutModel",
          "model_module_version": "1.2.0",
          "state": {
            "_model_module": "@jupyter-widgets/base",
            "_model_module_version": "1.2.0",
            "_model_name": "LayoutModel",
            "_view_count": null,
            "_view_module": "@jupyter-widgets/base",
            "_view_module_version": "1.2.0",
            "_view_name": "LayoutView",
            "align_content": null,
            "align_items": null,
            "align_self": null,
            "border": null,
            "bottom": null,
            "display": null,
            "flex": null,
            "flex_flow": null,
            "grid_area": null,
            "grid_auto_columns": null,
            "grid_auto_flow": null,
            "grid_auto_rows": null,
            "grid_column": null,
            "grid_gap": null,
            "grid_row": null,
            "grid_template_areas": null,
            "grid_template_columns": null,
            "grid_template_rows": null,
            "height": null,
            "justify_content": null,
            "justify_items": null,
            "left": null,
            "margin": null,
            "max_height": null,
            "max_width": null,
            "min_height": null,
            "min_width": null,
            "object_fit": null,
            "object_position": null,
            "order": null,
            "overflow": null,
            "overflow_x": null,
            "overflow_y": null,
            "padding": null,
            "right": null,
            "top": null,
            "visibility": null,
            "width": null
          }
        },
        "49e24494778747cf9db899f18d0a11f1": {
          "model_module": "@jupyter-widgets/controls",
          "model_name": "ProgressStyleModel",
          "model_module_version": "1.5.0",
          "state": {
            "_model_module": "@jupyter-widgets/controls",
            "_model_module_version": "1.5.0",
            "_model_name": "ProgressStyleModel",
            "_view_count": null,
            "_view_module": "@jupyter-widgets/base",
            "_view_module_version": "1.2.0",
            "_view_name": "StyleView",
            "bar_color": null,
            "description_width": ""
          }
        },
        "1f30492e9b7f4507bf5e2b3cd5c1377b": {
          "model_module": "@jupyter-widgets/base",
          "model_name": "LayoutModel",
          "model_module_version": "1.2.0",
          "state": {
            "_model_module": "@jupyter-widgets/base",
            "_model_module_version": "1.2.0",
            "_model_name": "LayoutModel",
            "_view_count": null,
            "_view_module": "@jupyter-widgets/base",
            "_view_module_version": "1.2.0",
            "_view_name": "LayoutView",
            "align_content": null,
            "align_items": null,
            "align_self": null,
            "border": null,
            "bottom": null,
            "display": null,
            "flex": null,
            "flex_flow": null,
            "grid_area": null,
            "grid_auto_columns": null,
            "grid_auto_flow": null,
            "grid_auto_rows": null,
            "grid_column": null,
            "grid_gap": null,
            "grid_row": null,
            "grid_template_areas": null,
            "grid_template_columns": null,
            "grid_template_rows": null,
            "height": null,
            "justify_content": null,
            "justify_items": null,
            "left": null,
            "margin": null,
            "max_height": null,
            "max_width": null,
            "min_height": null,
            "min_width": null,
            "object_fit": null,
            "object_position": null,
            "order": null,
            "overflow": null,
            "overflow_x": null,
            "overflow_y": null,
            "padding": null,
            "right": null,
            "top": null,
            "visibility": null,
            "width": null
          }
        },
        "4a6ac1f8182f48b0883347378bcad726": {
          "model_module": "@jupyter-widgets/controls",
          "model_name": "DescriptionStyleModel",
          "model_module_version": "1.5.0",
          "state": {
            "_model_module": "@jupyter-widgets/controls",
            "_model_module_version": "1.5.0",
            "_model_name": "DescriptionStyleModel",
            "_view_count": null,
            "_view_module": "@jupyter-widgets/base",
            "_view_module_version": "1.2.0",
            "_view_name": "StyleView",
            "description_width": ""
          }
        },
        "a0e33a9673374d84bee7ab99978796db": {
          "model_module": "@jupyter-widgets/controls",
          "model_name": "HBoxModel",
          "model_module_version": "1.5.0",
          "state": {
            "_dom_classes": [],
            "_model_module": "@jupyter-widgets/controls",
            "_model_module_version": "1.5.0",
            "_model_name": "HBoxModel",
            "_view_count": null,
            "_view_module": "@jupyter-widgets/controls",
            "_view_module_version": "1.5.0",
            "_view_name": "HBoxView",
            "box_style": "",
            "children": [
              "IPY_MODEL_af307171f71e41ada13d5264245d60fd",
              "IPY_MODEL_b5fd6b14ae414738bc0658c9fc39075e",
              "IPY_MODEL_026b014bc7944d6cadacd1562489b572"
            ],
            "layout": "IPY_MODEL_29e2abdd9194411c8424f5a08e48e00b"
          }
        },
        "af307171f71e41ada13d5264245d60fd": {
          "model_module": "@jupyter-widgets/controls",
          "model_name": "HTMLModel",
          "model_module_version": "1.5.0",
          "state": {
            "_dom_classes": [],
            "_model_module": "@jupyter-widgets/controls",
            "_model_module_version": "1.5.0",
            "_model_name": "HTMLModel",
            "_view_count": null,
            "_view_module": "@jupyter-widgets/controls",
            "_view_module_version": "1.5.0",
            "_view_name": "HTMLView",
            "description": "",
            "description_tooltip": null,
            "layout": "IPY_MODEL_b48c76edfd31480890c2e6a7e40c17cb",
            "placeholder": "​",
            "style": "IPY_MODEL_91daafbe7c8c4df28adbfac83cbc864d",
            "value": "100%"
          }
        },
        "b5fd6b14ae414738bc0658c9fc39075e": {
          "model_module": "@jupyter-widgets/controls",
          "model_name": "FloatProgressModel",
          "model_module_version": "1.5.0",
          "state": {
            "_dom_classes": [],
            "_model_module": "@jupyter-widgets/controls",
            "_model_module_version": "1.5.0",
            "_model_name": "FloatProgressModel",
            "_view_count": null,
            "_view_module": "@jupyter-widgets/controls",
            "_view_module_version": "1.5.0",
            "_view_name": "ProgressView",
            "bar_style": "success",
            "description": "",
            "description_tooltip": null,
            "layout": "IPY_MODEL_ad2808b7f9b34fad9cd94f2f2e58ace6",
            "max": 87319819,
            "min": 0,
            "orientation": "horizontal",
            "style": "IPY_MODEL_83350b314b25480cb7186677b5543d4e",
            "value": 87319819
          }
        },
        "026b014bc7944d6cadacd1562489b572": {
          "model_module": "@jupyter-widgets/controls",
          "model_name": "HTMLModel",
          "model_module_version": "1.5.0",
          "state": {
            "_dom_classes": [],
            "_model_module": "@jupyter-widgets/controls",
            "_model_module_version": "1.5.0",
            "_model_name": "HTMLModel",
            "_view_count": null,
            "_view_module": "@jupyter-widgets/controls",
            "_view_module_version": "1.5.0",
            "_view_name": "HTMLView",
            "description": "",
            "description_tooltip": null,
            "layout": "IPY_MODEL_70d452cda157430fa5b87e40eccae4eb",
            "placeholder": "​",
            "style": "IPY_MODEL_feddf2f0bad04896b5701113da333d3e",
            "value": " 83.3M/83.3M [00:01&lt;00:00, 86.9MB/s]"
          }
        },
        "29e2abdd9194411c8424f5a08e48e00b": {
          "model_module": "@jupyter-widgets/base",
          "model_name": "LayoutModel",
          "model_module_version": "1.2.0",
          "state": {
            "_model_module": "@jupyter-widgets/base",
            "_model_module_version": "1.2.0",
            "_model_name": "LayoutModel",
            "_view_count": null,
            "_view_module": "@jupyter-widgets/base",
            "_view_module_version": "1.2.0",
            "_view_name": "LayoutView",
            "align_content": null,
            "align_items": null,
            "align_self": null,
            "border": null,
            "bottom": null,
            "display": null,
            "flex": null,
            "flex_flow": null,
            "grid_area": null,
            "grid_auto_columns": null,
            "grid_auto_flow": null,
            "grid_auto_rows": null,
            "grid_column": null,
            "grid_gap": null,
            "grid_row": null,
            "grid_template_areas": null,
            "grid_template_columns": null,
            "grid_template_rows": null,
            "height": null,
            "justify_content": null,
            "justify_items": null,
            "left": null,
            "margin": null,
            "max_height": null,
            "max_width": null,
            "min_height": null,
            "min_width": null,
            "object_fit": null,
            "object_position": null,
            "order": null,
            "overflow": null,
            "overflow_x": null,
            "overflow_y": null,
            "padding": null,
            "right": null,
            "top": null,
            "visibility": null,
            "width": null
          }
        },
        "b48c76edfd31480890c2e6a7e40c17cb": {
          "model_module": "@jupyter-widgets/base",
          "model_name": "LayoutModel",
          "model_module_version": "1.2.0",
          "state": {
            "_model_module": "@jupyter-widgets/base",
            "_model_module_version": "1.2.0",
            "_model_name": "LayoutModel",
            "_view_count": null,
            "_view_module": "@jupyter-widgets/base",
            "_view_module_version": "1.2.0",
            "_view_name": "LayoutView",
            "align_content": null,
            "align_items": null,
            "align_self": null,
            "border": null,
            "bottom": null,
            "display": null,
            "flex": null,
            "flex_flow": null,
            "grid_area": null,
            "grid_auto_columns": null,
            "grid_auto_flow": null,
            "grid_auto_rows": null,
            "grid_column": null,
            "grid_gap": null,
            "grid_row": null,
            "grid_template_areas": null,
            "grid_template_columns": null,
            "grid_template_rows": null,
            "height": null,
            "justify_content": null,
            "justify_items": null,
            "left": null,
            "margin": null,
            "max_height": null,
            "max_width": null,
            "min_height": null,
            "min_width": null,
            "object_fit": null,
            "object_position": null,
            "order": null,
            "overflow": null,
            "overflow_x": null,
            "overflow_y": null,
            "padding": null,
            "right": null,
            "top": null,
            "visibility": null,
            "width": null
          }
        },
        "91daafbe7c8c4df28adbfac83cbc864d": {
          "model_module": "@jupyter-widgets/controls",
          "model_name": "DescriptionStyleModel",
          "model_module_version": "1.5.0",
          "state": {
            "_model_module": "@jupyter-widgets/controls",
            "_model_module_version": "1.5.0",
            "_model_name": "DescriptionStyleModel",
            "_view_count": null,
            "_view_module": "@jupyter-widgets/base",
            "_view_module_version": "1.2.0",
            "_view_name": "StyleView",
            "description_width": ""
          }
        },
        "ad2808b7f9b34fad9cd94f2f2e58ace6": {
          "model_module": "@jupyter-widgets/base",
          "model_name": "LayoutModel",
          "model_module_version": "1.2.0",
          "state": {
            "_model_module": "@jupyter-widgets/base",
            "_model_module_version": "1.2.0",
            "_model_name": "LayoutModel",
            "_view_count": null,
            "_view_module": "@jupyter-widgets/base",
            "_view_module_version": "1.2.0",
            "_view_name": "LayoutView",
            "align_content": null,
            "align_items": null,
            "align_self": null,
            "border": null,
            "bottom": null,
            "display": null,
            "flex": null,
            "flex_flow": null,
            "grid_area": null,
            "grid_auto_columns": null,
            "grid_auto_flow": null,
            "grid_auto_rows": null,
            "grid_column": null,
            "grid_gap": null,
            "grid_row": null,
            "grid_template_areas": null,
            "grid_template_columns": null,
            "grid_template_rows": null,
            "height": null,
            "justify_content": null,
            "justify_items": null,
            "left": null,
            "margin": null,
            "max_height": null,
            "max_width": null,
            "min_height": null,
            "min_width": null,
            "object_fit": null,
            "object_position": null,
            "order": null,
            "overflow": null,
            "overflow_x": null,
            "overflow_y": null,
            "padding": null,
            "right": null,
            "top": null,
            "visibility": null,
            "width": null
          }
        },
        "83350b314b25480cb7186677b5543d4e": {
          "model_module": "@jupyter-widgets/controls",
          "model_name": "ProgressStyleModel",
          "model_module_version": "1.5.0",
          "state": {
            "_model_module": "@jupyter-widgets/controls",
            "_model_module_version": "1.5.0",
            "_model_name": "ProgressStyleModel",
            "_view_count": null,
            "_view_module": "@jupyter-widgets/base",
            "_view_module_version": "1.2.0",
            "_view_name": "StyleView",
            "bar_color": null,
            "description_width": ""
          }
        },
        "70d452cda157430fa5b87e40eccae4eb": {
          "model_module": "@jupyter-widgets/base",
          "model_name": "LayoutModel",
          "model_module_version": "1.2.0",
          "state": {
            "_model_module": "@jupyter-widgets/base",
            "_model_module_version": "1.2.0",
            "_model_name": "LayoutModel",
            "_view_count": null,
            "_view_module": "@jupyter-widgets/base",
            "_view_module_version": "1.2.0",
            "_view_name": "LayoutView",
            "align_content": null,
            "align_items": null,
            "align_self": null,
            "border": null,
            "bottom": null,
            "display": null,
            "flex": null,
            "flex_flow": null,
            "grid_area": null,
            "grid_auto_columns": null,
            "grid_auto_flow": null,
            "grid_auto_rows": null,
            "grid_column": null,
            "grid_gap": null,
            "grid_row": null,
            "grid_template_areas": null,
            "grid_template_columns": null,
            "grid_template_rows": null,
            "height": null,
            "justify_content": null,
            "justify_items": null,
            "left": null,
            "margin": null,
            "max_height": null,
            "max_width": null,
            "min_height": null,
            "min_width": null,
            "object_fit": null,
            "object_position": null,
            "order": null,
            "overflow": null,
            "overflow_x": null,
            "overflow_y": null,
            "padding": null,
            "right": null,
            "top": null,
            "visibility": null,
            "width": null
          }
        },
        "feddf2f0bad04896b5701113da333d3e": {
          "model_module": "@jupyter-widgets/controls",
          "model_name": "DescriptionStyleModel",
          "model_module_version": "1.5.0",
          "state": {
            "_model_module": "@jupyter-widgets/controls",
            "_model_module_version": "1.5.0",
            "_model_name": "DescriptionStyleModel",
            "_view_count": null,
            "_view_module": "@jupyter-widgets/base",
            "_view_module_version": "1.2.0",
            "_view_name": "StyleView",
            "description_width": ""
          }
        },
        "678fd1de66e24249ba26888abdf3af6d": {
          "model_module": "@jupyter-widgets/controls",
          "model_name": "HBoxModel",
          "model_module_version": "1.5.0",
          "state": {
            "_dom_classes": [],
            "_model_module": "@jupyter-widgets/controls",
            "_model_module_version": "1.5.0",
            "_model_name": "HBoxModel",
            "_view_count": null,
            "_view_module": "@jupyter-widgets/controls",
            "_view_module_version": "1.5.0",
            "_view_name": "HBoxView",
            "box_style": "",
            "children": [
              "IPY_MODEL_a52ff1dbe7784b65849686dc2fcdb1c9",
              "IPY_MODEL_ed451ca242cc464ebcddee9520dd0069",
              "IPY_MODEL_f9e5f8340c2547018b313ae27898316e"
            ],
            "layout": "IPY_MODEL_ab50516a966c4b619fb9b4cc0f481c24"
          }
        },
        "a52ff1dbe7784b65849686dc2fcdb1c9": {
          "model_module": "@jupyter-widgets/controls",
          "model_name": "HTMLModel",
          "model_module_version": "1.5.0",
          "state": {
            "_dom_classes": [],
            "_model_module": "@jupyter-widgets/controls",
            "_model_module_version": "1.5.0",
            "_model_name": "HTMLModel",
            "_view_count": null,
            "_view_module": "@jupyter-widgets/controls",
            "_view_module_version": "1.5.0",
            "_view_name": "HTMLView",
            "description": "",
            "description_tooltip": null,
            "layout": "IPY_MODEL_1fd763c2fe6f4c8ab88dcaaf5fed52d1",
            "placeholder": "​",
            "style": "IPY_MODEL_3db0662685ef4984a94e19b253762d99",
            "value": " 28%"
          }
        },
        "ed451ca242cc464ebcddee9520dd0069": {
          "model_module": "@jupyter-widgets/controls",
          "model_name": "FloatProgressModel",
          "model_module_version": "1.5.0",
          "state": {
            "_dom_classes": [],
            "_model_module": "@jupyter-widgets/controls",
            "_model_module_version": "1.5.0",
            "_model_name": "FloatProgressModel",
            "_view_count": null,
            "_view_module": "@jupyter-widgets/controls",
            "_view_module_version": "1.5.0",
            "_view_name": "ProgressView",
            "bar_style": "",
            "description": "",
            "description_tooltip": null,
            "layout": "IPY_MODEL_e999798dd374495f99f690e4f20e07bf",
            "max": 391,
            "min": 0,
            "orientation": "horizontal",
            "style": "IPY_MODEL_0d61718d57b649e3b259a9148416a163",
            "value": 110
          }
        },
        "f9e5f8340c2547018b313ae27898316e": {
          "model_module": "@jupyter-widgets/controls",
          "model_name": "HTMLModel",
          "model_module_version": "1.5.0",
          "state": {
            "_dom_classes": [],
            "_model_module": "@jupyter-widgets/controls",
            "_model_module_version": "1.5.0",
            "_model_name": "HTMLModel",
            "_view_count": null,
            "_view_module": "@jupyter-widgets/controls",
            "_view_module_version": "1.5.0",
            "_view_name": "HTMLView",
            "description": "",
            "description_tooltip": null,
            "layout": "IPY_MODEL_6b255322ac27489ea24861629c170f20",
            "placeholder": "​",
            "style": "IPY_MODEL_b72fd000080a4e0f97269d6187645886",
            "value": " 110/391 [42:38&lt;1:44:04, 22.22s/it]"
          }
        },
        "ab50516a966c4b619fb9b4cc0f481c24": {
          "model_module": "@jupyter-widgets/base",
          "model_name": "LayoutModel",
          "model_module_version": "1.2.0",
          "state": {
            "_model_module": "@jupyter-widgets/base",
            "_model_module_version": "1.2.0",
            "_model_name": "LayoutModel",
            "_view_count": null,
            "_view_module": "@jupyter-widgets/base",
            "_view_module_version": "1.2.0",
            "_view_name": "LayoutView",
            "align_content": null,
            "align_items": null,
            "align_self": null,
            "border": null,
            "bottom": null,
            "display": null,
            "flex": null,
            "flex_flow": null,
            "grid_area": null,
            "grid_auto_columns": null,
            "grid_auto_flow": null,
            "grid_auto_rows": null,
            "grid_column": null,
            "grid_gap": null,
            "grid_row": null,
            "grid_template_areas": null,
            "grid_template_columns": null,
            "grid_template_rows": null,
            "height": null,
            "justify_content": null,
            "justify_items": null,
            "left": null,
            "margin": null,
            "max_height": null,
            "max_width": null,
            "min_height": null,
            "min_width": null,
            "object_fit": null,
            "object_position": null,
            "order": null,
            "overflow": null,
            "overflow_x": null,
            "overflow_y": null,
            "padding": null,
            "right": null,
            "top": null,
            "visibility": null,
            "width": null
          }
        },
        "1fd763c2fe6f4c8ab88dcaaf5fed52d1": {
          "model_module": "@jupyter-widgets/base",
          "model_name": "LayoutModel",
          "model_module_version": "1.2.0",
          "state": {
            "_model_module": "@jupyter-widgets/base",
            "_model_module_version": "1.2.0",
            "_model_name": "LayoutModel",
            "_view_count": null,
            "_view_module": "@jupyter-widgets/base",
            "_view_module_version": "1.2.0",
            "_view_name": "LayoutView",
            "align_content": null,
            "align_items": null,
            "align_self": null,
            "border": null,
            "bottom": null,
            "display": null,
            "flex": null,
            "flex_flow": null,
            "grid_area": null,
            "grid_auto_columns": null,
            "grid_auto_flow": null,
            "grid_auto_rows": null,
            "grid_column": null,
            "grid_gap": null,
            "grid_row": null,
            "grid_template_areas": null,
            "grid_template_columns": null,
            "grid_template_rows": null,
            "height": null,
            "justify_content": null,
            "justify_items": null,
            "left": null,
            "margin": null,
            "max_height": null,
            "max_width": null,
            "min_height": null,
            "min_width": null,
            "object_fit": null,
            "object_position": null,
            "order": null,
            "overflow": null,
            "overflow_x": null,
            "overflow_y": null,
            "padding": null,
            "right": null,
            "top": null,
            "visibility": null,
            "width": null
          }
        },
        "3db0662685ef4984a94e19b253762d99": {
          "model_module": "@jupyter-widgets/controls",
          "model_name": "DescriptionStyleModel",
          "model_module_version": "1.5.0",
          "state": {
            "_model_module": "@jupyter-widgets/controls",
            "_model_module_version": "1.5.0",
            "_model_name": "DescriptionStyleModel",
            "_view_count": null,
            "_view_module": "@jupyter-widgets/base",
            "_view_module_version": "1.2.0",
            "_view_name": "StyleView",
            "description_width": ""
          }
        },
        "e999798dd374495f99f690e4f20e07bf": {
          "model_module": "@jupyter-widgets/base",
          "model_name": "LayoutModel",
          "model_module_version": "1.2.0",
          "state": {
            "_model_module": "@jupyter-widgets/base",
            "_model_module_version": "1.2.0",
            "_model_name": "LayoutModel",
            "_view_count": null,
            "_view_module": "@jupyter-widgets/base",
            "_view_module_version": "1.2.0",
            "_view_name": "LayoutView",
            "align_content": null,
            "align_items": null,
            "align_self": null,
            "border": null,
            "bottom": null,
            "display": null,
            "flex": null,
            "flex_flow": null,
            "grid_area": null,
            "grid_auto_columns": null,
            "grid_auto_flow": null,
            "grid_auto_rows": null,
            "grid_column": null,
            "grid_gap": null,
            "grid_row": null,
            "grid_template_areas": null,
            "grid_template_columns": null,
            "grid_template_rows": null,
            "height": null,
            "justify_content": null,
            "justify_items": null,
            "left": null,
            "margin": null,
            "max_height": null,
            "max_width": null,
            "min_height": null,
            "min_width": null,
            "object_fit": null,
            "object_position": null,
            "order": null,
            "overflow": null,
            "overflow_x": null,
            "overflow_y": null,
            "padding": null,
            "right": null,
            "top": null,
            "visibility": null,
            "width": null
          }
        },
        "0d61718d57b649e3b259a9148416a163": {
          "model_module": "@jupyter-widgets/controls",
          "model_name": "ProgressStyleModel",
          "model_module_version": "1.5.0",
          "state": {
            "_model_module": "@jupyter-widgets/controls",
            "_model_module_version": "1.5.0",
            "_model_name": "ProgressStyleModel",
            "_view_count": null,
            "_view_module": "@jupyter-widgets/base",
            "_view_module_version": "1.2.0",
            "_view_name": "StyleView",
            "bar_color": null,
            "description_width": ""
          }
        },
        "6b255322ac27489ea24861629c170f20": {
          "model_module": "@jupyter-widgets/base",
          "model_name": "LayoutModel",
          "model_module_version": "1.2.0",
          "state": {
            "_model_module": "@jupyter-widgets/base",
            "_model_module_version": "1.2.0",
            "_model_name": "LayoutModel",
            "_view_count": null,
            "_view_module": "@jupyter-widgets/base",
            "_view_module_version": "1.2.0",
            "_view_name": "LayoutView",
            "align_content": null,
            "align_items": null,
            "align_self": null,
            "border": null,
            "bottom": null,
            "display": null,
            "flex": null,
            "flex_flow": null,
            "grid_area": null,
            "grid_auto_columns": null,
            "grid_auto_flow": null,
            "grid_auto_rows": null,
            "grid_column": null,
            "grid_gap": null,
            "grid_row": null,
            "grid_template_areas": null,
            "grid_template_columns": null,
            "grid_template_rows": null,
            "height": null,
            "justify_content": null,
            "justify_items": null,
            "left": null,
            "margin": null,
            "max_height": null,
            "max_width": null,
            "min_height": null,
            "min_width": null,
            "object_fit": null,
            "object_position": null,
            "order": null,
            "overflow": null,
            "overflow_x": null,
            "overflow_y": null,
            "padding": null,
            "right": null,
            "top": null,
            "visibility": null,
            "width": null
          }
        },
        "b72fd000080a4e0f97269d6187645886": {
          "model_module": "@jupyter-widgets/controls",
          "model_name": "DescriptionStyleModel",
          "model_module_version": "1.5.0",
          "state": {
            "_model_module": "@jupyter-widgets/controls",
            "_model_module_version": "1.5.0",
            "_model_name": "DescriptionStyleModel",
            "_view_count": null,
            "_view_module": "@jupyter-widgets/base",
            "_view_module_version": "1.2.0",
            "_view_name": "StyleView",
            "description_width": ""
          }
        }
      }
    }
  },
  "cells": [
    {
      "cell_type": "markdown",
      "source": [
        "Transformers and Multi-Head Attention"
      ],
      "metadata": {
        "id": "yWeq6iavYQX3"
      }
    },
    {
      "cell_type": "code",
      "execution_count": 2,
      "metadata": {
        "colab": {
          "base_uri": "https://localhost:8080/"
        },
        "id": "SszK_7S_YPkj",
        "outputId": "b28b731f-f17c-4edc-d851-7cb60a5953f9"
      },
      "outputs": [
        {
          "output_type": "stream",
          "name": "stdout",
          "text": [
            "\u001b[31mERROR: pip's dependency resolver does not currently take into account all the packages that are installed. This behaviour is the source of the following dependency conflicts.\n",
            "mizani 0.9.3 requires matplotlib>=3.5.0, but you have matplotlib 3.3.4 which is incompatible.\n",
            "plotnine 0.12.3 requires matplotlib>=3.6.0, but you have matplotlib 3.3.4 which is incompatible.\u001b[0m\u001b[31m\n",
            "\u001b[0m"
          ]
        }
      ],
      "source": [
        "! pip install --quiet \"torchmetrics>=0.7, <0.12\" \"pytorch-lightning>=1.4, <2.0.0\" \"ipython[notebook]>=8.0.0, <8.12.0\" \"setuptools==67.4.0\" \"lightning>=2.0.0rc0\" \"torchvision\" \"matplotlib\" \"torch>=1.8.1, <1.14.0\" \"seaborn\" \"matplotlib>=2.2.3, <3.4.0\""
      ]
    },
    {
      "cell_type": "markdown",
      "source": [
        "Standard Libraries"
      ],
      "metadata": {
        "id": "E4rQiTpCYcFi"
      }
    },
    {
      "cell_type": "code",
      "source": [
        "# Standard libraries\n",
        "import math\n",
        "import os\n",
        "import urllib.request\n",
        "from functools import partial\n",
        "from urllib.error import HTTPError\n",
        "\n",
        "# PyTorch Lightning\n",
        "import lightning as L\n",
        "\n",
        "# Plotting\n",
        "import matplotlib\n",
        "import matplotlib.pyplot as plt\n",
        "import matplotlib_inline.backend_inline\n",
        "import numpy as np\n",
        "import seaborn as sns\n",
        "\n",
        "# PyTorch\n",
        "import torch\n",
        "import torch.nn as nn\n",
        "import torch.nn.functional as F\n",
        "import torch.optim as optim\n",
        "import torch.utils.data as data\n",
        "\n",
        "# Torchvision\n",
        "import torchvision\n",
        "from lightning.pytorch.callbacks import ModelCheckpoint\n",
        "from torchvision import transforms\n",
        "from torchvision.datasets import CIFAR100\n",
        "from tqdm.notebook import tqdm\n",
        "\n",
        "plt.set_cmap(\"cividis\")\n",
        "%matplotlib inline\n",
        "matplotlib_inline.backend_inline.set_matplotlib_formats(\"svg\", \"pdf\")  # For export\n",
        "matplotlib.rcParams[\"lines.linewidth\"] = 2.0\n",
        "sns.reset_orig()\n",
        "\n",
        "# Path to the folder where the datasets are/should be downloaded (e.g. CIFAR10)\n",
        "DATASET_PATH = os.environ.get(\"PATH_DATASETS\", \"data/\")\n",
        "# Path to the folder where the pretrained models are saved\n",
        "CHECKPOINT_PATH = os.environ.get(\"PATH_CHECKPOINT\", \"saved_models/Transformers/\")\n",
        "\n",
        "# Setting the seed\n",
        "L.seed_everything(42)\n",
        "\n",
        "# Ensure that all operations are deterministic on GPU (if used) for reproducibility\n",
        "torch.backends.cudnn.deterministic = True\n",
        "torch.backends.cudnn.benchmark = False\n",
        "\n",
        "device = torch.device(\"cuda:0\") if torch.cuda.is_available() else torch.device(\"cpu\")\n",
        "print(\"Device:\", device)"
      ],
      "metadata": {
        "colab": {
          "base_uri": "https://localhost:8080/"
        },
        "id": "dYrIDBYEYd-J",
        "outputId": "3ce0794f-df05-4f3b-97cd-4674ce9cdbf2"
      },
      "execution_count": 3,
      "outputs": [
        {
          "output_type": "stream",
          "name": "stderr",
          "text": [
            "/usr/lib/python3.10/_collections_abc.py:999: MatplotlibDeprecationWarning: \n",
            "The animation.avconv_args rcparam was deprecated in Matplotlib 3.3 and will be removed two minor releases later.\n",
            "  self[key] = other[key]\n",
            "/usr/lib/python3.10/_collections_abc.py:999: MatplotlibDeprecationWarning: \n",
            "The animation.avconv_path rcparam was deprecated in Matplotlib 3.3 and will be removed two minor releases later.\n",
            "  self[key] = other[key]\n",
            "/usr/lib/python3.10/_collections_abc.py:999: MatplotlibDeprecationWarning: \n",
            "The animation.html_args rcparam was deprecated in Matplotlib 3.3 and will be removed two minor releases later.\n",
            "  self[key] = other[key]\n",
            "/usr/lib/python3.10/_collections_abc.py:999: MatplotlibDeprecationWarning: \n",
            "The keymap.all_axes rcparam was deprecated in Matplotlib 3.3 and will be removed two minor releases later.\n",
            "  self[key] = other[key]\n",
            "/usr/lib/python3.10/_collections_abc.py:999: MatplotlibDeprecationWarning: \n",
            "The savefig.jpeg_quality rcparam was deprecated in Matplotlib 3.3 and will be removed two minor releases later.\n",
            "  self[key] = other[key]\n",
            "/usr/lib/python3.10/_collections_abc.py:999: MatplotlibDeprecationWarning: \n",
            "The text.latex.preview rcparam was deprecated in Matplotlib 3.3 and will be removed two minor releases later.\n",
            "  self[key] = other[key]\n",
            "INFO: Global seed set to 42\n",
            "INFO:lightning.fabric.utilities.seed:Global seed set to 42\n"
          ]
        },
        {
          "output_type": "stream",
          "name": "stdout",
          "text": [
            "Device: cpu\n"
          ]
        }
      ]
    },
    {
      "cell_type": "markdown",
      "source": [
        "Two pre-trained models are downloaded below. Make sure to have adjusted your CHECKPOINT_PATH before running this code if not already done."
      ],
      "metadata": {
        "id": "fP5aZwZRYoGn"
      }
    },
    {
      "cell_type": "code",
      "source": [
        "# Github URL where saved models are stored for this tutorial\n",
        "base_url = \"https://raw.githubusercontent.com/phlippe/saved_models/main/tutorial6/\"\n",
        "# Files to download\n",
        "pretrained_files = [\"ReverseTask.ckpt\", \"SetAnomalyTask.ckpt\"]\n",
        "\n",
        "# Create checkpoint path if it doesn't exist yet\n",
        "os.makedirs(CHECKPOINT_PATH, exist_ok=True)\n",
        "\n",
        "# For each file, check whether it already exists. If not, try downloading it.\n",
        "for file_name in pretrained_files:\n",
        "    file_path = os.path.join(CHECKPOINT_PATH, file_name)\n",
        "    if \"/\" in file_name:\n",
        "        os.makedirs(file_path.rsplit(\"/\", 1)[0], exist_ok=True)\n",
        "    if not os.path.isfile(file_path):\n",
        "        file_url = base_url + file_name\n",
        "        print(\"Downloading %s...\" % file_url)\n",
        "        try:\n",
        "            urllib.request.urlretrieve(file_url, file_path)\n",
        "        except HTTPError as e:\n",
        "            print(\n",
        "                \"Something went wrong. Please try to download the file manually,\"\n",
        "                \" or contact the author with the full output including the following error:\\n\",\n",
        "                e,\n",
        "            )"
      ],
      "metadata": {
        "id": "rrbdeBuTYo6c"
      },
      "execution_count": 4,
      "outputs": []
    },
    {
      "cell_type": "markdown",
      "source": [
        "a function which computes the output features given the triple of queries, keys, and values:"
      ],
      "metadata": {
        "id": "XgLKwkEdY5rE"
      }
    },
    {
      "cell_type": "code",
      "source": [
        "def scaled_dot_product(q, k, v, mask=None):\n",
        "    d_k = q.size()[-1]\n",
        "    attn_logits = torch.matmul(q, k.transpose(-2, -1))\n",
        "    attn_logits = attn_logits / math.sqrt(d_k)\n",
        "    if mask is not None:\n",
        "        attn_logits = attn_logits.masked_fill(mask == 0, -9e15)\n",
        "    attention = F.softmax(attn_logits, dim=-1)\n",
        "    values = torch.matmul(attention, v)\n",
        "    return values, attention"
      ],
      "metadata": {
        "id": "lVBuF0MKY-RS"
      },
      "execution_count": 5,
      "outputs": []
    },
    {
      "cell_type": "markdown",
      "source": [
        "supports any additional dimensionality in front of the sequence length so that we can also use it for batches. However, for a better understanding, let's generate a few random queries, keys, and value vectors, and calculate the attention outputs:"
      ],
      "metadata": {
        "id": "W2P79iy-Y-20"
      }
    },
    {
      "cell_type": "code",
      "source": [
        "seq_len, d_k = 3, 2\n",
        "L.seed_everything(42)\n",
        "q = torch.randn(seq_len, d_k)\n",
        "k = torch.randn(seq_len, d_k)\n",
        "v = torch.randn(seq_len, d_k)\n",
        "values, attention = scaled_dot_product(q, k, v)\n",
        "print(\"Q\\n\", q)\n",
        "print(\"K\\n\", k)\n",
        "print(\"V\\n\", v)\n",
        "print(\"Values\\n\", values)\n",
        "print(\"Attention\\n\", attention)"
      ],
      "metadata": {
        "colab": {
          "base_uri": "https://localhost:8080/"
        },
        "id": "w5IQBJMfZD5N",
        "outputId": "d868beb8-0f70-4d3a-f8ed-bcab9d7aa7bc"
      },
      "execution_count": 6,
      "outputs": [
        {
          "output_type": "stream",
          "name": "stderr",
          "text": [
            "INFO: Global seed set to 42\n",
            "INFO:lightning.fabric.utilities.seed:Global seed set to 42\n"
          ]
        },
        {
          "output_type": "stream",
          "name": "stdout",
          "text": [
            "Q\n",
            " tensor([[ 0.3367,  0.1288],\n",
            "        [ 0.2345,  0.2303],\n",
            "        [-1.1229, -0.1863]])\n",
            "K\n",
            " tensor([[ 2.2082, -0.6380],\n",
            "        [ 0.4617,  0.2674],\n",
            "        [ 0.5349,  0.8094]])\n",
            "V\n",
            " tensor([[ 1.1103, -1.6898],\n",
            "        [-0.9890,  0.9580],\n",
            "        [ 1.3221,  0.8172]])\n",
            "Values\n",
            " tensor([[ 0.5698, -0.1520],\n",
            "        [ 0.5379, -0.0265],\n",
            "        [ 0.2246,  0.5556]])\n",
            "Attention\n",
            " tensor([[0.4028, 0.2886, 0.3086],\n",
            "        [0.3538, 0.3069, 0.3393],\n",
            "        [0.1303, 0.4630, 0.4067]])\n"
          ]
        }
      ]
    },
    {
      "cell_type": "markdown",
      "source": [
        "# Multi-Head Attention"
      ],
      "metadata": {
        "id": "vkZixyNvZP7D"
      }
    },
    {
      "cell_type": "code",
      "source": [
        "class MultiheadAttention(nn.Module):\n",
        "    def __init__(self, input_dim, embed_dim, num_heads):\n",
        "        super().__init__()\n",
        "        assert embed_dim % num_heads == 0, \"Embedding dimension must be 0 modulo number of heads.\"\n",
        "\n",
        "        self.embed_dim = embed_dim\n",
        "        self.num_heads = num_heads\n",
        "        self.head_dim = embed_dim // num_heads\n",
        "\n",
        "        # Stack all weight matrices 1...h together for efficiency\n",
        "        # Note that in many implementations you see \"bias=False\" which is optional\n",
        "        self.qkv_proj = nn.Linear(input_dim, 3 * embed_dim)\n",
        "        self.o_proj = nn.Linear(embed_dim, embed_dim)\n",
        "\n",
        "        self._reset_parameters()\n",
        "\n",
        "    def _reset_parameters(self):\n",
        "        # Original Transformer initialization, see PyTorch documentation\n",
        "        nn.init.xavier_uniform_(self.qkv_proj.weight)\n",
        "        self.qkv_proj.bias.data.fill_(0)\n",
        "        nn.init.xavier_uniform_(self.o_proj.weight)\n",
        "        self.o_proj.bias.data.fill_(0)\n",
        "\n",
        "    def forward(self, x, mask=None, return_attention=False):\n",
        "        batch_size, seq_length, embed_dim = x.size()\n",
        "        qkv = self.qkv_proj(x)\n",
        "\n",
        "        # Separate Q, K, V from linear output\n",
        "        qkv = qkv.reshape(batch_size, seq_length, self.num_heads, 3 * self.head_dim)\n",
        "        qkv = qkv.permute(0, 2, 1, 3)  # [Batch, Head, SeqLen, Dims]\n",
        "        q, k, v = qkv.chunk(3, dim=-1)\n",
        "\n",
        "        # Determine value outputs\n",
        "        values, attention = scaled_dot_product(q, k, v, mask=mask)\n",
        "        values = values.permute(0, 2, 1, 3)  # [Batch, SeqLen, Head, Dims]\n",
        "        values = values.reshape(batch_size, seq_length, embed_dim)\n",
        "        o = self.o_proj(values)\n",
        "\n",
        "        if return_attention:\n",
        "            return o, attention\n",
        "        else:\n",
        "            return o"
      ],
      "metadata": {
        "id": "MZF0vTSXZacD"
      },
      "execution_count": 7,
      "outputs": []
    },
    {
      "cell_type": "markdown",
      "source": [
        "Transformer Encoder"
      ],
      "metadata": {
        "id": "w-ClSHh8ZbjR"
      }
    },
    {
      "cell_type": "code",
      "source": [
        "class EncoderBlock(nn.Module):\n",
        "    def __init__(self, input_dim, num_heads, dim_feedforward, dropout=0.0):\n",
        "        \"\"\"EncoderBlock.\n",
        "\n",
        "        Args:\n",
        "            input_dim: Dimensionality of the input\n",
        "            num_heads: Number of heads to use in the attention block\n",
        "            dim_feedforward: Dimensionality of the hidden layer in the MLP\n",
        "            dropout: Dropout probability to use in the dropout layers\n",
        "        \"\"\"\n",
        "        super().__init__()\n",
        "\n",
        "        # Attention layer\n",
        "        self.self_attn = MultiheadAttention(input_dim, input_dim, num_heads)\n",
        "\n",
        "        # Two-layer MLP\n",
        "        self.linear_net = nn.Sequential(\n",
        "            nn.Linear(input_dim, dim_feedforward),\n",
        "            nn.Dropout(dropout),\n",
        "            nn.ReLU(inplace=True),\n",
        "            nn.Linear(dim_feedforward, input_dim),\n",
        "        )\n",
        "\n",
        "        # Layers to apply in between the main layers\n",
        "        self.norm1 = nn.LayerNorm(input_dim)\n",
        "        self.norm2 = nn.LayerNorm(input_dim)\n",
        "        self.dropout = nn.Dropout(dropout)\n",
        "\n",
        "    def forward(self, x, mask=None):\n",
        "        # Attention part\n",
        "        attn_out = self.self_attn(x, mask=mask)\n",
        "        x = x + self.dropout(attn_out)\n",
        "        x = self.norm1(x)\n",
        "\n",
        "        # MLP part\n",
        "        linear_out = self.linear_net(x)\n",
        "        x = x + self.dropout(linear_out)\n",
        "        x = self.norm2(x)\n",
        "\n",
        "        return x"
      ],
      "metadata": {
        "id": "TVZ-3QBbZeRF"
      },
      "execution_count": 8,
      "outputs": []
    },
    {
      "cell_type": "markdown",
      "source": [
        "transformer"
      ],
      "metadata": {
        "id": "gT9TUdlHZyK0"
      }
    },
    {
      "cell_type": "code",
      "source": [
        "class TransformerEncoder(nn.Module):\n",
        "    def __init__(self, num_layers, **block_args):\n",
        "        super().__init__()\n",
        "        self.layers = nn.ModuleList([EncoderBlock(**block_args) for _ in range(num_layers)])\n",
        "\n",
        "    def forward(self, x, mask=None):\n",
        "        for layer in self.layers:\n",
        "            x = layer(x, mask=mask)\n",
        "        return x\n",
        "\n",
        "    def get_attention_maps(self, x, mask=None):\n",
        "        attention_maps = []\n",
        "        for layer in self.layers:\n",
        "            _, attn_map = layer.self_attn(x, mask=mask, return_attention=True)\n",
        "            attention_maps.append(attn_map)\n",
        "            x = layer(x)\n",
        "        return attention_maps"
      ],
      "metadata": {
        "id": "jNU89_LWZzXE"
      },
      "execution_count": 9,
      "outputs": []
    },
    {
      "cell_type": "markdown",
      "source": [
        "# Positional encoding"
      ],
      "metadata": {
        "id": "CRCqHbs5Z4Li"
      }
    },
    {
      "cell_type": "code",
      "source": [
        "class PositionalEncoding(nn.Module):\n",
        "    def __init__(self, d_model, max_len=5000):\n",
        "        \"\"\"Positional Encoding.\n",
        "\n",
        "        Args:\n",
        "            d_model: Hidden dimensionality of the input.\n",
        "            max_len: Maximum length of a sequence to expect.\n",
        "        \"\"\"\n",
        "        super().__init__()\n",
        "\n",
        "        # Create matrix of [SeqLen, HiddenDim] representing the positional encoding for max_len inputs\n",
        "        pe = torch.zeros(max_len, d_model)\n",
        "        position = torch.arange(0, max_len, dtype=torch.float).unsqueeze(1)\n",
        "        div_term = torch.exp(torch.arange(0, d_model, 2).float() * (-math.log(10000.0) / d_model))\n",
        "        pe[:, 0::2] = torch.sin(position * div_term)\n",
        "        pe[:, 1::2] = torch.cos(position * div_term)\n",
        "        pe = pe.unsqueeze(0)\n",
        "\n",
        "        # register_buffer => Tensor which is not a parameter, but should be part of the modules state.\n",
        "        # Used for tensors that need to be on the same device as the module.\n",
        "        # persistent=False tells PyTorch to not add the buffer to the state dict (e.g. when we save the model)\n",
        "        self.register_buffer(\"pe\", pe, persistent=False)\n",
        "\n",
        "    def forward(self, x):\n",
        "        x = x + self.pe[:, : x.size(1)]\n",
        "        return x"
      ],
      "metadata": {
        "id": "egutMjimZ5qr"
      },
      "execution_count": 10,
      "outputs": []
    },
    {
      "cell_type": "code",
      "source": [
        "encod_block = PositionalEncoding(d_model=48, max_len=96)\n",
        "pe = encod_block.pe.squeeze().T.cpu().numpy()\n",
        "\n",
        "fig, ax = plt.subplots(nrows=1, ncols=1, figsize=(8, 3))\n",
        "pos = ax.imshow(pe, cmap=\"RdGy\", extent=(1, pe.shape[1] + 1, pe.shape[0] + 1, 1))\n",
        "fig.colorbar(pos, ax=ax)\n",
        "ax.set_xlabel(\"Position in sequence\")\n",
        "ax.set_ylabel(\"Hidden dimension\")\n",
        "ax.set_title(\"Positional encoding over hidden dimensions\")\n",
        "ax.set_xticks([1] + [i * 10 for i in range(1, 1 + pe.shape[1] // 10)])\n",
        "ax.set_yticks([1] + [i * 10 for i in range(1, 1 + pe.shape[0] // 10)])\n",
        "plt.show()"
      ],
      "metadata": {
        "colab": {
          "base_uri": "https://localhost:8080/",
          "height": 319
        },
        "id": "u6Is4LNnZ-Mx",
        "outputId": "7eb09dd1-fb7e-4347-b1e8-ca9c20a1bb57"
      },
      "execution_count": 12,
      "outputs": [
        {
          "output_type": "display_data",
          "data": {
            "text/plain": [
              "<Figure size 576x216 with 2 Axes>"
            ],
            "image/svg+xml": "<?xml version=\"1.0\" encoding=\"utf-8\" standalone=\"no\"?>\n<!DOCTYPE svg PUBLIC \"-//W3C//DTD SVG 1.1//EN\"\n  \"http://www.w3.org/Graphics/SVG/1.1/DTD/svg11.dtd\">\n<!-- Created with matplotlib (https://matplotlib.org/) -->\n<svg height=\"222.954375pt\" version=\"1.1\" viewBox=\"0 0 442.082438 222.954375\" width=\"442.082438pt\" xmlns=\"http://www.w3.org/2000/svg\" xmlns:xlink=\"http://www.w3.org/1999/xlink\">\n <metadata>\n  <rdf:RDF xmlns:cc=\"http://creativecommons.org/ns#\" xmlns:dc=\"http://purl.org/dc/elements/1.1/\" xmlns:rdf=\"http://www.w3.org/1999/02/22-rdf-syntax-ns#\">\n   <cc:Work>\n    <dc:type rdf:resource=\"http://purl.org/dc/dcmitype/StillImage\"/>\n    <dc:date>2023-09-16T00:42:43.881216</dc:date>\n    <dc:format>image/svg+xml</dc:format>\n    <dc:creator>\n     <cc:Agent>\n      <dc:title>Matplotlib v3.3.4, https://matplotlib.org/</dc:title>\n     </cc:Agent>\n    </dc:creator>\n   </cc:Work>\n  </rdf:RDF>\n </metadata>\n <defs>\n  <style type=\"text/css\">*{stroke-linecap:butt;stroke-linejoin:round;}</style>\n </defs>\n <g id=\"figure_1\">\n  <g id=\"patch_1\">\n   <path d=\"M 0 222.954375 \nL 442.082438 222.954375 \nL 442.082438 0 \nL 0 0 \nz\n\" style=\"fill:none;\"/>\n  </g>\n  <g id=\"axes_1\">\n   <g id=\"patch_2\">\n    <path d=\"M 40.603125 185.398125 \nL 366.763125 185.398125 \nL 366.763125 22.318125 \nL 40.603125 22.318125 \nz\n\" style=\"fill:#ffffff;\"/>\n   </g>\n   <g clip-path=\"url(#p707692707e)\">\n    <image height=\"164\" id=\"image40e93defcd\" transform=\"scale(1 -1)translate(0 -164)\" width=\"327\" x=\"40.603125\" xlink:href=\"data:image/png;base64,\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\" y=\"-21.398125\"/>\n   </g>\n   <g id=\"matplotlib.axis_1\">\n    <g id=\"xtick_1\">\n     <g id=\"line2d_1\">\n      <defs>\n       <path d=\"M 0 0 \nL 0 3.5 \n\" id=\"mfb02752186\" style=\"stroke:#000000;stroke-width:0.8;\"/>\n      </defs>\n      <g>\n       <use style=\"stroke:#000000;stroke-width:0.8;\" x=\"40.603125\" xlink:href=\"#mfb02752186\" y=\"185.398125\"/>\n      </g>\n     </g>\n     <g id=\"text_1\">\n      <!-- 1 -->\n      <g transform=\"translate(37.421875 199.996562)scale(0.1 -0.1)\">\n       <defs>\n        <path d=\"M 12.40625 8.296875 \nL 28.515625 8.296875 \nL 28.515625 63.921875 \nL 10.984375 60.40625 \nL 10.984375 69.390625 \nL 28.421875 72.90625 \nL 38.28125 72.90625 \nL 38.28125 8.296875 \nL 54.390625 8.296875 \nL 54.390625 0 \nL 12.40625 0 \nz\n\" id=\"DejaVuSans-49\"/>\n       </defs>\n       <use xlink:href=\"#DejaVuSans-49\"/>\n      </g>\n     </g>\n    </g>\n    <g id=\"xtick_2\">\n     <g id=\"line2d_2\">\n      <g>\n       <use style=\"stroke:#000000;stroke-width:0.8;\" x=\"71.180625\" xlink:href=\"#mfb02752186\" y=\"185.398125\"/>\n      </g>\n     </g>\n     <g id=\"text_2\">\n      <!-- 10 -->\n      <g transform=\"translate(64.818125 199.996562)scale(0.1 -0.1)\">\n       <defs>\n        <path d=\"M 31.78125 66.40625 \nQ 24.171875 66.40625 20.328125 58.90625 \nQ 16.5 51.421875 16.5 36.375 \nQ 16.5 21.390625 20.328125 13.890625 \nQ 24.171875 6.390625 31.78125 6.390625 \nQ 39.453125 6.390625 43.28125 13.890625 \nQ 47.125 21.390625 47.125 36.375 \nQ 47.125 51.421875 43.28125 58.90625 \nQ 39.453125 66.40625 31.78125 66.40625 \nz\nM 31.78125 74.21875 \nQ 44.046875 74.21875 50.515625 64.515625 \nQ 56.984375 54.828125 56.984375 36.375 \nQ 56.984375 17.96875 50.515625 8.265625 \nQ 44.046875 -1.421875 31.78125 -1.421875 \nQ 19.53125 -1.421875 13.0625 8.265625 \nQ 6.59375 17.96875 6.59375 36.375 \nQ 6.59375 54.828125 13.0625 64.515625 \nQ 19.53125 74.21875 31.78125 74.21875 \nz\n\" id=\"DejaVuSans-48\"/>\n       </defs>\n       <use xlink:href=\"#DejaVuSans-49\"/>\n       <use x=\"63.623047\" xlink:href=\"#DejaVuSans-48\"/>\n      </g>\n     </g>\n    </g>\n    <g id=\"xtick_3\">\n     <g id=\"line2d_3\">\n      <g>\n       <use style=\"stroke:#000000;stroke-width:0.8;\" x=\"105.155625\" xlink:href=\"#mfb02752186\" y=\"185.398125\"/>\n      </g>\n     </g>\n     <g id=\"text_3\">\n      <!-- 20 -->\n      <g transform=\"translate(98.793125 199.996562)scale(0.1 -0.1)\">\n       <defs>\n        <path d=\"M 19.1875 8.296875 \nL 53.609375 8.296875 \nL 53.609375 0 \nL 7.328125 0 \nL 7.328125 8.296875 \nQ 12.9375 14.109375 22.625 23.890625 \nQ 32.328125 33.6875 34.8125 36.53125 \nQ 39.546875 41.84375 41.421875 45.53125 \nQ 43.3125 49.21875 43.3125 52.78125 \nQ 43.3125 58.59375 39.234375 62.25 \nQ 35.15625 65.921875 28.609375 65.921875 \nQ 23.96875 65.921875 18.8125 64.3125 \nQ 13.671875 62.703125 7.8125 59.421875 \nL 7.8125 69.390625 \nQ 13.765625 71.78125 18.9375 73 \nQ 24.125 74.21875 28.421875 74.21875 \nQ 39.75 74.21875 46.484375 68.546875 \nQ 53.21875 62.890625 53.21875 53.421875 \nQ 53.21875 48.921875 51.53125 44.890625 \nQ 49.859375 40.875 45.40625 35.40625 \nQ 44.1875 33.984375 37.640625 27.21875 \nQ 31.109375 20.453125 19.1875 8.296875 \nz\n\" id=\"DejaVuSans-50\"/>\n       </defs>\n       <use xlink:href=\"#DejaVuSans-50\"/>\n       <use x=\"63.623047\" xlink:href=\"#DejaVuSans-48\"/>\n      </g>\n     </g>\n    </g>\n    <g id=\"xtick_4\">\n     <g id=\"line2d_4\">\n      <g>\n       <use style=\"stroke:#000000;stroke-width:0.8;\" x=\"139.130625\" xlink:href=\"#mfb02752186\" y=\"185.398125\"/>\n      </g>\n     </g>\n     <g id=\"text_4\">\n      <!-- 30 -->\n      <g transform=\"translate(132.768125 199.996562)scale(0.1 -0.1)\">\n       <defs>\n        <path d=\"M 40.578125 39.3125 \nQ 47.65625 37.796875 51.625 33 \nQ 55.609375 28.21875 55.609375 21.1875 \nQ 55.609375 10.40625 48.1875 4.484375 \nQ 40.765625 -1.421875 27.09375 -1.421875 \nQ 22.515625 -1.421875 17.65625 -0.515625 \nQ 12.796875 0.390625 7.625 2.203125 \nL 7.625 11.71875 \nQ 11.71875 9.328125 16.59375 8.109375 \nQ 21.484375 6.890625 26.8125 6.890625 \nQ 36.078125 6.890625 40.9375 10.546875 \nQ 45.796875 14.203125 45.796875 21.1875 \nQ 45.796875 27.640625 41.28125 31.265625 \nQ 36.765625 34.90625 28.71875 34.90625 \nL 20.21875 34.90625 \nL 20.21875 43.015625 \nL 29.109375 43.015625 \nQ 36.375 43.015625 40.234375 45.921875 \nQ 44.09375 48.828125 44.09375 54.296875 \nQ 44.09375 59.90625 40.109375 62.90625 \nQ 36.140625 65.921875 28.71875 65.921875 \nQ 24.65625 65.921875 20.015625 65.03125 \nQ 15.375 64.15625 9.8125 62.3125 \nL 9.8125 71.09375 \nQ 15.4375 72.65625 20.34375 73.4375 \nQ 25.25 74.21875 29.59375 74.21875 \nQ 40.828125 74.21875 47.359375 69.109375 \nQ 53.90625 64.015625 53.90625 55.328125 \nQ 53.90625 49.265625 50.4375 45.09375 \nQ 46.96875 40.921875 40.578125 39.3125 \nz\n\" id=\"DejaVuSans-51\"/>\n       </defs>\n       <use xlink:href=\"#DejaVuSans-51\"/>\n       <use x=\"63.623047\" xlink:href=\"#DejaVuSans-48\"/>\n      </g>\n     </g>\n    </g>\n    <g id=\"xtick_5\">\n     <g id=\"line2d_5\">\n      <g>\n       <use style=\"stroke:#000000;stroke-width:0.8;\" x=\"173.105625\" xlink:href=\"#mfb02752186\" y=\"185.398125\"/>\n      </g>\n     </g>\n     <g id=\"text_5\">\n      <!-- 40 -->\n      <g transform=\"translate(166.743125 199.996562)scale(0.1 -0.1)\">\n       <defs>\n        <path d=\"M 37.796875 64.3125 \nL 12.890625 25.390625 \nL 37.796875 25.390625 \nz\nM 35.203125 72.90625 \nL 47.609375 72.90625 \nL 47.609375 25.390625 \nL 58.015625 25.390625 \nL 58.015625 17.1875 \nL 47.609375 17.1875 \nL 47.609375 0 \nL 37.796875 0 \nL 37.796875 17.1875 \nL 4.890625 17.1875 \nL 4.890625 26.703125 \nz\n\" id=\"DejaVuSans-52\"/>\n       </defs>\n       <use xlink:href=\"#DejaVuSans-52\"/>\n       <use x=\"63.623047\" xlink:href=\"#DejaVuSans-48\"/>\n      </g>\n     </g>\n    </g>\n    <g id=\"xtick_6\">\n     <g id=\"line2d_6\">\n      <g>\n       <use style=\"stroke:#000000;stroke-width:0.8;\" x=\"207.080625\" xlink:href=\"#mfb02752186\" y=\"185.398125\"/>\n      </g>\n     </g>\n     <g id=\"text_6\">\n      <!-- 50 -->\n      <g transform=\"translate(200.718125 199.996562)scale(0.1 -0.1)\">\n       <defs>\n        <path d=\"M 10.796875 72.90625 \nL 49.515625 72.90625 \nL 49.515625 64.59375 \nL 19.828125 64.59375 \nL 19.828125 46.734375 \nQ 21.96875 47.46875 24.109375 47.828125 \nQ 26.265625 48.1875 28.421875 48.1875 \nQ 40.625 48.1875 47.75 41.5 \nQ 54.890625 34.8125 54.890625 23.390625 \nQ 54.890625 11.625 47.5625 5.09375 \nQ 40.234375 -1.421875 26.90625 -1.421875 \nQ 22.3125 -1.421875 17.546875 -0.640625 \nQ 12.796875 0.140625 7.71875 1.703125 \nL 7.71875 11.625 \nQ 12.109375 9.234375 16.796875 8.0625 \nQ 21.484375 6.890625 26.703125 6.890625 \nQ 35.15625 6.890625 40.078125 11.328125 \nQ 45.015625 15.765625 45.015625 23.390625 \nQ 45.015625 31 40.078125 35.4375 \nQ 35.15625 39.890625 26.703125 39.890625 \nQ 22.75 39.890625 18.8125 39.015625 \nQ 14.890625 38.140625 10.796875 36.28125 \nz\n\" id=\"DejaVuSans-53\"/>\n       </defs>\n       <use xlink:href=\"#DejaVuSans-53\"/>\n       <use x=\"63.623047\" xlink:href=\"#DejaVuSans-48\"/>\n      </g>\n     </g>\n    </g>\n    <g id=\"xtick_7\">\n     <g id=\"line2d_7\">\n      <g>\n       <use style=\"stroke:#000000;stroke-width:0.8;\" x=\"241.055625\" xlink:href=\"#mfb02752186\" y=\"185.398125\"/>\n      </g>\n     </g>\n     <g id=\"text_7\">\n      <!-- 60 -->\n      <g transform=\"translate(234.693125 199.996562)scale(0.1 -0.1)\">\n       <defs>\n        <path d=\"M 33.015625 40.375 \nQ 26.375 40.375 22.484375 35.828125 \nQ 18.609375 31.296875 18.609375 23.390625 \nQ 18.609375 15.53125 22.484375 10.953125 \nQ 26.375 6.390625 33.015625 6.390625 \nQ 39.65625 6.390625 43.53125 10.953125 \nQ 47.40625 15.53125 47.40625 23.390625 \nQ 47.40625 31.296875 43.53125 35.828125 \nQ 39.65625 40.375 33.015625 40.375 \nz\nM 52.59375 71.296875 \nL 52.59375 62.3125 \nQ 48.875 64.0625 45.09375 64.984375 \nQ 41.3125 65.921875 37.59375 65.921875 \nQ 27.828125 65.921875 22.671875 59.328125 \nQ 17.53125 52.734375 16.796875 39.40625 \nQ 19.671875 43.65625 24.015625 45.921875 \nQ 28.375 48.1875 33.59375 48.1875 \nQ 44.578125 48.1875 50.953125 41.515625 \nQ 57.328125 34.859375 57.328125 23.390625 \nQ 57.328125 12.15625 50.6875 5.359375 \nQ 44.046875 -1.421875 33.015625 -1.421875 \nQ 20.359375 -1.421875 13.671875 8.265625 \nQ 6.984375 17.96875 6.984375 36.375 \nQ 6.984375 53.65625 15.1875 63.9375 \nQ 23.390625 74.21875 37.203125 74.21875 \nQ 40.921875 74.21875 44.703125 73.484375 \nQ 48.484375 72.75 52.59375 71.296875 \nz\n\" id=\"DejaVuSans-54\"/>\n       </defs>\n       <use xlink:href=\"#DejaVuSans-54\"/>\n       <use x=\"63.623047\" xlink:href=\"#DejaVuSans-48\"/>\n      </g>\n     </g>\n    </g>\n    <g id=\"xtick_8\">\n     <g id=\"line2d_8\">\n      <g>\n       <use style=\"stroke:#000000;stroke-width:0.8;\" x=\"275.030625\" xlink:href=\"#mfb02752186\" y=\"185.398125\"/>\n      </g>\n     </g>\n     <g id=\"text_8\">\n      <!-- 70 -->\n      <g transform=\"translate(268.668125 199.996562)scale(0.1 -0.1)\">\n       <defs>\n        <path d=\"M 8.203125 72.90625 \nL 55.078125 72.90625 \nL 55.078125 68.703125 \nL 28.609375 0 \nL 18.3125 0 \nL 43.21875 64.59375 \nL 8.203125 64.59375 \nz\n\" id=\"DejaVuSans-55\"/>\n       </defs>\n       <use xlink:href=\"#DejaVuSans-55\"/>\n       <use x=\"63.623047\" xlink:href=\"#DejaVuSans-48\"/>\n      </g>\n     </g>\n    </g>\n    <g id=\"xtick_9\">\n     <g id=\"line2d_9\">\n      <g>\n       <use style=\"stroke:#000000;stroke-width:0.8;\" x=\"309.005625\" xlink:href=\"#mfb02752186\" y=\"185.398125\"/>\n      </g>\n     </g>\n     <g id=\"text_9\">\n      <!-- 80 -->\n      <g transform=\"translate(302.643125 199.996562)scale(0.1 -0.1)\">\n       <defs>\n        <path d=\"M 31.78125 34.625 \nQ 24.75 34.625 20.71875 30.859375 \nQ 16.703125 27.09375 16.703125 20.515625 \nQ 16.703125 13.921875 20.71875 10.15625 \nQ 24.75 6.390625 31.78125 6.390625 \nQ 38.8125 6.390625 42.859375 10.171875 \nQ 46.921875 13.96875 46.921875 20.515625 \nQ 46.921875 27.09375 42.890625 30.859375 \nQ 38.875 34.625 31.78125 34.625 \nz\nM 21.921875 38.8125 \nQ 15.578125 40.375 12.03125 44.71875 \nQ 8.5 49.078125 8.5 55.328125 \nQ 8.5 64.0625 14.71875 69.140625 \nQ 20.953125 74.21875 31.78125 74.21875 \nQ 42.671875 74.21875 48.875 69.140625 \nQ 55.078125 64.0625 55.078125 55.328125 \nQ 55.078125 49.078125 51.53125 44.71875 \nQ 48 40.375 41.703125 38.8125 \nQ 48.828125 37.15625 52.796875 32.3125 \nQ 56.78125 27.484375 56.78125 20.515625 \nQ 56.78125 9.90625 50.3125 4.234375 \nQ 43.84375 -1.421875 31.78125 -1.421875 \nQ 19.734375 -1.421875 13.25 4.234375 \nQ 6.78125 9.90625 6.78125 20.515625 \nQ 6.78125 27.484375 10.78125 32.3125 \nQ 14.796875 37.15625 21.921875 38.8125 \nz\nM 18.3125 54.390625 \nQ 18.3125 48.734375 21.84375 45.5625 \nQ 25.390625 42.390625 31.78125 42.390625 \nQ 38.140625 42.390625 41.71875 45.5625 \nQ 45.3125 48.734375 45.3125 54.390625 \nQ 45.3125 60.0625 41.71875 63.234375 \nQ 38.140625 66.40625 31.78125 66.40625 \nQ 25.390625 66.40625 21.84375 63.234375 \nQ 18.3125 60.0625 18.3125 54.390625 \nz\n\" id=\"DejaVuSans-56\"/>\n       </defs>\n       <use xlink:href=\"#DejaVuSans-56\"/>\n       <use x=\"63.623047\" xlink:href=\"#DejaVuSans-48\"/>\n      </g>\n     </g>\n    </g>\n    <g id=\"xtick_10\">\n     <g id=\"line2d_10\">\n      <g>\n       <use style=\"stroke:#000000;stroke-width:0.8;\" x=\"342.980625\" xlink:href=\"#mfb02752186\" y=\"185.398125\"/>\n      </g>\n     </g>\n     <g id=\"text_10\">\n      <!-- 90 -->\n      <g transform=\"translate(336.618125 199.996562)scale(0.1 -0.1)\">\n       <defs>\n        <path d=\"M 10.984375 1.515625 \nL 10.984375 10.5 \nQ 14.703125 8.734375 18.5 7.8125 \nQ 22.3125 6.890625 25.984375 6.890625 \nQ 35.75 6.890625 40.890625 13.453125 \nQ 46.046875 20.015625 46.78125 33.40625 \nQ 43.953125 29.203125 39.59375 26.953125 \nQ 35.25 24.703125 29.984375 24.703125 \nQ 19.046875 24.703125 12.671875 31.3125 \nQ 6.296875 37.9375 6.296875 49.421875 \nQ 6.296875 60.640625 12.9375 67.421875 \nQ 19.578125 74.21875 30.609375 74.21875 \nQ 43.265625 74.21875 49.921875 64.515625 \nQ 56.59375 54.828125 56.59375 36.375 \nQ 56.59375 19.140625 48.40625 8.859375 \nQ 40.234375 -1.421875 26.421875 -1.421875 \nQ 22.703125 -1.421875 18.890625 -0.6875 \nQ 15.09375 0.046875 10.984375 1.515625 \nz\nM 30.609375 32.421875 \nQ 37.25 32.421875 41.125 36.953125 \nQ 45.015625 41.5 45.015625 49.421875 \nQ 45.015625 57.28125 41.125 61.84375 \nQ 37.25 66.40625 30.609375 66.40625 \nQ 23.96875 66.40625 20.09375 61.84375 \nQ 16.21875 57.28125 16.21875 49.421875 \nQ 16.21875 41.5 20.09375 36.953125 \nQ 23.96875 32.421875 30.609375 32.421875 \nz\n\" id=\"DejaVuSans-57\"/>\n       </defs>\n       <use xlink:href=\"#DejaVuSans-57\"/>\n       <use x=\"63.623047\" xlink:href=\"#DejaVuSans-48\"/>\n      </g>\n     </g>\n    </g>\n    <g id=\"text_11\">\n     <!-- Position in sequence -->\n     <g transform=\"translate(152.387813 213.674688)scale(0.1 -0.1)\">\n      <defs>\n       <path d=\"M 19.671875 64.796875 \nL 19.671875 37.40625 \nL 32.078125 37.40625 \nQ 38.96875 37.40625 42.71875 40.96875 \nQ 46.484375 44.53125 46.484375 51.125 \nQ 46.484375 57.671875 42.71875 61.234375 \nQ 38.96875 64.796875 32.078125 64.796875 \nz\nM 9.8125 72.90625 \nL 32.078125 72.90625 \nQ 44.34375 72.90625 50.609375 67.359375 \nQ 56.890625 61.8125 56.890625 51.125 \nQ 56.890625 40.328125 50.609375 34.8125 \nQ 44.34375 29.296875 32.078125 29.296875 \nL 19.671875 29.296875 \nL 19.671875 0 \nL 9.8125 0 \nz\n\" id=\"DejaVuSans-80\"/>\n       <path d=\"M 30.609375 48.390625 \nQ 23.390625 48.390625 19.1875 42.75 \nQ 14.984375 37.109375 14.984375 27.296875 \nQ 14.984375 17.484375 19.15625 11.84375 \nQ 23.34375 6.203125 30.609375 6.203125 \nQ 37.796875 6.203125 41.984375 11.859375 \nQ 46.1875 17.53125 46.1875 27.296875 \nQ 46.1875 37.015625 41.984375 42.703125 \nQ 37.796875 48.390625 30.609375 48.390625 \nz\nM 30.609375 56 \nQ 42.328125 56 49.015625 48.375 \nQ 55.71875 40.765625 55.71875 27.296875 \nQ 55.71875 13.875 49.015625 6.21875 \nQ 42.328125 -1.421875 30.609375 -1.421875 \nQ 18.84375 -1.421875 12.171875 6.21875 \nQ 5.515625 13.875 5.515625 27.296875 \nQ 5.515625 40.765625 12.171875 48.375 \nQ 18.84375 56 30.609375 56 \nz\n\" id=\"DejaVuSans-111\"/>\n       <path d=\"M 44.28125 53.078125 \nL 44.28125 44.578125 \nQ 40.484375 46.53125 36.375 47.5 \nQ 32.28125 48.484375 27.875 48.484375 \nQ 21.1875 48.484375 17.84375 46.4375 \nQ 14.5 44.390625 14.5 40.28125 \nQ 14.5 37.15625 16.890625 35.375 \nQ 19.28125 33.59375 26.515625 31.984375 \nL 29.59375 31.296875 \nQ 39.15625 29.25 43.1875 25.515625 \nQ 47.21875 21.78125 47.21875 15.09375 \nQ 47.21875 7.46875 41.1875 3.015625 \nQ 35.15625 -1.421875 24.609375 -1.421875 \nQ 20.21875 -1.421875 15.453125 -0.5625 \nQ 10.6875 0.296875 5.421875 2 \nL 5.421875 11.28125 \nQ 10.40625 8.6875 15.234375 7.390625 \nQ 20.0625 6.109375 24.8125 6.109375 \nQ 31.15625 6.109375 34.5625 8.28125 \nQ 37.984375 10.453125 37.984375 14.40625 \nQ 37.984375 18.0625 35.515625 20.015625 \nQ 33.0625 21.96875 24.703125 23.78125 \nL 21.578125 24.515625 \nQ 13.234375 26.265625 9.515625 29.90625 \nQ 5.8125 33.546875 5.8125 39.890625 \nQ 5.8125 47.609375 11.28125 51.796875 \nQ 16.75 56 26.8125 56 \nQ 31.78125 56 36.171875 55.265625 \nQ 40.578125 54.546875 44.28125 53.078125 \nz\n\" id=\"DejaVuSans-115\"/>\n       <path d=\"M 9.421875 54.6875 \nL 18.40625 54.6875 \nL 18.40625 0 \nL 9.421875 0 \nz\nM 9.421875 75.984375 \nL 18.40625 75.984375 \nL 18.40625 64.59375 \nL 9.421875 64.59375 \nz\n\" id=\"DejaVuSans-105\"/>\n       <path d=\"M 18.3125 70.21875 \nL 18.3125 54.6875 \nL 36.8125 54.6875 \nL 36.8125 47.703125 \nL 18.3125 47.703125 \nL 18.3125 18.015625 \nQ 18.3125 11.328125 20.140625 9.421875 \nQ 21.96875 7.515625 27.59375 7.515625 \nL 36.8125 7.515625 \nL 36.8125 0 \nL 27.59375 0 \nQ 17.1875 0 13.234375 3.875 \nQ 9.28125 7.765625 9.28125 18.015625 \nL 9.28125 47.703125 \nL 2.6875 47.703125 \nL 2.6875 54.6875 \nL 9.28125 54.6875 \nL 9.28125 70.21875 \nz\n\" id=\"DejaVuSans-116\"/>\n       <path d=\"M 54.890625 33.015625 \nL 54.890625 0 \nL 45.90625 0 \nL 45.90625 32.71875 \nQ 45.90625 40.484375 42.875 44.328125 \nQ 39.84375 48.1875 33.796875 48.1875 \nQ 26.515625 48.1875 22.3125 43.546875 \nQ 18.109375 38.921875 18.109375 30.90625 \nL 18.109375 0 \nL 9.078125 0 \nL 9.078125 54.6875 \nL 18.109375 54.6875 \nL 18.109375 46.1875 \nQ 21.34375 51.125 25.703125 53.5625 \nQ 30.078125 56 35.796875 56 \nQ 45.21875 56 50.046875 50.171875 \nQ 54.890625 44.34375 54.890625 33.015625 \nz\n\" id=\"DejaVuSans-110\"/>\n       <path id=\"DejaVuSans-32\"/>\n       <path d=\"M 56.203125 29.59375 \nL 56.203125 25.203125 \nL 14.890625 25.203125 \nQ 15.484375 15.921875 20.484375 11.0625 \nQ 25.484375 6.203125 34.421875 6.203125 \nQ 39.59375 6.203125 44.453125 7.46875 \nQ 49.3125 8.734375 54.109375 11.28125 \nL 54.109375 2.78125 \nQ 49.265625 0.734375 44.1875 -0.34375 \nQ 39.109375 -1.421875 33.890625 -1.421875 \nQ 20.796875 -1.421875 13.15625 6.1875 \nQ 5.515625 13.8125 5.515625 26.8125 \nQ 5.515625 40.234375 12.765625 48.109375 \nQ 20.015625 56 32.328125 56 \nQ 43.359375 56 49.78125 48.890625 \nQ 56.203125 41.796875 56.203125 29.59375 \nz\nM 47.21875 32.234375 \nQ 47.125 39.59375 43.09375 43.984375 \nQ 39.0625 48.390625 32.421875 48.390625 \nQ 24.90625 48.390625 20.390625 44.140625 \nQ 15.875 39.890625 15.1875 32.171875 \nz\n\" id=\"DejaVuSans-101\"/>\n       <path d=\"M 14.796875 27.296875 \nQ 14.796875 17.390625 18.875 11.75 \nQ 22.953125 6.109375 30.078125 6.109375 \nQ 37.203125 6.109375 41.296875 11.75 \nQ 45.40625 17.390625 45.40625 27.296875 \nQ 45.40625 37.203125 41.296875 42.84375 \nQ 37.203125 48.484375 30.078125 48.484375 \nQ 22.953125 48.484375 18.875 42.84375 \nQ 14.796875 37.203125 14.796875 27.296875 \nz\nM 45.40625 8.203125 \nQ 42.578125 3.328125 38.25 0.953125 \nQ 33.9375 -1.421875 27.875 -1.421875 \nQ 17.96875 -1.421875 11.734375 6.484375 \nQ 5.515625 14.40625 5.515625 27.296875 \nQ 5.515625 40.1875 11.734375 48.09375 \nQ 17.96875 56 27.875 56 \nQ 33.9375 56 38.25 53.625 \nQ 42.578125 51.265625 45.40625 46.390625 \nL 45.40625 54.6875 \nL 54.390625 54.6875 \nL 54.390625 -20.796875 \nL 45.40625 -20.796875 \nz\n\" id=\"DejaVuSans-113\"/>\n       <path d=\"M 8.5 21.578125 \nL 8.5 54.6875 \nL 17.484375 54.6875 \nL 17.484375 21.921875 \nQ 17.484375 14.15625 20.5 10.265625 \nQ 23.53125 6.390625 29.59375 6.390625 \nQ 36.859375 6.390625 41.078125 11.03125 \nQ 45.3125 15.671875 45.3125 23.6875 \nL 45.3125 54.6875 \nL 54.296875 54.6875 \nL 54.296875 0 \nL 45.3125 0 \nL 45.3125 8.40625 \nQ 42.046875 3.421875 37.71875 1 \nQ 33.40625 -1.421875 27.6875 -1.421875 \nQ 18.265625 -1.421875 13.375 4.4375 \nQ 8.5 10.296875 8.5 21.578125 \nz\nM 31.109375 56 \nz\n\" id=\"DejaVuSans-117\"/>\n       <path d=\"M 48.78125 52.59375 \nL 48.78125 44.1875 \nQ 44.96875 46.296875 41.140625 47.34375 \nQ 37.3125 48.390625 33.40625 48.390625 \nQ 24.65625 48.390625 19.8125 42.84375 \nQ 14.984375 37.3125 14.984375 27.296875 \nQ 14.984375 17.28125 19.8125 11.734375 \nQ 24.65625 6.203125 33.40625 6.203125 \nQ 37.3125 6.203125 41.140625 7.25 \nQ 44.96875 8.296875 48.78125 10.40625 \nL 48.78125 2.09375 \nQ 45.015625 0.34375 40.984375 -0.53125 \nQ 36.96875 -1.421875 32.421875 -1.421875 \nQ 20.0625 -1.421875 12.78125 6.34375 \nQ 5.515625 14.109375 5.515625 27.296875 \nQ 5.515625 40.671875 12.859375 48.328125 \nQ 20.21875 56 33.015625 56 \nQ 37.15625 56 41.109375 55.140625 \nQ 45.0625 54.296875 48.78125 52.59375 \nz\n\" id=\"DejaVuSans-99\"/>\n      </defs>\n      <use xlink:href=\"#DejaVuSans-80\"/>\n      <use x=\"56.677734\" xlink:href=\"#DejaVuSans-111\"/>\n      <use x=\"117.859375\" xlink:href=\"#DejaVuSans-115\"/>\n      <use x=\"169.958984\" xlink:href=\"#DejaVuSans-105\"/>\n      <use x=\"197.742188\" xlink:href=\"#DejaVuSans-116\"/>\n      <use x=\"236.951172\" xlink:href=\"#DejaVuSans-105\"/>\n      <use x=\"264.734375\" xlink:href=\"#DejaVuSans-111\"/>\n      <use x=\"325.916016\" xlink:href=\"#DejaVuSans-110\"/>\n      <use x=\"389.294922\" xlink:href=\"#DejaVuSans-32\"/>\n      <use x=\"421.082031\" xlink:href=\"#DejaVuSans-105\"/>\n      <use x=\"448.865234\" xlink:href=\"#DejaVuSans-110\"/>\n      <use x=\"512.244141\" xlink:href=\"#DejaVuSans-32\"/>\n      <use x=\"544.03125\" xlink:href=\"#DejaVuSans-115\"/>\n      <use x=\"596.130859\" xlink:href=\"#DejaVuSans-101\"/>\n      <use x=\"657.654297\" xlink:href=\"#DejaVuSans-113\"/>\n      <use x=\"721.130859\" xlink:href=\"#DejaVuSans-117\"/>\n      <use x=\"784.509766\" xlink:href=\"#DejaVuSans-101\"/>\n      <use x=\"846.033203\" xlink:href=\"#DejaVuSans-110\"/>\n      <use x=\"909.412109\" xlink:href=\"#DejaVuSans-99\"/>\n      <use x=\"964.392578\" xlink:href=\"#DejaVuSans-101\"/>\n     </g>\n    </g>\n   </g>\n   <g id=\"matplotlib.axis_2\">\n    <g id=\"ytick_1\">\n     <g id=\"line2d_11\">\n      <defs>\n       <path d=\"M 0 0 \nL -3.5 0 \n\" id=\"md5e730e534\" style=\"stroke:#000000;stroke-width:0.8;\"/>\n      </defs>\n      <g>\n       <use style=\"stroke:#000000;stroke-width:0.8;\" x=\"40.603125\" xlink:href=\"#md5e730e534\" y=\"22.318125\"/>\n      </g>\n     </g>\n     <g id=\"text_12\">\n      <!-- 1 -->\n      <g transform=\"translate(27.240625 26.117344)scale(0.1 -0.1)\">\n       <use xlink:href=\"#DejaVuSans-49\"/>\n      </g>\n     </g>\n    </g>\n    <g id=\"ytick_2\">\n     <g id=\"line2d_12\">\n      <g>\n       <use style=\"stroke:#000000;stroke-width:0.8;\" x=\"40.603125\" xlink:href=\"#md5e730e534\" y=\"52.895625\"/>\n      </g>\n     </g>\n     <g id=\"text_13\">\n      <!-- 10 -->\n      <g transform=\"translate(20.878125 56.694844)scale(0.1 -0.1)\">\n       <use xlink:href=\"#DejaVuSans-49\"/>\n       <use x=\"63.623047\" xlink:href=\"#DejaVuSans-48\"/>\n      </g>\n     </g>\n    </g>\n    <g id=\"ytick_3\">\n     <g id=\"line2d_13\">\n      <g>\n       <use style=\"stroke:#000000;stroke-width:0.8;\" x=\"40.603125\" xlink:href=\"#md5e730e534\" y=\"86.870625\"/>\n      </g>\n     </g>\n     <g id=\"text_14\">\n      <!-- 20 -->\n      <g transform=\"translate(20.878125 90.669844)scale(0.1 -0.1)\">\n       <use xlink:href=\"#DejaVuSans-50\"/>\n       <use x=\"63.623047\" xlink:href=\"#DejaVuSans-48\"/>\n      </g>\n     </g>\n    </g>\n    <g id=\"ytick_4\">\n     <g id=\"line2d_14\">\n      <g>\n       <use style=\"stroke:#000000;stroke-width:0.8;\" x=\"40.603125\" xlink:href=\"#md5e730e534\" y=\"120.845625\"/>\n      </g>\n     </g>\n     <g id=\"text_15\">\n      <!-- 30 -->\n      <g transform=\"translate(20.878125 124.644844)scale(0.1 -0.1)\">\n       <use xlink:href=\"#DejaVuSans-51\"/>\n       <use x=\"63.623047\" xlink:href=\"#DejaVuSans-48\"/>\n      </g>\n     </g>\n    </g>\n    <g id=\"ytick_5\">\n     <g id=\"line2d_15\">\n      <g>\n       <use style=\"stroke:#000000;stroke-width:0.8;\" x=\"40.603125\" xlink:href=\"#md5e730e534\" y=\"154.820625\"/>\n      </g>\n     </g>\n     <g id=\"text_16\">\n      <!-- 40 -->\n      <g transform=\"translate(20.878125 158.619844)scale(0.1 -0.1)\">\n       <use xlink:href=\"#DejaVuSans-52\"/>\n       <use x=\"63.623047\" xlink:href=\"#DejaVuSans-48\"/>\n      </g>\n     </g>\n    </g>\n    <g id=\"text_17\">\n     <!-- Hidden dimension -->\n     <g transform=\"translate(14.798438 149.090937)rotate(-90)scale(0.1 -0.1)\">\n      <defs>\n       <path d=\"M 9.8125 72.90625 \nL 19.671875 72.90625 \nL 19.671875 43.015625 \nL 55.515625 43.015625 \nL 55.515625 72.90625 \nL 65.375 72.90625 \nL 65.375 0 \nL 55.515625 0 \nL 55.515625 34.71875 \nL 19.671875 34.71875 \nL 19.671875 0 \nL 9.8125 0 \nz\n\" id=\"DejaVuSans-72\"/>\n       <path d=\"M 45.40625 46.390625 \nL 45.40625 75.984375 \nL 54.390625 75.984375 \nL 54.390625 0 \nL 45.40625 0 \nL 45.40625 8.203125 \nQ 42.578125 3.328125 38.25 0.953125 \nQ 33.9375 -1.421875 27.875 -1.421875 \nQ 17.96875 -1.421875 11.734375 6.484375 \nQ 5.515625 14.40625 5.515625 27.296875 \nQ 5.515625 40.1875 11.734375 48.09375 \nQ 17.96875 56 27.875 56 \nQ 33.9375 56 38.25 53.625 \nQ 42.578125 51.265625 45.40625 46.390625 \nz\nM 14.796875 27.296875 \nQ 14.796875 17.390625 18.875 11.75 \nQ 22.953125 6.109375 30.078125 6.109375 \nQ 37.203125 6.109375 41.296875 11.75 \nQ 45.40625 17.390625 45.40625 27.296875 \nQ 45.40625 37.203125 41.296875 42.84375 \nQ 37.203125 48.484375 30.078125 48.484375 \nQ 22.953125 48.484375 18.875 42.84375 \nQ 14.796875 37.203125 14.796875 27.296875 \nz\n\" id=\"DejaVuSans-100\"/>\n       <path d=\"M 52 44.1875 \nQ 55.375 50.25 60.0625 53.125 \nQ 64.75 56 71.09375 56 \nQ 79.640625 56 84.28125 50.015625 \nQ 88.921875 44.046875 88.921875 33.015625 \nL 88.921875 0 \nL 79.890625 0 \nL 79.890625 32.71875 \nQ 79.890625 40.578125 77.09375 44.375 \nQ 74.3125 48.1875 68.609375 48.1875 \nQ 61.625 48.1875 57.5625 43.546875 \nQ 53.515625 38.921875 53.515625 30.90625 \nL 53.515625 0 \nL 44.484375 0 \nL 44.484375 32.71875 \nQ 44.484375 40.625 41.703125 44.40625 \nQ 38.921875 48.1875 33.109375 48.1875 \nQ 26.21875 48.1875 22.15625 43.53125 \nQ 18.109375 38.875 18.109375 30.90625 \nL 18.109375 0 \nL 9.078125 0 \nL 9.078125 54.6875 \nL 18.109375 54.6875 \nL 18.109375 46.1875 \nQ 21.1875 51.21875 25.484375 53.609375 \nQ 29.78125 56 35.6875 56 \nQ 41.65625 56 45.828125 52.96875 \nQ 50 49.953125 52 44.1875 \nz\n\" id=\"DejaVuSans-109\"/>\n      </defs>\n      <use xlink:href=\"#DejaVuSans-72\"/>\n      <use x=\"75.195312\" xlink:href=\"#DejaVuSans-105\"/>\n      <use x=\"102.978516\" xlink:href=\"#DejaVuSans-100\"/>\n      <use x=\"166.455078\" xlink:href=\"#DejaVuSans-100\"/>\n      <use x=\"229.931641\" xlink:href=\"#DejaVuSans-101\"/>\n      <use x=\"291.455078\" xlink:href=\"#DejaVuSans-110\"/>\n      <use x=\"354.833984\" xlink:href=\"#DejaVuSans-32\"/>\n      <use x=\"386.621094\" xlink:href=\"#DejaVuSans-100\"/>\n      <use x=\"450.097656\" xlink:href=\"#DejaVuSans-105\"/>\n      <use x=\"477.880859\" xlink:href=\"#DejaVuSans-109\"/>\n      <use x=\"575.292969\" xlink:href=\"#DejaVuSans-101\"/>\n      <use x=\"636.816406\" xlink:href=\"#DejaVuSans-110\"/>\n      <use x=\"700.195312\" xlink:href=\"#DejaVuSans-115\"/>\n      <use x=\"752.294922\" xlink:href=\"#DejaVuSans-105\"/>\n      <use x=\"780.078125\" xlink:href=\"#DejaVuSans-111\"/>\n      <use x=\"841.259766\" xlink:href=\"#DejaVuSans-110\"/>\n     </g>\n    </g>\n   </g>\n   <g id=\"patch_3\">\n    <path d=\"M 40.603125 185.398125 \nL 40.603125 22.318125 \n\" style=\"fill:none;stroke:#000000;stroke-linecap:square;stroke-linejoin:miter;stroke-width:0.8;\"/>\n   </g>\n   <g id=\"patch_4\">\n    <path d=\"M 366.763125 185.398125 \nL 366.763125 22.318125 \n\" style=\"fill:none;stroke:#000000;stroke-linecap:square;stroke-linejoin:miter;stroke-width:0.8;\"/>\n   </g>\n   <g id=\"patch_5\">\n    <path d=\"M 40.603125 185.398125 \nL 366.763125 185.398125 \n\" style=\"fill:none;stroke:#000000;stroke-linecap:square;stroke-linejoin:miter;stroke-width:0.8;\"/>\n   </g>\n   <g id=\"patch_6\">\n    <path d=\"M 40.603125 22.318125 \nL 366.763125 22.318125 \n\" style=\"fill:none;stroke:#000000;stroke-linecap:square;stroke-linejoin:miter;stroke-width:0.8;\"/>\n   </g>\n   <g id=\"text_18\">\n    <!-- Positional encoding over hidden dimensions -->\n    <g transform=\"translate(71.633438 16.318125)scale(0.12 -0.12)\">\n     <defs>\n      <path d=\"M 34.28125 27.484375 \nQ 23.390625 27.484375 19.1875 25 \nQ 14.984375 22.515625 14.984375 16.5 \nQ 14.984375 11.71875 18.140625 8.90625 \nQ 21.296875 6.109375 26.703125 6.109375 \nQ 34.1875 6.109375 38.703125 11.40625 \nQ 43.21875 16.703125 43.21875 25.484375 \nL 43.21875 27.484375 \nz\nM 52.203125 31.203125 \nL 52.203125 0 \nL 43.21875 0 \nL 43.21875 8.296875 \nQ 40.140625 3.328125 35.546875 0.953125 \nQ 30.953125 -1.421875 24.3125 -1.421875 \nQ 15.921875 -1.421875 10.953125 3.296875 \nQ 6 8.015625 6 15.921875 \nQ 6 25.140625 12.171875 29.828125 \nQ 18.359375 34.515625 30.609375 34.515625 \nL 43.21875 34.515625 \nL 43.21875 35.40625 \nQ 43.21875 41.609375 39.140625 45 \nQ 35.0625 48.390625 27.6875 48.390625 \nQ 23 48.390625 18.546875 47.265625 \nQ 14.109375 46.140625 10.015625 43.890625 \nL 10.015625 52.203125 \nQ 14.9375 54.109375 19.578125 55.046875 \nQ 24.21875 56 28.609375 56 \nQ 40.484375 56 46.34375 49.84375 \nQ 52.203125 43.703125 52.203125 31.203125 \nz\n\" id=\"DejaVuSans-97\"/>\n      <path d=\"M 9.421875 75.984375 \nL 18.40625 75.984375 \nL 18.40625 0 \nL 9.421875 0 \nz\n\" id=\"DejaVuSans-108\"/>\n      <path d=\"M 45.40625 27.984375 \nQ 45.40625 37.75 41.375 43.109375 \nQ 37.359375 48.484375 30.078125 48.484375 \nQ 22.859375 48.484375 18.828125 43.109375 \nQ 14.796875 37.75 14.796875 27.984375 \nQ 14.796875 18.265625 18.828125 12.890625 \nQ 22.859375 7.515625 30.078125 7.515625 \nQ 37.359375 7.515625 41.375 12.890625 \nQ 45.40625 18.265625 45.40625 27.984375 \nz\nM 54.390625 6.78125 \nQ 54.390625 -7.171875 48.1875 -13.984375 \nQ 42 -20.796875 29.203125 -20.796875 \nQ 24.46875 -20.796875 20.265625 -20.09375 \nQ 16.0625 -19.390625 12.109375 -17.921875 \nL 12.109375 -9.1875 \nQ 16.0625 -11.328125 19.921875 -12.34375 \nQ 23.78125 -13.375 27.78125 -13.375 \nQ 36.625 -13.375 41.015625 -8.765625 \nQ 45.40625 -4.15625 45.40625 5.171875 \nL 45.40625 9.625 \nQ 42.625 4.78125 38.28125 2.390625 \nQ 33.9375 0 27.875 0 \nQ 17.828125 0 11.671875 7.65625 \nQ 5.515625 15.328125 5.515625 27.984375 \nQ 5.515625 40.671875 11.671875 48.328125 \nQ 17.828125 56 27.875 56 \nQ 33.9375 56 38.28125 53.609375 \nQ 42.625 51.21875 45.40625 46.390625 \nL 45.40625 54.6875 \nL 54.390625 54.6875 \nz\n\" id=\"DejaVuSans-103\"/>\n      <path d=\"M 2.984375 54.6875 \nL 12.5 54.6875 \nL 29.59375 8.796875 \nL 46.6875 54.6875 \nL 56.203125 54.6875 \nL 35.6875 0 \nL 23.484375 0 \nz\n\" id=\"DejaVuSans-118\"/>\n      <path d=\"M 41.109375 46.296875 \nQ 39.59375 47.171875 37.8125 47.578125 \nQ 36.03125 48 33.890625 48 \nQ 26.265625 48 22.1875 43.046875 \nQ 18.109375 38.09375 18.109375 28.8125 \nL 18.109375 0 \nL 9.078125 0 \nL 9.078125 54.6875 \nL 18.109375 54.6875 \nL 18.109375 46.1875 \nQ 20.953125 51.171875 25.484375 53.578125 \nQ 30.03125 56 36.53125 56 \nQ 37.453125 56 38.578125 55.875 \nQ 39.703125 55.765625 41.0625 55.515625 \nz\n\" id=\"DejaVuSans-114\"/>\n      <path d=\"M 54.890625 33.015625 \nL 54.890625 0 \nL 45.90625 0 \nL 45.90625 32.71875 \nQ 45.90625 40.484375 42.875 44.328125 \nQ 39.84375 48.1875 33.796875 48.1875 \nQ 26.515625 48.1875 22.3125 43.546875 \nQ 18.109375 38.921875 18.109375 30.90625 \nL 18.109375 0 \nL 9.078125 0 \nL 9.078125 75.984375 \nL 18.109375 75.984375 \nL 18.109375 46.1875 \nQ 21.34375 51.125 25.703125 53.5625 \nQ 30.078125 56 35.796875 56 \nQ 45.21875 56 50.046875 50.171875 \nQ 54.890625 44.34375 54.890625 33.015625 \nz\n\" id=\"DejaVuSans-104\"/>\n     </defs>\n     <use xlink:href=\"#DejaVuSans-80\"/>\n     <use x=\"56.677734\" xlink:href=\"#DejaVuSans-111\"/>\n     <use x=\"117.859375\" xlink:href=\"#DejaVuSans-115\"/>\n     <use x=\"169.958984\" xlink:href=\"#DejaVuSans-105\"/>\n     <use x=\"197.742188\" xlink:href=\"#DejaVuSans-116\"/>\n     <use x=\"236.951172\" xlink:href=\"#DejaVuSans-105\"/>\n     <use x=\"264.734375\" xlink:href=\"#DejaVuSans-111\"/>\n     <use x=\"325.916016\" xlink:href=\"#DejaVuSans-110\"/>\n     <use x=\"389.294922\" xlink:href=\"#DejaVuSans-97\"/>\n     <use x=\"450.574219\" xlink:href=\"#DejaVuSans-108\"/>\n     <use x=\"478.357422\" xlink:href=\"#DejaVuSans-32\"/>\n     <use x=\"510.144531\" xlink:href=\"#DejaVuSans-101\"/>\n     <use x=\"571.667969\" xlink:href=\"#DejaVuSans-110\"/>\n     <use x=\"635.046875\" xlink:href=\"#DejaVuSans-99\"/>\n     <use x=\"690.027344\" xlink:href=\"#DejaVuSans-111\"/>\n     <use x=\"751.208984\" xlink:href=\"#DejaVuSans-100\"/>\n     <use x=\"814.685547\" xlink:href=\"#DejaVuSans-105\"/>\n     <use x=\"842.46875\" xlink:href=\"#DejaVuSans-110\"/>\n     <use x=\"905.847656\" xlink:href=\"#DejaVuSans-103\"/>\n     <use x=\"969.324219\" xlink:href=\"#DejaVuSans-32\"/>\n     <use x=\"1001.111328\" xlink:href=\"#DejaVuSans-111\"/>\n     <use x=\"1062.292969\" xlink:href=\"#DejaVuSans-118\"/>\n     <use x=\"1121.472656\" xlink:href=\"#DejaVuSans-101\"/>\n     <use x=\"1182.996094\" xlink:href=\"#DejaVuSans-114\"/>\n     <use x=\"1224.109375\" xlink:href=\"#DejaVuSans-32\"/>\n     <use x=\"1255.896484\" xlink:href=\"#DejaVuSans-104\"/>\n     <use x=\"1319.275391\" xlink:href=\"#DejaVuSans-105\"/>\n     <use x=\"1347.058594\" xlink:href=\"#DejaVuSans-100\"/>\n     <use x=\"1410.535156\" xlink:href=\"#DejaVuSans-100\"/>\n     <use x=\"1474.011719\" xlink:href=\"#DejaVuSans-101\"/>\n     <use x=\"1535.535156\" xlink:href=\"#DejaVuSans-110\"/>\n     <use x=\"1598.914062\" xlink:href=\"#DejaVuSans-32\"/>\n     <use x=\"1630.701172\" xlink:href=\"#DejaVuSans-100\"/>\n     <use x=\"1694.177734\" xlink:href=\"#DejaVuSans-105\"/>\n     <use x=\"1721.960938\" xlink:href=\"#DejaVuSans-109\"/>\n     <use x=\"1819.373047\" xlink:href=\"#DejaVuSans-101\"/>\n     <use x=\"1880.896484\" xlink:href=\"#DejaVuSans-110\"/>\n     <use x=\"1944.275391\" xlink:href=\"#DejaVuSans-115\"/>\n     <use x=\"1996.375\" xlink:href=\"#DejaVuSans-105\"/>\n     <use x=\"2024.158203\" xlink:href=\"#DejaVuSans-111\"/>\n     <use x=\"2085.339844\" xlink:href=\"#DejaVuSans-110\"/>\n     <use x=\"2148.71875\" xlink:href=\"#DejaVuSans-115\"/>\n    </g>\n   </g>\n  </g>\n  <g id=\"axes_2\">\n   <g id=\"patch_7\">\n    <path clip-path=\"url(#p46571d242b)\" d=\"M 389.083125 185.398125 \nL 389.083125 184.761094 \nL 389.083125 22.955156 \nL 389.083125 22.318125 \nL 397.237125 22.318125 \nL 397.237125 22.955156 \nL 397.237125 184.761094 \nL 397.237125 185.398125 \nz\n\" style=\"fill:#ffffff;stroke:#ffffff;stroke-linejoin:miter;stroke-width:0.01;\"/>\n   </g>\n   <image height=\"163\" id=\"imagef8d643cfd4\" transform=\"scale(1 -1)translate(0 -163)\" width=\"8\" x=\"389\" xlink:href=\"data:image/png;base64,\niVBORw0KGgoAAAANSUhEUgAAAAgAAACjCAYAAAC31F+mAAAA70lEQVR4nO2WwQ2EMAwEbcdJHTR4/T+AcB14kEy4cIIvq9ldO0Hox5ZDgseLRq9FvFms8KIgQEIlwgwh8xlusMCaxS0WGIRwawUsKgjyFkjADIoErgmT1AKC0tIEymBEOLFNjwUY0pjw+wzWSHBBTdxmTRLyNdXoTHqLBYKEigS6vE6DIgFbcMjxgyKC0oHJTxIJUuBEiWYJOt4CdyGGgyICt0ACfh+GWyChH+H/pvhBgt57LNj3PWmRJ2DIfIYbLGYYVH4ON9TMZ3hEyHyGfMht2+YnPCLkf9Rc13V0hrzFDIS35knBDDfrrXkVgQRfiVT516x191AAAAAASUVORK5CYII=\" y=\"-21\"/>\n   <g id=\"matplotlib.axis_3\"/>\n   <g id=\"matplotlib.axis_4\">\n    <g id=\"ytick_6\">\n     <g id=\"line2d_16\">\n      <defs>\n       <path d=\"M 0 0 \nL 3.5 0 \n\" id=\"mfa78d5d659\" style=\"stroke:#000000;stroke-width:0.8;\"/>\n      </defs>\n      <g>\n       <use style=\"stroke:#000000;stroke-width:0.8;\" x=\"397.237125\" xlink:href=\"#mfa78d5d659\" y=\"165.013822\"/>\n      </g>\n     </g>\n     <g id=\"text_19\">\n      <!-- −0.75 -->\n      <g transform=\"translate(404.237125 168.813041)scale(0.1 -0.1)\">\n       <defs>\n        <path d=\"M 10.59375 35.5 \nL 73.1875 35.5 \nL 73.1875 27.203125 \nL 10.59375 27.203125 \nz\n\" id=\"DejaVuSans-8722\"/>\n        <path d=\"M 10.6875 12.40625 \nL 21 12.40625 \nL 21 0 \nL 10.6875 0 \nz\n\" id=\"DejaVuSans-46\"/>\n       </defs>\n       <use xlink:href=\"#DejaVuSans-8722\"/>\n       <use x=\"83.789062\" xlink:href=\"#DejaVuSans-48\"/>\n       <use x=\"147.412109\" xlink:href=\"#DejaVuSans-46\"/>\n       <use x=\"179.199219\" xlink:href=\"#DejaVuSans-55\"/>\n       <use x=\"242.822266\" xlink:href=\"#DejaVuSans-53\"/>\n      </g>\n     </g>\n    </g>\n    <g id=\"ytick_7\">\n     <g id=\"line2d_17\">\n      <g>\n       <use style=\"stroke:#000000;stroke-width:0.8;\" x=\"397.237125\" xlink:href=\"#mfa78d5d659\" y=\"144.628723\"/>\n      </g>\n     </g>\n     <g id=\"text_20\">\n      <!-- −0.50 -->\n      <g transform=\"translate(404.237125 148.427942)scale(0.1 -0.1)\">\n       <use xlink:href=\"#DejaVuSans-8722\"/>\n       <use x=\"83.789062\" xlink:href=\"#DejaVuSans-48\"/>\n       <use x=\"147.412109\" xlink:href=\"#DejaVuSans-46\"/>\n       <use x=\"179.199219\" xlink:href=\"#DejaVuSans-53\"/>\n       <use x=\"242.822266\" xlink:href=\"#DejaVuSans-48\"/>\n      </g>\n     </g>\n    </g>\n    <g id=\"ytick_8\">\n     <g id=\"line2d_18\">\n      <g>\n       <use style=\"stroke:#000000;stroke-width:0.8;\" x=\"397.237125\" xlink:href=\"#mfa78d5d659\" y=\"124.243623\"/>\n      </g>\n     </g>\n     <g id=\"text_21\">\n      <!-- −0.25 -->\n      <g transform=\"translate(404.237125 128.042842)scale(0.1 -0.1)\">\n       <use xlink:href=\"#DejaVuSans-8722\"/>\n       <use x=\"83.789062\" xlink:href=\"#DejaVuSans-48\"/>\n       <use x=\"147.412109\" xlink:href=\"#DejaVuSans-46\"/>\n       <use x=\"179.199219\" xlink:href=\"#DejaVuSans-50\"/>\n       <use x=\"242.822266\" xlink:href=\"#DejaVuSans-53\"/>\n      </g>\n     </g>\n    </g>\n    <g id=\"ytick_9\">\n     <g id=\"line2d_19\">\n      <g>\n       <use style=\"stroke:#000000;stroke-width:0.8;\" x=\"397.237125\" xlink:href=\"#mfa78d5d659\" y=\"103.858524\"/>\n      </g>\n     </g>\n     <g id=\"text_22\">\n      <!-- 0.00 -->\n      <g transform=\"translate(404.237125 107.657742)scale(0.1 -0.1)\">\n       <use xlink:href=\"#DejaVuSans-48\"/>\n       <use x=\"63.623047\" xlink:href=\"#DejaVuSans-46\"/>\n       <use x=\"95.410156\" xlink:href=\"#DejaVuSans-48\"/>\n       <use x=\"159.033203\" xlink:href=\"#DejaVuSans-48\"/>\n      </g>\n     </g>\n    </g>\n    <g id=\"ytick_10\">\n     <g id=\"line2d_20\">\n      <g>\n       <use style=\"stroke:#000000;stroke-width:0.8;\" x=\"397.237125\" xlink:href=\"#mfa78d5d659\" y=\"83.473424\"/>\n      </g>\n     </g>\n     <g id=\"text_23\">\n      <!-- 0.25 -->\n      <g transform=\"translate(404.237125 87.272643)scale(0.1 -0.1)\">\n       <use xlink:href=\"#DejaVuSans-48\"/>\n       <use x=\"63.623047\" xlink:href=\"#DejaVuSans-46\"/>\n       <use x=\"95.410156\" xlink:href=\"#DejaVuSans-50\"/>\n       <use x=\"159.033203\" xlink:href=\"#DejaVuSans-53\"/>\n      </g>\n     </g>\n    </g>\n    <g id=\"ytick_11\">\n     <g id=\"line2d_21\">\n      <g>\n       <use style=\"stroke:#000000;stroke-width:0.8;\" x=\"397.237125\" xlink:href=\"#mfa78d5d659\" y=\"63.088324\"/>\n      </g>\n     </g>\n     <g id=\"text_24\">\n      <!-- 0.50 -->\n      <g transform=\"translate(404.237125 66.887543)scale(0.1 -0.1)\">\n       <use xlink:href=\"#DejaVuSans-48\"/>\n       <use x=\"63.623047\" xlink:href=\"#DejaVuSans-46\"/>\n       <use x=\"95.410156\" xlink:href=\"#DejaVuSans-53\"/>\n       <use x=\"159.033203\" xlink:href=\"#DejaVuSans-48\"/>\n      </g>\n     </g>\n    </g>\n    <g id=\"ytick_12\">\n     <g id=\"line2d_22\">\n      <g>\n       <use style=\"stroke:#000000;stroke-width:0.8;\" x=\"397.237125\" xlink:href=\"#mfa78d5d659\" y=\"42.703225\"/>\n      </g>\n     </g>\n     <g id=\"text_25\">\n      <!-- 0.75 -->\n      <g transform=\"translate(404.237125 46.502443)scale(0.1 -0.1)\">\n       <use xlink:href=\"#DejaVuSans-48\"/>\n       <use x=\"63.623047\" xlink:href=\"#DejaVuSans-46\"/>\n       <use x=\"95.410156\" xlink:href=\"#DejaVuSans-55\"/>\n       <use x=\"159.033203\" xlink:href=\"#DejaVuSans-53\"/>\n      </g>\n     </g>\n    </g>\n    <g id=\"ytick_13\">\n     <g id=\"line2d_23\">\n      <g>\n       <use style=\"stroke:#000000;stroke-width:0.8;\" x=\"397.237125\" xlink:href=\"#mfa78d5d659\" y=\"22.318125\"/>\n      </g>\n     </g>\n     <g id=\"text_26\">\n      <!-- 1.00 -->\n      <g transform=\"translate(404.237125 26.117344)scale(0.1 -0.1)\">\n       <use xlink:href=\"#DejaVuSans-49\"/>\n       <use x=\"63.623047\" xlink:href=\"#DejaVuSans-46\"/>\n       <use x=\"95.410156\" xlink:href=\"#DejaVuSans-48\"/>\n       <use x=\"159.033203\" xlink:href=\"#DejaVuSans-48\"/>\n      </g>\n     </g>\n    </g>\n   </g>\n   <g id=\"patch_8\">\n    <path d=\"M 389.083125 185.398125 \nL 389.083125 184.761094 \nL 389.083125 22.955156 \nL 389.083125 22.318125 \nL 397.237125 22.318125 \nL 397.237125 22.955156 \nL 397.237125 184.761094 \nL 397.237125 185.398125 \nz\n\" style=\"fill:none;stroke:#000000;stroke-linejoin:miter;stroke-width:0.8;\"/>\n   </g>\n  </g>\n </g>\n <defs>\n  <clipPath id=\"p707692707e\">\n   <rect height=\"163.08\" width=\"326.16\" x=\"40.603125\" y=\"22.318125\"/>\n  </clipPath>\n  <clipPath id=\"p46571d242b\">\n   <rect height=\"163.08\" width=\"8.154\" x=\"389.083125\" y=\"22.318125\"/>\n  </clipPath>\n </defs>\n</svg>\n",
            "application/pdf": "[encoded data removed]"
          },
          "metadata": {
            "needs_background": "light"
          }
        }
      ]
    },
    {
      "cell_type": "code",
      "source": [
        "sns.set_theme()\n",
        "fig, ax = plt.subplots(2, 2, figsize=(12, 4))\n",
        "ax = [a for a_list in ax for a in a_list]\n",
        "for i in range(len(ax)):\n",
        "    ax[i].plot(np.arange(1, 17), pe[i, :16], color=\"C%i\" % i, marker=\"o\", markersize=6, markeredgecolor=\"black\")\n",
        "    ax[i].set_title(\"Encoding in hidden dimension %i\" % (i + 1))\n",
        "    ax[i].set_xlabel(\"Position in sequence\", fontsize=10)\n",
        "    ax[i].set_ylabel(\"Positional encoding\", fontsize=10)\n",
        "    ax[i].set_xticks(np.arange(1, 17))\n",
        "    ax[i].tick_params(axis=\"both\", which=\"major\", labelsize=10)\n",
        "    ax[i].tick_params(axis=\"both\", which=\"minor\", labelsize=8)\n",
        "    ax[i].set_ylim(-1.2, 1.2)\n",
        "fig.subplots_adjust(hspace=0.8)\n",
        "sns.reset_orig()\n",
        "plt.show()"
      ],
      "metadata": {
        "colab": {
          "base_uri": "https://localhost:8080/",
          "height": 707
        },
        "id": "oBmqaMVBaaLi",
        "outputId": "1ba679b9-22ae-4580-ecf6-38eb45ab7e66"
      },
      "execution_count": 13,
      "outputs": [
        {
          "output_type": "stream",
          "name": "stderr",
          "text": [
            "/usr/lib/python3.10/_collections_abc.py:999: MatplotlibDeprecationWarning: \n",
            "The animation.avconv_args rcparam was deprecated in Matplotlib 3.3 and will be removed two minor releases later.\n",
            "  self[key] = other[key]\n",
            "/usr/lib/python3.10/_collections_abc.py:999: MatplotlibDeprecationWarning: \n",
            "The animation.avconv_path rcparam was deprecated in Matplotlib 3.3 and will be removed two minor releases later.\n",
            "  self[key] = other[key]\n",
            "/usr/lib/python3.10/_collections_abc.py:999: MatplotlibDeprecationWarning: \n",
            "The animation.html_args rcparam was deprecated in Matplotlib 3.3 and will be removed two minor releases later.\n",
            "  self[key] = other[key]\n",
            "/usr/lib/python3.10/_collections_abc.py:999: MatplotlibDeprecationWarning: \n",
            "The keymap.all_axes rcparam was deprecated in Matplotlib 3.3 and will be removed two minor releases later.\n",
            "  self[key] = other[key]\n",
            "/usr/lib/python3.10/_collections_abc.py:999: MatplotlibDeprecationWarning: \n",
            "The savefig.jpeg_quality rcparam was deprecated in Matplotlib 3.3 and will be removed two minor releases later.\n",
            "  self[key] = other[key]\n",
            "/usr/lib/python3.10/_collections_abc.py:999: MatplotlibDeprecationWarning: \n",
            "The text.latex.preview rcparam was deprecated in Matplotlib 3.3 and will be removed two minor releases later.\n",
            "  self[key] = other[key]\n"
          ]
        },
        {
          "output_type": "display_data",
          "data": {
            "text/plain": [
              "<Figure size 864x288 with 4 Axes>"
            ],
            "image/svg+xml": "<?xml version=\"1.0\" encoding=\"utf-8\" standalone=\"no\"?>\n<!DOCTYPE svg PUBLIC \"-//W3C//DTD SVG 1.1//EN\"\n  \"http://www.w3.org/Graphics/SVG/1.1/DTD/svg11.dtd\">\n<!-- Created with matplotlib (https://matplotlib.org/) -->\n<svg height=\"279.814375pt\" version=\"1.1\" viewBox=\"0 0 721.920312 279.814375\" width=\"721.920312pt\" xmlns=\"http://www.w3.org/2000/svg\" xmlns:xlink=\"http://www.w3.org/1999/xlink\">\n <metadata>\n  <rdf:RDF xmlns:cc=\"http://creativecommons.org/ns#\" xmlns:dc=\"http://purl.org/dc/elements/1.1/\" xmlns:rdf=\"http://www.w3.org/1999/02/22-rdf-syntax-ns#\">\n   <cc:Work>\n    <dc:type rdf:resource=\"http://purl.org/dc/dcmitype/StillImage\"/>\n    <dc:date>2023-09-16T00:42:51.623858</dc:date>\n    <dc:format>image/svg+xml</dc:format>\n    <dc:creator>\n     <cc:Agent>\n      <dc:title>Matplotlib v3.3.4, https://matplotlib.org/</dc:title>\n     </cc:Agent>\n    </dc:creator>\n   </cc:Work>\n  </rdf:RDF>\n </metadata>\n <defs>\n  <style type=\"text/css\">*{stroke-linecap:butt;stroke-linejoin:round;}</style>\n </defs>\n <g id=\"figure_1\">\n  <g id=\"patch_1\">\n   <path d=\"M 0 279.814375 \nL 721.920312 279.814375 \nL 721.920312 0 \nL 0 0 \nz\n\" style=\"fill:#ffffff;\"/>\n  </g>\n  <g id=\"axes_1\">\n   <g id=\"patch_2\">\n    <path d=\"M 45.120313 99.975268 \nL 349.483949 99.975268 \nL 349.483949 22.318125 \nL 45.120313 22.318125 \nz\n\" style=\"fill:#eaeaf2;\"/>\n   </g>\n   <g id=\"matplotlib.axis_1\">\n    <g id=\"xtick_1\">\n     <g id=\"line2d_1\">\n      <path clip-path=\"url(#p60f92194be)\" d=\"M 58.955023 99.975268 \nL 58.955023 22.318125 \n\" style=\"fill:none;stroke:#ffffff;stroke-linecap:round;\"/>\n     </g>\n     <g id=\"text_1\">\n      <!-- 1 -->\n      <g style=\"fill:#262626;\" transform=\"translate(55.773773 117.073705)scale(0.1 -0.1)\">\n       <defs>\n        <path d=\"M 12.40625 8.296875 \nL 28.515625 8.296875 \nL 28.515625 63.921875 \nL 10.984375 60.40625 \nL 10.984375 69.390625 \nL 28.421875 72.90625 \nL 38.28125 72.90625 \nL 38.28125 8.296875 \nL 54.390625 8.296875 \nL 54.390625 0 \nL 12.40625 0 \nz\n\" id=\"DejaVuSans-49\"/>\n       </defs>\n       <use xlink:href=\"#DejaVuSans-49\"/>\n      </g>\n     </g>\n    </g>\n    <g id=\"xtick_2\">\n     <g id=\"line2d_2\">\n      <path clip-path=\"url(#p60f92194be)\" d=\"M 77.401304 99.975268 \nL 77.401304 22.318125 \n\" style=\"fill:none;stroke:#ffffff;stroke-linecap:round;\"/>\n     </g>\n     <g id=\"text_2\">\n      <!-- 2 -->\n      <g style=\"fill:#262626;\" transform=\"translate(74.220054 117.073705)scale(0.1 -0.1)\">\n       <defs>\n        <path d=\"M 19.1875 8.296875 \nL 53.609375 8.296875 \nL 53.609375 0 \nL 7.328125 0 \nL 7.328125 8.296875 \nQ 12.9375 14.109375 22.625 23.890625 \nQ 32.328125 33.6875 34.8125 36.53125 \nQ 39.546875 41.84375 41.421875 45.53125 \nQ 43.3125 49.21875 43.3125 52.78125 \nQ 43.3125 58.59375 39.234375 62.25 \nQ 35.15625 65.921875 28.609375 65.921875 \nQ 23.96875 65.921875 18.8125 64.3125 \nQ 13.671875 62.703125 7.8125 59.421875 \nL 7.8125 69.390625 \nQ 13.765625 71.78125 18.9375 73 \nQ 24.125 74.21875 28.421875 74.21875 \nQ 39.75 74.21875 46.484375 68.546875 \nQ 53.21875 62.890625 53.21875 53.421875 \nQ 53.21875 48.921875 51.53125 44.890625 \nQ 49.859375 40.875 45.40625 35.40625 \nQ 44.1875 33.984375 37.640625 27.21875 \nQ 31.109375 20.453125 19.1875 8.296875 \nz\n\" id=\"DejaVuSans-50\"/>\n       </defs>\n       <use xlink:href=\"#DejaVuSans-50\"/>\n      </g>\n     </g>\n    </g>\n    <g id=\"xtick_3\">\n     <g id=\"line2d_3\">\n      <path clip-path=\"url(#p60f92194be)\" d=\"M 95.847585 99.975268 \nL 95.847585 22.318125 \n\" style=\"fill:none;stroke:#ffffff;stroke-linecap:round;\"/>\n     </g>\n     <g id=\"text_3\">\n      <!-- 3 -->\n      <g style=\"fill:#262626;\" transform=\"translate(92.666335 117.073705)scale(0.1 -0.1)\">\n       <defs>\n        <path d=\"M 40.578125 39.3125 \nQ 47.65625 37.796875 51.625 33 \nQ 55.609375 28.21875 55.609375 21.1875 \nQ 55.609375 10.40625 48.1875 4.484375 \nQ 40.765625 -1.421875 27.09375 -1.421875 \nQ 22.515625 -1.421875 17.65625 -0.515625 \nQ 12.796875 0.390625 7.625 2.203125 \nL 7.625 11.71875 \nQ 11.71875 9.328125 16.59375 8.109375 \nQ 21.484375 6.890625 26.8125 6.890625 \nQ 36.078125 6.890625 40.9375 10.546875 \nQ 45.796875 14.203125 45.796875 21.1875 \nQ 45.796875 27.640625 41.28125 31.265625 \nQ 36.765625 34.90625 28.71875 34.90625 \nL 20.21875 34.90625 \nL 20.21875 43.015625 \nL 29.109375 43.015625 \nQ 36.375 43.015625 40.234375 45.921875 \nQ 44.09375 48.828125 44.09375 54.296875 \nQ 44.09375 59.90625 40.109375 62.90625 \nQ 36.140625 65.921875 28.71875 65.921875 \nQ 24.65625 65.921875 20.015625 65.03125 \nQ 15.375 64.15625 9.8125 62.3125 \nL 9.8125 71.09375 \nQ 15.4375 72.65625 20.34375 73.4375 \nQ 25.25 74.21875 29.59375 74.21875 \nQ 40.828125 74.21875 47.359375 69.109375 \nQ 53.90625 64.015625 53.90625 55.328125 \nQ 53.90625 49.265625 50.4375 45.09375 \nQ 46.96875 40.921875 40.578125 39.3125 \nz\n\" id=\"DejaVuSans-51\"/>\n       </defs>\n       <use xlink:href=\"#DejaVuSans-51\"/>\n      </g>\n     </g>\n    </g>\n    <g id=\"xtick_4\">\n     <g id=\"line2d_4\">\n      <path clip-path=\"url(#p60f92194be)\" d=\"M 114.293866 99.975268 \nL 114.293866 22.318125 \n\" style=\"fill:none;stroke:#ffffff;stroke-linecap:round;\"/>\n     </g>\n     <g id=\"text_4\">\n      <!-- 4 -->\n      <g style=\"fill:#262626;\" transform=\"translate(111.112616 117.073705)scale(0.1 -0.1)\">\n       <defs>\n        <path d=\"M 37.796875 64.3125 \nL 12.890625 25.390625 \nL 37.796875 25.390625 \nz\nM 35.203125 72.90625 \nL 47.609375 72.90625 \nL 47.609375 25.390625 \nL 58.015625 25.390625 \nL 58.015625 17.1875 \nL 47.609375 17.1875 \nL 47.609375 0 \nL 37.796875 0 \nL 37.796875 17.1875 \nL 4.890625 17.1875 \nL 4.890625 26.703125 \nz\n\" id=\"DejaVuSans-52\"/>\n       </defs>\n       <use xlink:href=\"#DejaVuSans-52\"/>\n      </g>\n     </g>\n    </g>\n    <g id=\"xtick_5\">\n     <g id=\"line2d_5\">\n      <path clip-path=\"url(#p60f92194be)\" d=\"M 132.740147 99.975268 \nL 132.740147 22.318125 \n\" style=\"fill:none;stroke:#ffffff;stroke-linecap:round;\"/>\n     </g>\n     <g id=\"text_5\">\n      <!-- 5 -->\n      <g style=\"fill:#262626;\" transform=\"translate(129.558897 117.073705)scale(0.1 -0.1)\">\n       <defs>\n        <path d=\"M 10.796875 72.90625 \nL 49.515625 72.90625 \nL 49.515625 64.59375 \nL 19.828125 64.59375 \nL 19.828125 46.734375 \nQ 21.96875 47.46875 24.109375 47.828125 \nQ 26.265625 48.1875 28.421875 48.1875 \nQ 40.625 48.1875 47.75 41.5 \nQ 54.890625 34.8125 54.890625 23.390625 \nQ 54.890625 11.625 47.5625 5.09375 \nQ 40.234375 -1.421875 26.90625 -1.421875 \nQ 22.3125 -1.421875 17.546875 -0.640625 \nQ 12.796875 0.140625 7.71875 1.703125 \nL 7.71875 11.625 \nQ 12.109375 9.234375 16.796875 8.0625 \nQ 21.484375 6.890625 26.703125 6.890625 \nQ 35.15625 6.890625 40.078125 11.328125 \nQ 45.015625 15.765625 45.015625 23.390625 \nQ 45.015625 31 40.078125 35.4375 \nQ 35.15625 39.890625 26.703125 39.890625 \nQ 22.75 39.890625 18.8125 39.015625 \nQ 14.890625 38.140625 10.796875 36.28125 \nz\n\" id=\"DejaVuSans-53\"/>\n       </defs>\n       <use xlink:href=\"#DejaVuSans-53\"/>\n      </g>\n     </g>\n    </g>\n    <g id=\"xtick_6\">\n     <g id=\"line2d_6\">\n      <path clip-path=\"url(#p60f92194be)\" d=\"M 151.186428 99.975268 \nL 151.186428 22.318125 \n\" style=\"fill:none;stroke:#ffffff;stroke-linecap:round;\"/>\n     </g>\n     <g id=\"text_6\">\n      <!-- 6 -->\n      <g style=\"fill:#262626;\" transform=\"translate(148.005178 117.073705)scale(0.1 -0.1)\">\n       <defs>\n        <path d=\"M 33.015625 40.375 \nQ 26.375 40.375 22.484375 35.828125 \nQ 18.609375 31.296875 18.609375 23.390625 \nQ 18.609375 15.53125 22.484375 10.953125 \nQ 26.375 6.390625 33.015625 6.390625 \nQ 39.65625 6.390625 43.53125 10.953125 \nQ 47.40625 15.53125 47.40625 23.390625 \nQ 47.40625 31.296875 43.53125 35.828125 \nQ 39.65625 40.375 33.015625 40.375 \nz\nM 52.59375 71.296875 \nL 52.59375 62.3125 \nQ 48.875 64.0625 45.09375 64.984375 \nQ 41.3125 65.921875 37.59375 65.921875 \nQ 27.828125 65.921875 22.671875 59.328125 \nQ 17.53125 52.734375 16.796875 39.40625 \nQ 19.671875 43.65625 24.015625 45.921875 \nQ 28.375 48.1875 33.59375 48.1875 \nQ 44.578125 48.1875 50.953125 41.515625 \nQ 57.328125 34.859375 57.328125 23.390625 \nQ 57.328125 12.15625 50.6875 5.359375 \nQ 44.046875 -1.421875 33.015625 -1.421875 \nQ 20.359375 -1.421875 13.671875 8.265625 \nQ 6.984375 17.96875 6.984375 36.375 \nQ 6.984375 53.65625 15.1875 63.9375 \nQ 23.390625 74.21875 37.203125 74.21875 \nQ 40.921875 74.21875 44.703125 73.484375 \nQ 48.484375 72.75 52.59375 71.296875 \nz\n\" id=\"DejaVuSans-54\"/>\n       </defs>\n       <use xlink:href=\"#DejaVuSans-54\"/>\n      </g>\n     </g>\n    </g>\n    <g id=\"xtick_7\">\n     <g id=\"line2d_7\">\n      <path clip-path=\"url(#p60f92194be)\" d=\"M 169.632709 99.975268 \nL 169.632709 22.318125 \n\" style=\"fill:none;stroke:#ffffff;stroke-linecap:round;\"/>\n     </g>\n     <g id=\"text_7\">\n      <!-- 7 -->\n      <g style=\"fill:#262626;\" transform=\"translate(166.451459 117.073705)scale(0.1 -0.1)\">\n       <defs>\n        <path d=\"M 8.203125 72.90625 \nL 55.078125 72.90625 \nL 55.078125 68.703125 \nL 28.609375 0 \nL 18.3125 0 \nL 43.21875 64.59375 \nL 8.203125 64.59375 \nz\n\" id=\"DejaVuSans-55\"/>\n       </defs>\n       <use xlink:href=\"#DejaVuSans-55\"/>\n      </g>\n     </g>\n    </g>\n    <g id=\"xtick_8\">\n     <g id=\"line2d_8\">\n      <path clip-path=\"url(#p60f92194be)\" d=\"M 188.07899 99.975268 \nL 188.07899 22.318125 \n\" style=\"fill:none;stroke:#ffffff;stroke-linecap:round;\"/>\n     </g>\n     <g id=\"text_8\">\n      <!-- 8 -->\n      <g style=\"fill:#262626;\" transform=\"translate(184.89774 117.073705)scale(0.1 -0.1)\">\n       <defs>\n        <path d=\"M 31.78125 34.625 \nQ 24.75 34.625 20.71875 30.859375 \nQ 16.703125 27.09375 16.703125 20.515625 \nQ 16.703125 13.921875 20.71875 10.15625 \nQ 24.75 6.390625 31.78125 6.390625 \nQ 38.8125 6.390625 42.859375 10.171875 \nQ 46.921875 13.96875 46.921875 20.515625 \nQ 46.921875 27.09375 42.890625 30.859375 \nQ 38.875 34.625 31.78125 34.625 \nz\nM 21.921875 38.8125 \nQ 15.578125 40.375 12.03125 44.71875 \nQ 8.5 49.078125 8.5 55.328125 \nQ 8.5 64.0625 14.71875 69.140625 \nQ 20.953125 74.21875 31.78125 74.21875 \nQ 42.671875 74.21875 48.875 69.140625 \nQ 55.078125 64.0625 55.078125 55.328125 \nQ 55.078125 49.078125 51.53125 44.71875 \nQ 48 40.375 41.703125 38.8125 \nQ 48.828125 37.15625 52.796875 32.3125 \nQ 56.78125 27.484375 56.78125 20.515625 \nQ 56.78125 9.90625 50.3125 4.234375 \nQ 43.84375 -1.421875 31.78125 -1.421875 \nQ 19.734375 -1.421875 13.25 4.234375 \nQ 6.78125 9.90625 6.78125 20.515625 \nQ 6.78125 27.484375 10.78125 32.3125 \nQ 14.796875 37.15625 21.921875 38.8125 \nz\nM 18.3125 54.390625 \nQ 18.3125 48.734375 21.84375 45.5625 \nQ 25.390625 42.390625 31.78125 42.390625 \nQ 38.140625 42.390625 41.71875 45.5625 \nQ 45.3125 48.734375 45.3125 54.390625 \nQ 45.3125 60.0625 41.71875 63.234375 \nQ 38.140625 66.40625 31.78125 66.40625 \nQ 25.390625 66.40625 21.84375 63.234375 \nQ 18.3125 60.0625 18.3125 54.390625 \nz\n\" id=\"DejaVuSans-56\"/>\n       </defs>\n       <use xlink:href=\"#DejaVuSans-56\"/>\n      </g>\n     </g>\n    </g>\n    <g id=\"xtick_9\">\n     <g id=\"line2d_9\">\n      <path clip-path=\"url(#p60f92194be)\" d=\"M 206.525271 99.975268 \nL 206.525271 22.318125 \n\" style=\"fill:none;stroke:#ffffff;stroke-linecap:round;\"/>\n     </g>\n     <g id=\"text_9\">\n      <!-- 9 -->\n      <g style=\"fill:#262626;\" transform=\"translate(203.344021 117.073705)scale(0.1 -0.1)\">\n       <defs>\n        <path d=\"M 10.984375 1.515625 \nL 10.984375 10.5 \nQ 14.703125 8.734375 18.5 7.8125 \nQ 22.3125 6.890625 25.984375 6.890625 \nQ 35.75 6.890625 40.890625 13.453125 \nQ 46.046875 20.015625 46.78125 33.40625 \nQ 43.953125 29.203125 39.59375 26.953125 \nQ 35.25 24.703125 29.984375 24.703125 \nQ 19.046875 24.703125 12.671875 31.3125 \nQ 6.296875 37.9375 6.296875 49.421875 \nQ 6.296875 60.640625 12.9375 67.421875 \nQ 19.578125 74.21875 30.609375 74.21875 \nQ 43.265625 74.21875 49.921875 64.515625 \nQ 56.59375 54.828125 56.59375 36.375 \nQ 56.59375 19.140625 48.40625 8.859375 \nQ 40.234375 -1.421875 26.421875 -1.421875 \nQ 22.703125 -1.421875 18.890625 -0.6875 \nQ 15.09375 0.046875 10.984375 1.515625 \nz\nM 30.609375 32.421875 \nQ 37.25 32.421875 41.125 36.953125 \nQ 45.015625 41.5 45.015625 49.421875 \nQ 45.015625 57.28125 41.125 61.84375 \nQ 37.25 66.40625 30.609375 66.40625 \nQ 23.96875 66.40625 20.09375 61.84375 \nQ 16.21875 57.28125 16.21875 49.421875 \nQ 16.21875 41.5 20.09375 36.953125 \nQ 23.96875 32.421875 30.609375 32.421875 \nz\n\" id=\"DejaVuSans-57\"/>\n       </defs>\n       <use xlink:href=\"#DejaVuSans-57\"/>\n      </g>\n     </g>\n    </g>\n    <g id=\"xtick_10\">\n     <g id=\"line2d_10\">\n      <path clip-path=\"url(#p60f92194be)\" d=\"M 224.971552 99.975268 \nL 224.971552 22.318125 \n\" style=\"fill:none;stroke:#ffffff;stroke-linecap:round;\"/>\n     </g>\n     <g id=\"text_10\">\n      <!-- 10 -->\n      <g style=\"fill:#262626;\" transform=\"translate(218.609052 117.073705)scale(0.1 -0.1)\">\n       <defs>\n        <path d=\"M 31.78125 66.40625 \nQ 24.171875 66.40625 20.328125 58.90625 \nQ 16.5 51.421875 16.5 36.375 \nQ 16.5 21.390625 20.328125 13.890625 \nQ 24.171875 6.390625 31.78125 6.390625 \nQ 39.453125 6.390625 43.28125 13.890625 \nQ 47.125 21.390625 47.125 36.375 \nQ 47.125 51.421875 43.28125 58.90625 \nQ 39.453125 66.40625 31.78125 66.40625 \nz\nM 31.78125 74.21875 \nQ 44.046875 74.21875 50.515625 64.515625 \nQ 56.984375 54.828125 56.984375 36.375 \nQ 56.984375 17.96875 50.515625 8.265625 \nQ 44.046875 -1.421875 31.78125 -1.421875 \nQ 19.53125 -1.421875 13.0625 8.265625 \nQ 6.59375 17.96875 6.59375 36.375 \nQ 6.59375 54.828125 13.0625 64.515625 \nQ 19.53125 74.21875 31.78125 74.21875 \nz\n\" id=\"DejaVuSans-48\"/>\n       </defs>\n       <use xlink:href=\"#DejaVuSans-49\"/>\n       <use x=\"63.623047\" xlink:href=\"#DejaVuSans-48\"/>\n      </g>\n     </g>\n    </g>\n    <g id=\"xtick_11\">\n     <g id=\"line2d_11\">\n      <path clip-path=\"url(#p60f92194be)\" d=\"M 243.417833 99.975268 \nL 243.417833 22.318125 \n\" style=\"fill:none;stroke:#ffffff;stroke-linecap:round;\"/>\n     </g>\n     <g id=\"text_11\">\n      <!-- 11 -->\n      <g style=\"fill:#262626;\" transform=\"translate(237.055333 117.073705)scale(0.1 -0.1)\">\n       <use xlink:href=\"#DejaVuSans-49\"/>\n       <use x=\"63.623047\" xlink:href=\"#DejaVuSans-49\"/>\n      </g>\n     </g>\n    </g>\n    <g id=\"xtick_12\">\n     <g id=\"line2d_12\">\n      <path clip-path=\"url(#p60f92194be)\" d=\"M 261.864114 99.975268 \nL 261.864114 22.318125 \n\" style=\"fill:none;stroke:#ffffff;stroke-linecap:round;\"/>\n     </g>\n     <g id=\"text_12\">\n      <!-- 12 -->\n      <g style=\"fill:#262626;\" transform=\"translate(255.501614 117.073705)scale(0.1 -0.1)\">\n       <use xlink:href=\"#DejaVuSans-49\"/>\n       <use x=\"63.623047\" xlink:href=\"#DejaVuSans-50\"/>\n      </g>\n     </g>\n    </g>\n    <g id=\"xtick_13\">\n     <g id=\"line2d_13\">\n      <path clip-path=\"url(#p60f92194be)\" d=\"M 280.310395 99.975268 \nL 280.310395 22.318125 \n\" style=\"fill:none;stroke:#ffffff;stroke-linecap:round;\"/>\n     </g>\n     <g id=\"text_13\">\n      <!-- 13 -->\n      <g style=\"fill:#262626;\" transform=\"translate(273.947895 117.073705)scale(0.1 -0.1)\">\n       <use xlink:href=\"#DejaVuSans-49\"/>\n       <use x=\"63.623047\" xlink:href=\"#DejaVuSans-51\"/>\n      </g>\n     </g>\n    </g>\n    <g id=\"xtick_14\">\n     <g id=\"line2d_14\">\n      <path clip-path=\"url(#p60f92194be)\" d=\"M 298.756676 99.975268 \nL 298.756676 22.318125 \n\" style=\"fill:none;stroke:#ffffff;stroke-linecap:round;\"/>\n     </g>\n     <g id=\"text_14\">\n      <!-- 14 -->\n      <g style=\"fill:#262626;\" transform=\"translate(292.394176 117.073705)scale(0.1 -0.1)\">\n       <use xlink:href=\"#DejaVuSans-49\"/>\n       <use x=\"63.623047\" xlink:href=\"#DejaVuSans-52\"/>\n      </g>\n     </g>\n    </g>\n    <g id=\"xtick_15\">\n     <g id=\"line2d_15\">\n      <path clip-path=\"url(#p60f92194be)\" d=\"M 317.202957 99.975268 \nL 317.202957 22.318125 \n\" style=\"fill:none;stroke:#ffffff;stroke-linecap:round;\"/>\n     </g>\n     <g id=\"text_15\">\n      <!-- 15 -->\n      <g style=\"fill:#262626;\" transform=\"translate(310.840457 117.073705)scale(0.1 -0.1)\">\n       <use xlink:href=\"#DejaVuSans-49\"/>\n       <use x=\"63.623047\" xlink:href=\"#DejaVuSans-53\"/>\n      </g>\n     </g>\n    </g>\n    <g id=\"xtick_16\">\n     <g id=\"line2d_16\">\n      <path clip-path=\"url(#p60f92194be)\" d=\"M 335.649238 99.975268 \nL 335.649238 22.318125 \n\" style=\"fill:none;stroke:#ffffff;stroke-linecap:round;\"/>\n     </g>\n     <g id=\"text_16\">\n      <!-- 16 -->\n      <g style=\"fill:#262626;\" transform=\"translate(329.286738 117.073705)scale(0.1 -0.1)\">\n       <use xlink:href=\"#DejaVuSans-49\"/>\n       <use x=\"63.623047\" xlink:href=\"#DejaVuSans-54\"/>\n      </g>\n     </g>\n    </g>\n    <g id=\"text_17\">\n     <!-- Position in sequence -->\n     <g style=\"fill:#262626;\" transform=\"translate(146.006818 130.75183)scale(0.1 -0.1)\">\n      <defs>\n       <path d=\"M 19.671875 64.796875 \nL 19.671875 37.40625 \nL 32.078125 37.40625 \nQ 38.96875 37.40625 42.71875 40.96875 \nQ 46.484375 44.53125 46.484375 51.125 \nQ 46.484375 57.671875 42.71875 61.234375 \nQ 38.96875 64.796875 32.078125 64.796875 \nz\nM 9.8125 72.90625 \nL 32.078125 72.90625 \nQ 44.34375 72.90625 50.609375 67.359375 \nQ 56.890625 61.8125 56.890625 51.125 \nQ 56.890625 40.328125 50.609375 34.8125 \nQ 44.34375 29.296875 32.078125 29.296875 \nL 19.671875 29.296875 \nL 19.671875 0 \nL 9.8125 0 \nz\n\" id=\"DejaVuSans-80\"/>\n       <path d=\"M 30.609375 48.390625 \nQ 23.390625 48.390625 19.1875 42.75 \nQ 14.984375 37.109375 14.984375 27.296875 \nQ 14.984375 17.484375 19.15625 11.84375 \nQ 23.34375 6.203125 30.609375 6.203125 \nQ 37.796875 6.203125 41.984375 11.859375 \nQ 46.1875 17.53125 46.1875 27.296875 \nQ 46.1875 37.015625 41.984375 42.703125 \nQ 37.796875 48.390625 30.609375 48.390625 \nz\nM 30.609375 56 \nQ 42.328125 56 49.015625 48.375 \nQ 55.71875 40.765625 55.71875 27.296875 \nQ 55.71875 13.875 49.015625 6.21875 \nQ 42.328125 -1.421875 30.609375 -1.421875 \nQ 18.84375 -1.421875 12.171875 6.21875 \nQ 5.515625 13.875 5.515625 27.296875 \nQ 5.515625 40.765625 12.171875 48.375 \nQ 18.84375 56 30.609375 56 \nz\n\" id=\"DejaVuSans-111\"/>\n       <path d=\"M 44.28125 53.078125 \nL 44.28125 44.578125 \nQ 40.484375 46.53125 36.375 47.5 \nQ 32.28125 48.484375 27.875 48.484375 \nQ 21.1875 48.484375 17.84375 46.4375 \nQ 14.5 44.390625 14.5 40.28125 \nQ 14.5 37.15625 16.890625 35.375 \nQ 19.28125 33.59375 26.515625 31.984375 \nL 29.59375 31.296875 \nQ 39.15625 29.25 43.1875 25.515625 \nQ 47.21875 21.78125 47.21875 15.09375 \nQ 47.21875 7.46875 41.1875 3.015625 \nQ 35.15625 -1.421875 24.609375 -1.421875 \nQ 20.21875 -1.421875 15.453125 -0.5625 \nQ 10.6875 0.296875 5.421875 2 \nL 5.421875 11.28125 \nQ 10.40625 8.6875 15.234375 7.390625 \nQ 20.0625 6.109375 24.8125 6.109375 \nQ 31.15625 6.109375 34.5625 8.28125 \nQ 37.984375 10.453125 37.984375 14.40625 \nQ 37.984375 18.0625 35.515625 20.015625 \nQ 33.0625 21.96875 24.703125 23.78125 \nL 21.578125 24.515625 \nQ 13.234375 26.265625 9.515625 29.90625 \nQ 5.8125 33.546875 5.8125 39.890625 \nQ 5.8125 47.609375 11.28125 51.796875 \nQ 16.75 56 26.8125 56 \nQ 31.78125 56 36.171875 55.265625 \nQ 40.578125 54.546875 44.28125 53.078125 \nz\n\" id=\"DejaVuSans-115\"/>\n       <path d=\"M 9.421875 54.6875 \nL 18.40625 54.6875 \nL 18.40625 0 \nL 9.421875 0 \nz\nM 9.421875 75.984375 \nL 18.40625 75.984375 \nL 18.40625 64.59375 \nL 9.421875 64.59375 \nz\n\" id=\"DejaVuSans-105\"/>\n       <path d=\"M 18.3125 70.21875 \nL 18.3125 54.6875 \nL 36.8125 54.6875 \nL 36.8125 47.703125 \nL 18.3125 47.703125 \nL 18.3125 18.015625 \nQ 18.3125 11.328125 20.140625 9.421875 \nQ 21.96875 7.515625 27.59375 7.515625 \nL 36.8125 7.515625 \nL 36.8125 0 \nL 27.59375 0 \nQ 17.1875 0 13.234375 3.875 \nQ 9.28125 7.765625 9.28125 18.015625 \nL 9.28125 47.703125 \nL 2.6875 47.703125 \nL 2.6875 54.6875 \nL 9.28125 54.6875 \nL 9.28125 70.21875 \nz\n\" id=\"DejaVuSans-116\"/>\n       <path d=\"M 54.890625 33.015625 \nL 54.890625 0 \nL 45.90625 0 \nL 45.90625 32.71875 \nQ 45.90625 40.484375 42.875 44.328125 \nQ 39.84375 48.1875 33.796875 48.1875 \nQ 26.515625 48.1875 22.3125 43.546875 \nQ 18.109375 38.921875 18.109375 30.90625 \nL 18.109375 0 \nL 9.078125 0 \nL 9.078125 54.6875 \nL 18.109375 54.6875 \nL 18.109375 46.1875 \nQ 21.34375 51.125 25.703125 53.5625 \nQ 30.078125 56 35.796875 56 \nQ 45.21875 56 50.046875 50.171875 \nQ 54.890625 44.34375 54.890625 33.015625 \nz\n\" id=\"DejaVuSans-110\"/>\n       <path id=\"DejaVuSans-32\"/>\n       <path d=\"M 56.203125 29.59375 \nL 56.203125 25.203125 \nL 14.890625 25.203125 \nQ 15.484375 15.921875 20.484375 11.0625 \nQ 25.484375 6.203125 34.421875 6.203125 \nQ 39.59375 6.203125 44.453125 7.46875 \nQ 49.3125 8.734375 54.109375 11.28125 \nL 54.109375 2.78125 \nQ 49.265625 0.734375 44.1875 -0.34375 \nQ 39.109375 -1.421875 33.890625 -1.421875 \nQ 20.796875 -1.421875 13.15625 6.1875 \nQ 5.515625 13.8125 5.515625 26.8125 \nQ 5.515625 40.234375 12.765625 48.109375 \nQ 20.015625 56 32.328125 56 \nQ 43.359375 56 49.78125 48.890625 \nQ 56.203125 41.796875 56.203125 29.59375 \nz\nM 47.21875 32.234375 \nQ 47.125 39.59375 43.09375 43.984375 \nQ 39.0625 48.390625 32.421875 48.390625 \nQ 24.90625 48.390625 20.390625 44.140625 \nQ 15.875 39.890625 15.1875 32.171875 \nz\n\" id=\"DejaVuSans-101\"/>\n       <path d=\"M 14.796875 27.296875 \nQ 14.796875 17.390625 18.875 11.75 \nQ 22.953125 6.109375 30.078125 6.109375 \nQ 37.203125 6.109375 41.296875 11.75 \nQ 45.40625 17.390625 45.40625 27.296875 \nQ 45.40625 37.203125 41.296875 42.84375 \nQ 37.203125 48.484375 30.078125 48.484375 \nQ 22.953125 48.484375 18.875 42.84375 \nQ 14.796875 37.203125 14.796875 27.296875 \nz\nM 45.40625 8.203125 \nQ 42.578125 3.328125 38.25 0.953125 \nQ 33.9375 -1.421875 27.875 -1.421875 \nQ 17.96875 -1.421875 11.734375 6.484375 \nQ 5.515625 14.40625 5.515625 27.296875 \nQ 5.515625 40.1875 11.734375 48.09375 \nQ 17.96875 56 27.875 56 \nQ 33.9375 56 38.25 53.625 \nQ 42.578125 51.265625 45.40625 46.390625 \nL 45.40625 54.6875 \nL 54.390625 54.6875 \nL 54.390625 -20.796875 \nL 45.40625 -20.796875 \nz\n\" id=\"DejaVuSans-113\"/>\n       <path d=\"M 8.5 21.578125 \nL 8.5 54.6875 \nL 17.484375 54.6875 \nL 17.484375 21.921875 \nQ 17.484375 14.15625 20.5 10.265625 \nQ 23.53125 6.390625 29.59375 6.390625 \nQ 36.859375 6.390625 41.078125 11.03125 \nQ 45.3125 15.671875 45.3125 23.6875 \nL 45.3125 54.6875 \nL 54.296875 54.6875 \nL 54.296875 0 \nL 45.3125 0 \nL 45.3125 8.40625 \nQ 42.046875 3.421875 37.71875 1 \nQ 33.40625 -1.421875 27.6875 -1.421875 \nQ 18.265625 -1.421875 13.375 4.4375 \nQ 8.5 10.296875 8.5 21.578125 \nz\nM 31.109375 56 \nz\n\" id=\"DejaVuSans-117\"/>\n       <path d=\"M 48.78125 52.59375 \nL 48.78125 44.1875 \nQ 44.96875 46.296875 41.140625 47.34375 \nQ 37.3125 48.390625 33.40625 48.390625 \nQ 24.65625 48.390625 19.8125 42.84375 \nQ 14.984375 37.3125 14.984375 27.296875 \nQ 14.984375 17.28125 19.8125 11.734375 \nQ 24.65625 6.203125 33.40625 6.203125 \nQ 37.3125 6.203125 41.140625 7.25 \nQ 44.96875 8.296875 48.78125 10.40625 \nL 48.78125 2.09375 \nQ 45.015625 0.34375 40.984375 -0.53125 \nQ 36.96875 -1.421875 32.421875 -1.421875 \nQ 20.0625 -1.421875 12.78125 6.34375 \nQ 5.515625 14.109375 5.515625 27.296875 \nQ 5.515625 40.671875 12.859375 48.328125 \nQ 20.21875 56 33.015625 56 \nQ 37.15625 56 41.109375 55.140625 \nQ 45.0625 54.296875 48.78125 52.59375 \nz\n\" id=\"DejaVuSans-99\"/>\n      </defs>\n      <use xlink:href=\"#DejaVuSans-80\"/>\n      <use x=\"56.677734\" xlink:href=\"#DejaVuSans-111\"/>\n      <use x=\"117.859375\" xlink:href=\"#DejaVuSans-115\"/>\n      <use x=\"169.958984\" xlink:href=\"#DejaVuSans-105\"/>\n      <use x=\"197.742188\" xlink:href=\"#DejaVuSans-116\"/>\n      <use x=\"236.951172\" xlink:href=\"#DejaVuSans-105\"/>\n      <use x=\"264.734375\" xlink:href=\"#DejaVuSans-111\"/>\n      <use x=\"325.916016\" xlink:href=\"#DejaVuSans-110\"/>\n      <use x=\"389.294922\" xlink:href=\"#DejaVuSans-32\"/>\n      <use x=\"421.082031\" xlink:href=\"#DejaVuSans-105\"/>\n      <use x=\"448.865234\" xlink:href=\"#DejaVuSans-110\"/>\n      <use x=\"512.244141\" xlink:href=\"#DejaVuSans-32\"/>\n      <use x=\"544.03125\" xlink:href=\"#DejaVuSans-115\"/>\n      <use x=\"596.130859\" xlink:href=\"#DejaVuSans-101\"/>\n      <use x=\"657.654297\" xlink:href=\"#DejaVuSans-113\"/>\n      <use x=\"721.130859\" xlink:href=\"#DejaVuSans-117\"/>\n      <use x=\"784.509766\" xlink:href=\"#DejaVuSans-101\"/>\n      <use x=\"846.033203\" xlink:href=\"#DejaVuSans-110\"/>\n      <use x=\"909.412109\" xlink:href=\"#DejaVuSans-99\"/>\n      <use x=\"964.392578\" xlink:href=\"#DejaVuSans-101\"/>\n     </g>\n    </g>\n   </g>\n   <g id=\"matplotlib.axis_2\">\n    <g id=\"ytick_1\">\n     <g id=\"line2d_17\">\n      <path clip-path=\"url(#p60f92194be)\" d=\"M 45.120313 93.503839 \nL 349.483949 93.503839 \n\" style=\"fill:none;stroke:#ffffff;stroke-linecap:round;\"/>\n     </g>\n     <g id=\"text_18\">\n      <!-- −1 -->\n      <g style=\"fill:#262626;\" transform=\"translate(20.878125 97.303058)scale(0.1 -0.1)\">\n       <defs>\n        <path d=\"M 10.59375 35.5 \nL 73.1875 35.5 \nL 73.1875 27.203125 \nL 10.59375 27.203125 \nz\n\" id=\"DejaVuSans-8722\"/>\n       </defs>\n       <use xlink:href=\"#DejaVuSans-8722\"/>\n       <use x=\"83.789062\" xlink:href=\"#DejaVuSans-49\"/>\n      </g>\n     </g>\n    </g>\n    <g id=\"ytick_2\">\n     <g id=\"line2d_18\">\n      <path clip-path=\"url(#p60f92194be)\" d=\"M 45.120313 61.146696 \nL 349.483949 61.146696 \n\" style=\"fill:none;stroke:#ffffff;stroke-linecap:round;\"/>\n     </g>\n     <g id=\"text_19\">\n      <!-- 0 -->\n      <g style=\"fill:#262626;\" transform=\"translate(29.257813 64.945915)scale(0.1 -0.1)\">\n       <use xlink:href=\"#DejaVuSans-48\"/>\n      </g>\n     </g>\n    </g>\n    <g id=\"ytick_3\">\n     <g id=\"line2d_19\">\n      <path clip-path=\"url(#p60f92194be)\" d=\"M 45.120313 28.789554 \nL 349.483949 28.789554 \n\" style=\"fill:none;stroke:#ffffff;stroke-linecap:round;\"/>\n     </g>\n     <g id=\"text_20\">\n      <!-- 1 -->\n      <g style=\"fill:#262626;\" transform=\"translate(29.257813 32.588772)scale(0.1 -0.1)\">\n       <use xlink:href=\"#DejaVuSans-49\"/>\n      </g>\n     </g>\n    </g>\n    <g id=\"text_21\">\n     <!-- Positional encoding -->\n     <g style=\"fill:#262626;\" transform=\"translate(14.798438 109.613103)rotate(-90)scale(0.1 -0.1)\">\n      <defs>\n       <path d=\"M 34.28125 27.484375 \nQ 23.390625 27.484375 19.1875 25 \nQ 14.984375 22.515625 14.984375 16.5 \nQ 14.984375 11.71875 18.140625 8.90625 \nQ 21.296875 6.109375 26.703125 6.109375 \nQ 34.1875 6.109375 38.703125 11.40625 \nQ 43.21875 16.703125 43.21875 25.484375 \nL 43.21875 27.484375 \nz\nM 52.203125 31.203125 \nL 52.203125 0 \nL 43.21875 0 \nL 43.21875 8.296875 \nQ 40.140625 3.328125 35.546875 0.953125 \nQ 30.953125 -1.421875 24.3125 -1.421875 \nQ 15.921875 -1.421875 10.953125 3.296875 \nQ 6 8.015625 6 15.921875 \nQ 6 25.140625 12.171875 29.828125 \nQ 18.359375 34.515625 30.609375 34.515625 \nL 43.21875 34.515625 \nL 43.21875 35.40625 \nQ 43.21875 41.609375 39.140625 45 \nQ 35.0625 48.390625 27.6875 48.390625 \nQ 23 48.390625 18.546875 47.265625 \nQ 14.109375 46.140625 10.015625 43.890625 \nL 10.015625 52.203125 \nQ 14.9375 54.109375 19.578125 55.046875 \nQ 24.21875 56 28.609375 56 \nQ 40.484375 56 46.34375 49.84375 \nQ 52.203125 43.703125 52.203125 31.203125 \nz\n\" id=\"DejaVuSans-97\"/>\n       <path d=\"M 9.421875 75.984375 \nL 18.40625 75.984375 \nL 18.40625 0 \nL 9.421875 0 \nz\n\" id=\"DejaVuSans-108\"/>\n       <path d=\"M 45.40625 46.390625 \nL 45.40625 75.984375 \nL 54.390625 75.984375 \nL 54.390625 0 \nL 45.40625 0 \nL 45.40625 8.203125 \nQ 42.578125 3.328125 38.25 0.953125 \nQ 33.9375 -1.421875 27.875 -1.421875 \nQ 17.96875 -1.421875 11.734375 6.484375 \nQ 5.515625 14.40625 5.515625 27.296875 \nQ 5.515625 40.1875 11.734375 48.09375 \nQ 17.96875 56 27.875 56 \nQ 33.9375 56 38.25 53.625 \nQ 42.578125 51.265625 45.40625 46.390625 \nz\nM 14.796875 27.296875 \nQ 14.796875 17.390625 18.875 11.75 \nQ 22.953125 6.109375 30.078125 6.109375 \nQ 37.203125 6.109375 41.296875 11.75 \nQ 45.40625 17.390625 45.40625 27.296875 \nQ 45.40625 37.203125 41.296875 42.84375 \nQ 37.203125 48.484375 30.078125 48.484375 \nQ 22.953125 48.484375 18.875 42.84375 \nQ 14.796875 37.203125 14.796875 27.296875 \nz\n\" id=\"DejaVuSans-100\"/>\n       <path d=\"M 45.40625 27.984375 \nQ 45.40625 37.75 41.375 43.109375 \nQ 37.359375 48.484375 30.078125 48.484375 \nQ 22.859375 48.484375 18.828125 43.109375 \nQ 14.796875 37.75 14.796875 27.984375 \nQ 14.796875 18.265625 18.828125 12.890625 \nQ 22.859375 7.515625 30.078125 7.515625 \nQ 37.359375 7.515625 41.375 12.890625 \nQ 45.40625 18.265625 45.40625 27.984375 \nz\nM 54.390625 6.78125 \nQ 54.390625 -7.171875 48.1875 -13.984375 \nQ 42 -20.796875 29.203125 -20.796875 \nQ 24.46875 -20.796875 20.265625 -20.09375 \nQ 16.0625 -19.390625 12.109375 -17.921875 \nL 12.109375 -9.1875 \nQ 16.0625 -11.328125 19.921875 -12.34375 \nQ 23.78125 -13.375 27.78125 -13.375 \nQ 36.625 -13.375 41.015625 -8.765625 \nQ 45.40625 -4.15625 45.40625 5.171875 \nL 45.40625 9.625 \nQ 42.625 4.78125 38.28125 2.390625 \nQ 33.9375 0 27.875 0 \nQ 17.828125 0 11.671875 7.65625 \nQ 5.515625 15.328125 5.515625 27.984375 \nQ 5.515625 40.671875 11.671875 48.328125 \nQ 17.828125 56 27.875 56 \nQ 33.9375 56 38.28125 53.609375 \nQ 42.625 51.21875 45.40625 46.390625 \nL 45.40625 54.6875 \nL 54.390625 54.6875 \nz\n\" id=\"DejaVuSans-103\"/>\n      </defs>\n      <use xlink:href=\"#DejaVuSans-80\"/>\n      <use x=\"56.677734\" xlink:href=\"#DejaVuSans-111\"/>\n      <use x=\"117.859375\" xlink:href=\"#DejaVuSans-115\"/>\n      <use x=\"169.958984\" xlink:href=\"#DejaVuSans-105\"/>\n      <use x=\"197.742188\" xlink:href=\"#DejaVuSans-116\"/>\n      <use x=\"236.951172\" xlink:href=\"#DejaVuSans-105\"/>\n      <use x=\"264.734375\" xlink:href=\"#DejaVuSans-111\"/>\n      <use x=\"325.916016\" xlink:href=\"#DejaVuSans-110\"/>\n      <use x=\"389.294922\" xlink:href=\"#DejaVuSans-97\"/>\n      <use x=\"450.574219\" xlink:href=\"#DejaVuSans-108\"/>\n      <use x=\"478.357422\" xlink:href=\"#DejaVuSans-32\"/>\n      <use x=\"510.144531\" xlink:href=\"#DejaVuSans-101\"/>\n      <use x=\"571.667969\" xlink:href=\"#DejaVuSans-110\"/>\n      <use x=\"635.046875\" xlink:href=\"#DejaVuSans-99\"/>\n      <use x=\"690.027344\" xlink:href=\"#DejaVuSans-111\"/>\n      <use x=\"751.208984\" xlink:href=\"#DejaVuSans-100\"/>\n      <use x=\"814.685547\" xlink:href=\"#DejaVuSans-105\"/>\n      <use x=\"842.46875\" xlink:href=\"#DejaVuSans-110\"/>\n      <use x=\"905.847656\" xlink:href=\"#DejaVuSans-103\"/>\n     </g>\n    </g>\n   </g>\n   <g id=\"line2d_20\">\n    <path clip-path=\"url(#p60f92194be)\" d=\"M 58.955023 61.146696 \nL 77.401304 33.9191 \nL 95.847585 31.72443 \nL 114.293866 56.580456 \nL 132.740147 85.634663 \nL 151.186428 92.174747 \nL 169.632709 70.187783 \nL 188.07899 39.888487 \nL 206.525271 29.13389 \nL 224.971552 47.811719 \nL 243.417833 78.749666 \nL 261.864114 93.503523 \nL 280.310395 78.508663 \nL 298.756676 47.551292 \nL 317.202957 29.093472 \nL 335.649238 40.105239 \n\" style=\"fill:none;stroke:#1f77b4;stroke-linecap:round;stroke-width:1.5;\"/>\n    <defs>\n     <path d=\"M 0 3 \nC 0.795609 3 1.55874 2.683901 2.12132 2.12132 \nC 2.683901 1.55874 3 0.795609 3 0 \nC 3 -0.795609 2.683901 -1.55874 2.12132 -2.12132 \nC 1.55874 -2.683901 0.795609 -3 0 -3 \nC -0.795609 -3 -1.55874 -2.683901 -2.12132 -2.12132 \nC -2.683901 -1.55874 -3 -0.795609 -3 0 \nC -3 0.795609 -2.683901 1.55874 -2.12132 2.12132 \nC -1.55874 2.683901 -0.795609 3 0 3 \nz\n\" id=\"m0f789ad6e3\" style=\"stroke:#000000;\"/>\n    </defs>\n    <g clip-path=\"url(#p60f92194be)\">\n     <use style=\"fill:#1f77b4;stroke:#000000;\" x=\"58.955023\" xlink:href=\"#m0f789ad6e3\" y=\"61.146696\"/>\n     <use style=\"fill:#1f77b4;stroke:#000000;\" x=\"77.401304\" xlink:href=\"#m0f789ad6e3\" y=\"33.9191\"/>\n     <use style=\"fill:#1f77b4;stroke:#000000;\" x=\"95.847585\" xlink:href=\"#m0f789ad6e3\" y=\"31.72443\"/>\n     <use style=\"fill:#1f77b4;stroke:#000000;\" x=\"114.293866\" xlink:href=\"#m0f789ad6e3\" y=\"56.580456\"/>\n     <use style=\"fill:#1f77b4;stroke:#000000;\" x=\"132.740147\" xlink:href=\"#m0f789ad6e3\" y=\"85.634663\"/>\n     <use style=\"fill:#1f77b4;stroke:#000000;\" x=\"151.186428\" xlink:href=\"#m0f789ad6e3\" y=\"92.174747\"/>\n     <use style=\"fill:#1f77b4;stroke:#000000;\" x=\"169.632709\" xlink:href=\"#m0f789ad6e3\" y=\"70.187783\"/>\n     <use style=\"fill:#1f77b4;stroke:#000000;\" x=\"188.07899\" xlink:href=\"#m0f789ad6e3\" y=\"39.888487\"/>\n     <use style=\"fill:#1f77b4;stroke:#000000;\" x=\"206.525271\" xlink:href=\"#m0f789ad6e3\" y=\"29.13389\"/>\n     <use style=\"fill:#1f77b4;stroke:#000000;\" x=\"224.971552\" xlink:href=\"#m0f789ad6e3\" y=\"47.811719\"/>\n     <use style=\"fill:#1f77b4;stroke:#000000;\" x=\"243.417833\" xlink:href=\"#m0f789ad6e3\" y=\"78.749666\"/>\n     <use style=\"fill:#1f77b4;stroke:#000000;\" x=\"261.864114\" xlink:href=\"#m0f789ad6e3\" y=\"93.503523\"/>\n     <use style=\"fill:#1f77b4;stroke:#000000;\" x=\"280.310395\" xlink:href=\"#m0f789ad6e3\" y=\"78.508663\"/>\n     <use style=\"fill:#1f77b4;stroke:#000000;\" x=\"298.756676\" xlink:href=\"#m0f789ad6e3\" y=\"47.551292\"/>\n     <use style=\"fill:#1f77b4;stroke:#000000;\" x=\"317.202957\" xlink:href=\"#m0f789ad6e3\" y=\"29.093472\"/>\n     <use style=\"fill:#1f77b4;stroke:#000000;\" x=\"335.649238\" xlink:href=\"#m0f789ad6e3\" y=\"40.105239\"/>\n    </g>\n   </g>\n   <g id=\"patch_3\">\n    <path d=\"M 45.120313 99.975268 \nL 45.120313 22.318125 \n\" style=\"fill:none;stroke:#ffffff;stroke-linecap:square;stroke-linejoin:miter;stroke-width:1.25;\"/>\n   </g>\n   <g id=\"patch_4\">\n    <path d=\"M 349.483949 99.975268 \nL 349.483949 22.318125 \n\" style=\"fill:none;stroke:#ffffff;stroke-linecap:square;stroke-linejoin:miter;stroke-width:1.25;\"/>\n   </g>\n   <g id=\"patch_5\">\n    <path d=\"M 45.120313 99.975268 \nL 349.483949 99.975268 \n\" style=\"fill:none;stroke:#ffffff;stroke-linecap:square;stroke-linejoin:miter;stroke-width:1.25;\"/>\n   </g>\n   <g id=\"patch_6\">\n    <path d=\"M 45.120313 22.318125 \nL 349.483949 22.318125 \n\" style=\"fill:none;stroke:#ffffff;stroke-linecap:square;stroke-linejoin:miter;stroke-width:1.25;\"/>\n   </g>\n   <g id=\"text_22\">\n    <!-- Encoding in hidden dimension 1 -->\n    <g style=\"fill:#262626;\" transform=\"translate(101.073381 16.318125)scale(0.12 -0.12)\">\n     <defs>\n      <path d=\"M 9.8125 72.90625 \nL 55.90625 72.90625 \nL 55.90625 64.59375 \nL 19.671875 64.59375 \nL 19.671875 43.015625 \nL 54.390625 43.015625 \nL 54.390625 34.71875 \nL 19.671875 34.71875 \nL 19.671875 8.296875 \nL 56.78125 8.296875 \nL 56.78125 0 \nL 9.8125 0 \nz\n\" id=\"DejaVuSans-69\"/>\n      <path d=\"M 54.890625 33.015625 \nL 54.890625 0 \nL 45.90625 0 \nL 45.90625 32.71875 \nQ 45.90625 40.484375 42.875 44.328125 \nQ 39.84375 48.1875 33.796875 48.1875 \nQ 26.515625 48.1875 22.3125 43.546875 \nQ 18.109375 38.921875 18.109375 30.90625 \nL 18.109375 0 \nL 9.078125 0 \nL 9.078125 75.984375 \nL 18.109375 75.984375 \nL 18.109375 46.1875 \nQ 21.34375 51.125 25.703125 53.5625 \nQ 30.078125 56 35.796875 56 \nQ 45.21875 56 50.046875 50.171875 \nQ 54.890625 44.34375 54.890625 33.015625 \nz\n\" id=\"DejaVuSans-104\"/>\n      <path d=\"M 52 44.1875 \nQ 55.375 50.25 60.0625 53.125 \nQ 64.75 56 71.09375 56 \nQ 79.640625 56 84.28125 50.015625 \nQ 88.921875 44.046875 88.921875 33.015625 \nL 88.921875 0 \nL 79.890625 0 \nL 79.890625 32.71875 \nQ 79.890625 40.578125 77.09375 44.375 \nQ 74.3125 48.1875 68.609375 48.1875 \nQ 61.625 48.1875 57.5625 43.546875 \nQ 53.515625 38.921875 53.515625 30.90625 \nL 53.515625 0 \nL 44.484375 0 \nL 44.484375 32.71875 \nQ 44.484375 40.625 41.703125 44.40625 \nQ 38.921875 48.1875 33.109375 48.1875 \nQ 26.21875 48.1875 22.15625 43.53125 \nQ 18.109375 38.875 18.109375 30.90625 \nL 18.109375 0 \nL 9.078125 0 \nL 9.078125 54.6875 \nL 18.109375 54.6875 \nL 18.109375 46.1875 \nQ 21.1875 51.21875 25.484375 53.609375 \nQ 29.78125 56 35.6875 56 \nQ 41.65625 56 45.828125 52.96875 \nQ 50 49.953125 52 44.1875 \nz\n\" id=\"DejaVuSans-109\"/>\n     </defs>\n     <use xlink:href=\"#DejaVuSans-69\"/>\n     <use x=\"63.183594\" xlink:href=\"#DejaVuSans-110\"/>\n     <use x=\"126.5625\" xlink:href=\"#DejaVuSans-99\"/>\n     <use x=\"181.542969\" xlink:href=\"#DejaVuSans-111\"/>\n     <use x=\"242.724609\" xlink:href=\"#DejaVuSans-100\"/>\n     <use x=\"306.201172\" xlink:href=\"#DejaVuSans-105\"/>\n     <use x=\"333.984375\" xlink:href=\"#DejaVuSans-110\"/>\n     <use x=\"397.363281\" xlink:href=\"#DejaVuSans-103\"/>\n     <use x=\"460.839844\" xlink:href=\"#DejaVuSans-32\"/>\n     <use x=\"492.626953\" xlink:href=\"#DejaVuSans-105\"/>\n     <use x=\"520.410156\" xlink:href=\"#DejaVuSans-110\"/>\n     <use x=\"583.789062\" xlink:href=\"#DejaVuSans-32\"/>\n     <use x=\"615.576172\" xlink:href=\"#DejaVuSans-104\"/>\n     <use x=\"678.955078\" xlink:href=\"#DejaVuSans-105\"/>\n     <use x=\"706.738281\" xlink:href=\"#DejaVuSans-100\"/>\n     <use x=\"770.214844\" xlink:href=\"#DejaVuSans-100\"/>\n     <use x=\"833.691406\" xlink:href=\"#DejaVuSans-101\"/>\n     <use x=\"895.214844\" xlink:href=\"#DejaVuSans-110\"/>\n     <use x=\"958.59375\" xlink:href=\"#DejaVuSans-32\"/>\n     <use x=\"990.380859\" xlink:href=\"#DejaVuSans-100\"/>\n     <use x=\"1053.857422\" xlink:href=\"#DejaVuSans-105\"/>\n     <use x=\"1081.640625\" xlink:href=\"#DejaVuSans-109\"/>\n     <use x=\"1179.052734\" xlink:href=\"#DejaVuSans-101\"/>\n     <use x=\"1240.576172\" xlink:href=\"#DejaVuSans-110\"/>\n     <use x=\"1303.955078\" xlink:href=\"#DejaVuSans-115\"/>\n     <use x=\"1356.054688\" xlink:href=\"#DejaVuSans-105\"/>\n     <use x=\"1383.837891\" xlink:href=\"#DejaVuSans-111\"/>\n     <use x=\"1445.019531\" xlink:href=\"#DejaVuSans-110\"/>\n     <use x=\"1508.398438\" xlink:href=\"#DejaVuSans-32\"/>\n     <use x=\"1540.185547\" xlink:href=\"#DejaVuSans-49\"/>\n    </g>\n   </g>\n  </g>\n  <g id=\"axes_2\">\n   <g id=\"patch_7\">\n    <path d=\"M 410.356676 99.975268 \nL 714.720312 99.975268 \nL 714.720312 22.318125 \nL 410.356676 22.318125 \nz\n\" style=\"fill:#eaeaf2;\"/>\n   </g>\n   <g id=\"matplotlib.axis_3\">\n    <g id=\"xtick_17\">\n     <g id=\"line2d_21\">\n      <path clip-path=\"url(#pd7a15b01c2)\" d=\"M 424.191387 99.975268 \nL 424.191387 22.318125 \n\" style=\"fill:none;stroke:#ffffff;stroke-linecap:round;\"/>\n     </g>\n     <g id=\"text_23\">\n      <!-- 1 -->\n      <g style=\"fill:#262626;\" transform=\"translate(421.010137 117.073705)scale(0.1 -0.1)\">\n       <use xlink:href=\"#DejaVuSans-49\"/>\n      </g>\n     </g>\n    </g>\n    <g id=\"xtick_18\">\n     <g id=\"line2d_22\">\n      <path clip-path=\"url(#pd7a15b01c2)\" d=\"M 442.637668 99.975268 \nL 442.637668 22.318125 \n\" style=\"fill:none;stroke:#ffffff;stroke-linecap:round;\"/>\n     </g>\n     <g id=\"text_24\">\n      <!-- 2 -->\n      <g style=\"fill:#262626;\" transform=\"translate(439.456418 117.073705)scale(0.1 -0.1)\">\n       <use xlink:href=\"#DejaVuSans-50\"/>\n      </g>\n     </g>\n    </g>\n    <g id=\"xtick_19\">\n     <g id=\"line2d_23\">\n      <path clip-path=\"url(#pd7a15b01c2)\" d=\"M 461.083949 99.975268 \nL 461.083949 22.318125 \n\" style=\"fill:none;stroke:#ffffff;stroke-linecap:round;\"/>\n     </g>\n     <g id=\"text_25\">\n      <!-- 3 -->\n      <g style=\"fill:#262626;\" transform=\"translate(457.902699 117.073705)scale(0.1 -0.1)\">\n       <use xlink:href=\"#DejaVuSans-51\"/>\n      </g>\n     </g>\n    </g>\n    <g id=\"xtick_20\">\n     <g id=\"line2d_24\">\n      <path clip-path=\"url(#pd7a15b01c2)\" d=\"M 479.53023 99.975268 \nL 479.53023 22.318125 \n\" style=\"fill:none;stroke:#ffffff;stroke-linecap:round;\"/>\n     </g>\n     <g id=\"text_26\">\n      <!-- 4 -->\n      <g style=\"fill:#262626;\" transform=\"translate(476.34898 117.073705)scale(0.1 -0.1)\">\n       <use xlink:href=\"#DejaVuSans-52\"/>\n      </g>\n     </g>\n    </g>\n    <g id=\"xtick_21\">\n     <g id=\"line2d_25\">\n      <path clip-path=\"url(#pd7a15b01c2)\" d=\"M 497.976511 99.975268 \nL 497.976511 22.318125 \n\" style=\"fill:none;stroke:#ffffff;stroke-linecap:round;\"/>\n     </g>\n     <g id=\"text_27\">\n      <!-- 5 -->\n      <g style=\"fill:#262626;\" transform=\"translate(494.795261 117.073705)scale(0.1 -0.1)\">\n       <use xlink:href=\"#DejaVuSans-53\"/>\n      </g>\n     </g>\n    </g>\n    <g id=\"xtick_22\">\n     <g id=\"line2d_26\">\n      <path clip-path=\"url(#pd7a15b01c2)\" d=\"M 516.422792 99.975268 \nL 516.422792 22.318125 \n\" style=\"fill:none;stroke:#ffffff;stroke-linecap:round;\"/>\n     </g>\n     <g id=\"text_28\">\n      <!-- 6 -->\n      <g style=\"fill:#262626;\" transform=\"translate(513.241542 117.073705)scale(0.1 -0.1)\">\n       <use xlink:href=\"#DejaVuSans-54\"/>\n      </g>\n     </g>\n    </g>\n    <g id=\"xtick_23\">\n     <g id=\"line2d_27\">\n      <path clip-path=\"url(#pd7a15b01c2)\" d=\"M 534.869073 99.975268 \nL 534.869073 22.318125 \n\" style=\"fill:none;stroke:#ffffff;stroke-linecap:round;\"/>\n     </g>\n     <g id=\"text_29\">\n      <!-- 7 -->\n      <g style=\"fill:#262626;\" transform=\"translate(531.687823 117.073705)scale(0.1 -0.1)\">\n       <use xlink:href=\"#DejaVuSans-55\"/>\n      </g>\n     </g>\n    </g>\n    <g id=\"xtick_24\">\n     <g id=\"line2d_28\">\n      <path clip-path=\"url(#pd7a15b01c2)\" d=\"M 553.315354 99.975268 \nL 553.315354 22.318125 \n\" style=\"fill:none;stroke:#ffffff;stroke-linecap:round;\"/>\n     </g>\n     <g id=\"text_30\">\n      <!-- 8 -->\n      <g style=\"fill:#262626;\" transform=\"translate(550.134104 117.073705)scale(0.1 -0.1)\">\n       <use xlink:href=\"#DejaVuSans-56\"/>\n      </g>\n     </g>\n    </g>\n    <g id=\"xtick_25\">\n     <g id=\"line2d_29\">\n      <path clip-path=\"url(#pd7a15b01c2)\" d=\"M 571.761635 99.975268 \nL 571.761635 22.318125 \n\" style=\"fill:none;stroke:#ffffff;stroke-linecap:round;\"/>\n     </g>\n     <g id=\"text_31\">\n      <!-- 9 -->\n      <g style=\"fill:#262626;\" transform=\"translate(568.580385 117.073705)scale(0.1 -0.1)\">\n       <use xlink:href=\"#DejaVuSans-57\"/>\n      </g>\n     </g>\n    </g>\n    <g id=\"xtick_26\">\n     <g id=\"line2d_30\">\n      <path clip-path=\"url(#pd7a15b01c2)\" d=\"M 590.207916 99.975268 \nL 590.207916 22.318125 \n\" style=\"fill:none;stroke:#ffffff;stroke-linecap:round;\"/>\n     </g>\n     <g id=\"text_32\">\n      <!-- 10 -->\n      <g style=\"fill:#262626;\" transform=\"translate(583.845416 117.073705)scale(0.1 -0.1)\">\n       <use xlink:href=\"#DejaVuSans-49\"/>\n       <use x=\"63.623047\" xlink:href=\"#DejaVuSans-48\"/>\n      </g>\n     </g>\n    </g>\n    <g id=\"xtick_27\">\n     <g id=\"line2d_31\">\n      <path clip-path=\"url(#pd7a15b01c2)\" d=\"M 608.654197 99.975268 \nL 608.654197 22.318125 \n\" style=\"fill:none;stroke:#ffffff;stroke-linecap:round;\"/>\n     </g>\n     <g id=\"text_33\">\n      <!-- 11 -->\n      <g style=\"fill:#262626;\" transform=\"translate(602.291697 117.073705)scale(0.1 -0.1)\">\n       <use xlink:href=\"#DejaVuSans-49\"/>\n       <use x=\"63.623047\" xlink:href=\"#DejaVuSans-49\"/>\n      </g>\n     </g>\n    </g>\n    <g id=\"xtick_28\">\n     <g id=\"line2d_32\">\n      <path clip-path=\"url(#pd7a15b01c2)\" d=\"M 627.100478 99.975268 \nL 627.100478 22.318125 \n\" style=\"fill:none;stroke:#ffffff;stroke-linecap:round;\"/>\n     </g>\n     <g id=\"text_34\">\n      <!-- 12 -->\n      <g style=\"fill:#262626;\" transform=\"translate(620.737978 117.073705)scale(0.1 -0.1)\">\n       <use xlink:href=\"#DejaVuSans-49\"/>\n       <use x=\"63.623047\" xlink:href=\"#DejaVuSans-50\"/>\n      </g>\n     </g>\n    </g>\n    <g id=\"xtick_29\">\n     <g id=\"line2d_33\">\n      <path clip-path=\"url(#pd7a15b01c2)\" d=\"M 645.546759 99.975268 \nL 645.546759 22.318125 \n\" style=\"fill:none;stroke:#ffffff;stroke-linecap:round;\"/>\n     </g>\n     <g id=\"text_35\">\n      <!-- 13 -->\n      <g style=\"fill:#262626;\" transform=\"translate(639.184259 117.073705)scale(0.1 -0.1)\">\n       <use xlink:href=\"#DejaVuSans-49\"/>\n       <use x=\"63.623047\" xlink:href=\"#DejaVuSans-51\"/>\n      </g>\n     </g>\n    </g>\n    <g id=\"xtick_30\">\n     <g id=\"line2d_34\">\n      <path clip-path=\"url(#pd7a15b01c2)\" d=\"M 663.99304 99.975268 \nL 663.99304 22.318125 \n\" style=\"fill:none;stroke:#ffffff;stroke-linecap:round;\"/>\n     </g>\n     <g id=\"text_36\">\n      <!-- 14 -->\n      <g style=\"fill:#262626;\" transform=\"translate(657.63054 117.073705)scale(0.1 -0.1)\">\n       <use xlink:href=\"#DejaVuSans-49\"/>\n       <use x=\"63.623047\" xlink:href=\"#DejaVuSans-52\"/>\n      </g>\n     </g>\n    </g>\n    <g id=\"xtick_31\">\n     <g id=\"line2d_35\">\n      <path clip-path=\"url(#pd7a15b01c2)\" d=\"M 682.439321 99.975268 \nL 682.439321 22.318125 \n\" style=\"fill:none;stroke:#ffffff;stroke-linecap:round;\"/>\n     </g>\n     <g id=\"text_37\">\n      <!-- 15 -->\n      <g style=\"fill:#262626;\" transform=\"translate(676.076821 117.073705)scale(0.1 -0.1)\">\n       <use xlink:href=\"#DejaVuSans-49\"/>\n       <use x=\"63.623047\" xlink:href=\"#DejaVuSans-53\"/>\n      </g>\n     </g>\n    </g>\n    <g id=\"xtick_32\">\n     <g id=\"line2d_36\">\n      <path clip-path=\"url(#pd7a15b01c2)\" d=\"M 700.885602 99.975268 \nL 700.885602 22.318125 \n\" style=\"fill:none;stroke:#ffffff;stroke-linecap:round;\"/>\n     </g>\n     <g id=\"text_38\">\n      <!-- 16 -->\n      <g style=\"fill:#262626;\" transform=\"translate(694.523102 117.073705)scale(0.1 -0.1)\">\n       <use xlink:href=\"#DejaVuSans-49\"/>\n       <use x=\"63.623047\" xlink:href=\"#DejaVuSans-54\"/>\n      </g>\n     </g>\n    </g>\n    <g id=\"text_39\">\n     <!-- Position in sequence -->\n     <g style=\"fill:#262626;\" transform=\"translate(511.243182 130.75183)scale(0.1 -0.1)\">\n      <use xlink:href=\"#DejaVuSans-80\"/>\n      <use x=\"56.677734\" xlink:href=\"#DejaVuSans-111\"/>\n      <use x=\"117.859375\" xlink:href=\"#DejaVuSans-115\"/>\n      <use x=\"169.958984\" xlink:href=\"#DejaVuSans-105\"/>\n      <use x=\"197.742188\" xlink:href=\"#DejaVuSans-116\"/>\n      <use x=\"236.951172\" xlink:href=\"#DejaVuSans-105\"/>\n      <use x=\"264.734375\" xlink:href=\"#DejaVuSans-111\"/>\n      <use x=\"325.916016\" xlink:href=\"#DejaVuSans-110\"/>\n      <use x=\"389.294922\" xlink:href=\"#DejaVuSans-32\"/>\n      <use x=\"421.082031\" xlink:href=\"#DejaVuSans-105\"/>\n      <use x=\"448.865234\" xlink:href=\"#DejaVuSans-110\"/>\n      <use x=\"512.244141\" xlink:href=\"#DejaVuSans-32\"/>\n      <use x=\"544.03125\" xlink:href=\"#DejaVuSans-115\"/>\n      <use x=\"596.130859\" xlink:href=\"#DejaVuSans-101\"/>\n      <use x=\"657.654297\" xlink:href=\"#DejaVuSans-113\"/>\n      <use x=\"721.130859\" xlink:href=\"#DejaVuSans-117\"/>\n      <use x=\"784.509766\" xlink:href=\"#DejaVuSans-101\"/>\n      <use x=\"846.033203\" xlink:href=\"#DejaVuSans-110\"/>\n      <use x=\"909.412109\" xlink:href=\"#DejaVuSans-99\"/>\n      <use x=\"964.392578\" xlink:href=\"#DejaVuSans-101\"/>\n     </g>\n    </g>\n   </g>\n   <g id=\"matplotlib.axis_4\">\n    <g id=\"ytick_4\">\n     <g id=\"line2d_37\">\n      <path clip-path=\"url(#pd7a15b01c2)\" d=\"M 410.356676 93.503839 \nL 714.720312 93.503839 \n\" style=\"fill:none;stroke:#ffffff;stroke-linecap:round;\"/>\n     </g>\n     <g id=\"text_40\">\n      <!-- −1 -->\n      <g style=\"fill:#262626;\" transform=\"translate(386.114489 97.303058)scale(0.1 -0.1)\">\n       <use xlink:href=\"#DejaVuSans-8722\"/>\n       <use x=\"83.789062\" xlink:href=\"#DejaVuSans-49\"/>\n      </g>\n     </g>\n    </g>\n    <g id=\"ytick_5\">\n     <g id=\"line2d_38\">\n      <path clip-path=\"url(#pd7a15b01c2)\" d=\"M 410.356676 61.146696 \nL 714.720312 61.146696 \n\" style=\"fill:none;stroke:#ffffff;stroke-linecap:round;\"/>\n     </g>\n     <g id=\"text_41\">\n      <!-- 0 -->\n      <g style=\"fill:#262626;\" transform=\"translate(394.494176 64.945915)scale(0.1 -0.1)\">\n       <use xlink:href=\"#DejaVuSans-48\"/>\n      </g>\n     </g>\n    </g>\n    <g id=\"ytick_6\">\n     <g id=\"line2d_39\">\n      <path clip-path=\"url(#pd7a15b01c2)\" d=\"M 410.356676 28.789554 \nL 714.720312 28.789554 \n\" style=\"fill:none;stroke:#ffffff;stroke-linecap:round;\"/>\n     </g>\n     <g id=\"text_42\">\n      <!-- 1 -->\n      <g style=\"fill:#262626;\" transform=\"translate(394.494176 32.588772)scale(0.1 -0.1)\">\n       <use xlink:href=\"#DejaVuSans-49\"/>\n      </g>\n     </g>\n    </g>\n    <g id=\"text_43\">\n     <!-- Positional encoding -->\n     <g style=\"fill:#262626;\" transform=\"translate(380.034801 109.613103)rotate(-90)scale(0.1 -0.1)\">\n      <use xlink:href=\"#DejaVuSans-80\"/>\n      <use x=\"56.677734\" xlink:href=\"#DejaVuSans-111\"/>\n      <use x=\"117.859375\" xlink:href=\"#DejaVuSans-115\"/>\n      <use x=\"169.958984\" xlink:href=\"#DejaVuSans-105\"/>\n      <use x=\"197.742188\" xlink:href=\"#DejaVuSans-116\"/>\n      <use x=\"236.951172\" xlink:href=\"#DejaVuSans-105\"/>\n      <use x=\"264.734375\" xlink:href=\"#DejaVuSans-111\"/>\n      <use x=\"325.916016\" xlink:href=\"#DejaVuSans-110\"/>\n      <use x=\"389.294922\" xlink:href=\"#DejaVuSans-97\"/>\n      <use x=\"450.574219\" xlink:href=\"#DejaVuSans-108\"/>\n      <use x=\"478.357422\" xlink:href=\"#DejaVuSans-32\"/>\n      <use x=\"510.144531\" xlink:href=\"#DejaVuSans-101\"/>\n      <use x=\"571.667969\" xlink:href=\"#DejaVuSans-110\"/>\n      <use x=\"635.046875\" xlink:href=\"#DejaVuSans-99\"/>\n      <use x=\"690.027344\" xlink:href=\"#DejaVuSans-111\"/>\n      <use x=\"751.208984\" xlink:href=\"#DejaVuSans-100\"/>\n      <use x=\"814.685547\" xlink:href=\"#DejaVuSans-105\"/>\n      <use x=\"842.46875\" xlink:href=\"#DejaVuSans-110\"/>\n      <use x=\"905.847656\" xlink:href=\"#DejaVuSans-103\"/>\n     </g>\n    </g>\n   </g>\n   <g id=\"line2d_40\">\n    <path clip-path=\"url(#pd7a15b01c2)\" d=\"M 424.191387 28.789554 \nL 442.637668 43.664057 \nL 461.083949 74.612019 \nL 479.53023 93.180025 \nL 497.976511 82.296736 \nL 516.422792 51.968198 \nL 534.869073 30.07833 \nL 553.315354 36.752573 \nL 571.761635 65.854662 \nL 590.207916 90.628268 \nL 608.654197 88.296653 \nL 627.100478 61.003493 \nL 645.546759 33.841994 \nL 663.99304 31.784311 \nL 682.439321 56.722271 \nL 700.885602 85.728026 \n\" style=\"fill:none;stroke:#ff7f0e;stroke-linecap:round;stroke-width:1.5;\"/>\n    <defs>\n     <path d=\"M 0 3 \nC 0.795609 3 1.55874 2.683901 2.12132 2.12132 \nC 2.683901 1.55874 3 0.795609 3 0 \nC 3 -0.795609 2.683901 -1.55874 2.12132 -2.12132 \nC 1.55874 -2.683901 0.795609 -3 0 -3 \nC -0.795609 -3 -1.55874 -2.683901 -2.12132 -2.12132 \nC -2.683901 -1.55874 -3 -0.795609 -3 0 \nC -3 0.795609 -2.683901 1.55874 -2.12132 2.12132 \nC -1.55874 2.683901 -0.795609 3 0 3 \nz\n\" id=\"m5e6bda8596\" style=\"stroke:#000000;\"/>\n    </defs>\n    <g clip-path=\"url(#pd7a15b01c2)\">\n     <use style=\"fill:#ff7f0e;stroke:#000000;\" x=\"424.191387\" xlink:href=\"#m5e6bda8596\" y=\"28.789554\"/>\n     <use style=\"fill:#ff7f0e;stroke:#000000;\" x=\"442.637668\" xlink:href=\"#m5e6bda8596\" y=\"43.664057\"/>\n     <use style=\"fill:#ff7f0e;stroke:#000000;\" x=\"461.083949\" xlink:href=\"#m5e6bda8596\" y=\"74.612019\"/>\n     <use style=\"fill:#ff7f0e;stroke:#000000;\" x=\"479.53023\" xlink:href=\"#m5e6bda8596\" y=\"93.180025\"/>\n     <use style=\"fill:#ff7f0e;stroke:#000000;\" x=\"497.976511\" xlink:href=\"#m5e6bda8596\" y=\"82.296736\"/>\n     <use style=\"fill:#ff7f0e;stroke:#000000;\" x=\"516.422792\" xlink:href=\"#m5e6bda8596\" y=\"51.968198\"/>\n     <use style=\"fill:#ff7f0e;stroke:#000000;\" x=\"534.869073\" xlink:href=\"#m5e6bda8596\" y=\"30.07833\"/>\n     <use style=\"fill:#ff7f0e;stroke:#000000;\" x=\"553.315354\" xlink:href=\"#m5e6bda8596\" y=\"36.752573\"/>\n     <use style=\"fill:#ff7f0e;stroke:#000000;\" x=\"571.761635\" xlink:href=\"#m5e6bda8596\" y=\"65.854662\"/>\n     <use style=\"fill:#ff7f0e;stroke:#000000;\" x=\"590.207916\" xlink:href=\"#m5e6bda8596\" y=\"90.628268\"/>\n     <use style=\"fill:#ff7f0e;stroke:#000000;\" x=\"608.654197\" xlink:href=\"#m5e6bda8596\" y=\"88.296653\"/>\n     <use style=\"fill:#ff7f0e;stroke:#000000;\" x=\"627.100478\" xlink:href=\"#m5e6bda8596\" y=\"61.003493\"/>\n     <use style=\"fill:#ff7f0e;stroke:#000000;\" x=\"645.546759\" xlink:href=\"#m5e6bda8596\" y=\"33.841994\"/>\n     <use style=\"fill:#ff7f0e;stroke:#000000;\" x=\"663.99304\" xlink:href=\"#m5e6bda8596\" y=\"31.784311\"/>\n     <use style=\"fill:#ff7f0e;stroke:#000000;\" x=\"682.439321\" xlink:href=\"#m5e6bda8596\" y=\"56.722271\"/>\n     <use style=\"fill:#ff7f0e;stroke:#000000;\" x=\"700.885602\" xlink:href=\"#m5e6bda8596\" y=\"85.728026\"/>\n    </g>\n   </g>\n   <g id=\"patch_8\">\n    <path d=\"M 410.356676 99.975268 \nL 410.356676 22.318125 \n\" style=\"fill:none;stroke:#ffffff;stroke-linecap:square;stroke-linejoin:miter;stroke-width:1.25;\"/>\n   </g>\n   <g id=\"patch_9\">\n    <path d=\"M 714.720312 99.975268 \nL 714.720312 22.318125 \n\" style=\"fill:none;stroke:#ffffff;stroke-linecap:square;stroke-linejoin:miter;stroke-width:1.25;\"/>\n   </g>\n   <g id=\"patch_10\">\n    <path d=\"M 410.356676 99.975268 \nL 714.720312 99.975268 \n\" style=\"fill:none;stroke:#ffffff;stroke-linecap:square;stroke-linejoin:miter;stroke-width:1.25;\"/>\n   </g>\n   <g id=\"patch_11\">\n    <path d=\"M 410.356676 22.318125 \nL 714.720312 22.318125 \n\" style=\"fill:none;stroke:#ffffff;stroke-linecap:square;stroke-linejoin:miter;stroke-width:1.25;\"/>\n   </g>\n   <g id=\"text_44\">\n    <!-- Encoding in hidden dimension 2 -->\n    <g style=\"fill:#262626;\" transform=\"translate(466.309744 16.318125)scale(0.12 -0.12)\">\n     <use xlink:href=\"#DejaVuSans-69\"/>\n     <use x=\"63.183594\" xlink:href=\"#DejaVuSans-110\"/>\n     <use x=\"126.5625\" xlink:href=\"#DejaVuSans-99\"/>\n     <use x=\"181.542969\" xlink:href=\"#DejaVuSans-111\"/>\n     <use x=\"242.724609\" xlink:href=\"#DejaVuSans-100\"/>\n     <use x=\"306.201172\" xlink:href=\"#DejaVuSans-105\"/>\n     <use x=\"333.984375\" xlink:href=\"#DejaVuSans-110\"/>\n     <use x=\"397.363281\" xlink:href=\"#DejaVuSans-103\"/>\n     <use x=\"460.839844\" xlink:href=\"#DejaVuSans-32\"/>\n     <use x=\"492.626953\" xlink:href=\"#DejaVuSans-105\"/>\n     <use x=\"520.410156\" xlink:href=\"#DejaVuSans-110\"/>\n     <use x=\"583.789062\" xlink:href=\"#DejaVuSans-32\"/>\n     <use x=\"615.576172\" xlink:href=\"#DejaVuSans-104\"/>\n     <use x=\"678.955078\" xlink:href=\"#DejaVuSans-105\"/>\n     <use x=\"706.738281\" xlink:href=\"#DejaVuSans-100\"/>\n     <use x=\"770.214844\" xlink:href=\"#DejaVuSans-100\"/>\n     <use x=\"833.691406\" xlink:href=\"#DejaVuSans-101\"/>\n     <use x=\"895.214844\" xlink:href=\"#DejaVuSans-110\"/>\n     <use x=\"958.59375\" xlink:href=\"#DejaVuSans-32\"/>\n     <use x=\"990.380859\" xlink:href=\"#DejaVuSans-100\"/>\n     <use x=\"1053.857422\" xlink:href=\"#DejaVuSans-105\"/>\n     <use x=\"1081.640625\" xlink:href=\"#DejaVuSans-109\"/>\n     <use x=\"1179.052734\" xlink:href=\"#DejaVuSans-101\"/>\n     <use x=\"1240.576172\" xlink:href=\"#DejaVuSans-110\"/>\n     <use x=\"1303.955078\" xlink:href=\"#DejaVuSans-115\"/>\n     <use x=\"1356.054688\" xlink:href=\"#DejaVuSans-105\"/>\n     <use x=\"1383.837891\" xlink:href=\"#DejaVuSans-111\"/>\n     <use x=\"1445.019531\" xlink:href=\"#DejaVuSans-110\"/>\n     <use x=\"1508.398438\" xlink:href=\"#DejaVuSans-32\"/>\n     <use x=\"1540.185547\" xlink:href=\"#DejaVuSans-50\"/>\n    </g>\n   </g>\n  </g>\n  <g id=\"axes_3\">\n   <g id=\"patch_12\">\n    <path d=\"M 45.120313 239.758125 \nL 349.483949 239.758125 \nL 349.483949 162.100982 \nL 45.120313 162.100982 \nz\n\" style=\"fill:#eaeaf2;\"/>\n   </g>\n   <g id=\"matplotlib.axis_5\">\n    <g id=\"xtick_33\">\n     <g id=\"line2d_41\">\n      <path clip-path=\"url(#pa5e6935dab)\" d=\"M 58.955023 239.758125 \nL 58.955023 162.100982 \n\" style=\"fill:none;stroke:#ffffff;stroke-linecap:round;\"/>\n     </g>\n     <g id=\"text_45\">\n      <!-- 1 -->\n      <g style=\"fill:#262626;\" transform=\"translate(55.773773 256.856563)scale(0.1 -0.1)\">\n       <use xlink:href=\"#DejaVuSans-49\"/>\n      </g>\n     </g>\n    </g>\n    <g id=\"xtick_34\">\n     <g id=\"line2d_42\">\n      <path clip-path=\"url(#pa5e6935dab)\" d=\"M 77.401304 239.758125 \nL 77.401304 162.100982 \n\" style=\"fill:none;stroke:#ffffff;stroke-linecap:round;\"/>\n     </g>\n     <g id=\"text_46\">\n      <!-- 2 -->\n      <g style=\"fill:#262626;\" transform=\"translate(74.220054 256.856563)scale(0.1 -0.1)\">\n       <use xlink:href=\"#DejaVuSans-50\"/>\n      </g>\n     </g>\n    </g>\n    <g id=\"xtick_35\">\n     <g id=\"line2d_43\">\n      <path clip-path=\"url(#pa5e6935dab)\" d=\"M 95.847585 239.758125 \nL 95.847585 162.100982 \n\" style=\"fill:none;stroke:#ffffff;stroke-linecap:round;\"/>\n     </g>\n     <g id=\"text_47\">\n      <!-- 3 -->\n      <g style=\"fill:#262626;\" transform=\"translate(92.666335 256.856563)scale(0.1 -0.1)\">\n       <use xlink:href=\"#DejaVuSans-51\"/>\n      </g>\n     </g>\n    </g>\n    <g id=\"xtick_36\">\n     <g id=\"line2d_44\">\n      <path clip-path=\"url(#pa5e6935dab)\" d=\"M 114.293866 239.758125 \nL 114.293866 162.100982 \n\" style=\"fill:none;stroke:#ffffff;stroke-linecap:round;\"/>\n     </g>\n     <g id=\"text_48\">\n      <!-- 4 -->\n      <g style=\"fill:#262626;\" transform=\"translate(111.112616 256.856563)scale(0.1 -0.1)\">\n       <use xlink:href=\"#DejaVuSans-52\"/>\n      </g>\n     </g>\n    </g>\n    <g id=\"xtick_37\">\n     <g id=\"line2d_45\">\n      <path clip-path=\"url(#pa5e6935dab)\" d=\"M 132.740147 239.758125 \nL 132.740147 162.100982 \n\" style=\"fill:none;stroke:#ffffff;stroke-linecap:round;\"/>\n     </g>\n     <g id=\"text_49\">\n      <!-- 5 -->\n      <g style=\"fill:#262626;\" transform=\"translate(129.558897 256.856563)scale(0.1 -0.1)\">\n       <use xlink:href=\"#DejaVuSans-53\"/>\n      </g>\n     </g>\n    </g>\n    <g id=\"xtick_38\">\n     <g id=\"line2d_46\">\n      <path clip-path=\"url(#pa5e6935dab)\" d=\"M 151.186428 239.758125 \nL 151.186428 162.100982 \n\" style=\"fill:none;stroke:#ffffff;stroke-linecap:round;\"/>\n     </g>\n     <g id=\"text_50\">\n      <!-- 6 -->\n      <g style=\"fill:#262626;\" transform=\"translate(148.005178 256.856563)scale(0.1 -0.1)\">\n       <use xlink:href=\"#DejaVuSans-54\"/>\n      </g>\n     </g>\n    </g>\n    <g id=\"xtick_39\">\n     <g id=\"line2d_47\">\n      <path clip-path=\"url(#pa5e6935dab)\" d=\"M 169.632709 239.758125 \nL 169.632709 162.100982 \n\" style=\"fill:none;stroke:#ffffff;stroke-linecap:round;\"/>\n     </g>\n     <g id=\"text_51\">\n      <!-- 7 -->\n      <g style=\"fill:#262626;\" transform=\"translate(166.451459 256.856563)scale(0.1 -0.1)\">\n       <use xlink:href=\"#DejaVuSans-55\"/>\n      </g>\n     </g>\n    </g>\n    <g id=\"xtick_40\">\n     <g id=\"line2d_48\">\n      <path clip-path=\"url(#pa5e6935dab)\" d=\"M 188.07899 239.758125 \nL 188.07899 162.100982 \n\" style=\"fill:none;stroke:#ffffff;stroke-linecap:round;\"/>\n     </g>\n     <g id=\"text_52\">\n      <!-- 8 -->\n      <g style=\"fill:#262626;\" transform=\"translate(184.89774 256.856563)scale(0.1 -0.1)\">\n       <use xlink:href=\"#DejaVuSans-56\"/>\n      </g>\n     </g>\n    </g>\n    <g id=\"xtick_41\">\n     <g id=\"line2d_49\">\n      <path clip-path=\"url(#pa5e6935dab)\" d=\"M 206.525271 239.758125 \nL 206.525271 162.100982 \n\" style=\"fill:none;stroke:#ffffff;stroke-linecap:round;\"/>\n     </g>\n     <g id=\"text_53\">\n      <!-- 9 -->\n      <g style=\"fill:#262626;\" transform=\"translate(203.344021 256.856563)scale(0.1 -0.1)\">\n       <use xlink:href=\"#DejaVuSans-57\"/>\n      </g>\n     </g>\n    </g>\n    <g id=\"xtick_42\">\n     <g id=\"line2d_50\">\n      <path clip-path=\"url(#pa5e6935dab)\" d=\"M 224.971552 239.758125 \nL 224.971552 162.100982 \n\" style=\"fill:none;stroke:#ffffff;stroke-linecap:round;\"/>\n     </g>\n     <g id=\"text_54\">\n      <!-- 10 -->\n      <g style=\"fill:#262626;\" transform=\"translate(218.609052 256.856563)scale(0.1 -0.1)\">\n       <use xlink:href=\"#DejaVuSans-49\"/>\n       <use x=\"63.623047\" xlink:href=\"#DejaVuSans-48\"/>\n      </g>\n     </g>\n    </g>\n    <g id=\"xtick_43\">\n     <g id=\"line2d_51\">\n      <path clip-path=\"url(#pa5e6935dab)\" d=\"M 243.417833 239.758125 \nL 243.417833 162.100982 \n\" style=\"fill:none;stroke:#ffffff;stroke-linecap:round;\"/>\n     </g>\n     <g id=\"text_55\">\n      <!-- 11 -->\n      <g style=\"fill:#262626;\" transform=\"translate(237.055333 256.856563)scale(0.1 -0.1)\">\n       <use xlink:href=\"#DejaVuSans-49\"/>\n       <use x=\"63.623047\" xlink:href=\"#DejaVuSans-49\"/>\n      </g>\n     </g>\n    </g>\n    <g id=\"xtick_44\">\n     <g id=\"line2d_52\">\n      <path clip-path=\"url(#pa5e6935dab)\" d=\"M 261.864114 239.758125 \nL 261.864114 162.100982 \n\" style=\"fill:none;stroke:#ffffff;stroke-linecap:round;\"/>\n     </g>\n     <g id=\"text_56\">\n      <!-- 12 -->\n      <g style=\"fill:#262626;\" transform=\"translate(255.501614 256.856563)scale(0.1 -0.1)\">\n       <use xlink:href=\"#DejaVuSans-49\"/>\n       <use x=\"63.623047\" xlink:href=\"#DejaVuSans-50\"/>\n      </g>\n     </g>\n    </g>\n    <g id=\"xtick_45\">\n     <g id=\"line2d_53\">\n      <path clip-path=\"url(#pa5e6935dab)\" d=\"M 280.310395 239.758125 \nL 280.310395 162.100982 \n\" style=\"fill:none;stroke:#ffffff;stroke-linecap:round;\"/>\n     </g>\n     <g id=\"text_57\">\n      <!-- 13 -->\n      <g style=\"fill:#262626;\" transform=\"translate(273.947895 256.856563)scale(0.1 -0.1)\">\n       <use xlink:href=\"#DejaVuSans-49\"/>\n       <use x=\"63.623047\" xlink:href=\"#DejaVuSans-51\"/>\n      </g>\n     </g>\n    </g>\n    <g id=\"xtick_46\">\n     <g id=\"line2d_54\">\n      <path clip-path=\"url(#pa5e6935dab)\" d=\"M 298.756676 239.758125 \nL 298.756676 162.100982 \n\" style=\"fill:none;stroke:#ffffff;stroke-linecap:round;\"/>\n     </g>\n     <g id=\"text_58\">\n      <!-- 14 -->\n      <g style=\"fill:#262626;\" transform=\"translate(292.394176 256.856563)scale(0.1 -0.1)\">\n       <use xlink:href=\"#DejaVuSans-49\"/>\n       <use x=\"63.623047\" xlink:href=\"#DejaVuSans-52\"/>\n      </g>\n     </g>\n    </g>\n    <g id=\"xtick_47\">\n     <g id=\"line2d_55\">\n      <path clip-path=\"url(#pa5e6935dab)\" d=\"M 317.202957 239.758125 \nL 317.202957 162.100982 \n\" style=\"fill:none;stroke:#ffffff;stroke-linecap:round;\"/>\n     </g>\n     <g id=\"text_59\">\n      <!-- 15 -->\n      <g style=\"fill:#262626;\" transform=\"translate(310.840457 256.856563)scale(0.1 -0.1)\">\n       <use xlink:href=\"#DejaVuSans-49\"/>\n       <use x=\"63.623047\" xlink:href=\"#DejaVuSans-53\"/>\n      </g>\n     </g>\n    </g>\n    <g id=\"xtick_48\">\n     <g id=\"line2d_56\">\n      <path clip-path=\"url(#pa5e6935dab)\" d=\"M 335.649238 239.758125 \nL 335.649238 162.100982 \n\" style=\"fill:none;stroke:#ffffff;stroke-linecap:round;\"/>\n     </g>\n     <g id=\"text_60\">\n      <!-- 16 -->\n      <g style=\"fill:#262626;\" transform=\"translate(329.286738 256.856563)scale(0.1 -0.1)\">\n       <use xlink:href=\"#DejaVuSans-49\"/>\n       <use x=\"63.623047\" xlink:href=\"#DejaVuSans-54\"/>\n      </g>\n     </g>\n    </g>\n    <g id=\"text_61\">\n     <!-- Position in sequence -->\n     <g style=\"fill:#262626;\" transform=\"translate(146.006818 270.534688)scale(0.1 -0.1)\">\n      <use xlink:href=\"#DejaVuSans-80\"/>\n      <use x=\"56.677734\" xlink:href=\"#DejaVuSans-111\"/>\n      <use x=\"117.859375\" xlink:href=\"#DejaVuSans-115\"/>\n      <use x=\"169.958984\" xlink:href=\"#DejaVuSans-105\"/>\n      <use x=\"197.742188\" xlink:href=\"#DejaVuSans-116\"/>\n      <use x=\"236.951172\" xlink:href=\"#DejaVuSans-105\"/>\n      <use x=\"264.734375\" xlink:href=\"#DejaVuSans-111\"/>\n      <use x=\"325.916016\" xlink:href=\"#DejaVuSans-110\"/>\n      <use x=\"389.294922\" xlink:href=\"#DejaVuSans-32\"/>\n      <use x=\"421.082031\" xlink:href=\"#DejaVuSans-105\"/>\n      <use x=\"448.865234\" xlink:href=\"#DejaVuSans-110\"/>\n      <use x=\"512.244141\" xlink:href=\"#DejaVuSans-32\"/>\n      <use x=\"544.03125\" xlink:href=\"#DejaVuSans-115\"/>\n      <use x=\"596.130859\" xlink:href=\"#DejaVuSans-101\"/>\n      <use x=\"657.654297\" xlink:href=\"#DejaVuSans-113\"/>\n      <use x=\"721.130859\" xlink:href=\"#DejaVuSans-117\"/>\n      <use x=\"784.509766\" xlink:href=\"#DejaVuSans-101\"/>\n      <use x=\"846.033203\" xlink:href=\"#DejaVuSans-110\"/>\n      <use x=\"909.412109\" xlink:href=\"#DejaVuSans-99\"/>\n      <use x=\"964.392578\" xlink:href=\"#DejaVuSans-101\"/>\n     </g>\n    </g>\n   </g>\n   <g id=\"matplotlib.axis_6\">\n    <g id=\"ytick_7\">\n     <g id=\"line2d_57\">\n      <path clip-path=\"url(#pa5e6935dab)\" d=\"M 45.120313 233.286696 \nL 349.483949 233.286696 \n\" style=\"fill:none;stroke:#ffffff;stroke-linecap:round;\"/>\n     </g>\n     <g id=\"text_62\">\n      <!-- −1 -->\n      <g style=\"fill:#262626;\" transform=\"translate(20.878125 237.085915)scale(0.1 -0.1)\">\n       <use xlink:href=\"#DejaVuSans-8722\"/>\n       <use x=\"83.789062\" xlink:href=\"#DejaVuSans-49\"/>\n      </g>\n     </g>\n    </g>\n    <g id=\"ytick_8\">\n     <g id=\"line2d_58\">\n      <path clip-path=\"url(#pa5e6935dab)\" d=\"M 45.120313 200.929554 \nL 349.483949 200.929554 \n\" style=\"fill:none;stroke:#ffffff;stroke-linecap:round;\"/>\n     </g>\n     <g id=\"text_63\">\n      <!-- 0 -->\n      <g style=\"fill:#262626;\" transform=\"translate(29.257813 204.728772)scale(0.1 -0.1)\">\n       <use xlink:href=\"#DejaVuSans-48\"/>\n      </g>\n     </g>\n    </g>\n    <g id=\"ytick_9\">\n     <g id=\"line2d_59\">\n      <path clip-path=\"url(#pa5e6935dab)\" d=\"M 45.120313 168.572411 \nL 349.483949 168.572411 \n\" style=\"fill:none;stroke:#ffffff;stroke-linecap:round;\"/>\n     </g>\n     <g id=\"text_64\">\n      <!-- 1 -->\n      <g style=\"fill:#262626;\" transform=\"translate(29.257813 172.371629)scale(0.1 -0.1)\">\n       <use xlink:href=\"#DejaVuSans-49\"/>\n      </g>\n     </g>\n    </g>\n    <g id=\"text_65\">\n     <!-- Positional encoding -->\n     <g style=\"fill:#262626;\" transform=\"translate(14.798438 249.39596)rotate(-90)scale(0.1 -0.1)\">\n      <use xlink:href=\"#DejaVuSans-80\"/>\n      <use x=\"56.677734\" xlink:href=\"#DejaVuSans-111\"/>\n      <use x=\"117.859375\" xlink:href=\"#DejaVuSans-115\"/>\n      <use x=\"169.958984\" xlink:href=\"#DejaVuSans-105\"/>\n      <use x=\"197.742188\" xlink:href=\"#DejaVuSans-116\"/>\n      <use x=\"236.951172\" xlink:href=\"#DejaVuSans-105\"/>\n      <use x=\"264.734375\" xlink:href=\"#DejaVuSans-111\"/>\n      <use x=\"325.916016\" xlink:href=\"#DejaVuSans-110\"/>\n      <use x=\"389.294922\" xlink:href=\"#DejaVuSans-97\"/>\n      <use x=\"450.574219\" xlink:href=\"#DejaVuSans-108\"/>\n      <use x=\"478.357422\" xlink:href=\"#DejaVuSans-32\"/>\n      <use x=\"510.144531\" xlink:href=\"#DejaVuSans-101\"/>\n      <use x=\"571.667969\" xlink:href=\"#DejaVuSans-110\"/>\n      <use x=\"635.046875\" xlink:href=\"#DejaVuSans-99\"/>\n      <use x=\"690.027344\" xlink:href=\"#DejaVuSans-111\"/>\n      <use x=\"751.208984\" xlink:href=\"#DejaVuSans-100\"/>\n      <use x=\"814.685547\" xlink:href=\"#DejaVuSans-105\"/>\n      <use x=\"842.46875\" xlink:href=\"#DejaVuSans-110\"/>\n      <use x=\"905.847656\" xlink:href=\"#DejaVuSans-103\"/>\n     </g>\n    </g>\n   </g>\n   <g id=\"line2d_60\">\n    <path clip-path=\"url(#pa5e6935dab)\" d=\"M 58.955023 200.929554 \nL 77.401304 180.551117 \nL 95.847585 169.27126 \nL 114.293866 172.12622 \nL 132.740147 187.841315 \nL 151.186428 209.400055 \nL 169.632709 227.17688 \nL 188.07899 233.234779 \nL 206.525271 224.869018 \nL 224.971552 205.814747 \nL 243.417833 184.57933 \nL 261.864114 170.643974 \nL 280.310395 170.230546 \nL 298.756676 183.523619 \nL 317.202957 204.588128 \nL 335.649238 224.019151 \n\" style=\"fill:none;stroke:#2ca02c;stroke-linecap:round;stroke-width:1.5;\"/>\n    <defs>\n     <path d=\"M 0 3 \nC 0.795609 3 1.55874 2.683901 2.12132 2.12132 \nC 2.683901 1.55874 3 0.795609 3 0 \nC 3 -0.795609 2.683901 -1.55874 2.12132 -2.12132 \nC 1.55874 -2.683901 0.795609 -3 0 -3 \nC -0.795609 -3 -1.55874 -2.683901 -2.12132 -2.12132 \nC -2.683901 -1.55874 -3 -0.795609 -3 0 \nC -3 0.795609 -2.683901 1.55874 -2.12132 2.12132 \nC -1.55874 2.683901 -0.795609 3 0 3 \nz\n\" id=\"m6eb5a1550e\" style=\"stroke:#000000;\"/>\n    </defs>\n    <g clip-path=\"url(#pa5e6935dab)\">\n     <use style=\"fill:#2ca02c;stroke:#000000;\" x=\"58.955023\" xlink:href=\"#m6eb5a1550e\" y=\"200.929554\"/>\n     <use style=\"fill:#2ca02c;stroke:#000000;\" x=\"77.401304\" xlink:href=\"#m6eb5a1550e\" y=\"180.551117\"/>\n     <use style=\"fill:#2ca02c;stroke:#000000;\" x=\"95.847585\" xlink:href=\"#m6eb5a1550e\" y=\"169.27126\"/>\n     <use style=\"fill:#2ca02c;stroke:#000000;\" x=\"114.293866\" xlink:href=\"#m6eb5a1550e\" y=\"172.12622\"/>\n     <use style=\"fill:#2ca02c;stroke:#000000;\" x=\"132.740147\" xlink:href=\"#m6eb5a1550e\" y=\"187.841315\"/>\n     <use style=\"fill:#2ca02c;stroke:#000000;\" x=\"151.186428\" xlink:href=\"#m6eb5a1550e\" y=\"209.400055\"/>\n     <use style=\"fill:#2ca02c;stroke:#000000;\" x=\"169.632709\" xlink:href=\"#m6eb5a1550e\" y=\"227.17688\"/>\n     <use style=\"fill:#2ca02c;stroke:#000000;\" x=\"188.07899\" xlink:href=\"#m6eb5a1550e\" y=\"233.234779\"/>\n     <use style=\"fill:#2ca02c;stroke:#000000;\" x=\"206.525271\" xlink:href=\"#m6eb5a1550e\" y=\"224.869018\"/>\n     <use style=\"fill:#2ca02c;stroke:#000000;\" x=\"224.971552\" xlink:href=\"#m6eb5a1550e\" y=\"205.814747\"/>\n     <use style=\"fill:#2ca02c;stroke:#000000;\" x=\"243.417833\" xlink:href=\"#m6eb5a1550e\" y=\"184.57933\"/>\n     <use style=\"fill:#2ca02c;stroke:#000000;\" x=\"261.864114\" xlink:href=\"#m6eb5a1550e\" y=\"170.643974\"/>\n     <use style=\"fill:#2ca02c;stroke:#000000;\" x=\"280.310395\" xlink:href=\"#m6eb5a1550e\" y=\"170.230546\"/>\n     <use style=\"fill:#2ca02c;stroke:#000000;\" x=\"298.756676\" xlink:href=\"#m6eb5a1550e\" y=\"183.523619\"/>\n     <use style=\"fill:#2ca02c;stroke:#000000;\" x=\"317.202957\" xlink:href=\"#m6eb5a1550e\" y=\"204.588128\"/>\n     <use style=\"fill:#2ca02c;stroke:#000000;\" x=\"335.649238\" xlink:href=\"#m6eb5a1550e\" y=\"224.019151\"/>\n    </g>\n   </g>\n   <g id=\"patch_13\">\n    <path d=\"M 45.120313 239.758125 \nL 45.120313 162.100982 \n\" style=\"fill:none;stroke:#ffffff;stroke-linecap:square;stroke-linejoin:miter;stroke-width:1.25;\"/>\n   </g>\n   <g id=\"patch_14\">\n    <path d=\"M 349.483949 239.758125 \nL 349.483949 162.100982 \n\" style=\"fill:none;stroke:#ffffff;stroke-linecap:square;stroke-linejoin:miter;stroke-width:1.25;\"/>\n   </g>\n   <g id=\"patch_15\">\n    <path d=\"M 45.120313 239.758125 \nL 349.483949 239.758125 \n\" style=\"fill:none;stroke:#ffffff;stroke-linecap:square;stroke-linejoin:miter;stroke-width:1.25;\"/>\n   </g>\n   <g id=\"patch_16\">\n    <path d=\"M 45.120313 162.100982 \nL 349.483949 162.100982 \n\" style=\"fill:none;stroke:#ffffff;stroke-linecap:square;stroke-linejoin:miter;stroke-width:1.25;\"/>\n   </g>\n   <g id=\"text_66\">\n    <!-- Encoding in hidden dimension 3 -->\n    <g style=\"fill:#262626;\" transform=\"translate(101.073381 156.100982)scale(0.12 -0.12)\">\n     <use xlink:href=\"#DejaVuSans-69\"/>\n     <use x=\"63.183594\" xlink:href=\"#DejaVuSans-110\"/>\n     <use x=\"126.5625\" xlink:href=\"#DejaVuSans-99\"/>\n     <use x=\"181.542969\" xlink:href=\"#DejaVuSans-111\"/>\n     <use x=\"242.724609\" xlink:href=\"#DejaVuSans-100\"/>\n     <use x=\"306.201172\" xlink:href=\"#DejaVuSans-105\"/>\n     <use x=\"333.984375\" xlink:href=\"#DejaVuSans-110\"/>\n     <use x=\"397.363281\" xlink:href=\"#DejaVuSans-103\"/>\n     <use x=\"460.839844\" xlink:href=\"#DejaVuSans-32\"/>\n     <use x=\"492.626953\" xlink:href=\"#DejaVuSans-105\"/>\n     <use x=\"520.410156\" xlink:href=\"#DejaVuSans-110\"/>\n     <use x=\"583.789062\" xlink:href=\"#DejaVuSans-32\"/>\n     <use x=\"615.576172\" xlink:href=\"#DejaVuSans-104\"/>\n     <use x=\"678.955078\" xlink:href=\"#DejaVuSans-105\"/>\n     <use x=\"706.738281\" xlink:href=\"#DejaVuSans-100\"/>\n     <use x=\"770.214844\" xlink:href=\"#DejaVuSans-100\"/>\n     <use x=\"833.691406\" xlink:href=\"#DejaVuSans-101\"/>\n     <use x=\"895.214844\" xlink:href=\"#DejaVuSans-110\"/>\n     <use x=\"958.59375\" xlink:href=\"#DejaVuSans-32\"/>\n     <use x=\"990.380859\" xlink:href=\"#DejaVuSans-100\"/>\n     <use x=\"1053.857422\" xlink:href=\"#DejaVuSans-105\"/>\n     <use x=\"1081.640625\" xlink:href=\"#DejaVuSans-109\"/>\n     <use x=\"1179.052734\" xlink:href=\"#DejaVuSans-101\"/>\n     <use x=\"1240.576172\" xlink:href=\"#DejaVuSans-110\"/>\n     <use x=\"1303.955078\" xlink:href=\"#DejaVuSans-115\"/>\n     <use x=\"1356.054688\" xlink:href=\"#DejaVuSans-105\"/>\n     <use x=\"1383.837891\" xlink:href=\"#DejaVuSans-111\"/>\n     <use x=\"1445.019531\" xlink:href=\"#DejaVuSans-110\"/>\n     <use x=\"1508.398438\" xlink:href=\"#DejaVuSans-32\"/>\n     <use x=\"1540.185547\" xlink:href=\"#DejaVuSans-51\"/>\n    </g>\n   </g>\n  </g>\n  <g id=\"axes_4\">\n   <g id=\"patch_17\">\n    <path d=\"M 410.356676 239.758125 \nL 714.720312 239.758125 \nL 714.720312 162.100982 \nL 410.356676 162.100982 \nz\n\" style=\"fill:#eaeaf2;\"/>\n   </g>\n   <g id=\"matplotlib.axis_7\">\n    <g id=\"xtick_49\">\n     <g id=\"line2d_61\">\n      <path clip-path=\"url(#p4991710616)\" d=\"M 424.191387 239.758125 \nL 424.191387 162.100982 \n\" style=\"fill:none;stroke:#ffffff;stroke-linecap:round;\"/>\n     </g>\n     <g id=\"text_67\">\n      <!-- 1 -->\n      <g style=\"fill:#262626;\" transform=\"translate(421.010137 256.856563)scale(0.1 -0.1)\">\n       <use xlink:href=\"#DejaVuSans-49\"/>\n      </g>\n     </g>\n    </g>\n    <g id=\"xtick_50\">\n     <g id=\"line2d_62\">\n      <path clip-path=\"url(#p4991710616)\" d=\"M 442.637668 239.758125 \nL 442.637668 162.100982 \n\" style=\"fill:none;stroke:#ffffff;stroke-linecap:round;\"/>\n     </g>\n     <g id=\"text_68\">\n      <!-- 2 -->\n      <g style=\"fill:#262626;\" transform=\"translate(439.456418 256.856563)scale(0.1 -0.1)\">\n       <use xlink:href=\"#DejaVuSans-50\"/>\n      </g>\n     </g>\n    </g>\n    <g id=\"xtick_51\">\n     <g id=\"line2d_63\">\n      <path clip-path=\"url(#p4991710616)\" d=\"M 461.083949 239.758125 \nL 461.083949 162.100982 \n\" style=\"fill:none;stroke:#ffffff;stroke-linecap:round;\"/>\n     </g>\n     <g id=\"text_69\">\n      <!-- 3 -->\n      <g style=\"fill:#262626;\" transform=\"translate(457.902699 256.856563)scale(0.1 -0.1)\">\n       <use xlink:href=\"#DejaVuSans-51\"/>\n      </g>\n     </g>\n    </g>\n    <g id=\"xtick_52\">\n     <g id=\"line2d_64\">\n      <path clip-path=\"url(#p4991710616)\" d=\"M 479.53023 239.758125 \nL 479.53023 162.100982 \n\" style=\"fill:none;stroke:#ffffff;stroke-linecap:round;\"/>\n     </g>\n     <g id=\"text_70\">\n      <!-- 4 -->\n      <g style=\"fill:#262626;\" transform=\"translate(476.34898 256.856563)scale(0.1 -0.1)\">\n       <use xlink:href=\"#DejaVuSans-52\"/>\n      </g>\n     </g>\n    </g>\n    <g id=\"xtick_53\">\n     <g id=\"line2d_65\">\n      <path clip-path=\"url(#p4991710616)\" d=\"M 497.976511 239.758125 \nL 497.976511 162.100982 \n\" style=\"fill:none;stroke:#ffffff;stroke-linecap:round;\"/>\n     </g>\n     <g id=\"text_71\">\n      <!-- 5 -->\n      <g style=\"fill:#262626;\" transform=\"translate(494.795261 256.856563)scale(0.1 -0.1)\">\n       <use xlink:href=\"#DejaVuSans-53\"/>\n      </g>\n     </g>\n    </g>\n    <g id=\"xtick_54\">\n     <g id=\"line2d_66\">\n      <path clip-path=\"url(#p4991710616)\" d=\"M 516.422792 239.758125 \nL 516.422792 162.100982 \n\" style=\"fill:none;stroke:#ffffff;stroke-linecap:round;\"/>\n     </g>\n     <g id=\"text_72\">\n      <!-- 6 -->\n      <g style=\"fill:#262626;\" transform=\"translate(513.241542 256.856563)scale(0.1 -0.1)\">\n       <use xlink:href=\"#DejaVuSans-54\"/>\n      </g>\n     </g>\n    </g>\n    <g id=\"xtick_55\">\n     <g id=\"line2d_67\">\n      <path clip-path=\"url(#p4991710616)\" d=\"M 534.869073 239.758125 \nL 534.869073 162.100982 \n\" style=\"fill:none;stroke:#ffffff;stroke-linecap:round;\"/>\n     </g>\n     <g id=\"text_73\">\n      <!-- 7 -->\n      <g style=\"fill:#262626;\" transform=\"translate(531.687823 256.856563)scale(0.1 -0.1)\">\n       <use xlink:href=\"#DejaVuSans-55\"/>\n      </g>\n     </g>\n    </g>\n    <g id=\"xtick_56\">\n     <g id=\"line2d_68\">\n      <path clip-path=\"url(#p4991710616)\" d=\"M 553.315354 239.758125 \nL 553.315354 162.100982 \n\" style=\"fill:none;stroke:#ffffff;stroke-linecap:round;\"/>\n     </g>\n     <g id=\"text_74\">\n      <!-- 8 -->\n      <g style=\"fill:#262626;\" transform=\"translate(550.134104 256.856563)scale(0.1 -0.1)\">\n       <use xlink:href=\"#DejaVuSans-56\"/>\n      </g>\n     </g>\n    </g>\n    <g id=\"xtick_57\">\n     <g id=\"line2d_69\">\n      <path clip-path=\"url(#p4991710616)\" d=\"M 571.761635 239.758125 \nL 571.761635 162.100982 \n\" style=\"fill:none;stroke:#ffffff;stroke-linecap:round;\"/>\n     </g>\n     <g id=\"text_75\">\n      <!-- 9 -->\n      <g style=\"fill:#262626;\" transform=\"translate(568.580385 256.856563)scale(0.1 -0.1)\">\n       <use xlink:href=\"#DejaVuSans-57\"/>\n      </g>\n     </g>\n    </g>\n    <g id=\"xtick_58\">\n     <g id=\"line2d_70\">\n      <path clip-path=\"url(#p4991710616)\" d=\"M 590.207916 239.758125 \nL 590.207916 162.100982 \n\" style=\"fill:none;stroke:#ffffff;stroke-linecap:round;\"/>\n     </g>\n     <g id=\"text_76\">\n      <!-- 10 -->\n      <g style=\"fill:#262626;\" transform=\"translate(583.845416 256.856563)scale(0.1 -0.1)\">\n       <use xlink:href=\"#DejaVuSans-49\"/>\n       <use x=\"63.623047\" xlink:href=\"#DejaVuSans-48\"/>\n      </g>\n     </g>\n    </g>\n    <g id=\"xtick_59\">\n     <g id=\"line2d_71\">\n      <path clip-path=\"url(#p4991710616)\" d=\"M 608.654197 239.758125 \nL 608.654197 162.100982 \n\" style=\"fill:none;stroke:#ffffff;stroke-linecap:round;\"/>\n     </g>\n     <g id=\"text_77\">\n      <!-- 11 -->\n      <g style=\"fill:#262626;\" transform=\"translate(602.291697 256.856563)scale(0.1 -0.1)\">\n       <use xlink:href=\"#DejaVuSans-49\"/>\n       <use x=\"63.623047\" xlink:href=\"#DejaVuSans-49\"/>\n      </g>\n     </g>\n    </g>\n    <g id=\"xtick_60\">\n     <g id=\"line2d_72\">\n      <path clip-path=\"url(#p4991710616)\" d=\"M 627.100478 239.758125 \nL 627.100478 162.100982 \n\" style=\"fill:none;stroke:#ffffff;stroke-linecap:round;\"/>\n     </g>\n     <g id=\"text_78\">\n      <!-- 12 -->\n      <g style=\"fill:#262626;\" transform=\"translate(620.737978 256.856563)scale(0.1 -0.1)\">\n       <use xlink:href=\"#DejaVuSans-49\"/>\n       <use x=\"63.623047\" xlink:href=\"#DejaVuSans-50\"/>\n      </g>\n     </g>\n    </g>\n    <g id=\"xtick_61\">\n     <g id=\"line2d_73\">\n      <path clip-path=\"url(#p4991710616)\" d=\"M 645.546759 239.758125 \nL 645.546759 162.100982 \n\" style=\"fill:none;stroke:#ffffff;stroke-linecap:round;\"/>\n     </g>\n     <g id=\"text_79\">\n      <!-- 13 -->\n      <g style=\"fill:#262626;\" transform=\"translate(639.184259 256.856563)scale(0.1 -0.1)\">\n       <use xlink:href=\"#DejaVuSans-49\"/>\n       <use x=\"63.623047\" xlink:href=\"#DejaVuSans-51\"/>\n      </g>\n     </g>\n    </g>\n    <g id=\"xtick_62\">\n     <g id=\"line2d_74\">\n      <path clip-path=\"url(#p4991710616)\" d=\"M 663.99304 239.758125 \nL 663.99304 162.100982 \n\" style=\"fill:none;stroke:#ffffff;stroke-linecap:round;\"/>\n     </g>\n     <g id=\"text_80\">\n      <!-- 14 -->\n      <g style=\"fill:#262626;\" transform=\"translate(657.63054 256.856563)scale(0.1 -0.1)\">\n       <use xlink:href=\"#DejaVuSans-49\"/>\n       <use x=\"63.623047\" xlink:href=\"#DejaVuSans-52\"/>\n      </g>\n     </g>\n    </g>\n    <g id=\"xtick_63\">\n     <g id=\"line2d_75\">\n      <path clip-path=\"url(#p4991710616)\" d=\"M 682.439321 239.758125 \nL 682.439321 162.100982 \n\" style=\"fill:none;stroke:#ffffff;stroke-linecap:round;\"/>\n     </g>\n     <g id=\"text_81\">\n      <!-- 15 -->\n      <g style=\"fill:#262626;\" transform=\"translate(676.076821 256.856563)scale(0.1 -0.1)\">\n       <use xlink:href=\"#DejaVuSans-49\"/>\n       <use x=\"63.623047\" xlink:href=\"#DejaVuSans-53\"/>\n      </g>\n     </g>\n    </g>\n    <g id=\"xtick_64\">\n     <g id=\"line2d_76\">\n      <path clip-path=\"url(#p4991710616)\" d=\"M 700.885602 239.758125 \nL 700.885602 162.100982 \n\" style=\"fill:none;stroke:#ffffff;stroke-linecap:round;\"/>\n     </g>\n     <g id=\"text_82\">\n      <!-- 16 -->\n      <g style=\"fill:#262626;\" transform=\"translate(694.523102 256.856563)scale(0.1 -0.1)\">\n       <use xlink:href=\"#DejaVuSans-49\"/>\n       <use x=\"63.623047\" xlink:href=\"#DejaVuSans-54\"/>\n      </g>\n     </g>\n    </g>\n    <g id=\"text_83\">\n     <!-- Position in sequence -->\n     <g style=\"fill:#262626;\" transform=\"translate(511.243182 270.534688)scale(0.1 -0.1)\">\n      <use xlink:href=\"#DejaVuSans-80\"/>\n      <use x=\"56.677734\" xlink:href=\"#DejaVuSans-111\"/>\n      <use x=\"117.859375\" xlink:href=\"#DejaVuSans-115\"/>\n      <use x=\"169.958984\" xlink:href=\"#DejaVuSans-105\"/>\n      <use x=\"197.742188\" xlink:href=\"#DejaVuSans-116\"/>\n      <use x=\"236.951172\" xlink:href=\"#DejaVuSans-105\"/>\n      <use x=\"264.734375\" xlink:href=\"#DejaVuSans-111\"/>\n      <use x=\"325.916016\" xlink:href=\"#DejaVuSans-110\"/>\n      <use x=\"389.294922\" xlink:href=\"#DejaVuSans-32\"/>\n      <use x=\"421.082031\" xlink:href=\"#DejaVuSans-105\"/>\n      <use x=\"448.865234\" xlink:href=\"#DejaVuSans-110\"/>\n      <use x=\"512.244141\" xlink:href=\"#DejaVuSans-32\"/>\n      <use x=\"544.03125\" xlink:href=\"#DejaVuSans-115\"/>\n      <use x=\"596.130859\" xlink:href=\"#DejaVuSans-101\"/>\n      <use x=\"657.654297\" xlink:href=\"#DejaVuSans-113\"/>\n      <use x=\"721.130859\" xlink:href=\"#DejaVuSans-117\"/>\n      <use x=\"784.509766\" xlink:href=\"#DejaVuSans-101\"/>\n      <use x=\"846.033203\" xlink:href=\"#DejaVuSans-110\"/>\n      <use x=\"909.412109\" xlink:href=\"#DejaVuSans-99\"/>\n      <use x=\"964.392578\" xlink:href=\"#DejaVuSans-101\"/>\n     </g>\n    </g>\n   </g>\n   <g id=\"matplotlib.axis_8\">\n    <g id=\"ytick_10\">\n     <g id=\"line2d_77\">\n      <path clip-path=\"url(#p4991710616)\" d=\"M 410.356676 233.286696 \nL 714.720312 233.286696 \n\" style=\"fill:none;stroke:#ffffff;stroke-linecap:round;\"/>\n     </g>\n     <g id=\"text_84\">\n      <!-- −1 -->\n      <g style=\"fill:#262626;\" transform=\"translate(386.114489 237.085915)scale(0.1 -0.1)\">\n       <use xlink:href=\"#DejaVuSans-8722\"/>\n       <use x=\"83.789062\" xlink:href=\"#DejaVuSans-49\"/>\n      </g>\n     </g>\n    </g>\n    <g id=\"ytick_11\">\n     <g id=\"line2d_78\">\n      <path clip-path=\"url(#p4991710616)\" d=\"M 410.356676 200.929554 \nL 714.720312 200.929554 \n\" style=\"fill:none;stroke:#ffffff;stroke-linecap:round;\"/>\n     </g>\n     <g id=\"text_85\">\n      <!-- 0 -->\n      <g style=\"fill:#262626;\" transform=\"translate(394.494176 204.728772)scale(0.1 -0.1)\">\n       <use xlink:href=\"#DejaVuSans-48\"/>\n      </g>\n     </g>\n    </g>\n    <g id=\"ytick_12\">\n     <g id=\"line2d_79\">\n      <path clip-path=\"url(#p4991710616)\" d=\"M 410.356676 168.572411 \nL 714.720312 168.572411 \n\" style=\"fill:none;stroke:#ffffff;stroke-linecap:round;\"/>\n     </g>\n     <g id=\"text_86\">\n      <!-- 1 -->\n      <g style=\"fill:#262626;\" transform=\"translate(394.494176 172.371629)scale(0.1 -0.1)\">\n       <use xlink:href=\"#DejaVuSans-49\"/>\n      </g>\n     </g>\n    </g>\n    <g id=\"text_87\">\n     <!-- Positional encoding -->\n     <g style=\"fill:#262626;\" transform=\"translate(380.034801 249.39596)rotate(-90)scale(0.1 -0.1)\">\n      <use xlink:href=\"#DejaVuSans-80\"/>\n      <use x=\"56.677734\" xlink:href=\"#DejaVuSans-111\"/>\n      <use x=\"117.859375\" xlink:href=\"#DejaVuSans-115\"/>\n      <use x=\"169.958984\" xlink:href=\"#DejaVuSans-105\"/>\n      <use x=\"197.742188\" xlink:href=\"#DejaVuSans-116\"/>\n      <use x=\"236.951172\" xlink:href=\"#DejaVuSans-105\"/>\n      <use x=\"264.734375\" xlink:href=\"#DejaVuSans-111\"/>\n      <use x=\"325.916016\" xlink:href=\"#DejaVuSans-110\"/>\n      <use x=\"389.294922\" xlink:href=\"#DejaVuSans-97\"/>\n      <use x=\"450.574219\" xlink:href=\"#DejaVuSans-108\"/>\n      <use x=\"478.357422\" xlink:href=\"#DejaVuSans-32\"/>\n      <use x=\"510.144531\" xlink:href=\"#DejaVuSans-101\"/>\n      <use x=\"571.667969\" xlink:href=\"#DejaVuSans-110\"/>\n      <use x=\"635.046875\" xlink:href=\"#DejaVuSans-99\"/>\n      <use x=\"690.027344\" xlink:href=\"#DejaVuSans-111\"/>\n      <use x=\"751.208984\" xlink:href=\"#DejaVuSans-100\"/>\n      <use x=\"814.685547\" xlink:href=\"#DejaVuSans-105\"/>\n      <use x=\"842.46875\" xlink:href=\"#DejaVuSans-110\"/>\n      <use x=\"905.847656\" xlink:href=\"#DejaVuSans-103\"/>\n     </g>\n    </g>\n   </g>\n   <g id=\"line2d_80\">\n    <path clip-path=\"url(#p4991710616)\" d=\"M 424.191387 168.572411 \nL 442.637668 175.795831 \nL 461.083949 194.240974 \nL 479.53023 215.67244 \nL 497.976511 230.521489 \nL 516.422792 232.158311 \nL 534.869073 219.852094 \nL 553.315354 199.097327 \nL 571.761635 179.160615 \nL 590.207916 168.943312 \nL 608.654197 173.007253 \nL 627.100478 189.537961 \nL 645.546759 211.154797 \nL 663.99304 228.206249 \nL 682.439321 233.079196 \nL 700.885602 223.597927 \n\" style=\"fill:none;stroke:#d62728;stroke-linecap:round;stroke-width:1.5;\"/>\n    <defs>\n     <path d=\"M 0 3 \nC 0.795609 3 1.55874 2.683901 2.12132 2.12132 \nC 2.683901 1.55874 3 0.795609 3 0 \nC 3 -0.795609 2.683901 -1.55874 2.12132 -2.12132 \nC 1.55874 -2.683901 0.795609 -3 0 -3 \nC -0.795609 -3 -1.55874 -2.683901 -2.12132 -2.12132 \nC -2.683901 -1.55874 -3 -0.795609 -3 0 \nC -3 0.795609 -2.683901 1.55874 -2.12132 2.12132 \nC -1.55874 2.683901 -0.795609 3 0 3 \nz\n\" id=\"me36c0884b1\" style=\"stroke:#000000;\"/>\n    </defs>\n    <g clip-path=\"url(#p4991710616)\">\n     <use style=\"fill:#d62728;stroke:#000000;\" x=\"424.191387\" xlink:href=\"#me36c0884b1\" y=\"168.572411\"/>\n     <use style=\"fill:#d62728;stroke:#000000;\" x=\"442.637668\" xlink:href=\"#me36c0884b1\" y=\"175.795831\"/>\n     <use style=\"fill:#d62728;stroke:#000000;\" x=\"461.083949\" xlink:href=\"#me36c0884b1\" y=\"194.240974\"/>\n     <use style=\"fill:#d62728;stroke:#000000;\" x=\"479.53023\" xlink:href=\"#me36c0884b1\" y=\"215.67244\"/>\n     <use style=\"fill:#d62728;stroke:#000000;\" x=\"497.976511\" xlink:href=\"#me36c0884b1\" y=\"230.521489\"/>\n     <use style=\"fill:#d62728;stroke:#000000;\" x=\"516.422792\" xlink:href=\"#me36c0884b1\" y=\"232.158311\"/>\n     <use style=\"fill:#d62728;stroke:#000000;\" x=\"534.869073\" xlink:href=\"#me36c0884b1\" y=\"219.852094\"/>\n     <use style=\"fill:#d62728;stroke:#000000;\" x=\"553.315354\" xlink:href=\"#me36c0884b1\" y=\"199.097327\"/>\n     <use style=\"fill:#d62728;stroke:#000000;\" x=\"571.761635\" xlink:href=\"#me36c0884b1\" y=\"179.160615\"/>\n     <use style=\"fill:#d62728;stroke:#000000;\" x=\"590.207916\" xlink:href=\"#me36c0884b1\" y=\"168.943312\"/>\n     <use style=\"fill:#d62728;stroke:#000000;\" x=\"608.654197\" xlink:href=\"#me36c0884b1\" y=\"173.007253\"/>\n     <use style=\"fill:#d62728;stroke:#000000;\" x=\"627.100478\" xlink:href=\"#me36c0884b1\" y=\"189.537961\"/>\n     <use style=\"fill:#d62728;stroke:#000000;\" x=\"645.546759\" xlink:href=\"#me36c0884b1\" y=\"211.154797\"/>\n     <use style=\"fill:#d62728;stroke:#000000;\" x=\"663.99304\" xlink:href=\"#me36c0884b1\" y=\"228.206249\"/>\n     <use style=\"fill:#d62728;stroke:#000000;\" x=\"682.439321\" xlink:href=\"#me36c0884b1\" y=\"233.079196\"/>\n     <use style=\"fill:#d62728;stroke:#000000;\" x=\"700.885602\" xlink:href=\"#me36c0884b1\" y=\"223.597927\"/>\n    </g>\n   </g>\n   <g id=\"patch_18\">\n    <path d=\"M 410.356676 239.758125 \nL 410.356676 162.100982 \n\" style=\"fill:none;stroke:#ffffff;stroke-linecap:square;stroke-linejoin:miter;stroke-width:1.25;\"/>\n   </g>\n   <g id=\"patch_19\">\n    <path d=\"M 714.720312 239.758125 \nL 714.720312 162.100982 \n\" style=\"fill:none;stroke:#ffffff;stroke-linecap:square;stroke-linejoin:miter;stroke-width:1.25;\"/>\n   </g>\n   <g id=\"patch_20\">\n    <path d=\"M 410.356676 239.758125 \nL 714.720312 239.758125 \n\" style=\"fill:none;stroke:#ffffff;stroke-linecap:square;stroke-linejoin:miter;stroke-width:1.25;\"/>\n   </g>\n   <g id=\"patch_21\">\n    <path d=\"M 410.356676 162.100982 \nL 714.720312 162.100982 \n\" style=\"fill:none;stroke:#ffffff;stroke-linecap:square;stroke-linejoin:miter;stroke-width:1.25;\"/>\n   </g>\n   <g id=\"text_88\">\n    <!-- Encoding in hidden dimension 4 -->\n    <g style=\"fill:#262626;\" transform=\"translate(466.309744 156.100982)scale(0.12 -0.12)\">\n     <use xlink:href=\"#DejaVuSans-69\"/>\n     <use x=\"63.183594\" xlink:href=\"#DejaVuSans-110\"/>\n     <use x=\"126.5625\" xlink:href=\"#DejaVuSans-99\"/>\n     <use x=\"181.542969\" xlink:href=\"#DejaVuSans-111\"/>\n     <use x=\"242.724609\" xlink:href=\"#DejaVuSans-100\"/>\n     <use x=\"306.201172\" xlink:href=\"#DejaVuSans-105\"/>\n     <use x=\"333.984375\" xlink:href=\"#DejaVuSans-110\"/>\n     <use x=\"397.363281\" xlink:href=\"#DejaVuSans-103\"/>\n     <use x=\"460.839844\" xlink:href=\"#DejaVuSans-32\"/>\n     <use x=\"492.626953\" xlink:href=\"#DejaVuSans-105\"/>\n     <use x=\"520.410156\" xlink:href=\"#DejaVuSans-110\"/>\n     <use x=\"583.789062\" xlink:href=\"#DejaVuSans-32\"/>\n     <use x=\"615.576172\" xlink:href=\"#DejaVuSans-104\"/>\n     <use x=\"678.955078\" xlink:href=\"#DejaVuSans-105\"/>\n     <use x=\"706.738281\" xlink:href=\"#DejaVuSans-100\"/>\n     <use x=\"770.214844\" xlink:href=\"#DejaVuSans-100\"/>\n     <use x=\"833.691406\" xlink:href=\"#DejaVuSans-101\"/>\n     <use x=\"895.214844\" xlink:href=\"#DejaVuSans-110\"/>\n     <use x=\"958.59375\" xlink:href=\"#DejaVuSans-32\"/>\n     <use x=\"990.380859\" xlink:href=\"#DejaVuSans-100\"/>\n     <use x=\"1053.857422\" xlink:href=\"#DejaVuSans-105\"/>\n     <use x=\"1081.640625\" xlink:href=\"#DejaVuSans-109\"/>\n     <use x=\"1179.052734\" xlink:href=\"#DejaVuSans-101\"/>\n     <use x=\"1240.576172\" xlink:href=\"#DejaVuSans-110\"/>\n     <use x=\"1303.955078\" xlink:href=\"#DejaVuSans-115\"/>\n     <use x=\"1356.054688\" xlink:href=\"#DejaVuSans-105\"/>\n     <use x=\"1383.837891\" xlink:href=\"#DejaVuSans-111\"/>\n     <use x=\"1445.019531\" xlink:href=\"#DejaVuSans-110\"/>\n     <use x=\"1508.398438\" xlink:href=\"#DejaVuSans-32\"/>\n     <use x=\"1540.185547\" xlink:href=\"#DejaVuSans-52\"/>\n    </g>\n   </g>\n  </g>\n </g>\n <defs>\n  <clipPath id=\"p60f92194be\">\n   <rect height=\"77.657143\" width=\"304.363636\" x=\"45.120313\" y=\"22.318125\"/>\n  </clipPath>\n  <clipPath id=\"pd7a15b01c2\">\n   <rect height=\"77.657143\" width=\"304.363636\" x=\"410.356676\" y=\"22.318125\"/>\n  </clipPath>\n  <clipPath id=\"pa5e6935dab\">\n   <rect height=\"77.657143\" width=\"304.363636\" x=\"45.120313\" y=\"162.100982\"/>\n  </clipPath>\n  <clipPath id=\"p4991710616\">\n   <rect height=\"77.657143\" width=\"304.363636\" x=\"410.356676\" y=\"162.100982\"/>\n  </clipPath>\n </defs>\n</svg>\n",
            "application/pdf": "[encoded data removed]"
          },
          "metadata": {}
        }
      ]
    },
    {
      "cell_type": "markdown",
      "source": [
        "Learning rate Warm-up"
      ],
      "metadata": {
        "id": "6x6m12Znd3zw"
      }
    },
    {
      "cell_type": "code",
      "source": [
        "class CosineWarmupScheduler(optim.lr_scheduler._LRScheduler):\n",
        "    def __init__(self, optimizer, warmup, max_iters):\n",
        "        self.warmup = warmup\n",
        "        self.max_num_iters = max_iters\n",
        "        super().__init__(optimizer)\n",
        "\n",
        "    def get_lr(self):\n",
        "        lr_factor = self.get_lr_factor(epoch=self.last_epoch)\n",
        "        return [base_lr * lr_factor for base_lr in self.base_lrs]\n",
        "\n",
        "    def get_lr_factor(self, epoch):\n",
        "        lr_factor = 0.5 * (1 + np.cos(np.pi * epoch / self.max_num_iters))\n",
        "        if epoch <= self.warmup:\n",
        "            lr_factor *= epoch * 1.0 / self.warmup\n",
        "        return lr_factor"
      ],
      "metadata": {
        "id": "kfZlKIuyd261"
      },
      "execution_count": 14,
      "outputs": []
    },
    {
      "cell_type": "code",
      "source": [
        "# Needed for initializing the lr scheduler\n",
        "p = nn.Parameter(torch.empty(4, 4))\n",
        "optimizer = optim.Adam([p], lr=1e-3)\n",
        "lr_scheduler = CosineWarmupScheduler(optimizer=optimizer, warmup=100, max_iters=2000)\n",
        "\n",
        "# Plotting\n",
        "epochs = list(range(2000))\n",
        "sns.set()\n",
        "plt.figure(figsize=(8, 3))\n",
        "plt.plot(epochs, [lr_scheduler.get_lr_factor(e) for e in epochs])\n",
        "plt.ylabel(\"Learning rate factor\")\n",
        "plt.xlabel(\"Iterations (in batches)\")\n",
        "plt.title(\"Cosine Warm-up Learning Rate Scheduler\")\n",
        "plt.show()\n",
        "sns.reset_orig()"
      ],
      "metadata": {
        "colab": {
          "base_uri": "https://localhost:8080/",
          "height": 639
        },
        "id": "5DeuYoO4d8Ri",
        "outputId": "771a1b03-8241-42f1-b79f-c2d3cef01b76"
      },
      "execution_count": 15,
      "outputs": [
        {
          "output_type": "display_data",
          "data": {
            "text/plain": [
              "<Figure size 576x216 with 1 Axes>"
            ],
            "image/svg+xml": "<?xml version=\"1.0\" encoding=\"utf-8\" standalone=\"no\"?>\n<!DOCTYPE svg PUBLIC \"-//W3C//DTD SVG 1.1//EN\"\n  \"http://www.w3.org/Graphics/SVG/1.1/DTD/svg11.dtd\">\n<!-- Created with matplotlib (https://matplotlib.org/) -->\n<svg height=\"228.357813pt\" version=\"1.1\" viewBox=\"0 0 503.407187 228.357813\" width=\"503.407187pt\" xmlns=\"http://www.w3.org/2000/svg\" xmlns:xlink=\"http://www.w3.org/1999/xlink\">\n <metadata>\n  <rdf:RDF xmlns:cc=\"http://creativecommons.org/ns#\" xmlns:dc=\"http://purl.org/dc/elements/1.1/\" xmlns:rdf=\"http://www.w3.org/1999/02/22-rdf-syntax-ns#\">\n   <cc:Work>\n    <dc:type rdf:resource=\"http://purl.org/dc/dcmitype/StillImage\"/>\n    <dc:date>2023-09-16T00:50:43.194510</dc:date>\n    <dc:format>image/svg+xml</dc:format>\n    <dc:creator>\n     <cc:Agent>\n      <dc:title>Matplotlib v3.3.4, https://matplotlib.org/</dc:title>\n     </cc:Agent>\n    </dc:creator>\n   </cc:Work>\n  </rdf:RDF>\n </metadata>\n <defs>\n  <style type=\"text/css\">*{stroke-linecap:butt;stroke-linejoin:round;}</style>\n </defs>\n <g id=\"figure_1\">\n  <g id=\"patch_1\">\n   <path d=\"M 0 228.357813 \nL 503.407187 228.357813 \nL 503.407187 0 \nL 0 0 \nz\n\" style=\"fill:#ffffff;\"/>\n  </g>\n  <g id=\"axes_1\">\n   <g id=\"patch_2\">\n    <path d=\"M 49.807188 185.398125 \nL 496.207187 185.398125 \nL 496.207187 22.318125 \nL 49.807188 22.318125 \nz\n\" style=\"fill:#eaeaf2;\"/>\n   </g>\n   <g id=\"matplotlib.axis_1\">\n    <g id=\"xtick_1\">\n     <g id=\"line2d_1\">\n      <path clip-path=\"url(#pf67647924f)\" d=\"M 70.098097 185.398125 \nL 70.098097 22.318125 \n\" style=\"fill:none;stroke:#ffffff;stroke-linecap:round;\"/>\n     </g>\n     <g id=\"text_1\">\n      <!-- 0 -->\n      <g style=\"fill:#262626;\" transform=\"translate(66.598722 203.256406)scale(0.11 -0.11)\">\n       <defs>\n        <path d=\"M 31.78125 66.40625 \nQ 24.171875 66.40625 20.328125 58.90625 \nQ 16.5 51.421875 16.5 36.375 \nQ 16.5 21.390625 20.328125 13.890625 \nQ 24.171875 6.390625 31.78125 6.390625 \nQ 39.453125 6.390625 43.28125 13.890625 \nQ 47.125 21.390625 47.125 36.375 \nQ 47.125 51.421875 43.28125 58.90625 \nQ 39.453125 66.40625 31.78125 66.40625 \nz\nM 31.78125 74.21875 \nQ 44.046875 74.21875 50.515625 64.515625 \nQ 56.984375 54.828125 56.984375 36.375 \nQ 56.984375 17.96875 50.515625 8.265625 \nQ 44.046875 -1.421875 31.78125 -1.421875 \nQ 19.53125 -1.421875 13.0625 8.265625 \nQ 6.59375 17.96875 6.59375 36.375 \nQ 6.59375 54.828125 13.0625 64.515625 \nQ 19.53125 74.21875 31.78125 74.21875 \nz\n\" id=\"DejaVuSans-48\"/>\n       </defs>\n       <use xlink:href=\"#DejaVuSans-48\"/>\n      </g>\n     </g>\n    </g>\n    <g id=\"xtick_2\">\n     <g id=\"line2d_2\">\n      <path clip-path=\"url(#pf67647924f)\" d=\"M 120.850746 185.398125 \nL 120.850746 22.318125 \n\" style=\"fill:none;stroke:#ffffff;stroke-linecap:round;\"/>\n     </g>\n     <g id=\"text_2\">\n      <!-- 250 -->\n      <g style=\"fill:#262626;\" transform=\"translate(110.352621 203.256406)scale(0.11 -0.11)\">\n       <defs>\n        <path d=\"M 19.1875 8.296875 \nL 53.609375 8.296875 \nL 53.609375 0 \nL 7.328125 0 \nL 7.328125 8.296875 \nQ 12.9375 14.109375 22.625 23.890625 \nQ 32.328125 33.6875 34.8125 36.53125 \nQ 39.546875 41.84375 41.421875 45.53125 \nQ 43.3125 49.21875 43.3125 52.78125 \nQ 43.3125 58.59375 39.234375 62.25 \nQ 35.15625 65.921875 28.609375 65.921875 \nQ 23.96875 65.921875 18.8125 64.3125 \nQ 13.671875 62.703125 7.8125 59.421875 \nL 7.8125 69.390625 \nQ 13.765625 71.78125 18.9375 73 \nQ 24.125 74.21875 28.421875 74.21875 \nQ 39.75 74.21875 46.484375 68.546875 \nQ 53.21875 62.890625 53.21875 53.421875 \nQ 53.21875 48.921875 51.53125 44.890625 \nQ 49.859375 40.875 45.40625 35.40625 \nQ 44.1875 33.984375 37.640625 27.21875 \nQ 31.109375 20.453125 19.1875 8.296875 \nz\n\" id=\"DejaVuSans-50\"/>\n        <path d=\"M 10.796875 72.90625 \nL 49.515625 72.90625 \nL 49.515625 64.59375 \nL 19.828125 64.59375 \nL 19.828125 46.734375 \nQ 21.96875 47.46875 24.109375 47.828125 \nQ 26.265625 48.1875 28.421875 48.1875 \nQ 40.625 48.1875 47.75 41.5 \nQ 54.890625 34.8125 54.890625 23.390625 \nQ 54.890625 11.625 47.5625 5.09375 \nQ 40.234375 -1.421875 26.90625 -1.421875 \nQ 22.3125 -1.421875 17.546875 -0.640625 \nQ 12.796875 0.140625 7.71875 1.703125 \nL 7.71875 11.625 \nQ 12.109375 9.234375 16.796875 8.0625 \nQ 21.484375 6.890625 26.703125 6.890625 \nQ 35.15625 6.890625 40.078125 11.328125 \nQ 45.015625 15.765625 45.015625 23.390625 \nQ 45.015625 31 40.078125 35.4375 \nQ 35.15625 39.890625 26.703125 39.890625 \nQ 22.75 39.890625 18.8125 39.015625 \nQ 14.890625 38.140625 10.796875 36.28125 \nz\n\" id=\"DejaVuSans-53\"/>\n       </defs>\n       <use xlink:href=\"#DejaVuSans-50\"/>\n       <use x=\"63.623047\" xlink:href=\"#DejaVuSans-53\"/>\n       <use x=\"127.246094\" xlink:href=\"#DejaVuSans-48\"/>\n      </g>\n     </g>\n    </g>\n    <g id=\"xtick_3\">\n     <g id=\"line2d_3\">\n      <path clip-path=\"url(#pf67647924f)\" d=\"M 171.603395 185.398125 \nL 171.603395 22.318125 \n\" style=\"fill:none;stroke:#ffffff;stroke-linecap:round;\"/>\n     </g>\n     <g id=\"text_3\">\n      <!-- 500 -->\n      <g style=\"fill:#262626;\" transform=\"translate(161.10527 203.256406)scale(0.11 -0.11)\">\n       <use xlink:href=\"#DejaVuSans-53\"/>\n       <use x=\"63.623047\" xlink:href=\"#DejaVuSans-48\"/>\n       <use x=\"127.246094\" xlink:href=\"#DejaVuSans-48\"/>\n      </g>\n     </g>\n    </g>\n    <g id=\"xtick_4\">\n     <g id=\"line2d_4\">\n      <path clip-path=\"url(#pf67647924f)\" d=\"M 222.356044 185.398125 \nL 222.356044 22.318125 \n\" style=\"fill:none;stroke:#ffffff;stroke-linecap:round;\"/>\n     </g>\n     <g id=\"text_4\">\n      <!-- 750 -->\n      <g style=\"fill:#262626;\" transform=\"translate(211.857919 203.256406)scale(0.11 -0.11)\">\n       <defs>\n        <path d=\"M 8.203125 72.90625 \nL 55.078125 72.90625 \nL 55.078125 68.703125 \nL 28.609375 0 \nL 18.3125 0 \nL 43.21875 64.59375 \nL 8.203125 64.59375 \nz\n\" id=\"DejaVuSans-55\"/>\n       </defs>\n       <use xlink:href=\"#DejaVuSans-55\"/>\n       <use x=\"63.623047\" xlink:href=\"#DejaVuSans-53\"/>\n       <use x=\"127.246094\" xlink:href=\"#DejaVuSans-48\"/>\n      </g>\n     </g>\n    </g>\n    <g id=\"xtick_5\">\n     <g id=\"line2d_5\">\n      <path clip-path=\"url(#pf67647924f)\" d=\"M 273.108693 185.398125 \nL 273.108693 22.318125 \n\" style=\"fill:none;stroke:#ffffff;stroke-linecap:round;\"/>\n     </g>\n     <g id=\"text_5\">\n      <!-- 1000 -->\n      <g style=\"fill:#262626;\" transform=\"translate(259.111193 203.256406)scale(0.11 -0.11)\">\n       <defs>\n        <path d=\"M 12.40625 8.296875 \nL 28.515625 8.296875 \nL 28.515625 63.921875 \nL 10.984375 60.40625 \nL 10.984375 69.390625 \nL 28.421875 72.90625 \nL 38.28125 72.90625 \nL 38.28125 8.296875 \nL 54.390625 8.296875 \nL 54.390625 0 \nL 12.40625 0 \nz\n\" id=\"DejaVuSans-49\"/>\n       </defs>\n       <use xlink:href=\"#DejaVuSans-49\"/>\n       <use x=\"63.623047\" xlink:href=\"#DejaVuSans-48\"/>\n       <use x=\"127.246094\" xlink:href=\"#DejaVuSans-48\"/>\n       <use x=\"190.869141\" xlink:href=\"#DejaVuSans-48\"/>\n      </g>\n     </g>\n    </g>\n    <g id=\"xtick_6\">\n     <g id=\"line2d_6\">\n      <path clip-path=\"url(#pf67647924f)\" d=\"M 323.861342 185.398125 \nL 323.861342 22.318125 \n\" style=\"fill:none;stroke:#ffffff;stroke-linecap:round;\"/>\n     </g>\n     <g id=\"text_6\">\n      <!-- 1250 -->\n      <g style=\"fill:#262626;\" transform=\"translate(309.863842 203.256406)scale(0.11 -0.11)\">\n       <use xlink:href=\"#DejaVuSans-49\"/>\n       <use x=\"63.623047\" xlink:href=\"#DejaVuSans-50\"/>\n       <use x=\"127.246094\" xlink:href=\"#DejaVuSans-53\"/>\n       <use x=\"190.869141\" xlink:href=\"#DejaVuSans-48\"/>\n      </g>\n     </g>\n    </g>\n    <g id=\"xtick_7\">\n     <g id=\"line2d_7\">\n      <path clip-path=\"url(#pf67647924f)\" d=\"M 374.613991 185.398125 \nL 374.613991 22.318125 \n\" style=\"fill:none;stroke:#ffffff;stroke-linecap:round;\"/>\n     </g>\n     <g id=\"text_7\">\n      <!-- 1500 -->\n      <g style=\"fill:#262626;\" transform=\"translate(360.616491 203.256406)scale(0.11 -0.11)\">\n       <use xlink:href=\"#DejaVuSans-49\"/>\n       <use x=\"63.623047\" xlink:href=\"#DejaVuSans-53\"/>\n       <use x=\"127.246094\" xlink:href=\"#DejaVuSans-48\"/>\n       <use x=\"190.869141\" xlink:href=\"#DejaVuSans-48\"/>\n      </g>\n     </g>\n    </g>\n    <g id=\"xtick_8\">\n     <g id=\"line2d_8\">\n      <path clip-path=\"url(#pf67647924f)\" d=\"M 425.36664 185.398125 \nL 425.36664 22.318125 \n\" style=\"fill:none;stroke:#ffffff;stroke-linecap:round;\"/>\n     </g>\n     <g id=\"text_8\">\n      <!-- 1750 -->\n      <g style=\"fill:#262626;\" transform=\"translate(411.36914 203.256406)scale(0.11 -0.11)\">\n       <use xlink:href=\"#DejaVuSans-49\"/>\n       <use x=\"63.623047\" xlink:href=\"#DejaVuSans-55\"/>\n       <use x=\"127.246094\" xlink:href=\"#DejaVuSans-53\"/>\n       <use x=\"190.869141\" xlink:href=\"#DejaVuSans-48\"/>\n      </g>\n     </g>\n    </g>\n    <g id=\"xtick_9\">\n     <g id=\"line2d_9\">\n      <path clip-path=\"url(#pf67647924f)\" d=\"M 476.119289 185.398125 \nL 476.119289 22.318125 \n\" style=\"fill:none;stroke:#ffffff;stroke-linecap:round;\"/>\n     </g>\n     <g id=\"text_9\">\n      <!-- 2000 -->\n      <g style=\"fill:#262626;\" transform=\"translate(462.121789 203.256406)scale(0.11 -0.11)\">\n       <use xlink:href=\"#DejaVuSans-50\"/>\n       <use x=\"63.623047\" xlink:href=\"#DejaVuSans-48\"/>\n       <use x=\"127.246094\" xlink:href=\"#DejaVuSans-48\"/>\n       <use x=\"190.869141\" xlink:href=\"#DejaVuSans-48\"/>\n      </g>\n     </g>\n    </g>\n    <g id=\"text_10\">\n     <!-- Iterations (in batches) -->\n     <g style=\"fill:#262626;\" transform=\"translate(206.709062 218.662188)scale(0.12 -0.12)\">\n      <defs>\n       <path d=\"M 9.8125 72.90625 \nL 19.671875 72.90625 \nL 19.671875 0 \nL 9.8125 0 \nz\n\" id=\"DejaVuSans-73\"/>\n       <path d=\"M 18.3125 70.21875 \nL 18.3125 54.6875 \nL 36.8125 54.6875 \nL 36.8125 47.703125 \nL 18.3125 47.703125 \nL 18.3125 18.015625 \nQ 18.3125 11.328125 20.140625 9.421875 \nQ 21.96875 7.515625 27.59375 7.515625 \nL 36.8125 7.515625 \nL 36.8125 0 \nL 27.59375 0 \nQ 17.1875 0 13.234375 3.875 \nQ 9.28125 7.765625 9.28125 18.015625 \nL 9.28125 47.703125 \nL 2.6875 47.703125 \nL 2.6875 54.6875 \nL 9.28125 54.6875 \nL 9.28125 70.21875 \nz\n\" id=\"DejaVuSans-116\"/>\n       <path d=\"M 56.203125 29.59375 \nL 56.203125 25.203125 \nL 14.890625 25.203125 \nQ 15.484375 15.921875 20.484375 11.0625 \nQ 25.484375 6.203125 34.421875 6.203125 \nQ 39.59375 6.203125 44.453125 7.46875 \nQ 49.3125 8.734375 54.109375 11.28125 \nL 54.109375 2.78125 \nQ 49.265625 0.734375 44.1875 -0.34375 \nQ 39.109375 -1.421875 33.890625 -1.421875 \nQ 20.796875 -1.421875 13.15625 6.1875 \nQ 5.515625 13.8125 5.515625 26.8125 \nQ 5.515625 40.234375 12.765625 48.109375 \nQ 20.015625 56 32.328125 56 \nQ 43.359375 56 49.78125 48.890625 \nQ 56.203125 41.796875 56.203125 29.59375 \nz\nM 47.21875 32.234375 \nQ 47.125 39.59375 43.09375 43.984375 \nQ 39.0625 48.390625 32.421875 48.390625 \nQ 24.90625 48.390625 20.390625 44.140625 \nQ 15.875 39.890625 15.1875 32.171875 \nz\n\" id=\"DejaVuSans-101\"/>\n       <path d=\"M 41.109375 46.296875 \nQ 39.59375 47.171875 37.8125 47.578125 \nQ 36.03125 48 33.890625 48 \nQ 26.265625 48 22.1875 43.046875 \nQ 18.109375 38.09375 18.109375 28.8125 \nL 18.109375 0 \nL 9.078125 0 \nL 9.078125 54.6875 \nL 18.109375 54.6875 \nL 18.109375 46.1875 \nQ 20.953125 51.171875 25.484375 53.578125 \nQ 30.03125 56 36.53125 56 \nQ 37.453125 56 38.578125 55.875 \nQ 39.703125 55.765625 41.0625 55.515625 \nz\n\" id=\"DejaVuSans-114\"/>\n       <path d=\"M 34.28125 27.484375 \nQ 23.390625 27.484375 19.1875 25 \nQ 14.984375 22.515625 14.984375 16.5 \nQ 14.984375 11.71875 18.140625 8.90625 \nQ 21.296875 6.109375 26.703125 6.109375 \nQ 34.1875 6.109375 38.703125 11.40625 \nQ 43.21875 16.703125 43.21875 25.484375 \nL 43.21875 27.484375 \nz\nM 52.203125 31.203125 \nL 52.203125 0 \nL 43.21875 0 \nL 43.21875 8.296875 \nQ 40.140625 3.328125 35.546875 0.953125 \nQ 30.953125 -1.421875 24.3125 -1.421875 \nQ 15.921875 -1.421875 10.953125 3.296875 \nQ 6 8.015625 6 15.921875 \nQ 6 25.140625 12.171875 29.828125 \nQ 18.359375 34.515625 30.609375 34.515625 \nL 43.21875 34.515625 \nL 43.21875 35.40625 \nQ 43.21875 41.609375 39.140625 45 \nQ 35.0625 48.390625 27.6875 48.390625 \nQ 23 48.390625 18.546875 47.265625 \nQ 14.109375 46.140625 10.015625 43.890625 \nL 10.015625 52.203125 \nQ 14.9375 54.109375 19.578125 55.046875 \nQ 24.21875 56 28.609375 56 \nQ 40.484375 56 46.34375 49.84375 \nQ 52.203125 43.703125 52.203125 31.203125 \nz\n\" id=\"DejaVuSans-97\"/>\n       <path d=\"M 9.421875 54.6875 \nL 18.40625 54.6875 \nL 18.40625 0 \nL 9.421875 0 \nz\nM 9.421875 75.984375 \nL 18.40625 75.984375 \nL 18.40625 64.59375 \nL 9.421875 64.59375 \nz\n\" id=\"DejaVuSans-105\"/>\n       <path d=\"M 30.609375 48.390625 \nQ 23.390625 48.390625 19.1875 42.75 \nQ 14.984375 37.109375 14.984375 27.296875 \nQ 14.984375 17.484375 19.15625 11.84375 \nQ 23.34375 6.203125 30.609375 6.203125 \nQ 37.796875 6.203125 41.984375 11.859375 \nQ 46.1875 17.53125 46.1875 27.296875 \nQ 46.1875 37.015625 41.984375 42.703125 \nQ 37.796875 48.390625 30.609375 48.390625 \nz\nM 30.609375 56 \nQ 42.328125 56 49.015625 48.375 \nQ 55.71875 40.765625 55.71875 27.296875 \nQ 55.71875 13.875 49.015625 6.21875 \nQ 42.328125 -1.421875 30.609375 -1.421875 \nQ 18.84375 -1.421875 12.171875 6.21875 \nQ 5.515625 13.875 5.515625 27.296875 \nQ 5.515625 40.765625 12.171875 48.375 \nQ 18.84375 56 30.609375 56 \nz\n\" id=\"DejaVuSans-111\"/>\n       <path d=\"M 54.890625 33.015625 \nL 54.890625 0 \nL 45.90625 0 \nL 45.90625 32.71875 \nQ 45.90625 40.484375 42.875 44.328125 \nQ 39.84375 48.1875 33.796875 48.1875 \nQ 26.515625 48.1875 22.3125 43.546875 \nQ 18.109375 38.921875 18.109375 30.90625 \nL 18.109375 0 \nL 9.078125 0 \nL 9.078125 54.6875 \nL 18.109375 54.6875 \nL 18.109375 46.1875 \nQ 21.34375 51.125 25.703125 53.5625 \nQ 30.078125 56 35.796875 56 \nQ 45.21875 56 50.046875 50.171875 \nQ 54.890625 44.34375 54.890625 33.015625 \nz\n\" id=\"DejaVuSans-110\"/>\n       <path d=\"M 44.28125 53.078125 \nL 44.28125 44.578125 \nQ 40.484375 46.53125 36.375 47.5 \nQ 32.28125 48.484375 27.875 48.484375 \nQ 21.1875 48.484375 17.84375 46.4375 \nQ 14.5 44.390625 14.5 40.28125 \nQ 14.5 37.15625 16.890625 35.375 \nQ 19.28125 33.59375 26.515625 31.984375 \nL 29.59375 31.296875 \nQ 39.15625 29.25 43.1875 25.515625 \nQ 47.21875 21.78125 47.21875 15.09375 \nQ 47.21875 7.46875 41.1875 3.015625 \nQ 35.15625 -1.421875 24.609375 -1.421875 \nQ 20.21875 -1.421875 15.453125 -0.5625 \nQ 10.6875 0.296875 5.421875 2 \nL 5.421875 11.28125 \nQ 10.40625 8.6875 15.234375 7.390625 \nQ 20.0625 6.109375 24.8125 6.109375 \nQ 31.15625 6.109375 34.5625 8.28125 \nQ 37.984375 10.453125 37.984375 14.40625 \nQ 37.984375 18.0625 35.515625 20.015625 \nQ 33.0625 21.96875 24.703125 23.78125 \nL 21.578125 24.515625 \nQ 13.234375 26.265625 9.515625 29.90625 \nQ 5.8125 33.546875 5.8125 39.890625 \nQ 5.8125 47.609375 11.28125 51.796875 \nQ 16.75 56 26.8125 56 \nQ 31.78125 56 36.171875 55.265625 \nQ 40.578125 54.546875 44.28125 53.078125 \nz\n\" id=\"DejaVuSans-115\"/>\n       <path id=\"DejaVuSans-32\"/>\n       <path d=\"M 31 75.875 \nQ 24.46875 64.65625 21.28125 53.65625 \nQ 18.109375 42.671875 18.109375 31.390625 \nQ 18.109375 20.125 21.3125 9.0625 \nQ 24.515625 -2 31 -13.1875 \nL 23.1875 -13.1875 \nQ 15.875 -1.703125 12.234375 9.375 \nQ 8.59375 20.453125 8.59375 31.390625 \nQ 8.59375 42.28125 12.203125 53.3125 \nQ 15.828125 64.359375 23.1875 75.875 \nz\n\" id=\"DejaVuSans-40\"/>\n       <path d=\"M 48.6875 27.296875 \nQ 48.6875 37.203125 44.609375 42.84375 \nQ 40.53125 48.484375 33.40625 48.484375 \nQ 26.265625 48.484375 22.1875 42.84375 \nQ 18.109375 37.203125 18.109375 27.296875 \nQ 18.109375 17.390625 22.1875 11.75 \nQ 26.265625 6.109375 33.40625 6.109375 \nQ 40.53125 6.109375 44.609375 11.75 \nQ 48.6875 17.390625 48.6875 27.296875 \nz\nM 18.109375 46.390625 \nQ 20.953125 51.265625 25.265625 53.625 \nQ 29.59375 56 35.59375 56 \nQ 45.5625 56 51.78125 48.09375 \nQ 58.015625 40.1875 58.015625 27.296875 \nQ 58.015625 14.40625 51.78125 6.484375 \nQ 45.5625 -1.421875 35.59375 -1.421875 \nQ 29.59375 -1.421875 25.265625 0.953125 \nQ 20.953125 3.328125 18.109375 8.203125 \nL 18.109375 0 \nL 9.078125 0 \nL 9.078125 75.984375 \nL 18.109375 75.984375 \nz\n\" id=\"DejaVuSans-98\"/>\n       <path d=\"M 48.78125 52.59375 \nL 48.78125 44.1875 \nQ 44.96875 46.296875 41.140625 47.34375 \nQ 37.3125 48.390625 33.40625 48.390625 \nQ 24.65625 48.390625 19.8125 42.84375 \nQ 14.984375 37.3125 14.984375 27.296875 \nQ 14.984375 17.28125 19.8125 11.734375 \nQ 24.65625 6.203125 33.40625 6.203125 \nQ 37.3125 6.203125 41.140625 7.25 \nQ 44.96875 8.296875 48.78125 10.40625 \nL 48.78125 2.09375 \nQ 45.015625 0.34375 40.984375 -0.53125 \nQ 36.96875 -1.421875 32.421875 -1.421875 \nQ 20.0625 -1.421875 12.78125 6.34375 \nQ 5.515625 14.109375 5.515625 27.296875 \nQ 5.515625 40.671875 12.859375 48.328125 \nQ 20.21875 56 33.015625 56 \nQ 37.15625 56 41.109375 55.140625 \nQ 45.0625 54.296875 48.78125 52.59375 \nz\n\" id=\"DejaVuSans-99\"/>\n       <path d=\"M 54.890625 33.015625 \nL 54.890625 0 \nL 45.90625 0 \nL 45.90625 32.71875 \nQ 45.90625 40.484375 42.875 44.328125 \nQ 39.84375 48.1875 33.796875 48.1875 \nQ 26.515625 48.1875 22.3125 43.546875 \nQ 18.109375 38.921875 18.109375 30.90625 \nL 18.109375 0 \nL 9.078125 0 \nL 9.078125 75.984375 \nL 18.109375 75.984375 \nL 18.109375 46.1875 \nQ 21.34375 51.125 25.703125 53.5625 \nQ 30.078125 56 35.796875 56 \nQ 45.21875 56 50.046875 50.171875 \nQ 54.890625 44.34375 54.890625 33.015625 \nz\n\" id=\"DejaVuSans-104\"/>\n       <path d=\"M 8.015625 75.875 \nL 15.828125 75.875 \nQ 23.140625 64.359375 26.78125 53.3125 \nQ 30.421875 42.28125 30.421875 31.390625 \nQ 30.421875 20.453125 26.78125 9.375 \nQ 23.140625 -1.703125 15.828125 -13.1875 \nL 8.015625 -13.1875 \nQ 14.5 -2 17.703125 9.0625 \nQ 20.90625 20.125 20.90625 31.390625 \nQ 20.90625 42.671875 17.703125 53.65625 \nQ 14.5 64.65625 8.015625 75.875 \nz\n\" id=\"DejaVuSans-41\"/>\n      </defs>\n      <use xlink:href=\"#DejaVuSans-73\"/>\n      <use x=\"29.492188\" xlink:href=\"#DejaVuSans-116\"/>\n      <use x=\"68.701172\" xlink:href=\"#DejaVuSans-101\"/>\n      <use x=\"130.224609\" xlink:href=\"#DejaVuSans-114\"/>\n      <use x=\"171.337891\" xlink:href=\"#DejaVuSans-97\"/>\n      <use x=\"232.617188\" xlink:href=\"#DejaVuSans-116\"/>\n      <use x=\"271.826172\" xlink:href=\"#DejaVuSans-105\"/>\n      <use x=\"299.609375\" xlink:href=\"#DejaVuSans-111\"/>\n      <use x=\"360.791016\" xlink:href=\"#DejaVuSans-110\"/>\n      <use x=\"424.169922\" xlink:href=\"#DejaVuSans-115\"/>\n      <use x=\"476.269531\" xlink:href=\"#DejaVuSans-32\"/>\n      <use x=\"508.056641\" xlink:href=\"#DejaVuSans-40\"/>\n      <use x=\"547.070312\" xlink:href=\"#DejaVuSans-105\"/>\n      <use x=\"574.853516\" xlink:href=\"#DejaVuSans-110\"/>\n      <use x=\"638.232422\" xlink:href=\"#DejaVuSans-32\"/>\n      <use x=\"670.019531\" xlink:href=\"#DejaVuSans-98\"/>\n      <use x=\"733.496094\" xlink:href=\"#DejaVuSans-97\"/>\n      <use x=\"794.775391\" xlink:href=\"#DejaVuSans-116\"/>\n      <use x=\"833.984375\" xlink:href=\"#DejaVuSans-99\"/>\n      <use x=\"888.964844\" xlink:href=\"#DejaVuSans-104\"/>\n      <use x=\"952.34375\" xlink:href=\"#DejaVuSans-101\"/>\n      <use x=\"1013.867188\" xlink:href=\"#DejaVuSans-115\"/>\n      <use x=\"1065.966797\" xlink:href=\"#DejaVuSans-41\"/>\n     </g>\n    </g>\n   </g>\n   <g id=\"matplotlib.axis_2\">\n    <g id=\"ytick_1\">\n     <g id=\"line2d_10\">\n      <path clip-path=\"url(#pf67647924f)\" d=\"M 49.807188 177.985398 \nL 496.207187 177.985398 \n\" style=\"fill:none;stroke:#ffffff;stroke-linecap:round;\"/>\n     </g>\n     <g id=\"text_11\">\n      <!-- 0.0 -->\n      <g style=\"fill:#262626;\" transform=\"translate(22.81375 182.164538)scale(0.11 -0.11)\">\n       <defs>\n        <path d=\"M 10.6875 12.40625 \nL 21 12.40625 \nL 21 0 \nL 10.6875 0 \nz\n\" id=\"DejaVuSans-46\"/>\n       </defs>\n       <use xlink:href=\"#DejaVuSans-48\"/>\n       <use x=\"63.623047\" xlink:href=\"#DejaVuSans-46\"/>\n       <use x=\"95.410156\" xlink:href=\"#DejaVuSans-48\"/>\n      </g>\n     </g>\n    </g>\n    <g id=\"ytick_2\">\n     <g id=\"line2d_11\">\n      <path clip-path=\"url(#pf67647924f)\" d=\"M 49.807188 148.150832 \nL 496.207187 148.150832 \n\" style=\"fill:none;stroke:#ffffff;stroke-linecap:round;\"/>\n     </g>\n     <g id=\"text_12\">\n      <!-- 0.2 -->\n      <g style=\"fill:#262626;\" transform=\"translate(22.81375 152.329973)scale(0.11 -0.11)\">\n       <use xlink:href=\"#DejaVuSans-48\"/>\n       <use x=\"63.623047\" xlink:href=\"#DejaVuSans-46\"/>\n       <use x=\"95.410156\" xlink:href=\"#DejaVuSans-50\"/>\n      </g>\n     </g>\n    </g>\n    <g id=\"ytick_3\">\n     <g id=\"line2d_12\">\n      <path clip-path=\"url(#pf67647924f)\" d=\"M 49.807188 118.316267 \nL 496.207187 118.316267 \n\" style=\"fill:none;stroke:#ffffff;stroke-linecap:round;\"/>\n     </g>\n     <g id=\"text_13\">\n      <!-- 0.4 -->\n      <g style=\"fill:#262626;\" transform=\"translate(22.81375 122.495407)scale(0.11 -0.11)\">\n       <defs>\n        <path d=\"M 37.796875 64.3125 \nL 12.890625 25.390625 \nL 37.796875 25.390625 \nz\nM 35.203125 72.90625 \nL 47.609375 72.90625 \nL 47.609375 25.390625 \nL 58.015625 25.390625 \nL 58.015625 17.1875 \nL 47.609375 17.1875 \nL 47.609375 0 \nL 37.796875 0 \nL 37.796875 17.1875 \nL 4.890625 17.1875 \nL 4.890625 26.703125 \nz\n\" id=\"DejaVuSans-52\"/>\n       </defs>\n       <use xlink:href=\"#DejaVuSans-48\"/>\n       <use x=\"63.623047\" xlink:href=\"#DejaVuSans-46\"/>\n       <use x=\"95.410156\" xlink:href=\"#DejaVuSans-52\"/>\n      </g>\n     </g>\n    </g>\n    <g id=\"ytick_4\">\n     <g id=\"line2d_13\">\n      <path clip-path=\"url(#pf67647924f)\" d=\"M 49.807188 88.481701 \nL 496.207187 88.481701 \n\" style=\"fill:none;stroke:#ffffff;stroke-linecap:round;\"/>\n     </g>\n     <g id=\"text_14\">\n      <!-- 0.6 -->\n      <g style=\"fill:#262626;\" transform=\"translate(22.81375 92.660842)scale(0.11 -0.11)\">\n       <defs>\n        <path d=\"M 33.015625 40.375 \nQ 26.375 40.375 22.484375 35.828125 \nQ 18.609375 31.296875 18.609375 23.390625 \nQ 18.609375 15.53125 22.484375 10.953125 \nQ 26.375 6.390625 33.015625 6.390625 \nQ 39.65625 6.390625 43.53125 10.953125 \nQ 47.40625 15.53125 47.40625 23.390625 \nQ 47.40625 31.296875 43.53125 35.828125 \nQ 39.65625 40.375 33.015625 40.375 \nz\nM 52.59375 71.296875 \nL 52.59375 62.3125 \nQ 48.875 64.0625 45.09375 64.984375 \nQ 41.3125 65.921875 37.59375 65.921875 \nQ 27.828125 65.921875 22.671875 59.328125 \nQ 17.53125 52.734375 16.796875 39.40625 \nQ 19.671875 43.65625 24.015625 45.921875 \nQ 28.375 48.1875 33.59375 48.1875 \nQ 44.578125 48.1875 50.953125 41.515625 \nQ 57.328125 34.859375 57.328125 23.390625 \nQ 57.328125 12.15625 50.6875 5.359375 \nQ 44.046875 -1.421875 33.015625 -1.421875 \nQ 20.359375 -1.421875 13.671875 8.265625 \nQ 6.984375 17.96875 6.984375 36.375 \nQ 6.984375 53.65625 15.1875 63.9375 \nQ 23.390625 74.21875 37.203125 74.21875 \nQ 40.921875 74.21875 44.703125 73.484375 \nQ 48.484375 72.75 52.59375 71.296875 \nz\n\" id=\"DejaVuSans-54\"/>\n       </defs>\n       <use xlink:href=\"#DejaVuSans-48\"/>\n       <use x=\"63.623047\" xlink:href=\"#DejaVuSans-46\"/>\n       <use x=\"95.410156\" xlink:href=\"#DejaVuSans-54\"/>\n      </g>\n     </g>\n    </g>\n    <g id=\"ytick_5\">\n     <g id=\"line2d_14\">\n      <path clip-path=\"url(#pf67647924f)\" d=\"M 49.807188 58.647135 \nL 496.207187 58.647135 \n\" style=\"fill:none;stroke:#ffffff;stroke-linecap:round;\"/>\n     </g>\n     <g id=\"text_15\">\n      <!-- 0.8 -->\n      <g style=\"fill:#262626;\" transform=\"translate(22.81375 62.826276)scale(0.11 -0.11)\">\n       <defs>\n        <path d=\"M 31.78125 34.625 \nQ 24.75 34.625 20.71875 30.859375 \nQ 16.703125 27.09375 16.703125 20.515625 \nQ 16.703125 13.921875 20.71875 10.15625 \nQ 24.75 6.390625 31.78125 6.390625 \nQ 38.8125 6.390625 42.859375 10.171875 \nQ 46.921875 13.96875 46.921875 20.515625 \nQ 46.921875 27.09375 42.890625 30.859375 \nQ 38.875 34.625 31.78125 34.625 \nz\nM 21.921875 38.8125 \nQ 15.578125 40.375 12.03125 44.71875 \nQ 8.5 49.078125 8.5 55.328125 \nQ 8.5 64.0625 14.71875 69.140625 \nQ 20.953125 74.21875 31.78125 74.21875 \nQ 42.671875 74.21875 48.875 69.140625 \nQ 55.078125 64.0625 55.078125 55.328125 \nQ 55.078125 49.078125 51.53125 44.71875 \nQ 48 40.375 41.703125 38.8125 \nQ 48.828125 37.15625 52.796875 32.3125 \nQ 56.78125 27.484375 56.78125 20.515625 \nQ 56.78125 9.90625 50.3125 4.234375 \nQ 43.84375 -1.421875 31.78125 -1.421875 \nQ 19.734375 -1.421875 13.25 4.234375 \nQ 6.78125 9.90625 6.78125 20.515625 \nQ 6.78125 27.484375 10.78125 32.3125 \nQ 14.796875 37.15625 21.921875 38.8125 \nz\nM 18.3125 54.390625 \nQ 18.3125 48.734375 21.84375 45.5625 \nQ 25.390625 42.390625 31.78125 42.390625 \nQ 38.140625 42.390625 41.71875 45.5625 \nQ 45.3125 48.734375 45.3125 54.390625 \nQ 45.3125 60.0625 41.71875 63.234375 \nQ 38.140625 66.40625 31.78125 66.40625 \nQ 25.390625 66.40625 21.84375 63.234375 \nQ 18.3125 60.0625 18.3125 54.390625 \nz\n\" id=\"DejaVuSans-56\"/>\n       </defs>\n       <use xlink:href=\"#DejaVuSans-48\"/>\n       <use x=\"63.623047\" xlink:href=\"#DejaVuSans-46\"/>\n       <use x=\"95.410156\" xlink:href=\"#DejaVuSans-56\"/>\n      </g>\n     </g>\n    </g>\n    <g id=\"ytick_6\">\n     <g id=\"line2d_15\">\n      <path clip-path=\"url(#pf67647924f)\" d=\"M 49.807188 28.81257 \nL 496.207187 28.81257 \n\" style=\"fill:none;stroke:#ffffff;stroke-linecap:round;\"/>\n     </g>\n     <g id=\"text_16\">\n      <!-- 1.0 -->\n      <g style=\"fill:#262626;\" transform=\"translate(22.81375 32.99171)scale(0.11 -0.11)\">\n       <use xlink:href=\"#DejaVuSans-49\"/>\n       <use x=\"63.623047\" xlink:href=\"#DejaVuSans-46\"/>\n       <use x=\"95.410156\" xlink:href=\"#DejaVuSans-48\"/>\n      </g>\n     </g>\n    </g>\n    <g id=\"text_17\">\n     <!-- Learning rate factor -->\n     <g style=\"fill:#262626;\" transform=\"translate(16.318125 163.486875)rotate(-90)scale(0.12 -0.12)\">\n      <defs>\n       <path d=\"M 9.8125 72.90625 \nL 19.671875 72.90625 \nL 19.671875 8.296875 \nL 55.171875 8.296875 \nL 55.171875 0 \nL 9.8125 0 \nz\n\" id=\"DejaVuSans-76\"/>\n       <path d=\"M 45.40625 27.984375 \nQ 45.40625 37.75 41.375 43.109375 \nQ 37.359375 48.484375 30.078125 48.484375 \nQ 22.859375 48.484375 18.828125 43.109375 \nQ 14.796875 37.75 14.796875 27.984375 \nQ 14.796875 18.265625 18.828125 12.890625 \nQ 22.859375 7.515625 30.078125 7.515625 \nQ 37.359375 7.515625 41.375 12.890625 \nQ 45.40625 18.265625 45.40625 27.984375 \nz\nM 54.390625 6.78125 \nQ 54.390625 -7.171875 48.1875 -13.984375 \nQ 42 -20.796875 29.203125 -20.796875 \nQ 24.46875 -20.796875 20.265625 -20.09375 \nQ 16.0625 -19.390625 12.109375 -17.921875 \nL 12.109375 -9.1875 \nQ 16.0625 -11.328125 19.921875 -12.34375 \nQ 23.78125 -13.375 27.78125 -13.375 \nQ 36.625 -13.375 41.015625 -8.765625 \nQ 45.40625 -4.15625 45.40625 5.171875 \nL 45.40625 9.625 \nQ 42.625 4.78125 38.28125 2.390625 \nQ 33.9375 0 27.875 0 \nQ 17.828125 0 11.671875 7.65625 \nQ 5.515625 15.328125 5.515625 27.984375 \nQ 5.515625 40.671875 11.671875 48.328125 \nQ 17.828125 56 27.875 56 \nQ 33.9375 56 38.28125 53.609375 \nQ 42.625 51.21875 45.40625 46.390625 \nL 45.40625 54.6875 \nL 54.390625 54.6875 \nz\n\" id=\"DejaVuSans-103\"/>\n       <path d=\"M 37.109375 75.984375 \nL 37.109375 68.5 \nL 28.515625 68.5 \nQ 23.6875 68.5 21.796875 66.546875 \nQ 19.921875 64.59375 19.921875 59.515625 \nL 19.921875 54.6875 \nL 34.71875 54.6875 \nL 34.71875 47.703125 \nL 19.921875 47.703125 \nL 19.921875 0 \nL 10.890625 0 \nL 10.890625 47.703125 \nL 2.296875 47.703125 \nL 2.296875 54.6875 \nL 10.890625 54.6875 \nL 10.890625 58.5 \nQ 10.890625 67.625 15.140625 71.796875 \nQ 19.390625 75.984375 28.609375 75.984375 \nz\n\" id=\"DejaVuSans-102\"/>\n      </defs>\n      <use xlink:href=\"#DejaVuSans-76\"/>\n      <use x=\"53.962891\" xlink:href=\"#DejaVuSans-101\"/>\n      <use x=\"115.486328\" xlink:href=\"#DejaVuSans-97\"/>\n      <use x=\"176.765625\" xlink:href=\"#DejaVuSans-114\"/>\n      <use x=\"216.128906\" xlink:href=\"#DejaVuSans-110\"/>\n      <use x=\"279.507812\" xlink:href=\"#DejaVuSans-105\"/>\n      <use x=\"307.291016\" xlink:href=\"#DejaVuSans-110\"/>\n      <use x=\"370.669922\" xlink:href=\"#DejaVuSans-103\"/>\n      <use x=\"434.146484\" xlink:href=\"#DejaVuSans-32\"/>\n      <use x=\"465.933594\" xlink:href=\"#DejaVuSans-114\"/>\n      <use x=\"507.046875\" xlink:href=\"#DejaVuSans-97\"/>\n      <use x=\"568.326172\" xlink:href=\"#DejaVuSans-116\"/>\n      <use x=\"607.535156\" xlink:href=\"#DejaVuSans-101\"/>\n      <use x=\"669.058594\" xlink:href=\"#DejaVuSans-32\"/>\n      <use x=\"700.845703\" xlink:href=\"#DejaVuSans-102\"/>\n      <use x=\"736.050781\" xlink:href=\"#DejaVuSans-97\"/>\n      <use x=\"797.330078\" xlink:href=\"#DejaVuSans-99\"/>\n      <use x=\"852.310547\" xlink:href=\"#DejaVuSans-116\"/>\n      <use x=\"891.519531\" xlink:href=\"#DejaVuSans-111\"/>\n      <use x=\"952.701172\" xlink:href=\"#DejaVuSans-114\"/>\n     </g>\n    </g>\n   </g>\n   <g id=\"line2d_16\">\n    <path clip-path=\"url(#pf67647924f)\" d=\"M 70.098097 177.985398 \nL 89.587114 35.592052 \nL 90.399156 29.730852 \nL 97.504527 30.48331 \nL 104.609898 31.456105 \nL 111.918279 32.683463 \nL 119.226661 34.136891 \nL 126.738053 35.861378 \nL 134.249445 37.813933 \nL 141.963848 40.049729 \nL 149.881261 42.57891 \nL 158.001685 45.409884 \nL 166.325119 48.54904 \nL 174.851564 52.000456 \nL 183.78403 55.855814 \nL 193.122518 60.128835 \nL 203.070037 64.928363 \nL 213.626588 70.270225 \nL 225.198192 76.378163 \nL 238.19087 83.491721 \nL 254.025697 92.425912 \nL 281.432127 108.199226 \nL 303.154261 120.582905 \nL 317.771024 128.66423 \nL 330.15467 135.262305 \nL 341.320253 140.962432 \nL 351.673794 145.998525 \nL 361.418302 150.489325 \nL 370.553779 154.456898 \nL 379.283235 158.01014 \nL 387.80968 161.24043 \nL 395.930104 164.08312 \nL 403.847517 166.624241 \nL 411.561919 168.872118 \nL 419.276322 170.886789 \nL 426.787714 172.61752 \nL 434.096096 174.077165 \nL 441.404477 175.310859 \nL 448.712859 176.314657 \nL 455.818229 177.067115 \nL 462.9236 177.596962 \nL 470.028971 177.902597 \nL 475.916278 177.985306 \nL 475.916278 177.985306 \n\" style=\"fill:none;stroke:#4c72b0;stroke-linecap:round;stroke-width:1.5;\"/>\n   </g>\n   <g id=\"patch_3\">\n    <path d=\"M 49.807188 185.398125 \nL 49.807188 22.318125 \n\" style=\"fill:none;stroke:#ffffff;stroke-linecap:square;stroke-linejoin:miter;stroke-width:1.25;\"/>\n   </g>\n   <g id=\"patch_4\">\n    <path d=\"M 496.207187 185.398125 \nL 496.207187 22.318125 \n\" style=\"fill:none;stroke:#ffffff;stroke-linecap:square;stroke-linejoin:miter;stroke-width:1.25;\"/>\n   </g>\n   <g id=\"patch_5\">\n    <path d=\"M 49.807187 185.398125 \nL 496.207188 185.398125 \n\" style=\"fill:none;stroke:#ffffff;stroke-linecap:square;stroke-linejoin:miter;stroke-width:1.25;\"/>\n   </g>\n   <g id=\"patch_6\">\n    <path d=\"M 49.807187 22.318125 \nL 496.207188 22.318125 \n\" style=\"fill:none;stroke:#ffffff;stroke-linecap:square;stroke-linejoin:miter;stroke-width:1.25;\"/>\n   </g>\n   <g id=\"text_18\">\n    <!-- Cosine Warm-up Learning Rate Scheduler -->\n    <g style=\"fill:#262626;\" transform=\"translate(148.179062 16.318125)scale(0.12 -0.12)\">\n     <defs>\n      <path d=\"M 64.40625 67.28125 \nL 64.40625 56.890625 \nQ 59.421875 61.53125 53.78125 63.8125 \nQ 48.140625 66.109375 41.796875 66.109375 \nQ 29.296875 66.109375 22.65625 58.46875 \nQ 16.015625 50.828125 16.015625 36.375 \nQ 16.015625 21.96875 22.65625 14.328125 \nQ 29.296875 6.6875 41.796875 6.6875 \nQ 48.140625 6.6875 53.78125 8.984375 \nQ 59.421875 11.28125 64.40625 15.921875 \nL 64.40625 5.609375 \nQ 59.234375 2.09375 53.4375 0.328125 \nQ 47.65625 -1.421875 41.21875 -1.421875 \nQ 24.65625 -1.421875 15.125 8.703125 \nQ 5.609375 18.84375 5.609375 36.375 \nQ 5.609375 53.953125 15.125 64.078125 \nQ 24.65625 74.21875 41.21875 74.21875 \nQ 47.75 74.21875 53.53125 72.484375 \nQ 59.328125 70.75 64.40625 67.28125 \nz\n\" id=\"DejaVuSans-67\"/>\n      <path d=\"M 3.328125 72.90625 \nL 13.28125 72.90625 \nL 28.609375 11.28125 \nL 43.890625 72.90625 \nL 54.984375 72.90625 \nL 70.3125 11.28125 \nL 85.59375 72.90625 \nL 95.609375 72.90625 \nL 77.296875 0 \nL 64.890625 0 \nL 49.515625 63.28125 \nL 33.984375 0 \nL 21.578125 0 \nz\n\" id=\"DejaVuSans-87\"/>\n      <path d=\"M 52 44.1875 \nQ 55.375 50.25 60.0625 53.125 \nQ 64.75 56 71.09375 56 \nQ 79.640625 56 84.28125 50.015625 \nQ 88.921875 44.046875 88.921875 33.015625 \nL 88.921875 0 \nL 79.890625 0 \nL 79.890625 32.71875 \nQ 79.890625 40.578125 77.09375 44.375 \nQ 74.3125 48.1875 68.609375 48.1875 \nQ 61.625 48.1875 57.5625 43.546875 \nQ 53.515625 38.921875 53.515625 30.90625 \nL 53.515625 0 \nL 44.484375 0 \nL 44.484375 32.71875 \nQ 44.484375 40.625 41.703125 44.40625 \nQ 38.921875 48.1875 33.109375 48.1875 \nQ 26.21875 48.1875 22.15625 43.53125 \nQ 18.109375 38.875 18.109375 30.90625 \nL 18.109375 0 \nL 9.078125 0 \nL 9.078125 54.6875 \nL 18.109375 54.6875 \nL 18.109375 46.1875 \nQ 21.1875 51.21875 25.484375 53.609375 \nQ 29.78125 56 35.6875 56 \nQ 41.65625 56 45.828125 52.96875 \nQ 50 49.953125 52 44.1875 \nz\n\" id=\"DejaVuSans-109\"/>\n      <path d=\"M 4.890625 31.390625 \nL 31.203125 31.390625 \nL 31.203125 23.390625 \nL 4.890625 23.390625 \nz\n\" id=\"DejaVuSans-45\"/>\n      <path d=\"M 8.5 21.578125 \nL 8.5 54.6875 \nL 17.484375 54.6875 \nL 17.484375 21.921875 \nQ 17.484375 14.15625 20.5 10.265625 \nQ 23.53125 6.390625 29.59375 6.390625 \nQ 36.859375 6.390625 41.078125 11.03125 \nQ 45.3125 15.671875 45.3125 23.6875 \nL 45.3125 54.6875 \nL 54.296875 54.6875 \nL 54.296875 0 \nL 45.3125 0 \nL 45.3125 8.40625 \nQ 42.046875 3.421875 37.71875 1 \nQ 33.40625 -1.421875 27.6875 -1.421875 \nQ 18.265625 -1.421875 13.375 4.4375 \nQ 8.5 10.296875 8.5 21.578125 \nz\nM 31.109375 56 \nz\n\" id=\"DejaVuSans-117\"/>\n      <path d=\"M 18.109375 8.203125 \nL 18.109375 -20.796875 \nL 9.078125 -20.796875 \nL 9.078125 54.6875 \nL 18.109375 54.6875 \nL 18.109375 46.390625 \nQ 20.953125 51.265625 25.265625 53.625 \nQ 29.59375 56 35.59375 56 \nQ 45.5625 56 51.78125 48.09375 \nQ 58.015625 40.1875 58.015625 27.296875 \nQ 58.015625 14.40625 51.78125 6.484375 \nQ 45.5625 -1.421875 35.59375 -1.421875 \nQ 29.59375 -1.421875 25.265625 0.953125 \nQ 20.953125 3.328125 18.109375 8.203125 \nz\nM 48.6875 27.296875 \nQ 48.6875 37.203125 44.609375 42.84375 \nQ 40.53125 48.484375 33.40625 48.484375 \nQ 26.265625 48.484375 22.1875 42.84375 \nQ 18.109375 37.203125 18.109375 27.296875 \nQ 18.109375 17.390625 22.1875 11.75 \nQ 26.265625 6.109375 33.40625 6.109375 \nQ 40.53125 6.109375 44.609375 11.75 \nQ 48.6875 17.390625 48.6875 27.296875 \nz\n\" id=\"DejaVuSans-112\"/>\n      <path d=\"M 44.390625 34.1875 \nQ 47.5625 33.109375 50.5625 29.59375 \nQ 53.5625 26.078125 56.59375 19.921875 \nL 66.609375 0 \nL 56 0 \nL 46.6875 18.703125 \nQ 43.0625 26.03125 39.671875 28.421875 \nQ 36.28125 30.8125 30.421875 30.8125 \nL 19.671875 30.8125 \nL 19.671875 0 \nL 9.8125 0 \nL 9.8125 72.90625 \nL 32.078125 72.90625 \nQ 44.578125 72.90625 50.734375 67.671875 \nQ 56.890625 62.453125 56.890625 51.90625 \nQ 56.890625 45.015625 53.6875 40.46875 \nQ 50.484375 35.9375 44.390625 34.1875 \nz\nM 19.671875 64.796875 \nL 19.671875 38.921875 \nL 32.078125 38.921875 \nQ 39.203125 38.921875 42.84375 42.21875 \nQ 46.484375 45.515625 46.484375 51.90625 \nQ 46.484375 58.296875 42.84375 61.546875 \nQ 39.203125 64.796875 32.078125 64.796875 \nz\n\" id=\"DejaVuSans-82\"/>\n      <path d=\"M 53.515625 70.515625 \nL 53.515625 60.890625 \nQ 47.90625 63.578125 42.921875 64.890625 \nQ 37.9375 66.21875 33.296875 66.21875 \nQ 25.25 66.21875 20.875 63.09375 \nQ 16.5 59.96875 16.5 54.203125 \nQ 16.5 49.359375 19.40625 46.890625 \nQ 22.3125 44.4375 30.421875 42.921875 \nL 36.375 41.703125 \nQ 47.40625 39.59375 52.65625 34.296875 \nQ 57.90625 29 57.90625 20.125 \nQ 57.90625 9.515625 50.796875 4.046875 \nQ 43.703125 -1.421875 29.984375 -1.421875 \nQ 24.8125 -1.421875 18.96875 -0.25 \nQ 13.140625 0.921875 6.890625 3.21875 \nL 6.890625 13.375 \nQ 12.890625 10.015625 18.65625 8.296875 \nQ 24.421875 6.59375 29.984375 6.59375 \nQ 38.421875 6.59375 43.015625 9.90625 \nQ 47.609375 13.234375 47.609375 19.390625 \nQ 47.609375 24.75 44.3125 27.78125 \nQ 41.015625 30.8125 33.5 32.328125 \nL 27.484375 33.5 \nQ 16.453125 35.6875 11.515625 40.375 \nQ 6.59375 45.0625 6.59375 53.421875 \nQ 6.59375 63.09375 13.40625 68.65625 \nQ 20.21875 74.21875 32.171875 74.21875 \nQ 37.3125 74.21875 42.625 73.28125 \nQ 47.953125 72.359375 53.515625 70.515625 \nz\n\" id=\"DejaVuSans-83\"/>\n      <path d=\"M 45.40625 46.390625 \nL 45.40625 75.984375 \nL 54.390625 75.984375 \nL 54.390625 0 \nL 45.40625 0 \nL 45.40625 8.203125 \nQ 42.578125 3.328125 38.25 0.953125 \nQ 33.9375 -1.421875 27.875 -1.421875 \nQ 17.96875 -1.421875 11.734375 6.484375 \nQ 5.515625 14.40625 5.515625 27.296875 \nQ 5.515625 40.1875 11.734375 48.09375 \nQ 17.96875 56 27.875 56 \nQ 33.9375 56 38.25 53.625 \nQ 42.578125 51.265625 45.40625 46.390625 \nz\nM 14.796875 27.296875 \nQ 14.796875 17.390625 18.875 11.75 \nQ 22.953125 6.109375 30.078125 6.109375 \nQ 37.203125 6.109375 41.296875 11.75 \nQ 45.40625 17.390625 45.40625 27.296875 \nQ 45.40625 37.203125 41.296875 42.84375 \nQ 37.203125 48.484375 30.078125 48.484375 \nQ 22.953125 48.484375 18.875 42.84375 \nQ 14.796875 37.203125 14.796875 27.296875 \nz\n\" id=\"DejaVuSans-100\"/>\n      <path d=\"M 9.421875 75.984375 \nL 18.40625 75.984375 \nL 18.40625 0 \nL 9.421875 0 \nz\n\" id=\"DejaVuSans-108\"/>\n     </defs>\n     <use xlink:href=\"#DejaVuSans-67\"/>\n     <use x=\"69.824219\" xlink:href=\"#DejaVuSans-111\"/>\n     <use x=\"131.005859\" xlink:href=\"#DejaVuSans-115\"/>\n     <use x=\"183.105469\" xlink:href=\"#DejaVuSans-105\"/>\n     <use x=\"210.888672\" xlink:href=\"#DejaVuSans-110\"/>\n     <use x=\"274.267578\" xlink:href=\"#DejaVuSans-101\"/>\n     <use x=\"335.791016\" xlink:href=\"#DejaVuSans-32\"/>\n     <use x=\"367.578125\" xlink:href=\"#DejaVuSans-87\"/>\n     <use x=\"460.080078\" xlink:href=\"#DejaVuSans-97\"/>\n     <use x=\"521.359375\" xlink:href=\"#DejaVuSans-114\"/>\n     <use x=\"560.722656\" xlink:href=\"#DejaVuSans-109\"/>\n     <use x=\"658.134766\" xlink:href=\"#DejaVuSans-45\"/>\n     <use x=\"694.21875\" xlink:href=\"#DejaVuSans-117\"/>\n     <use x=\"757.597656\" xlink:href=\"#DejaVuSans-112\"/>\n     <use x=\"821.074219\" xlink:href=\"#DejaVuSans-32\"/>\n     <use x=\"852.861328\" xlink:href=\"#DejaVuSans-76\"/>\n     <use x=\"906.824219\" xlink:href=\"#DejaVuSans-101\"/>\n     <use x=\"968.347656\" xlink:href=\"#DejaVuSans-97\"/>\n     <use x=\"1029.626953\" xlink:href=\"#DejaVuSans-114\"/>\n     <use x=\"1068.990234\" xlink:href=\"#DejaVuSans-110\"/>\n     <use x=\"1132.369141\" xlink:href=\"#DejaVuSans-105\"/>\n     <use x=\"1160.152344\" xlink:href=\"#DejaVuSans-110\"/>\n     <use x=\"1223.53125\" xlink:href=\"#DejaVuSans-103\"/>\n     <use x=\"1287.007812\" xlink:href=\"#DejaVuSans-32\"/>\n     <use x=\"1318.794922\" xlink:href=\"#DejaVuSans-82\"/>\n     <use x=\"1386.027344\" xlink:href=\"#DejaVuSans-97\"/>\n     <use x=\"1447.306641\" xlink:href=\"#DejaVuSans-116\"/>\n     <use x=\"1486.515625\" xlink:href=\"#DejaVuSans-101\"/>\n     <use x=\"1548.039062\" xlink:href=\"#DejaVuSans-32\"/>\n     <use x=\"1579.826172\" xlink:href=\"#DejaVuSans-83\"/>\n     <use x=\"1643.302734\" xlink:href=\"#DejaVuSans-99\"/>\n     <use x=\"1698.283203\" xlink:href=\"#DejaVuSans-104\"/>\n     <use x=\"1761.662109\" xlink:href=\"#DejaVuSans-101\"/>\n     <use x=\"1823.185547\" xlink:href=\"#DejaVuSans-100\"/>\n     <use x=\"1886.662109\" xlink:href=\"#DejaVuSans-117\"/>\n     <use x=\"1950.041016\" xlink:href=\"#DejaVuSans-108\"/>\n     <use x=\"1977.824219\" xlink:href=\"#DejaVuSans-101\"/>\n     <use x=\"2039.347656\" xlink:href=\"#DejaVuSans-114\"/>\n    </g>\n   </g>\n  </g>\n </g>\n <defs>\n  <clipPath id=\"pf67647924f\">\n   <rect height=\"163.08\" width=\"446.4\" x=\"49.807188\" y=\"22.318125\"/>\n  </clipPath>\n </defs>\n</svg>\n",
            "application/pdf": "[encoded data removed]"
          },
          "metadata": {}
        },
        {
          "output_type": "stream",
          "name": "stderr",
          "text": [
            "/usr/lib/python3.10/_collections_abc.py:999: MatplotlibDeprecationWarning: \n",
            "The animation.avconv_args rcparam was deprecated in Matplotlib 3.3 and will be removed two minor releases later.\n",
            "  self[key] = other[key]\n",
            "/usr/lib/python3.10/_collections_abc.py:999: MatplotlibDeprecationWarning: \n",
            "The animation.avconv_path rcparam was deprecated in Matplotlib 3.3 and will be removed two minor releases later.\n",
            "  self[key] = other[key]\n",
            "/usr/lib/python3.10/_collections_abc.py:999: MatplotlibDeprecationWarning: \n",
            "The animation.html_args rcparam was deprecated in Matplotlib 3.3 and will be removed two minor releases later.\n",
            "  self[key] = other[key]\n",
            "/usr/lib/python3.10/_collections_abc.py:999: MatplotlibDeprecationWarning: \n",
            "The keymap.all_axes rcparam was deprecated in Matplotlib 3.3 and will be removed two minor releases later.\n",
            "  self[key] = other[key]\n",
            "/usr/lib/python3.10/_collections_abc.py:999: MatplotlibDeprecationWarning: \n",
            "The savefig.jpeg_quality rcparam was deprecated in Matplotlib 3.3 and will be removed two minor releases later.\n",
            "  self[key] = other[key]\n",
            "/usr/lib/python3.10/_collections_abc.py:999: MatplotlibDeprecationWarning: \n",
            "The text.latex.preview rcparam was deprecated in Matplotlib 3.3 and will be removed two minor releases later.\n",
            "  self[key] = other[key]\n"
          ]
        }
      ]
    },
    {
      "cell_type": "markdown",
      "source": [
        "# PyTorch Lightning Module\n",
        "\n",
        "Finally, we can embed the Transformer architecture into a PyTorch lightning module. From Tutorial 5, you know that PyTorch Lightning simplifies our training and test code, as well as structures the code nicely in separate functions. We will implement a template for a classifier based on the Transformer encoder. Thereby, we have a prediction output per sequence element. If we would need a classifier over the whole sequence, the common approach is to add an additional [CLS] token to the sequence, representing the classifier token. However, here we focus on tasks where we have an output per element.\n",
        "\n",
        "Additionally to the Transformer architecture, we add a small input network (maps input dimensions to model dimensions), the positional encoding, and an output network (transforms output encodings to predictions). We also add the learning rate scheduler, which takes a step each iteration instead of once per epoch. This is needed for the warmup and the smooth cosine decay. The training, validation, and test step is left empty for now and will be filled for our task-specific models.\n",
        "\n"
      ],
      "metadata": {
        "id": "grvRf5ROeJjL"
      }
    },
    {
      "cell_type": "code",
      "source": [
        "class TransformerPredictor(L.LightningModule):\n",
        "    def __init__(\n",
        "        self,\n",
        "        input_dim,\n",
        "        model_dim,\n",
        "        num_classes,\n",
        "        num_heads,\n",
        "        num_layers,\n",
        "        lr,\n",
        "        warmup,\n",
        "        max_iters,\n",
        "        dropout=0.0,\n",
        "        input_dropout=0.0,\n",
        "    ):\n",
        "        \"\"\"TransformerPredictor.\n",
        "\n",
        "        Args:\n",
        "            input_dim: Hidden dimensionality of the input\n",
        "            model_dim: Hidden dimensionality to use inside the Transformer\n",
        "            num_classes: Number of classes to predict per sequence element\n",
        "            num_heads: Number of heads to use in the Multi-Head Attention blocks\n",
        "            num_layers: Number of encoder blocks to use.\n",
        "            lr: Learning rate in the optimizer\n",
        "            warmup: Number of warmup steps. Usually between 50 and 500\n",
        "            max_iters: Number of maximum iterations the model is trained for. This is needed for the CosineWarmup scheduler\n",
        "            dropout: Dropout to apply inside the model\n",
        "            input_dropout: Dropout to apply on the input features\n",
        "        \"\"\"\n",
        "        super().__init__()\n",
        "        self.save_hyperparameters()\n",
        "        self._create_model()\n",
        "\n",
        "    def _create_model(self):\n",
        "        # Input dim -> Model dim\n",
        "        self.input_net = nn.Sequential(\n",
        "            nn.Dropout(self.hparams.input_dropout), nn.Linear(self.hparams.input_dim, self.hparams.model_dim)\n",
        "        )\n",
        "        # Positional encoding for sequences\n",
        "        self.positional_encoding = PositionalEncoding(d_model=self.hparams.model_dim)\n",
        "        # Transformer\n",
        "        self.transformer = TransformerEncoder(\n",
        "            num_layers=self.hparams.num_layers,\n",
        "            input_dim=self.hparams.model_dim,\n",
        "            dim_feedforward=2 * self.hparams.model_dim,\n",
        "            num_heads=self.hparams.num_heads,\n",
        "            dropout=self.hparams.dropout,\n",
        "        )\n",
        "        # Output classifier per sequence lement\n",
        "        self.output_net = nn.Sequential(\n",
        "            nn.Linear(self.hparams.model_dim, self.hparams.model_dim),\n",
        "            nn.LayerNorm(self.hparams.model_dim),\n",
        "            nn.ReLU(inplace=True),\n",
        "            nn.Dropout(self.hparams.dropout),\n",
        "            nn.Linear(self.hparams.model_dim, self.hparams.num_classes),\n",
        "        )\n",
        "\n",
        "    def forward(self, x, mask=None, add_positional_encoding=True):\n",
        "        \"\"\"\n",
        "        Args:\n",
        "            x: Input features of shape [Batch, SeqLen, input_dim]\n",
        "            mask: Mask to apply on the attention outputs (optional)\n",
        "            add_positional_encoding: If True, we add the positional encoding to the input.\n",
        "                                      Might not be desired for some tasks.\n",
        "        \"\"\"\n",
        "        x = self.input_net(x)\n",
        "        if add_positional_encoding:\n",
        "            x = self.positional_encoding(x)\n",
        "        x = self.transformer(x, mask=mask)\n",
        "        x = self.output_net(x)\n",
        "        return x\n",
        "\n",
        "    @torch.no_grad()\n",
        "    def get_attention_maps(self, x, mask=None, add_positional_encoding=True):\n",
        "        \"\"\"Function for extracting the attention matrices of the whole Transformer for a single batch.\n",
        "\n",
        "        Input arguments same as the forward pass.\n",
        "        \"\"\"\n",
        "        x = self.input_net(x)\n",
        "        if add_positional_encoding:\n",
        "            x = self.positional_encoding(x)\n",
        "        attention_maps = self.transformer.get_attention_maps(x, mask=mask)\n",
        "        return attention_maps\n",
        "\n",
        "    def configure_optimizers(self):\n",
        "        optimizer = optim.Adam(self.parameters(), lr=self.hparams.lr)\n",
        "\n",
        "        # We don't return the lr scheduler because we need to apply it per iteration, not per epoch\n",
        "        self.lr_scheduler = CosineWarmupScheduler(\n",
        "            optimizer, warmup=self.hparams.warmup, max_iters=self.hparams.max_iters\n",
        "        )\n",
        "        return optimizer\n",
        "\n",
        "    def optimizer_step(self, *args, **kwargs):\n",
        "        super().optimizer_step(*args, **kwargs)\n",
        "        self.lr_scheduler.step()  # Step per iteration\n",
        "\n",
        "    def training_step(self, batch, batch_idx):\n",
        "        raise NotImplementedError\n",
        "\n",
        "    def validation_step(self, batch, batch_idx):\n",
        "        raise NotImplementedError\n",
        "\n",
        "    def test_step(self, batch, batch_idx):\n",
        "        raise NotImplementedError"
      ],
      "metadata": {
        "id": "-TMcrCFSePhN"
      },
      "execution_count": 16,
      "outputs": []
    },
    {
      "cell_type": "markdown",
      "source": [
        "# Sequence to Sequence"
      ],
      "metadata": {
        "id": "FDs153N4eVTh"
      }
    },
    {
      "cell_type": "code",
      "source": [
        "class ReverseDataset(data.Dataset):\n",
        "    def __init__(self, num_categories, seq_len, size):\n",
        "        super().__init__()\n",
        "        self.num_categories = num_categories\n",
        "        self.seq_len = seq_len\n",
        "        self.size = size\n",
        "\n",
        "        self.data = torch.randint(self.num_categories, size=(self.size, self.seq_len))\n",
        "\n",
        "    def __len__(self):\n",
        "        return self.size\n",
        "\n",
        "    def __getitem__(self, idx):\n",
        "        inp_data = self.data[idx]\n",
        "        labels = torch.flip(inp_data, dims=(0,))\n",
        "        return inp_data, labels"
      ],
      "metadata": {
        "id": "Hf7jbfZ1eZhx"
      },
      "execution_count": 17,
      "outputs": []
    },
    {
      "cell_type": "code",
      "source": [
        "dataset = partial(ReverseDataset, 10, 16)\n",
        "train_loader = data.DataLoader(dataset(50000), batch_size=128, shuffle=True, drop_last=True, pin_memory=True)\n",
        "val_loader = data.DataLoader(dataset(1000), batch_size=128)\n",
        "test_loader = data.DataLoader(dataset(10000), batch_size=128)"
      ],
      "metadata": {
        "id": "WJU_M5eaea8G"
      },
      "execution_count": 18,
      "outputs": []
    },
    {
      "cell_type": "code",
      "source": [
        "inp_data, labels = train_loader.dataset[0]\n",
        "print(\"Input data:\", inp_data)\n",
        "print(\"Labels:    \", labels)"
      ],
      "metadata": {
        "colab": {
          "base_uri": "https://localhost:8080/"
        },
        "id": "0UH6ZtbIee6m",
        "outputId": "3df376e3-d5be-4153-fda5-221125c61b4a"
      },
      "execution_count": 19,
      "outputs": [
        {
          "output_type": "stream",
          "name": "stdout",
          "text": [
            "Input data: tensor([9, 6, 2, 0, 6, 2, 7, 9, 7, 3, 3, 4, 3, 7, 0, 9])\n",
            "Labels:     tensor([9, 0, 7, 3, 4, 3, 3, 7, 9, 7, 2, 6, 0, 2, 6, 9])\n"
          ]
        }
      ]
    },
    {
      "cell_type": "code",
      "source": [
        "class ReversePredictor(TransformerPredictor):\n",
        "    def _calculate_loss(self, batch, mode=\"train\"):\n",
        "        # Fetch data and transform categories to one-hot vectors\n",
        "        inp_data, labels = batch\n",
        "        inp_data = F.one_hot(inp_data, num_classes=self.hparams.num_classes).float()\n",
        "\n",
        "        # Perform prediction and calculate loss and accuracy\n",
        "        preds = self.forward(inp_data, add_positional_encoding=True)\n",
        "        loss = F.cross_entropy(preds.view(-1, preds.size(-1)), labels.view(-1))\n",
        "        acc = (preds.argmax(dim=-1) == labels).float().mean()\n",
        "\n",
        "        # Logging\n",
        "        self.log(\"%s_loss\" % mode, loss)\n",
        "        self.log(\"%s_acc\" % mode, acc)\n",
        "        return loss, acc\n",
        "\n",
        "    def training_step(self, batch, batch_idx):\n",
        "        loss, _ = self._calculate_loss(batch, mode=\"train\")\n",
        "        return loss\n",
        "\n",
        "    def validation_step(self, batch, batch_idx):\n",
        "        _ = self._calculate_loss(batch, mode=\"val\")\n",
        "\n",
        "    def test_step(self, batch, batch_idx):\n",
        "        _ = self._calculate_loss(batch, mode=\"test\")"
      ],
      "metadata": {
        "id": "vGcWJA-9ekST"
      },
      "execution_count": 20,
      "outputs": []
    },
    {
      "cell_type": "code",
      "source": [
        "def train_reverse(**kwargs):\n",
        "    # Create a PyTorch Lightning trainer with the generation callback\n",
        "    root_dir = os.path.join(CHECKPOINT_PATH, \"ReverseTask\")\n",
        "    os.makedirs(root_dir, exist_ok=True)\n",
        "    trainer = L.Trainer(\n",
        "        default_root_dir=root_dir,\n",
        "        callbacks=[ModelCheckpoint(save_weights_only=True, mode=\"max\", monitor=\"val_acc\")],\n",
        "        accelerator=\"auto\",\n",
        "        devices=1,\n",
        "        max_epochs=10,\n",
        "        gradient_clip_val=5,\n",
        "    )\n",
        "    trainer.logger._default_hp_metric = None  # Optional logging argument that we don't need\n",
        "\n",
        "    # Check whether pretrained model exists. If yes, load it and skip training\n",
        "    pretrained_filename = os.path.join(CHECKPOINT_PATH, \"ReverseTask.ckpt\")\n",
        "    if os.path.isfile(pretrained_filename):\n",
        "        print(\"Found pretrained model, loading...\")\n",
        "        model = ReversePredictor.load_from_checkpoint(pretrained_filename)\n",
        "    else:\n",
        "        model = ReversePredictor(max_iters=trainer.max_epochs * len(train_loader), **kwargs)\n",
        "        trainer.fit(model, train_loader, val_loader)\n",
        "\n",
        "    # Test best model on validation and test set\n",
        "    val_result = trainer.test(model, dataloaders=val_loader, verbose=False)\n",
        "    test_result = trainer.test(model, dataloaders=test_loader, verbose=False)\n",
        "    result = {\"test_acc\": test_result[0][\"test_acc\"], \"val_acc\": val_result[0][\"test_acc\"]}\n",
        "\n",
        "    model = model.to(device)\n",
        "    return model, result"
      ],
      "metadata": {
        "id": "TYOYXcoLeoxD"
      },
      "execution_count": 21,
      "outputs": []
    },
    {
      "cell_type": "markdown",
      "source": [
        "train the model"
      ],
      "metadata": {
        "id": "LkZPu1edete9"
      }
    },
    {
      "cell_type": "code",
      "source": [
        "reverse_model, reverse_result = train_reverse(\n",
        "    input_dim=train_loader.dataset.num_categories,\n",
        "    model_dim=32,\n",
        "    num_heads=1,\n",
        "    num_classes=train_loader.dataset.num_categories,\n",
        "    num_layers=1,\n",
        "    dropout=0.0,\n",
        "    lr=5e-4,\n",
        "    warmup=50,\n",
        ")"
      ],
      "metadata": {
        "colab": {
          "base_uri": "https://localhost:8080/",
          "height": 327,
          "referenced_widgets": [
            "e9e9c8976e7b496289db369a7495d9b2",
            "6bb9fd791133411bae692c6f866da423",
            "ec3297817afa42878aae339be222f23e",
            "48db45a6a37d438aa797f7ec2839090f",
            "f093e68e184248c68ae12f4cf2e3818e",
            "807a7cd00cf54f75b78e7454d4bac626",
            "89e4fe21580244409bd123ab095c9f09",
            "beb863f26bd84bfd85b4fb4aacd4449b",
            "5ab9e8527ab64914ab954f3d5008dba7",
            "6768a66c05e94fe882165d5adb6525a5",
            "4ff8258e69ec483d9f088edc33331c82",
            "a216664fd1fd4805bf00e51f43eda7d6",
            "db4431615e184832b32f9ae847bb4c23",
            "0f32544fede747d0bcdd3438acf42e20",
            "3444751c5309449395b40893b29d7810",
            "2ab44126044a41f38867b5d357a60983",
            "7b4d63fbe4064b77a7fce3cbc461215d",
            "c86327a36ac24914aaf794d49eb818e9",
            "782a01b3a264417b9bf4858ecdee9ff9",
            "779cbf6609684d519ea7a1c0d9fd54a9",
            "01b856c2c85a406fb74086945f8d2a09",
            "58193a0fea9645a7a931417d01b4ca6d"
          ]
        },
        "id": "k5ArPK43eugf",
        "outputId": "bce14a11-cabd-4e95-c30a-25dcd78d924f"
      },
      "execution_count": 22,
      "outputs": [
        {
          "output_type": "stream",
          "name": "stderr",
          "text": [
            "INFO: GPU available: False, used: False\n",
            "INFO:lightning.pytorch.utilities.rank_zero:GPU available: False, used: False\n",
            "INFO: TPU available: False, using: 0 TPU cores\n",
            "INFO:lightning.pytorch.utilities.rank_zero:TPU available: False, using: 0 TPU cores\n",
            "INFO: IPU available: False, using: 0 IPUs\n",
            "INFO:lightning.pytorch.utilities.rank_zero:IPU available: False, using: 0 IPUs\n",
            "INFO: HPU available: False, using: 0 HPUs\n",
            "INFO:lightning.pytorch.utilities.rank_zero:HPU available: False, using: 0 HPUs\n",
            "INFO: Lightning automatically upgraded your loaded checkpoint from v1.0.2 to v2.1.0.rc0. To apply the upgrade to your files permanently, run `python -m lightning.pytorch.utilities.upgrade_checkpoint saved_models/Transformers/ReverseTask.ckpt`\n",
            "INFO:lightning.pytorch.utilities.migration.utils:Lightning automatically upgraded your loaded checkpoint from v1.0.2 to v2.1.0.rc0. To apply the upgrade to your files permanently, run `python -m lightning.pytorch.utilities.upgrade_checkpoint saved_models/Transformers/ReverseTask.ckpt`\n",
            "WARNING: Missing logger folder: saved_models/Transformers/ReverseTask/lightning_logs\n",
            "WARNING:lightning.pytorch.loggers.tensorboard:Missing logger folder: saved_models/Transformers/ReverseTask/lightning_logs\n"
          ]
        },
        {
          "output_type": "stream",
          "name": "stdout",
          "text": [
            "Found pretrained model, loading...\n"
          ]
        },
        {
          "output_type": "display_data",
          "data": {
            "text/plain": [
              "Testing: 0it [00:00, ?it/s]"
            ],
            "application/vnd.jupyter.widget-view+json": {
              "version_major": 2,
              "version_minor": 0,
              "model_id": "e9e9c8976e7b496289db369a7495d9b2"
            }
          },
          "metadata": {}
        },
        {
          "output_type": "display_data",
          "data": {
            "text/plain": [
              "Testing: 0it [00:00, ?it/s]"
            ],
            "application/vnd.jupyter.widget-view+json": {
              "version_major": 2,
              "version_minor": 0,
              "model_id": "a216664fd1fd4805bf00e51f43eda7d6"
            }
          },
          "metadata": {}
        }
      ]
    },
    {
      "cell_type": "code",
      "source": [
        "print(\"Val accuracy:  %4.2f%%\" % (100.0 * reverse_result[\"val_acc\"]))\n",
        "print(\"Test accuracy: %4.2f%%\" % (100.0 * reverse_result[\"test_acc\"]))"
      ],
      "metadata": {
        "colab": {
          "base_uri": "https://localhost:8080/"
        },
        "id": "L2lmiWyBe22l",
        "outputId": "7d4d482e-e712-468c-8daa-9e6a3e7dfc20"
      },
      "execution_count": 23,
      "outputs": [
        {
          "output_type": "stream",
          "name": "stdout",
          "text": [
            "Val accuracy:  100.00%\n",
            "Test accuracy: 100.00%\n"
          ]
        }
      ]
    },
    {
      "cell_type": "code",
      "source": [
        "data_input, labels = next(iter(val_loader))\n",
        "inp_data = F.one_hot(data_input, num_classes=reverse_model.hparams.num_classes).float()\n",
        "inp_data = inp_data.to(device)\n",
        "attention_maps = reverse_model.get_attention_maps(inp_data)"
      ],
      "metadata": {
        "id": "87xZrHAje7fM"
      },
      "execution_count": 24,
      "outputs": []
    },
    {
      "cell_type": "code",
      "source": [
        "attention_maps[0].shape"
      ],
      "metadata": {
        "colab": {
          "base_uri": "https://localhost:8080/"
        },
        "id": "NRkIh32Re9_c",
        "outputId": "d59e9751-351b-41f3-dd58-b78a328fb37b"
      },
      "execution_count": 25,
      "outputs": [
        {
          "output_type": "execute_result",
          "data": {
            "text/plain": [
              "torch.Size([128, 1, 16, 16])"
            ]
          },
          "metadata": {},
          "execution_count": 25
        }
      ]
    },
    {
      "cell_type": "code",
      "source": [
        "def plot_attention_maps(input_data, attn_maps, idx=0):\n",
        "    if input_data is not None:\n",
        "        input_data = input_data[idx].detach().cpu().numpy()\n",
        "    else:\n",
        "        input_data = np.arange(attn_maps[0][idx].shape[-1])\n",
        "    attn_maps = [m[idx].detach().cpu().numpy() for m in attn_maps]\n",
        "\n",
        "    num_heads = attn_maps[0].shape[0]\n",
        "    num_layers = len(attn_maps)\n",
        "    seq_len = input_data.shape[0]\n",
        "    fig_size = 4 if num_heads == 1 else 3\n",
        "    fig, ax = plt.subplots(num_layers, num_heads, figsize=(num_heads * fig_size, num_layers * fig_size))\n",
        "    if num_layers == 1:\n",
        "        ax = [ax]\n",
        "    if num_heads == 1:\n",
        "        ax = [[a] for a in ax]\n",
        "    for row in range(num_layers):\n",
        "        for column in range(num_heads):\n",
        "            ax[row][column].imshow(attn_maps[row][column], origin=\"lower\", vmin=0)\n",
        "            ax[row][column].set_xticks(list(range(seq_len)))\n",
        "            ax[row][column].set_xticklabels(input_data.tolist())\n",
        "            ax[row][column].set_yticks(list(range(seq_len)))\n",
        "            ax[row][column].set_yticklabels(input_data.tolist())\n",
        "            ax[row][column].set_title(\"Layer %i, Head %i\" % (row + 1, column + 1))\n",
        "    fig.subplots_adjust(hspace=0.5)\n",
        "    plt.show()\n",
        ""
      ],
      "metadata": {
        "id": "qRBiGVAyfBoz"
      },
      "execution_count": 26,
      "outputs": []
    },
    {
      "cell_type": "code",
      "source": [
        "plot_attention_maps(data_input, attention_maps, idx=0)"
      ],
      "metadata": {
        "colab": {
          "base_uri": "https://localhost:8080/",
          "height": 373
        },
        "id": "aIoN9ecNfDSP",
        "outputId": "ab1db635-73c7-4c34-b5b7-d8467040cab7"
      },
      "execution_count": 27,
      "outputs": [
        {
          "output_type": "display_data",
          "data": {
            "text/plain": [
              "<Figure size 288x288 with 1 Axes>"
            ],
            "image/svg+xml": "<?xml version=\"1.0\" encoding=\"utf-8\" standalone=\"no\"?>\n<!DOCTYPE svg PUBLIC \"-//W3C//DTD SVG 1.1//EN\"\n  \"http://www.w3.org/Graphics/SVG/1.1/DTD/svg11.dtd\">\n<!-- Created with matplotlib (https://matplotlib.org/) -->\n<svg height=\"263.63625pt\" version=\"1.1\" viewBox=\"0 0 245.2025 263.63625\" width=\"245.2025pt\" xmlns=\"http://www.w3.org/2000/svg\" xmlns:xlink=\"http://www.w3.org/1999/xlink\">\n <metadata>\n  <rdf:RDF xmlns:cc=\"http://creativecommons.org/ns#\" xmlns:dc=\"http://purl.org/dc/elements/1.1/\" xmlns:rdf=\"http://www.w3.org/1999/02/22-rdf-syntax-ns#\">\n   <cc:Work>\n    <dc:type rdf:resource=\"http://purl.org/dc/dcmitype/StillImage\"/>\n    <dc:date>2023-09-16T00:55:32.159409</dc:date>\n    <dc:format>image/svg+xml</dc:format>\n    <dc:creator>\n     <cc:Agent>\n      <dc:title>Matplotlib v3.3.4, https://matplotlib.org/</dc:title>\n     </cc:Agent>\n    </dc:creator>\n   </cc:Work>\n  </rdf:RDF>\n </metadata>\n <defs>\n  <style type=\"text/css\">*{stroke-linecap:butt;stroke-linejoin:round;}</style>\n </defs>\n <g id=\"figure_1\">\n  <g id=\"patch_1\">\n   <path d=\"M 0 263.63625 \nL 245.2025 263.63625 \nL 245.2025 0 \nL 0 0 \nz\n\" style=\"fill:none;\"/>\n  </g>\n  <g id=\"axes_1\">\n   <g id=\"patch_2\">\n    <path d=\"M 20.5625 239.758125 \nL 238.0025 239.758125 \nL 238.0025 22.318125 \nL 20.5625 22.318125 \nz\n\" style=\"fill:#ffffff;\"/>\n   </g>\n   <g clip-path=\"url(#p9bf5fb4841)\">\n    <image height=\"218\" id=\"image255bb19706\" transform=\"scale(1 -1)translate(0 -218)\" width=\"218\" x=\"20.5625\" xlink:href=\"data:image/png;base64,\niVBORw0KGgoAAAANSUhEUgAAANoAAADaCAYAAADAHVzbAAAEvElEQVR4nO3czYuVdRjH4eccBubogMrYMgikpeOM9ScUvY0vlQVCBmM7I9KKAg2zQUWqTeG6kBZDWExGL0ZtrK2ltI1WbaJaZE4LpyZPqzYuhN+N85Wj17W/uZ/Nh9/m5und33ti2MEI609MlOZ+3j/dPPPNvrdKu/qlKaCJ0CBAaBAgNAgQGgQIDQKEBgFCgwChQYDQIEBoECA0CBAaBIzd7A+A//XGx0tzl2enSnP7nz7TPLP9lZdKu7xoECA0CBAaBAgNAoQGAUKDAKFBgNAgQGgQIDQIEBoECA0CHBWzKioHwpcf3Vra9eChb0tz7x3f0TyzYfFiaZcXDQKEBgFCgwChQYDQIEBoECA0CBAaBAgNAoQGAUKDAKFBgNAgwPU+19UfDEpzf+yaaZ6Ze/XT0q6FQ7OluQ2fX2ieGf7zd2mXFw0ChAYBQoMAoUGA0CBAaBAgNAgQGgQIDQKEBgFCgwChQYCj4ttI5Tfdlx6bKe3adfDr5pn357eXdq0rHAd3Xf1AuMKLBgFCgwChQYDQIEBoECA0CBAaBAgNAoQGAUKDAKFBgNAgQGgQ4Hp/BPUnJkpzf26bap7Zd+Sj0q53X368eWbd2e9Ku4YrK6W5JC8aBAgNAoQGAUKDAKFBgNAgQGgQIDQIEBoECA0ChAYBQoMAoUGA6/0bpddrHumvWVNa9fvuLaW5TXt/bJ45+caTpV0bv2r/H/4oXOFXedEgQGgQIDQIEBoECA0ChAYBQoMAoUGA0CBAaBAgNAgQGgQ4Kr5W4Ti467quv3Zt88xfD2wu7drz4tnS3OmjDzXP3HHmYmnX1eXl0tytyosGAUKDAKFBgNAgQGgQIDQIEBoECA0ChAYBQoMAoUGA0CBAaBDgev8alSv8ruu6SzunmmfufaF2Gb/w5sOlucmP23/T7Qr/xvCiQYDQIEBoECA0CBAaBAgNAoQGAUKDAKFBgNAgQGgQIDQIEBoE3LLX+/3BoDT3254tpbm7nvqpeeb8yXtKuzae9j/8UeNFgwChQYDQIEBoECA0CBAaBAgNAoQGAUKDAKFBgNAgQGgQMBJHxb3x8eaZpW3TpV1zz39Rmvtgvv033ZOf/VDadfXKldIcN48XDQKEBgFCgwChQYDQIEBoECA0CBAaBAgNAoQGAUKDAKFBgNAgIHq93xurrVvaMdM8s/v1L0u7Fo61X+F3Xdet/6T9N91+0X378KJBgNAgQGgQIDQIEBoECA0ChAYBQoMAoUGA0CBAaBAgNAgoHxVXDoSX75sp7Tp84lTzzPzhvaVd6xfbj4O7ruuGDoS5Di8aBAgNAoQGAUKDAKFBgNAgQGgQIDQIEBoECA0ChAYBQoMAoUHAWH8wKA0uzU43zzxy5Fxp12tHn2memVy8UNrlCp/V4EWDAKFBgNAgQGgQIDQIEBoECA0ChAYBQoMAoUGA0CBAaBAgNAgY+3Vua2nwwIEPm2dOPbeztGvy3PnmmeHKSmkXrAYvGgQIDQKEBgFCgwChQYDQIEBoECA0CBAaBAgNAoQGAUKDgN6/v9w9rAxufufZ5pk73/6+sspvuhl5XjQIEBoECA0ChAYBQoMAoUGA0CBAaBAgNAgQGgQIDQKEBgFCg4D/AI1BhPoybSTRAAAAAElFTkSuQmCC\" y=\"-21.758125\"/>\n   </g>\n   <g id=\"matplotlib.axis_1\">\n    <g id=\"xtick_1\">\n     <g id=\"line2d_1\">\n      <defs>\n       <path d=\"M 0 0 \nL 0 3.5 \n\" id=\"m31b8c52fea\" style=\"stroke:#000000;stroke-width:0.8;\"/>\n      </defs>\n      <g>\n       <use style=\"stroke:#000000;stroke-width:0.8;\" x=\"27.3575\" xlink:href=\"#m31b8c52fea\" y=\"239.758125\"/>\n      </g>\n     </g>\n     <g id=\"text_1\">\n      <!-- 9 -->\n      <g transform=\"translate(24.17625 254.356563)scale(0.1 -0.1)\">\n       <defs>\n        <path d=\"M 10.984375 1.515625 \nL 10.984375 10.5 \nQ 14.703125 8.734375 18.5 7.8125 \nQ 22.3125 6.890625 25.984375 6.890625 \nQ 35.75 6.890625 40.890625 13.453125 \nQ 46.046875 20.015625 46.78125 33.40625 \nQ 43.953125 29.203125 39.59375 26.953125 \nQ 35.25 24.703125 29.984375 24.703125 \nQ 19.046875 24.703125 12.671875 31.3125 \nQ 6.296875 37.9375 6.296875 49.421875 \nQ 6.296875 60.640625 12.9375 67.421875 \nQ 19.578125 74.21875 30.609375 74.21875 \nQ 43.265625 74.21875 49.921875 64.515625 \nQ 56.59375 54.828125 56.59375 36.375 \nQ 56.59375 19.140625 48.40625 8.859375 \nQ 40.234375 -1.421875 26.421875 -1.421875 \nQ 22.703125 -1.421875 18.890625 -0.6875 \nQ 15.09375 0.046875 10.984375 1.515625 \nz\nM 30.609375 32.421875 \nQ 37.25 32.421875 41.125 36.953125 \nQ 45.015625 41.5 45.015625 49.421875 \nQ 45.015625 57.28125 41.125 61.84375 \nQ 37.25 66.40625 30.609375 66.40625 \nQ 23.96875 66.40625 20.09375 61.84375 \nQ 16.21875 57.28125 16.21875 49.421875 \nQ 16.21875 41.5 20.09375 36.953125 \nQ 23.96875 32.421875 30.609375 32.421875 \nz\n\" id=\"DejaVuSans-57\"/>\n       </defs>\n       <use xlink:href=\"#DejaVuSans-57\"/>\n      </g>\n     </g>\n    </g>\n    <g id=\"xtick_2\">\n     <g id=\"line2d_2\">\n      <g>\n       <use style=\"stroke:#000000;stroke-width:0.8;\" x=\"40.9475\" xlink:href=\"#m31b8c52fea\" y=\"239.758125\"/>\n      </g>\n     </g>\n     <g id=\"text_2\">\n      <!-- 4 -->\n      <g transform=\"translate(37.76625 254.356563)scale(0.1 -0.1)\">\n       <defs>\n        <path d=\"M 37.796875 64.3125 \nL 12.890625 25.390625 \nL 37.796875 25.390625 \nz\nM 35.203125 72.90625 \nL 47.609375 72.90625 \nL 47.609375 25.390625 \nL 58.015625 25.390625 \nL 58.015625 17.1875 \nL 47.609375 17.1875 \nL 47.609375 0 \nL 37.796875 0 \nL 37.796875 17.1875 \nL 4.890625 17.1875 \nL 4.890625 26.703125 \nz\n\" id=\"DejaVuSans-52\"/>\n       </defs>\n       <use xlink:href=\"#DejaVuSans-52\"/>\n      </g>\n     </g>\n    </g>\n    <g id=\"xtick_3\">\n     <g id=\"line2d_3\">\n      <g>\n       <use style=\"stroke:#000000;stroke-width:0.8;\" x=\"54.5375\" xlink:href=\"#m31b8c52fea\" y=\"239.758125\"/>\n      </g>\n     </g>\n     <g id=\"text_3\">\n      <!-- 7 -->\n      <g transform=\"translate(51.35625 254.356563)scale(0.1 -0.1)\">\n       <defs>\n        <path d=\"M 8.203125 72.90625 \nL 55.078125 72.90625 \nL 55.078125 68.703125 \nL 28.609375 0 \nL 18.3125 0 \nL 43.21875 64.59375 \nL 8.203125 64.59375 \nz\n\" id=\"DejaVuSans-55\"/>\n       </defs>\n       <use xlink:href=\"#DejaVuSans-55\"/>\n      </g>\n     </g>\n    </g>\n    <g id=\"xtick_4\">\n     <g id=\"line2d_4\">\n      <g>\n       <use style=\"stroke:#000000;stroke-width:0.8;\" x=\"68.1275\" xlink:href=\"#m31b8c52fea\" y=\"239.758125\"/>\n      </g>\n     </g>\n     <g id=\"text_4\">\n      <!-- 0 -->\n      <g transform=\"translate(64.94625 254.356563)scale(0.1 -0.1)\">\n       <defs>\n        <path d=\"M 31.78125 66.40625 \nQ 24.171875 66.40625 20.328125 58.90625 \nQ 16.5 51.421875 16.5 36.375 \nQ 16.5 21.390625 20.328125 13.890625 \nQ 24.171875 6.390625 31.78125 6.390625 \nQ 39.453125 6.390625 43.28125 13.890625 \nQ 47.125 21.390625 47.125 36.375 \nQ 47.125 51.421875 43.28125 58.90625 \nQ 39.453125 66.40625 31.78125 66.40625 \nz\nM 31.78125 74.21875 \nQ 44.046875 74.21875 50.515625 64.515625 \nQ 56.984375 54.828125 56.984375 36.375 \nQ 56.984375 17.96875 50.515625 8.265625 \nQ 44.046875 -1.421875 31.78125 -1.421875 \nQ 19.53125 -1.421875 13.0625 8.265625 \nQ 6.59375 17.96875 6.59375 36.375 \nQ 6.59375 54.828125 13.0625 64.515625 \nQ 19.53125 74.21875 31.78125 74.21875 \nz\n\" id=\"DejaVuSans-48\"/>\n       </defs>\n       <use xlink:href=\"#DejaVuSans-48\"/>\n      </g>\n     </g>\n    </g>\n    <g id=\"xtick_5\">\n     <g id=\"line2d_5\">\n      <g>\n       <use style=\"stroke:#000000;stroke-width:0.8;\" x=\"81.7175\" xlink:href=\"#m31b8c52fea\" y=\"239.758125\"/>\n      </g>\n     </g>\n     <g id=\"text_5\">\n      <!-- 3 -->\n      <g transform=\"translate(78.53625 254.356563)scale(0.1 -0.1)\">\n       <defs>\n        <path d=\"M 40.578125 39.3125 \nQ 47.65625 37.796875 51.625 33 \nQ 55.609375 28.21875 55.609375 21.1875 \nQ 55.609375 10.40625 48.1875 4.484375 \nQ 40.765625 -1.421875 27.09375 -1.421875 \nQ 22.515625 -1.421875 17.65625 -0.515625 \nQ 12.796875 0.390625 7.625 2.203125 \nL 7.625 11.71875 \nQ 11.71875 9.328125 16.59375 8.109375 \nQ 21.484375 6.890625 26.8125 6.890625 \nQ 36.078125 6.890625 40.9375 10.546875 \nQ 45.796875 14.203125 45.796875 21.1875 \nQ 45.796875 27.640625 41.28125 31.265625 \nQ 36.765625 34.90625 28.71875 34.90625 \nL 20.21875 34.90625 \nL 20.21875 43.015625 \nL 29.109375 43.015625 \nQ 36.375 43.015625 40.234375 45.921875 \nQ 44.09375 48.828125 44.09375 54.296875 \nQ 44.09375 59.90625 40.109375 62.90625 \nQ 36.140625 65.921875 28.71875 65.921875 \nQ 24.65625 65.921875 20.015625 65.03125 \nQ 15.375 64.15625 9.8125 62.3125 \nL 9.8125 71.09375 \nQ 15.4375 72.65625 20.34375 73.4375 \nQ 25.25 74.21875 29.59375 74.21875 \nQ 40.828125 74.21875 47.359375 69.109375 \nQ 53.90625 64.015625 53.90625 55.328125 \nQ 53.90625 49.265625 50.4375 45.09375 \nQ 46.96875 40.921875 40.578125 39.3125 \nz\n\" id=\"DejaVuSans-51\"/>\n       </defs>\n       <use xlink:href=\"#DejaVuSans-51\"/>\n      </g>\n     </g>\n    </g>\n    <g id=\"xtick_6\">\n     <g id=\"line2d_6\">\n      <g>\n       <use style=\"stroke:#000000;stroke-width:0.8;\" x=\"95.3075\" xlink:href=\"#m31b8c52fea\" y=\"239.758125\"/>\n      </g>\n     </g>\n     <g id=\"text_6\">\n      <!-- 0 -->\n      <g transform=\"translate(92.12625 254.356563)scale(0.1 -0.1)\">\n       <use xlink:href=\"#DejaVuSans-48\"/>\n      </g>\n     </g>\n    </g>\n    <g id=\"xtick_7\">\n     <g id=\"line2d_7\">\n      <g>\n       <use style=\"stroke:#000000;stroke-width:0.8;\" x=\"108.8975\" xlink:href=\"#m31b8c52fea\" y=\"239.758125\"/>\n      </g>\n     </g>\n     <g id=\"text_7\">\n      <!-- 1 -->\n      <g transform=\"translate(105.71625 254.356563)scale(0.1 -0.1)\">\n       <defs>\n        <path d=\"M 12.40625 8.296875 \nL 28.515625 8.296875 \nL 28.515625 63.921875 \nL 10.984375 60.40625 \nL 10.984375 69.390625 \nL 28.421875 72.90625 \nL 38.28125 72.90625 \nL 38.28125 8.296875 \nL 54.390625 8.296875 \nL 54.390625 0 \nL 12.40625 0 \nz\n\" id=\"DejaVuSans-49\"/>\n       </defs>\n       <use xlink:href=\"#DejaVuSans-49\"/>\n      </g>\n     </g>\n    </g>\n    <g id=\"xtick_8\">\n     <g id=\"line2d_8\">\n      <g>\n       <use style=\"stroke:#000000;stroke-width:0.8;\" x=\"122.4875\" xlink:href=\"#m31b8c52fea\" y=\"239.758125\"/>\n      </g>\n     </g>\n     <g id=\"text_8\">\n      <!-- 3 -->\n      <g transform=\"translate(119.30625 254.356563)scale(0.1 -0.1)\">\n       <use xlink:href=\"#DejaVuSans-51\"/>\n      </g>\n     </g>\n    </g>\n    <g id=\"xtick_9\">\n     <g id=\"line2d_9\">\n      <g>\n       <use style=\"stroke:#000000;stroke-width:0.8;\" x=\"136.0775\" xlink:href=\"#m31b8c52fea\" y=\"239.758125\"/>\n      </g>\n     </g>\n     <g id=\"text_9\">\n      <!-- 6 -->\n      <g transform=\"translate(132.89625 254.356563)scale(0.1 -0.1)\">\n       <defs>\n        <path d=\"M 33.015625 40.375 \nQ 26.375 40.375 22.484375 35.828125 \nQ 18.609375 31.296875 18.609375 23.390625 \nQ 18.609375 15.53125 22.484375 10.953125 \nQ 26.375 6.390625 33.015625 6.390625 \nQ 39.65625 6.390625 43.53125 10.953125 \nQ 47.40625 15.53125 47.40625 23.390625 \nQ 47.40625 31.296875 43.53125 35.828125 \nQ 39.65625 40.375 33.015625 40.375 \nz\nM 52.59375 71.296875 \nL 52.59375 62.3125 \nQ 48.875 64.0625 45.09375 64.984375 \nQ 41.3125 65.921875 37.59375 65.921875 \nQ 27.828125 65.921875 22.671875 59.328125 \nQ 17.53125 52.734375 16.796875 39.40625 \nQ 19.671875 43.65625 24.015625 45.921875 \nQ 28.375 48.1875 33.59375 48.1875 \nQ 44.578125 48.1875 50.953125 41.515625 \nQ 57.328125 34.859375 57.328125 23.390625 \nQ 57.328125 12.15625 50.6875 5.359375 \nQ 44.046875 -1.421875 33.015625 -1.421875 \nQ 20.359375 -1.421875 13.671875 8.265625 \nQ 6.984375 17.96875 6.984375 36.375 \nQ 6.984375 53.65625 15.1875 63.9375 \nQ 23.390625 74.21875 37.203125 74.21875 \nQ 40.921875 74.21875 44.703125 73.484375 \nQ 48.484375 72.75 52.59375 71.296875 \nz\n\" id=\"DejaVuSans-54\"/>\n       </defs>\n       <use xlink:href=\"#DejaVuSans-54\"/>\n      </g>\n     </g>\n    </g>\n    <g id=\"xtick_10\">\n     <g id=\"line2d_10\">\n      <g>\n       <use style=\"stroke:#000000;stroke-width:0.8;\" x=\"149.6675\" xlink:href=\"#m31b8c52fea\" y=\"239.758125\"/>\n      </g>\n     </g>\n     <g id=\"text_10\">\n      <!-- 4 -->\n      <g transform=\"translate(146.48625 254.356563)scale(0.1 -0.1)\">\n       <use xlink:href=\"#DejaVuSans-52\"/>\n      </g>\n     </g>\n    </g>\n    <g id=\"xtick_11\">\n     <g id=\"line2d_11\">\n      <g>\n       <use style=\"stroke:#000000;stroke-width:0.8;\" x=\"163.2575\" xlink:href=\"#m31b8c52fea\" y=\"239.758125\"/>\n      </g>\n     </g>\n     <g id=\"text_11\">\n      <!-- 0 -->\n      <g transform=\"translate(160.07625 254.356563)scale(0.1 -0.1)\">\n       <use xlink:href=\"#DejaVuSans-48\"/>\n      </g>\n     </g>\n    </g>\n    <g id=\"xtick_12\">\n     <g id=\"line2d_12\">\n      <g>\n       <use style=\"stroke:#000000;stroke-width:0.8;\" x=\"176.8475\" xlink:href=\"#m31b8c52fea\" y=\"239.758125\"/>\n      </g>\n     </g>\n     <g id=\"text_12\">\n      <!-- 2 -->\n      <g transform=\"translate(173.66625 254.356563)scale(0.1 -0.1)\">\n       <defs>\n        <path d=\"M 19.1875 8.296875 \nL 53.609375 8.296875 \nL 53.609375 0 \nL 7.328125 0 \nL 7.328125 8.296875 \nQ 12.9375 14.109375 22.625 23.890625 \nQ 32.328125 33.6875 34.8125 36.53125 \nQ 39.546875 41.84375 41.421875 45.53125 \nQ 43.3125 49.21875 43.3125 52.78125 \nQ 43.3125 58.59375 39.234375 62.25 \nQ 35.15625 65.921875 28.609375 65.921875 \nQ 23.96875 65.921875 18.8125 64.3125 \nQ 13.671875 62.703125 7.8125 59.421875 \nL 7.8125 69.390625 \nQ 13.765625 71.78125 18.9375 73 \nQ 24.125 74.21875 28.421875 74.21875 \nQ 39.75 74.21875 46.484375 68.546875 \nQ 53.21875 62.890625 53.21875 53.421875 \nQ 53.21875 48.921875 51.53125 44.890625 \nQ 49.859375 40.875 45.40625 35.40625 \nQ 44.1875 33.984375 37.640625 27.21875 \nQ 31.109375 20.453125 19.1875 8.296875 \nz\n\" id=\"DejaVuSans-50\"/>\n       </defs>\n       <use xlink:href=\"#DejaVuSans-50\"/>\n      </g>\n     </g>\n    </g>\n    <g id=\"xtick_13\">\n     <g id=\"line2d_13\">\n      <g>\n       <use style=\"stroke:#000000;stroke-width:0.8;\" x=\"190.4375\" xlink:href=\"#m31b8c52fea\" y=\"239.758125\"/>\n      </g>\n     </g>\n     <g id=\"text_13\">\n      <!-- 5 -->\n      <g transform=\"translate(187.25625 254.356563)scale(0.1 -0.1)\">\n       <defs>\n        <path d=\"M 10.796875 72.90625 \nL 49.515625 72.90625 \nL 49.515625 64.59375 \nL 19.828125 64.59375 \nL 19.828125 46.734375 \nQ 21.96875 47.46875 24.109375 47.828125 \nQ 26.265625 48.1875 28.421875 48.1875 \nQ 40.625 48.1875 47.75 41.5 \nQ 54.890625 34.8125 54.890625 23.390625 \nQ 54.890625 11.625 47.5625 5.09375 \nQ 40.234375 -1.421875 26.90625 -1.421875 \nQ 22.3125 -1.421875 17.546875 -0.640625 \nQ 12.796875 0.140625 7.71875 1.703125 \nL 7.71875 11.625 \nQ 12.109375 9.234375 16.796875 8.0625 \nQ 21.484375 6.890625 26.703125 6.890625 \nQ 35.15625 6.890625 40.078125 11.328125 \nQ 45.015625 15.765625 45.015625 23.390625 \nQ 45.015625 31 40.078125 35.4375 \nQ 35.15625 39.890625 26.703125 39.890625 \nQ 22.75 39.890625 18.8125 39.015625 \nQ 14.890625 38.140625 10.796875 36.28125 \nz\n\" id=\"DejaVuSans-53\"/>\n       </defs>\n       <use xlink:href=\"#DejaVuSans-53\"/>\n      </g>\n     </g>\n    </g>\n    <g id=\"xtick_14\">\n     <g id=\"line2d_14\">\n      <g>\n       <use style=\"stroke:#000000;stroke-width:0.8;\" x=\"204.0275\" xlink:href=\"#m31b8c52fea\" y=\"239.758125\"/>\n      </g>\n     </g>\n     <g id=\"text_14\">\n      <!-- 0 -->\n      <g transform=\"translate(200.84625 254.356563)scale(0.1 -0.1)\">\n       <use xlink:href=\"#DejaVuSans-48\"/>\n      </g>\n     </g>\n    </g>\n    <g id=\"xtick_15\">\n     <g id=\"line2d_15\">\n      <g>\n       <use style=\"stroke:#000000;stroke-width:0.8;\" x=\"217.6175\" xlink:href=\"#m31b8c52fea\" y=\"239.758125\"/>\n      </g>\n     </g>\n     <g id=\"text_15\">\n      <!-- 8 -->\n      <g transform=\"translate(214.43625 254.356563)scale(0.1 -0.1)\">\n       <defs>\n        <path d=\"M 31.78125 34.625 \nQ 24.75 34.625 20.71875 30.859375 \nQ 16.703125 27.09375 16.703125 20.515625 \nQ 16.703125 13.921875 20.71875 10.15625 \nQ 24.75 6.390625 31.78125 6.390625 \nQ 38.8125 6.390625 42.859375 10.171875 \nQ 46.921875 13.96875 46.921875 20.515625 \nQ 46.921875 27.09375 42.890625 30.859375 \nQ 38.875 34.625 31.78125 34.625 \nz\nM 21.921875 38.8125 \nQ 15.578125 40.375 12.03125 44.71875 \nQ 8.5 49.078125 8.5 55.328125 \nQ 8.5 64.0625 14.71875 69.140625 \nQ 20.953125 74.21875 31.78125 74.21875 \nQ 42.671875 74.21875 48.875 69.140625 \nQ 55.078125 64.0625 55.078125 55.328125 \nQ 55.078125 49.078125 51.53125 44.71875 \nQ 48 40.375 41.703125 38.8125 \nQ 48.828125 37.15625 52.796875 32.3125 \nQ 56.78125 27.484375 56.78125 20.515625 \nQ 56.78125 9.90625 50.3125 4.234375 \nQ 43.84375 -1.421875 31.78125 -1.421875 \nQ 19.734375 -1.421875 13.25 4.234375 \nQ 6.78125 9.90625 6.78125 20.515625 \nQ 6.78125 27.484375 10.78125 32.3125 \nQ 14.796875 37.15625 21.921875 38.8125 \nz\nM 18.3125 54.390625 \nQ 18.3125 48.734375 21.84375 45.5625 \nQ 25.390625 42.390625 31.78125 42.390625 \nQ 38.140625 42.390625 41.71875 45.5625 \nQ 45.3125 48.734375 45.3125 54.390625 \nQ 45.3125 60.0625 41.71875 63.234375 \nQ 38.140625 66.40625 31.78125 66.40625 \nQ 25.390625 66.40625 21.84375 63.234375 \nQ 18.3125 60.0625 18.3125 54.390625 \nz\n\" id=\"DejaVuSans-56\"/>\n       </defs>\n       <use xlink:href=\"#DejaVuSans-56\"/>\n      </g>\n     </g>\n    </g>\n    <g id=\"xtick_16\">\n     <g id=\"line2d_16\">\n      <g>\n       <use style=\"stroke:#000000;stroke-width:0.8;\" x=\"231.2075\" xlink:href=\"#m31b8c52fea\" y=\"239.758125\"/>\n      </g>\n     </g>\n     <g id=\"text_16\">\n      <!-- 8 -->\n      <g transform=\"translate(228.02625 254.356563)scale(0.1 -0.1)\">\n       <use xlink:href=\"#DejaVuSans-56\"/>\n      </g>\n     </g>\n    </g>\n   </g>\n   <g id=\"matplotlib.axis_2\">\n    <g id=\"ytick_1\">\n     <g id=\"line2d_17\">\n      <defs>\n       <path d=\"M 0 0 \nL -3.5 0 \n\" id=\"m3d435b3d80\" style=\"stroke:#000000;stroke-width:0.8;\"/>\n      </defs>\n      <g>\n       <use style=\"stroke:#000000;stroke-width:0.8;\" x=\"20.5625\" xlink:href=\"#m3d435b3d80\" y=\"232.963125\"/>\n      </g>\n     </g>\n     <g id=\"text_17\">\n      <!-- 9 -->\n      <g transform=\"translate(7.2 236.762344)scale(0.1 -0.1)\">\n       <use xlink:href=\"#DejaVuSans-57\"/>\n      </g>\n     </g>\n    </g>\n    <g id=\"ytick_2\">\n     <g id=\"line2d_18\">\n      <g>\n       <use style=\"stroke:#000000;stroke-width:0.8;\" x=\"20.5625\" xlink:href=\"#m3d435b3d80\" y=\"219.373125\"/>\n      </g>\n     </g>\n     <g id=\"text_18\">\n      <!-- 4 -->\n      <g transform=\"translate(7.2 223.172344)scale(0.1 -0.1)\">\n       <use xlink:href=\"#DejaVuSans-52\"/>\n      </g>\n     </g>\n    </g>\n    <g id=\"ytick_3\">\n     <g id=\"line2d_19\">\n      <g>\n       <use style=\"stroke:#000000;stroke-width:0.8;\" x=\"20.5625\" xlink:href=\"#m3d435b3d80\" y=\"205.783125\"/>\n      </g>\n     </g>\n     <g id=\"text_19\">\n      <!-- 7 -->\n      <g transform=\"translate(7.2 209.582344)scale(0.1 -0.1)\">\n       <use xlink:href=\"#DejaVuSans-55\"/>\n      </g>\n     </g>\n    </g>\n    <g id=\"ytick_4\">\n     <g id=\"line2d_20\">\n      <g>\n       <use style=\"stroke:#000000;stroke-width:0.8;\" x=\"20.5625\" xlink:href=\"#m3d435b3d80\" y=\"192.193125\"/>\n      </g>\n     </g>\n     <g id=\"text_20\">\n      <!-- 0 -->\n      <g transform=\"translate(7.2 195.992344)scale(0.1 -0.1)\">\n       <use xlink:href=\"#DejaVuSans-48\"/>\n      </g>\n     </g>\n    </g>\n    <g id=\"ytick_5\">\n     <g id=\"line2d_21\">\n      <g>\n       <use style=\"stroke:#000000;stroke-width:0.8;\" x=\"20.5625\" xlink:href=\"#m3d435b3d80\" y=\"178.603125\"/>\n      </g>\n     </g>\n     <g id=\"text_21\">\n      <!-- 3 -->\n      <g transform=\"translate(7.2 182.402344)scale(0.1 -0.1)\">\n       <use xlink:href=\"#DejaVuSans-51\"/>\n      </g>\n     </g>\n    </g>\n    <g id=\"ytick_6\">\n     <g id=\"line2d_22\">\n      <g>\n       <use style=\"stroke:#000000;stroke-width:0.8;\" x=\"20.5625\" xlink:href=\"#m3d435b3d80\" y=\"165.013125\"/>\n      </g>\n     </g>\n     <g id=\"text_22\">\n      <!-- 0 -->\n      <g transform=\"translate(7.2 168.812344)scale(0.1 -0.1)\">\n       <use xlink:href=\"#DejaVuSans-48\"/>\n      </g>\n     </g>\n    </g>\n    <g id=\"ytick_7\">\n     <g id=\"line2d_23\">\n      <g>\n       <use style=\"stroke:#000000;stroke-width:0.8;\" x=\"20.5625\" xlink:href=\"#m3d435b3d80\" y=\"151.423125\"/>\n      </g>\n     </g>\n     <g id=\"text_23\">\n      <!-- 1 -->\n      <g transform=\"translate(7.2 155.222344)scale(0.1 -0.1)\">\n       <use xlink:href=\"#DejaVuSans-49\"/>\n      </g>\n     </g>\n    </g>\n    <g id=\"ytick_8\">\n     <g id=\"line2d_24\">\n      <g>\n       <use style=\"stroke:#000000;stroke-width:0.8;\" x=\"20.5625\" xlink:href=\"#m3d435b3d80\" y=\"137.833125\"/>\n      </g>\n     </g>\n     <g id=\"text_24\">\n      <!-- 3 -->\n      <g transform=\"translate(7.2 141.632344)scale(0.1 -0.1)\">\n       <use xlink:href=\"#DejaVuSans-51\"/>\n      </g>\n     </g>\n    </g>\n    <g id=\"ytick_9\">\n     <g id=\"line2d_25\">\n      <g>\n       <use style=\"stroke:#000000;stroke-width:0.8;\" x=\"20.5625\" xlink:href=\"#m3d435b3d80\" y=\"124.243125\"/>\n      </g>\n     </g>\n     <g id=\"text_25\">\n      <!-- 6 -->\n      <g transform=\"translate(7.2 128.042344)scale(0.1 -0.1)\">\n       <use xlink:href=\"#DejaVuSans-54\"/>\n      </g>\n     </g>\n    </g>\n    <g id=\"ytick_10\">\n     <g id=\"line2d_26\">\n      <g>\n       <use style=\"stroke:#000000;stroke-width:0.8;\" x=\"20.5625\" xlink:href=\"#m3d435b3d80\" y=\"110.653125\"/>\n      </g>\n     </g>\n     <g id=\"text_26\">\n      <!-- 4 -->\n      <g transform=\"translate(7.2 114.452344)scale(0.1 -0.1)\">\n       <use xlink:href=\"#DejaVuSans-52\"/>\n      </g>\n     </g>\n    </g>\n    <g id=\"ytick_11\">\n     <g id=\"line2d_27\">\n      <g>\n       <use style=\"stroke:#000000;stroke-width:0.8;\" x=\"20.5625\" xlink:href=\"#m3d435b3d80\" y=\"97.063125\"/>\n      </g>\n     </g>\n     <g id=\"text_27\">\n      <!-- 0 -->\n      <g transform=\"translate(7.2 100.862344)scale(0.1 -0.1)\">\n       <use xlink:href=\"#DejaVuSans-48\"/>\n      </g>\n     </g>\n    </g>\n    <g id=\"ytick_12\">\n     <g id=\"line2d_28\">\n      <g>\n       <use style=\"stroke:#000000;stroke-width:0.8;\" x=\"20.5625\" xlink:href=\"#m3d435b3d80\" y=\"83.473125\"/>\n      </g>\n     </g>\n     <g id=\"text_28\">\n      <!-- 2 -->\n      <g transform=\"translate(7.2 87.272344)scale(0.1 -0.1)\">\n       <use xlink:href=\"#DejaVuSans-50\"/>\n      </g>\n     </g>\n    </g>\n    <g id=\"ytick_13\">\n     <g id=\"line2d_29\">\n      <g>\n       <use style=\"stroke:#000000;stroke-width:0.8;\" x=\"20.5625\" xlink:href=\"#m3d435b3d80\" y=\"69.883125\"/>\n      </g>\n     </g>\n     <g id=\"text_29\">\n      <!-- 5 -->\n      <g transform=\"translate(7.2 73.682344)scale(0.1 -0.1)\">\n       <use xlink:href=\"#DejaVuSans-53\"/>\n      </g>\n     </g>\n    </g>\n    <g id=\"ytick_14\">\n     <g id=\"line2d_30\">\n      <g>\n       <use style=\"stroke:#000000;stroke-width:0.8;\" x=\"20.5625\" xlink:href=\"#m3d435b3d80\" y=\"56.293125\"/>\n      </g>\n     </g>\n     <g id=\"text_30\">\n      <!-- 0 -->\n      <g transform=\"translate(7.2 60.092344)scale(0.1 -0.1)\">\n       <use xlink:href=\"#DejaVuSans-48\"/>\n      </g>\n     </g>\n    </g>\n    <g id=\"ytick_15\">\n     <g id=\"line2d_31\">\n      <g>\n       <use style=\"stroke:#000000;stroke-width:0.8;\" x=\"20.5625\" xlink:href=\"#m3d435b3d80\" y=\"42.703125\"/>\n      </g>\n     </g>\n     <g id=\"text_31\">\n      <!-- 8 -->\n      <g transform=\"translate(7.2 46.502344)scale(0.1 -0.1)\">\n       <use xlink:href=\"#DejaVuSans-56\"/>\n      </g>\n     </g>\n    </g>\n    <g id=\"ytick_16\">\n     <g id=\"line2d_32\">\n      <g>\n       <use style=\"stroke:#000000;stroke-width:0.8;\" x=\"20.5625\" xlink:href=\"#m3d435b3d80\" y=\"29.113125\"/>\n      </g>\n     </g>\n     <g id=\"text_32\">\n      <!-- 8 -->\n      <g transform=\"translate(7.2 32.912344)scale(0.1 -0.1)\">\n       <use xlink:href=\"#DejaVuSans-56\"/>\n      </g>\n     </g>\n    </g>\n   </g>\n   <g id=\"patch_3\">\n    <path d=\"M 20.5625 239.758125 \nL 20.5625 22.318125 \n\" style=\"fill:none;stroke:#000000;stroke-linecap:square;stroke-linejoin:miter;stroke-width:0.8;\"/>\n   </g>\n   <g id=\"patch_4\">\n    <path d=\"M 238.0025 239.758125 \nL 238.0025 22.318125 \n\" style=\"fill:none;stroke:#000000;stroke-linecap:square;stroke-linejoin:miter;stroke-width:0.8;\"/>\n   </g>\n   <g id=\"patch_5\">\n    <path d=\"M 20.5625 239.758125 \nL 238.0025 239.758125 \n\" style=\"fill:none;stroke:#000000;stroke-linecap:square;stroke-linejoin:miter;stroke-width:0.8;\"/>\n   </g>\n   <g id=\"patch_6\">\n    <path d=\"M 20.5625 22.318125 \nL 238.0025 22.318125 \n\" style=\"fill:none;stroke:#000000;stroke-linecap:square;stroke-linejoin:miter;stroke-width:0.8;\"/>\n   </g>\n   <g id=\"text_33\">\n    <!-- Layer 1, Head 1 -->\n    <g transform=\"translate(81.600313 16.318125)scale(0.12 -0.12)\">\n     <defs>\n      <path d=\"M 9.8125 72.90625 \nL 19.671875 72.90625 \nL 19.671875 8.296875 \nL 55.171875 8.296875 \nL 55.171875 0 \nL 9.8125 0 \nz\n\" id=\"DejaVuSans-76\"/>\n      <path d=\"M 34.28125 27.484375 \nQ 23.390625 27.484375 19.1875 25 \nQ 14.984375 22.515625 14.984375 16.5 \nQ 14.984375 11.71875 18.140625 8.90625 \nQ 21.296875 6.109375 26.703125 6.109375 \nQ 34.1875 6.109375 38.703125 11.40625 \nQ 43.21875 16.703125 43.21875 25.484375 \nL 43.21875 27.484375 \nz\nM 52.203125 31.203125 \nL 52.203125 0 \nL 43.21875 0 \nL 43.21875 8.296875 \nQ 40.140625 3.328125 35.546875 0.953125 \nQ 30.953125 -1.421875 24.3125 -1.421875 \nQ 15.921875 -1.421875 10.953125 3.296875 \nQ 6 8.015625 6 15.921875 \nQ 6 25.140625 12.171875 29.828125 \nQ 18.359375 34.515625 30.609375 34.515625 \nL 43.21875 34.515625 \nL 43.21875 35.40625 \nQ 43.21875 41.609375 39.140625 45 \nQ 35.0625 48.390625 27.6875 48.390625 \nQ 23 48.390625 18.546875 47.265625 \nQ 14.109375 46.140625 10.015625 43.890625 \nL 10.015625 52.203125 \nQ 14.9375 54.109375 19.578125 55.046875 \nQ 24.21875 56 28.609375 56 \nQ 40.484375 56 46.34375 49.84375 \nQ 52.203125 43.703125 52.203125 31.203125 \nz\n\" id=\"DejaVuSans-97\"/>\n      <path d=\"M 32.171875 -5.078125 \nQ 28.375 -14.84375 24.75 -17.8125 \nQ 21.140625 -20.796875 15.09375 -20.796875 \nL 7.90625 -20.796875 \nL 7.90625 -13.28125 \nL 13.1875 -13.28125 \nQ 16.890625 -13.28125 18.9375 -11.515625 \nQ 21 -9.765625 23.484375 -3.21875 \nL 25.09375 0.875 \nL 2.984375 54.6875 \nL 12.5 54.6875 \nL 29.59375 11.921875 \nL 46.6875 54.6875 \nL 56.203125 54.6875 \nz\n\" id=\"DejaVuSans-121\"/>\n      <path d=\"M 56.203125 29.59375 \nL 56.203125 25.203125 \nL 14.890625 25.203125 \nQ 15.484375 15.921875 20.484375 11.0625 \nQ 25.484375 6.203125 34.421875 6.203125 \nQ 39.59375 6.203125 44.453125 7.46875 \nQ 49.3125 8.734375 54.109375 11.28125 \nL 54.109375 2.78125 \nQ 49.265625 0.734375 44.1875 -0.34375 \nQ 39.109375 -1.421875 33.890625 -1.421875 \nQ 20.796875 -1.421875 13.15625 6.1875 \nQ 5.515625 13.8125 5.515625 26.8125 \nQ 5.515625 40.234375 12.765625 48.109375 \nQ 20.015625 56 32.328125 56 \nQ 43.359375 56 49.78125 48.890625 \nQ 56.203125 41.796875 56.203125 29.59375 \nz\nM 47.21875 32.234375 \nQ 47.125 39.59375 43.09375 43.984375 \nQ 39.0625 48.390625 32.421875 48.390625 \nQ 24.90625 48.390625 20.390625 44.140625 \nQ 15.875 39.890625 15.1875 32.171875 \nz\n\" id=\"DejaVuSans-101\"/>\n      <path d=\"M 41.109375 46.296875 \nQ 39.59375 47.171875 37.8125 47.578125 \nQ 36.03125 48 33.890625 48 \nQ 26.265625 48 22.1875 43.046875 \nQ 18.109375 38.09375 18.109375 28.8125 \nL 18.109375 0 \nL 9.078125 0 \nL 9.078125 54.6875 \nL 18.109375 54.6875 \nL 18.109375 46.1875 \nQ 20.953125 51.171875 25.484375 53.578125 \nQ 30.03125 56 36.53125 56 \nQ 37.453125 56 38.578125 55.875 \nQ 39.703125 55.765625 41.0625 55.515625 \nz\n\" id=\"DejaVuSans-114\"/>\n      <path id=\"DejaVuSans-32\"/>\n      <path d=\"M 11.71875 12.40625 \nL 22.015625 12.40625 \nL 22.015625 4 \nL 14.015625 -11.625 \nL 7.71875 -11.625 \nL 11.71875 4 \nz\n\" id=\"DejaVuSans-44\"/>\n      <path d=\"M 9.8125 72.90625 \nL 19.671875 72.90625 \nL 19.671875 43.015625 \nL 55.515625 43.015625 \nL 55.515625 72.90625 \nL 65.375 72.90625 \nL 65.375 0 \nL 55.515625 0 \nL 55.515625 34.71875 \nL 19.671875 34.71875 \nL 19.671875 0 \nL 9.8125 0 \nz\n\" id=\"DejaVuSans-72\"/>\n      <path d=\"M 45.40625 46.390625 \nL 45.40625 75.984375 \nL 54.390625 75.984375 \nL 54.390625 0 \nL 45.40625 0 \nL 45.40625 8.203125 \nQ 42.578125 3.328125 38.25 0.953125 \nQ 33.9375 -1.421875 27.875 -1.421875 \nQ 17.96875 -1.421875 11.734375 6.484375 \nQ 5.515625 14.40625 5.515625 27.296875 \nQ 5.515625 40.1875 11.734375 48.09375 \nQ 17.96875 56 27.875 56 \nQ 33.9375 56 38.25 53.625 \nQ 42.578125 51.265625 45.40625 46.390625 \nz\nM 14.796875 27.296875 \nQ 14.796875 17.390625 18.875 11.75 \nQ 22.953125 6.109375 30.078125 6.109375 \nQ 37.203125 6.109375 41.296875 11.75 \nQ 45.40625 17.390625 45.40625 27.296875 \nQ 45.40625 37.203125 41.296875 42.84375 \nQ 37.203125 48.484375 30.078125 48.484375 \nQ 22.953125 48.484375 18.875 42.84375 \nQ 14.796875 37.203125 14.796875 27.296875 \nz\n\" id=\"DejaVuSans-100\"/>\n     </defs>\n     <use xlink:href=\"#DejaVuSans-76\"/>\n     <use x=\"55.712891\" xlink:href=\"#DejaVuSans-97\"/>\n     <use x=\"116.992188\" xlink:href=\"#DejaVuSans-121\"/>\n     <use x=\"176.171875\" xlink:href=\"#DejaVuSans-101\"/>\n     <use x=\"237.695312\" xlink:href=\"#DejaVuSans-114\"/>\n     <use x=\"278.808594\" xlink:href=\"#DejaVuSans-32\"/>\n     <use x=\"310.595703\" xlink:href=\"#DejaVuSans-49\"/>\n     <use x=\"374.21875\" xlink:href=\"#DejaVuSans-44\"/>\n     <use x=\"406.005859\" xlink:href=\"#DejaVuSans-32\"/>\n     <use x=\"437.792969\" xlink:href=\"#DejaVuSans-72\"/>\n     <use x=\"512.988281\" xlink:href=\"#DejaVuSans-101\"/>\n     <use x=\"574.511719\" xlink:href=\"#DejaVuSans-97\"/>\n     <use x=\"635.791016\" xlink:href=\"#DejaVuSans-100\"/>\n     <use x=\"699.267578\" xlink:href=\"#DejaVuSans-32\"/>\n     <use x=\"731.054688\" xlink:href=\"#DejaVuSans-49\"/>\n    </g>\n   </g>\n  </g>\n </g>\n <defs>\n  <clipPath id=\"p9bf5fb4841\">\n   <rect height=\"217.44\" width=\"217.44\" x=\"20.5625\" y=\"22.318125\"/>\n  </clipPath>\n </defs>\n</svg>\n",
            "application/pdf": "[encoded data removed]"
          },
          "metadata": {
            "needs_background": "light"
          }
        }
      ]
    },
    {
      "cell_type": "markdown",
      "source": [
        "Set Anomaly Detection"
      ],
      "metadata": {
        "id": "zKgjmmnjfJDL"
      }
    },
    {
      "cell_type": "code",
      "source": [
        "# ImageNet statistics\n",
        "DATA_MEANS = np.array([0.485, 0.456, 0.406])\n",
        "DATA_STD = np.array([0.229, 0.224, 0.225])\n",
        "# As torch tensors for later preprocessing\n",
        "TORCH_DATA_MEANS = torch.from_numpy(DATA_MEANS).view(1, 3, 1, 1)\n",
        "TORCH_DATA_STD = torch.from_numpy(DATA_STD).view(1, 3, 1, 1)\n",
        "\n",
        "# Resize to 224x224, and normalize to ImageNet statistic\n",
        "transform = transforms.Compose(\n",
        "    [transforms.Resize((224, 224)), transforms.ToTensor(), transforms.Normalize(DATA_MEANS, DATA_STD)]\n",
        ")\n",
        "# Loading the training dataset.\n",
        "train_set = CIFAR100(root=DATASET_PATH, train=True, transform=transform, download=True)\n",
        "\n",
        "# Loading the test set\n",
        "test_set = CIFAR100(root=DATASET_PATH, train=False, transform=transform, download=True)"
      ],
      "metadata": {
        "colab": {
          "base_uri": "https://localhost:8080/",
          "height": 101,
          "referenced_widgets": [
            "3056f1a58ef9444c8d49e586ed3727ee",
            "6ccfdc67404449d582d9be697b0e680c",
            "a795ac020f0e457a9211a98f23cb74b7",
            "8987fdf8afdd44a48092b6b4b66e199d",
            "f527bca2987344719b057030d29226c4",
            "c2db4462a35742f78bbae1c1018e83af",
            "de7fe7faf2d946e99c3d94ac2a4a0c5d",
            "c53b588a8a304909840adcae09aa6452",
            "49e24494778747cf9db899f18d0a11f1",
            "1f30492e9b7f4507bf5e2b3cd5c1377b",
            "4a6ac1f8182f48b0883347378bcad726"
          ]
        },
        "id": "zN8J-ag6fMQk",
        "outputId": "836d74bc-09d9-41f3-f502-b123574eee5e"
      },
      "execution_count": 28,
      "outputs": [
        {
          "output_type": "stream",
          "name": "stdout",
          "text": [
            "Downloading https://www.cs.toronto.edu/~kriz/cifar-100-python.tar.gz to data/cifar-100-python.tar.gz\n"
          ]
        },
        {
          "output_type": "display_data",
          "data": {
            "text/plain": [
              "  0%|          | 0/169001437 [00:00<?, ?it/s]"
            ],
            "application/vnd.jupyter.widget-view+json": {
              "version_major": 2,
              "version_minor": 0,
              "model_id": "3056f1a58ef9444c8d49e586ed3727ee"
            }
          },
          "metadata": {}
        },
        {
          "output_type": "stream",
          "name": "stdout",
          "text": [
            "Extracting data/cifar-100-python.tar.gz to data/\n",
            "Files already downloaded and verified\n"
          ]
        }
      ]
    },
    {
      "cell_type": "code",
      "source": [
        "os.environ[\"TORCH_HOME\"] = CHECKPOINT_PATH\n",
        "pretrained_model = torchvision.models.resnet34(pretrained=True)\n",
        "# Remove classification layer\n",
        "# In some models, it is called \"fc\", others have \"classifier\"\n",
        "# Setting both to an empty sequential represents an identity map of the final features.\n",
        "pretrained_model.fc = nn.Sequential()\n",
        "pretrained_model.classifier = nn.Sequential()\n",
        "# To GPU\n",
        "pretrained_model = pretrained_model.to(device)\n",
        "\n",
        "# Only eval, no gradient required\n",
        "pretrained_model.eval()\n",
        "for p in pretrained_model.parameters():\n",
        "    p.requires_grad = False"
      ],
      "metadata": {
        "colab": {
          "base_uri": "https://localhost:8080/",
          "height": 156,
          "referenced_widgets": [
            "a0e33a9673374d84bee7ab99978796db",
            "af307171f71e41ada13d5264245d60fd",
            "b5fd6b14ae414738bc0658c9fc39075e",
            "026b014bc7944d6cadacd1562489b572",
            "29e2abdd9194411c8424f5a08e48e00b",
            "b48c76edfd31480890c2e6a7e40c17cb",
            "91daafbe7c8c4df28adbfac83cbc864d",
            "ad2808b7f9b34fad9cd94f2f2e58ace6",
            "83350b314b25480cb7186677b5543d4e",
            "70d452cda157430fa5b87e40eccae4eb",
            "feddf2f0bad04896b5701113da333d3e"
          ]
        },
        "id": "p5jS8cBLfURQ",
        "outputId": "eb005071-a614-470f-979c-41b7417666e3"
      },
      "execution_count": 29,
      "outputs": [
        {
          "output_type": "stream",
          "name": "stderr",
          "text": [
            "/usr/local/lib/python3.10/dist-packages/torchvision/models/_utils.py:208: UserWarning: The parameter 'pretrained' is deprecated since 0.13 and may be removed in the future, please use 'weights' instead.\n",
            "  warnings.warn(\n",
            "/usr/local/lib/python3.10/dist-packages/torchvision/models/_utils.py:223: UserWarning: Arguments other than a weight enum or `None` for 'weights' are deprecated since 0.13 and may be removed in the future. The current behavior is equivalent to passing `weights=ResNet34_Weights.IMAGENET1K_V1`. You can also use `weights=ResNet34_Weights.DEFAULT` to get the most up-to-date weights.\n",
            "  warnings.warn(msg)\n",
            "Downloading: \"https://download.pytorch.org/models/resnet34-b627a593.pth\" to saved_models/Transformers/hub/checkpoints/resnet34-b627a593.pth\n"
          ]
        },
        {
          "output_type": "display_data",
          "data": {
            "text/plain": [
              "  0%|          | 0.00/83.3M [00:00<?, ?B/s]"
            ],
            "application/vnd.jupyter.widget-view+json": {
              "version_major": 2,
              "version_minor": 0,
              "model_id": "a0e33a9673374d84bee7ab99978796db"
            }
          },
          "metadata": {}
        }
      ]
    },
    {
      "cell_type": "code",
      "source": [
        "@torch.no_grad()\n",
        "def extract_features(dataset, save_file):\n",
        "    if not os.path.isfile(save_file):\n",
        "        data_loader = data.DataLoader(dataset, batch_size=128, shuffle=False, drop_last=False, num_workers=4)\n",
        "        extracted_features = []\n",
        "        for imgs, _ in tqdm(data_loader):\n",
        "            imgs = imgs.to(device)\n",
        "            feats = pretrained_model(imgs)\n",
        "            extracted_features.append(feats)\n",
        "        extracted_features = torch.cat(extracted_features, dim=0)\n",
        "        extracted_features = extracted_features.detach().cpu()\n",
        "        torch.save(extracted_features, save_file)\n",
        "    else:\n",
        "        extracted_features = torch.load(save_file)\n",
        "    return extracted_features\n",
        "\n",
        "\n",
        "train_feat_file = os.path.join(CHECKPOINT_PATH, \"train_set_features.tar\")\n",
        "train_set_feats = extract_features(train_set, train_feat_file)\n",
        "\n",
        "test_feat_file = os.path.join(CHECKPOINT_PATH, \"test_set_features.tar\")\n",
        "test_feats = extract_features(test_set, test_feat_file)"
      ],
      "metadata": {
        "colab": {
          "base_uri": "https://localhost:8080/",
          "height": 104,
          "referenced_widgets": [
            "678fd1de66e24249ba26888abdf3af6d",
            "a52ff1dbe7784b65849686dc2fcdb1c9",
            "ed451ca242cc464ebcddee9520dd0069",
            "f9e5f8340c2547018b313ae27898316e",
            "ab50516a966c4b619fb9b4cc0f481c24",
            "1fd763c2fe6f4c8ab88dcaaf5fed52d1",
            "3db0662685ef4984a94e19b253762d99",
            "e999798dd374495f99f690e4f20e07bf",
            "0d61718d57b649e3b259a9148416a163",
            "6b255322ac27489ea24861629c170f20",
            "b72fd000080a4e0f97269d6187645886"
          ]
        },
        "id": "TUsFK98XfWcV",
        "outputId": "3c7ee9e5-868a-463f-8aa9-d6af1a55d5ab"
      },
      "execution_count": null,
      "outputs": [
        {
          "metadata": {
            "tags": null
          },
          "name": "stderr",
          "output_type": "stream",
          "text": [
            "/usr/local/lib/python3.10/dist-packages/torch/utils/data/dataloader.py:554: UserWarning: This DataLoader will create 4 worker processes in total. Our suggested max number of worker in current system is 2, which is smaller than what this DataLoader is going to create. Please be aware that excessive worker creation might get DataLoader running slow or even freeze, lower the worker number to avoid potential slowness/freeze if necessary.\n",
            "  warnings.warn(_create_warning_msg(\n"
          ]
        },
        {
          "data": {
            "application/vnd.jupyter.widget-view+json": {
              "model_id": "678fd1de66e24249ba26888abdf3af6d",
              "version_major": 2,
              "version_minor": 0
            },
            "text/plain": [
              "  0%|          | 0/391 [00:00<?, ?it/s]"
            ]
          },
          "metadata": {},
          "output_type": "display_data"
        }
      ]
    }
  ]
}